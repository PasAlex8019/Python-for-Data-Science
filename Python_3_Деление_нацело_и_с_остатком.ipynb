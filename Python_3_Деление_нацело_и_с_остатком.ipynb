{
  "nbformat": 4,
  "nbformat_minor": 0,
  "metadata": {
    "colab": {
      "name": "Python 3. Деление нацело и с остатком",
      "provenance": [],
      "authorship_tag": "ABX9TyPWma6nQUR7JkfkHmHxtYyG",
      "include_colab_link": true
    },
    "kernelspec": {
      "name": "python3",
      "display_name": "Python 3"
    },
    "language_info": {
      "name": "python"
    }
  },
  "cells": [
    {
      "cell_type": "markdown",
      "metadata": {
        "id": "view-in-github",
        "colab_type": "text"
      },
      "source": [
        "<a href=\"https://colab.research.google.com/github/PasAlex8019/Python-for-Data-Science/blob/main/Python_3_%D0%94%D0%B5%D0%BB%D0%B5%D0%BD%D0%B8%D0%B5_%D0%BD%D0%B0%D1%86%D0%B5%D0%BB%D0%BE_%D0%B8_%D1%81_%D0%BE%D1%81%D1%82%D0%B0%D1%82%D0%BA%D0%BE%D0%BC.ipynb\" target=\"_parent\"><img src=\"https://colab.research.google.com/assets/colab-badge.svg\" alt=\"Open In Colab\"/></a>"
      ]
    },
    {
      "cell_type": "markdown",
      "metadata": {
        "id": "0u-FTpgmgXAQ"
      },
      "source": [
        "Специальная комманда в python деление без остатка \" // \""
      ]
    },
    {
      "cell_type": "code",
      "metadata": {
        "colab": {
          "base_uri": "https://localhost:8080/"
        },
        "id": "o2XtkzdHhkvf",
        "outputId": "4e6a42c5-6c89-4623-dc51-6c004b12fc27"
      },
      "source": [
        "apples = 41\n",
        "boxes = 3\n",
        "full_boxes = apples / boxes\n",
        "print('Количество полных ящиков : ', full_boxes)"
      ],
      "execution_count": 1,
      "outputs": [
        {
          "output_type": "stream",
          "name": "stdout",
          "text": [
            "Количество полных ящиков :  13.666666666666666\n"
          ]
        }
      ]
    },
    {
      "cell_type": "markdown",
      "metadata": {
        "id": "pY7hhN_AicbP"
      },
      "source": [
        "Операция целочисленного деления, полностью убирает дробную часть без округления"
      ]
    },
    {
      "cell_type": "code",
      "metadata": {
        "colab": {
          "base_uri": "https://localhost:8080/"
        },
        "id": "nd9TCs3Ch-Gd",
        "outputId": "42f248d6-7633-418f-ad11-ef0475544df5"
      },
      "source": [
        "apples = 41\n",
        "boxes = 3\n",
        "full_boxes = apples // boxes # тот же код только с //\n",
        "print('Количество полных ящиков : ', full_boxes)"
      ],
      "execution_count": 3,
      "outputs": [
        {
          "output_type": "stream",
          "name": "stdout",
          "text": [
            "Количество полных ящиков :  13\n"
          ]
        }
      ]
    },
    {
      "cell_type": "markdown",
      "metadata": {
        "id": "v-F9mCRii4kU"
      },
      "source": [
        "Операция для получения остатка от деления \" % \""
      ]
    },
    {
      "cell_type": "code",
      "metadata": {
        "colab": {
          "base_uri": "https://localhost:8080/"
        },
        "id": "9tQcB4-biYk6",
        "outputId": "53a05b92-5670-44d5-f8b3-d92e1f5eff4e"
      },
      "source": [
        "apples = 41\n",
        "boxes = 3\n",
        "full_boxes = apples // boxes # тот же код только с //\n",
        "print('Количество полных ящиков : ', full_boxes)\n",
        "rest_apples = apples % boxes # нахождение остатка от деления\n",
        "print('Количество оставшихся яблок : ', rest_apples)\n"
      ],
      "execution_count": 6,
      "outputs": [
        {
          "output_type": "stream",
          "name": "stdout",
          "text": [
            "Количество полных ящиков :  13\n",
            "Количество оставшихся яблок :  2\n"
          ]
        }
      ]
    },
    {
      "cell_type": "markdown",
      "metadata": {
        "id": "Rjd4MWv9khsE"
      },
      "source": [
        "При делении на % 10 остаток от числа будет равен последней цифре числа"
      ]
    },
    {
      "cell_type": "code",
      "metadata": {
        "colab": {
          "base_uri": "https://localhost:8080/"
        },
        "id": "oxE0p9q9jKyV",
        "outputId": "ccdc0cba-b457-4415-f6bc-06038063dd57"
      },
      "source": [
        "45 % 10"
      ],
      "execution_count": 7,
      "outputs": [
        {
          "output_type": "execute_result",
          "data": {
            "text/plain": [
              "5"
            ]
          },
          "metadata": {},
          "execution_count": 7
        }
      ]
    },
    {
      "cell_type": "markdown",
      "metadata": {
        "id": "gfXrUud4k9DI"
      },
      "source": [
        "Используя двойной слеш // можно отбросить последнюю цифру числа"
      ]
    },
    {
      "cell_type": "code",
      "metadata": {
        "colab": {
          "base_uri": "https://localhost:8080/"
        },
        "id": "cFSYF-mtkvPZ",
        "outputId": "a6fb4470-8187-443d-d669-5c47554cd3df"
      },
      "source": [
        "45 // 10"
      ],
      "execution_count": 8,
      "outputs": [
        {
          "output_type": "execute_result",
          "data": {
            "text/plain": [
              "4"
            ]
          },
          "metadata": {},
          "execution_count": 8
        }
      ]
    },
    {
      "cell_type": "markdown",
      "metadata": {
        "id": "ywf6js_hlU3d"
      },
      "source": [
        "##**Практика**\n",
        "\n",
        "\n",
        "\n",
        "###**Что нужно сделать**\n",
        "\n",
        "\n",
        "\n",
        "**Задача 1. Яблоки**\n",
        "\n",
        "Транспортная компания ООО «ФруктыТрансСервис» занимается логистикой и грузоперевозками фруктов. Программисту Владимиру дали задачу написать программное обеспечение, которое позволит понять, сколько фруктов можно загрузить и сколько останется на складе.\n",
        "\n",
        "Напишите программу, которая решает задачу из урока: у транспортной компании есть 41 тонна яблок, которые нужно разместить по ящикам. Каждый ящик вмещает в себя три тонны. Необходимо выяснить, сколько ящиков мы сможем заполнить и сколько яблок останется. Оба ответа нужно вывести на экран."
      ]
    },
    {
      "cell_type": "code",
      "metadata": {
        "colab": {
          "base_uri": "https://localhost:8080/"
        },
        "id": "bmobRgdelJoH",
        "outputId": "2af1f119-e374-4b62-f02c-1a4b292ff069"
      },
      "source": [
        "apples = 41\n",
        "boxes = 3\n",
        "full_boxes = apples // boxes # тот же код только с //\n",
        "print('Количество полных ящиков : ', full_boxes)\n",
        "rest_apples = apples % boxes # нахождение остатка от деления\n",
        "print('Количество оставшихся яблок : ', rest_apples, \"тонн/ы\")"
      ],
      "execution_count": 10,
      "outputs": [
        {
          "output_type": "stream",
          "name": "stdout",
          "text": [
            "Количество полных ящиков :  13\n",
            "Количество оставшихся яблок :  2 тонн/ы\n"
          ]
        }
      ]
    },
    {
      "cell_type": "markdown",
      "metadata": {
        "id": "qri0CinzlyhS"
      },
      "source": [
        "**Задача 2. Последняя цифра**\n",
        "\n",
        "Избирательный участок включает в свою базу данных номера квартир и домов и, чтобы не хранить два числа отдельно, оба номера записывает одним числом вместе, где последняя цифра — это номер дома, а всё, что перед ней, — номер квартиры.\n",
        "\n",
        "Реализуйте программу, которая запрашивает число у пользователя, а затем выводит на экран номер дома и номер квартиры. Пример:\n",
        "\n",
        "![Без_названия_oN2eiTq.png](data:image/png;base64,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)"
      ]
    },
    {
      "cell_type": "code",
      "metadata": {
        "colab": {
          "base_uri": "https://localhost:8080/"
        },
        "id": "5W0J_ixallJw",
        "outputId": "0ad32c3b-5738-4c72-9521-d07f6947f1d7"
      },
      "source": [
        "num = int(input('Введите число: '))\n",
        "print('Номер дома: ', num % 10)\n",
        "print('Номер квартиры: ', num // 10)"
      ],
      "execution_count": 12,
      "outputs": [
        {
          "output_type": "stream",
          "name": "stdout",
          "text": [
            "Введите число: 496\n",
            "Номер дома:  6\n",
            "Номер квартиры:  49\n"
          ]
        }
      ]
    },
    {
      "cell_type": "markdown",
      "metadata": {
        "id": "6sKHvAdLmqtV"
      },
      "source": [
        "**Задача 3. Спортсмены**\n",
        "\n",
        "Есть три спортсмена, каждый из них уже пробежал некоторое количество кругов. Каждый круг — 100 метров. Необходимо узнать, сколько от следующего круга уже пробежал каждый спортсмен.\n",
        "\n",
        "Напишите программу, которая получает от каждого спортсмена дистанцию, которую тот пробежал. Выведите, сколько метров очередного круга тот уже пробежал."
      ]
    },
    {
      "cell_type": "code",
      "metadata": {
        "colab": {
          "base_uri": "https://localhost:8080/"
        },
        "id": "RYvj19bJmfgA",
        "outputId": "3ca74fb9-bdcf-4311-c883-688c058d2b1c"
      },
      "source": [
        "a = 1.3\n",
        "b = 5.5\n",
        "c = 4\n",
        "print('Cпортсмен \"a\" от следующего круга уже пробежал', a * 100 % 100,'метров') \n",
        "print('Cпортсмен \"b\" от следующего круга уже пробежал', b * 100 % 100,'метров')\n",
        "print('Cпортсмен \"c\" от следующего круга уже пробежал', c * 100 % 100,'метров')"
      ],
      "execution_count": 26,
      "outputs": [
        {
          "output_type": "stream",
          "name": "stdout",
          "text": [
            "Cпортсмен \"a\" от следующего круга уже пробежал 30.0 метров\n",
            "Cпортсмен \"b\" от следующего круга уже пробежал 50.0 метров\n",
            "Cпортсмен \"c\" от следующего круга уже пробежал 0 метров\n"
          ]
        }
      ]
    },
    {
      "cell_type": "code",
      "metadata": {
        "id": "za59FIOfnBh2"
      },
      "source": [
        ""
      ],
      "execution_count": null,
      "outputs": []
    }
  ]
}