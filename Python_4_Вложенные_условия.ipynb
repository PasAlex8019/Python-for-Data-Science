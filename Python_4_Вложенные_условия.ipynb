{
  "nbformat": 4,
  "nbformat_minor": 0,
  "metadata": {
    "colab": {
      "name": "Python_4_Вложенные условия",
      "provenance": [],
      "authorship_tag": "ABX9TyPANiHk1pWGdsBfIPEtnEFT",
      "include_colab_link": true
    },
    "kernelspec": {
      "name": "python3",
      "display_name": "Python 3"
    },
    "language_info": {
      "name": "python"
    }
  },
  "cells": [
    {
      "cell_type": "markdown",
      "metadata": {
        "id": "view-in-github",
        "colab_type": "text"
      },
      "source": [
        "<a href=\"https://colab.research.google.com/github/PasAlex8019/Python-for-Data-Science/blob/main/Python_4_%D0%92%D0%BB%D0%BE%D0%B6%D0%B5%D0%BD%D0%BD%D1%8B%D0%B5_%D1%83%D1%81%D0%BB%D0%BE%D0%B2%D0%B8%D1%8F.ipynb\" target=\"_parent\"><img src=\"https://colab.research.google.com/assets/colab-badge.svg\" alt=\"Open In Colab\"/></a>"
      ]
    },
    {
      "cell_type": "markdown",
      "metadata": {
        "id": "t9luYbRe8HBY"
      },
      "source": [
        "Последовательные условия использованиее оператора if друг за другом.\n",
        "Внутрь блока if можно вставлять другие блоки кода if - это называется вложенное условие."
      ]
    },
    {
      "cell_type": "code",
      "metadata": {
        "colab": {
          "base_uri": "https://localhost:8080/"
        },
        "id": "2aG6dD0O75Vw",
        "outputId": "239f4771-0ead-4703-a4d2-68282cd4ee9a"
      },
      "source": [
        "bank = int(input(\"Сколько денег на счету ? \"))\n",
        "if bank > 75000:\n",
        "  bank -= 75000\n",
        "  print('Курс успешно приобретен.')\n",
        "  if bank < 5000:\n",
        "    bank += 1000\n",
        "    print('Сделана скидка.')\n",
        "else:\n",
        "  print('Нехватает средств на счете.')\n",
        "print('Остаток на счету', bank)\n",
        "print('Хорошего дня.')"
      ],
      "execution_count": 1,
      "outputs": [
        {
          "output_type": "stream",
          "name": "stdout",
          "text": [
            "Сколько денег на счету ? 77000\n",
            "Курс успешно приобретен.\n",
            "Сделана скидка.\n",
            "Остаток на счету 3000\n",
            "Хорошего дня.\n"
          ]
        }
      ]
    },
    {
      "cell_type": "code",
      "metadata": {
        "colab": {
          "base_uri": "https://localhost:8080/"
        },
        "id": "3S0zPvRV-JeR",
        "outputId": "649bb05e-b08a-48da-dc9b-dea64680c345"
      },
      "source": [
        "product = int(input('Введите сумму чека: '))\n",
        "delivery = int(input('Введите сумму доставки: '))\n",
        "discount = 0\n",
        "if product > 10000:\n",
        "  print('Хороший чек доставка снижена в двое.')\n",
        "  delivery /= 2\n",
        "  if product % 2 == 0:\n",
        "    print('Покупателю положен подарок.')\n",
        "    discount = 500\n",
        "price = product + delivery - discount\n",
        "print('Полная стоимость товара: ', price)"
      ],
      "execution_count": 2,
      "outputs": [
        {
          "output_type": "stream",
          "name": "stdout",
          "text": [
            "Введите сумму чека: 15000\n",
            "Введите сумму доставки: 10000\n",
            "Хороший чек доставка снижена в двое.\n",
            "Покупателю положен подарок.\n",
            "Полная стоимость товара:  19500.0\n"
          ]
        }
      ]
    },
    {
      "cell_type": "markdown",
      "metadata": {
        "id": "YX7ZffAjAwxA"
      },
      "source": [
        "###**Практика**\n",
        "\n",
        "\n",
        "\n",
        "**Цель задания**\n",
        "\n",
        "Потренироваться в написании вложенных и последовательных условий.\n",
        "\n",
        "\n",
        "\n",
        "**Что нужно сделать**"
      ]
    },
    {
      "cell_type": "markdown",
      "metadata": {
        "id": "CimVDpOdA9Pt"
      },
      "source": [
        "**Задача 1. Координаты**\n",
        "\n",
        "Мы тестируем 2D-игру, где нужно управлять подводной лодкой. У лодки есть координаты в пространстве — X (икс) и Y (игрек). X — это движение вперёд-назад, а Y —  вверх-вниз. Соответственно, во время движения лодки меняются и её координаты. Во время тестирования игры нам необходимо сравнивать эти координаты и выводить на экран нужное сообщение, в том числе если они равны.\n",
        "\n",
        "\n",
        "\n",
        "Вводятся две координаты — X и Y. С помощью трёх последовательных проверок сравните обе координаты и выведите соответствующее сообщение.\n",
        "\n",
        "\n",
        "\n",
        "Пример:\n",
        "\n",
        "Введите икс: 5\n",
        "\n",
        "Введите игрек: 6\n",
        "\n",
        "X меньше Y\n",
        "\n",
        "\n",
        "\n",
        "Пример 2:\n",
        "\n",
        "Введите икс: 3\n",
        "\n",
        "Введите игрек: 3\n",
        "\n",
        "X равен Y\n",
        "\n"
      ]
    },
    {
      "cell_type": "code",
      "metadata": {
        "colab": {
          "base_uri": "https://localhost:8080/"
        },
        "id": "kZgR0BTxA2wz",
        "outputId": "adf80a61-e5dd-480f-be73-716f3ced9070"
      },
      "source": [
        "X = int(input('Введите икс: '))\n",
        "Y = int(input('Введите игрек: '))\n",
        "if X > Y:\n",
        "  result = X\n",
        "  print('X больше Y')\n",
        "else:\n",
        "  if result < Y:\n",
        "    print('X меньше Y')\n",
        "  else:\n",
        "    print('X равен Y')\n"
      ],
      "execution_count": 6,
      "outputs": [
        {
          "output_type": "stream",
          "name": "stdout",
          "text": [
            "Введите икс: 6\n",
            "Введите игрек: 5\n",
            "X больше Y\n"
          ]
        }
      ]
    },
    {
      "cell_type": "code",
      "metadata": {
        "colab": {
          "base_uri": "https://localhost:8080/"
        },
        "id": "aaRYvIMBCJUN",
        "outputId": "5c3c7cf2-8c9b-4da8-f26b-899bf4707f83"
      },
      "source": [
        "X = int(input('Введите икс: '))\n",
        "Y = int(input('Введите игрек: '))\n",
        "if X > Y:\n",
        "  #result = X\n",
        "  print('X больше Y')\n",
        "else:\n",
        "  if X < Y:\n",
        "    print('X меньше Y')\n",
        "  else:\n",
        "    print('X равен Y')"
      ],
      "execution_count": 8,
      "outputs": [
        {
          "output_type": "stream",
          "name": "stdout",
          "text": [
            "Введите икс: 5\n",
            "Введите игрек: 6\n",
            "X меньше Y\n"
          ]
        }
      ]
    },
    {
      "cell_type": "code",
      "metadata": {
        "colab": {
          "base_uri": "https://localhost:8080/"
        },
        "id": "GK5GttyaD1UK",
        "outputId": "b6fdcbb7-0af9-4cf3-c5f7-95f4ee980c80"
      },
      "source": [
        "X = int(input('Введите икс: '))\n",
        "Y = int(input('Введите игрек: '))\n",
        "if X > Y:\n",
        "  #result = X\n",
        "  print('X больше Y')\n",
        "else:\n",
        "  if X < Y:\n",
        "    print('X меньше Y')\n",
        "  else:\n",
        "    print('X равен Y')\n",
        "    "
      ],
      "execution_count": 9,
      "outputs": [
        {
          "output_type": "stream",
          "name": "stdout",
          "text": [
            "Введите икс: 3\n",
            "Введите игрек: 3\n",
            "X равен Y\n"
          ]
        }
      ]
    },
    {
      "cell_type": "markdown",
      "metadata": {
        "id": "f4czznFHD_5h"
      },
      "source": [
        "**Задача 2. Скидки!**\n",
        "\n",
        "Напишите программу для примера, разобранного в уроке. Пользователь покупает курс стоимостью 75 000 рублей. Если денег на счету достаточно, то нужно:\n",
        "\n",
        "Списать со счёта деньги.\n",
        "Проверить баланс счёта. Если там меньше 5000 рублей, то зачислить на счёт 1000 рублей и вывести сообщение: «Сделана скидка».\n",
        "Вывести сообщение: «Курс успешно приобретён».\n",
        "А иначе вывести: «Не хватает денег на счету». Также в конце вывести остаток счёта и сообщение: «Хорошего дня!»\n",
        "\n",
        "\n",
        "\n",
        "Пример:\n",
        "\n",
        "Сколько денег на счету? 78500\n",
        "\n",
        "Курс успешно приобретён\n",
        "\n",
        "Сделана скидка\n",
        "\n",
        "Остаток на счету: 4500\n",
        "\n",
        "Хорошего дня!\n",
        "\n"
      ]
    },
    {
      "cell_type": "code",
      "metadata": {
        "colab": {
          "base_uri": "https://localhost:8080/"
        },
        "id": "7IWJxgniD2nx",
        "outputId": "46fc8c80-1ffc-4154-cba0-75d365a4acea"
      },
      "source": [
        "bank = int(input(\"Сколько денег на счету ? \"))\n",
        "if bank > 75000:\n",
        "  bank -= 75000\n",
        "  print('Курс успешно приобретен.')\n",
        "  if bank < 5000:\n",
        "    bank += 1000\n",
        "    print('Сделана скидка.')\n",
        "else:\n",
        "  print('Нехватает средств на счете.')\n",
        "print('Остаток на счету', bank)\n",
        "print('Хорошего дня.')"
      ],
      "execution_count": 10,
      "outputs": [
        {
          "output_type": "stream",
          "name": "stdout",
          "text": [
            "Сколько денег на счету ? 78500\n",
            "Курс успешно приобретен.\n",
            "Сделана скидка.\n",
            "Остаток на счету 4500\n",
            "Хорошего дня.\n"
          ]
        }
      ]
    },
    {
      "cell_type": "markdown",
      "metadata": {
        "id": "6TCsDcb1EgHy"
      },
      "source": [
        "**Задача 3**\n",
        "\n",
        "Мама дала Маше денег и отправила её в магазин за сыром. А ещё сказала: «Если останутся деньги, то можешь купить себе мороженое. Если денег на сыр не хватит, то денег маловато — а значит, и мороженого не будет».\n",
        "\n",
        "Сделайте программу, которая получает на вход количество денег. Сыр стоит 60 рублей, мороженое — 20 рублей. Если денег на сыр хватает (больше либо равно), то:\n",
        "\n",
        "1. Выводите сообщение: «На сыр денег хватило», — и вычитайте стоимость сыра из кошелька.\n",
        "2. Если оставшихся денег хватает на мороженое, то выводите: «И на мороженое тоже!». Иначе выводите: «Денег маловато»."
      ]
    },
    {
      "cell_type": "code",
      "metadata": {
        "colab": {
          "base_uri": "https://localhost:8080/"
        },
        "id": "OCrf6QO5Em0w",
        "outputId": "0f9d0981-9b0b-4d78-c6d2-149f63a48109"
      },
      "source": [
        "money = int(input('Введите сумму денег : '))\n",
        "cheese = 60\n",
        "ice_cream = 20\n",
        "if money >= cheese:\n",
        "  print('На сыр денег хватило')\n",
        "  money -= cheese\n",
        "  if money >= ice_cream:\n",
        "    print('И на мороженое тоже!')\n",
        "  else:\n",
        "    print('Денег маловато')"
      ],
      "execution_count": 11,
      "outputs": [
        {
          "output_type": "stream",
          "name": "stdout",
          "text": [
            "Введите сумму денег : 100\n",
            "На сыр денег хватило\n",
            "И на мороженое тоже!\n"
          ]
        }
      ]
    },
    {
      "cell_type": "code",
      "metadata": {
        "colab": {
          "base_uri": "https://localhost:8080/"
        },
        "id": "DnfWjZPtF4vO",
        "outputId": "4998f475-7961-4ae7-e540-95fa17fe708b"
      },
      "source": [
        "money = int(input('Введите сумму денег : '))\n",
        "cheese = 60\n",
        "ice_cream = 20\n",
        "if money >= cheese:\n",
        "  print('На сыр денег хватило')\n",
        "  money -= cheese\n",
        "  if money >= ice_cream:\n",
        "    print('И на мороженое тоже!')\n",
        "  else:\n",
        "    print('Денег маловато')"
      ],
      "execution_count": 12,
      "outputs": [
        {
          "output_type": "stream",
          "name": "stdout",
          "text": [
            "Введите сумму денег : 75\n",
            "На сыр денег хватило\n",
            "Денег маловато\n"
          ]
        }
      ]
    },
    {
      "cell_type": "code",
      "metadata": {
        "id": "PdEYVbGYGAg6"
      },
      "source": [
        ""
      ],
      "execution_count": null,
      "outputs": []
    }
  ]
}