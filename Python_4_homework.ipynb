{
  "nbformat": 4,
  "nbformat_minor": 0,
  "metadata": {
    "colab": {
      "name": "Python_4_homework",
      "provenance": [],
      "authorship_tag": "ABX9TyOrB9k7S2BYT8l0uzXtwxiw",
      "include_colab_link": true
    },
    "kernelspec": {
      "name": "python3",
      "display_name": "Python 3"
    },
    "language_info": {
      "name": "python"
    }
  },
  "cells": [
    {
      "cell_type": "markdown",
      "metadata": {
        "id": "view-in-github",
        "colab_type": "text"
      },
      "source": [
        "<a href=\"https://colab.research.google.com/github/PasAlex8019/Python-for-Data-Science/blob/main/Python_4_homework.ipynb\" target=\"_parent\"><img src=\"https://colab.research.google.com/assets/colab-badge.svg\" alt=\"Open In Colab\"/></a>"
      ]
    },
    {
      "cell_type": "markdown",
      "metadata": {
        "id": "RR1NL1D9GVd3"
      },
      "source": [
        "##**5.5 Домашняя работа**\n"
      ]
    },
    {
      "cell_type": "markdown",
      "metadata": {
        "id": "_IeFFFWmGjGy"
      },
      "source": [
        "###**Задача 1. Датчик погоды**\n",
        "\n",
        "\n",
        "**Что нужно сделать**\n",
        "\n",
        "В квартире за окном стоит датчик погоды, который определяет, идёт дождь или нет. Если пошёл дождь, датчик оповещает владельцев сообщением: «Пошёл дождь. Возьмите зонтик!»\n",
        "\n",
        "Напишите программу, которая получает на вход число 0 или 1. Единица означает, что дождь идёт. Если дождь идёт, то выводите на экран сообщение: «Пошёл дождь. Возьмите зонтик!»\n",
        "\n",
        "\n",
        "\n",
        "Пример 1:\n",
        "\n",
        "На улице идёт дождь? 1\n",
        "\n",
        "Пошёл дождь. Возьмите зонтик!\n",
        "\n",
        "\n",
        "\n",
        "Пример 2:\n",
        "\n",
        "На улице идёт дождь? 0"
      ]
    },
    {
      "cell_type": "code",
      "metadata": {
        "colab": {
          "base_uri": "https://localhost:8080/"
        },
        "id": "bzks7p8-GJVQ",
        "outputId": "3133a681-d8d8-4fef-8b41-916a5e38a520"
      },
      "source": [
        "num = int(input('На улице идёт дождь? '))\n",
        "if num == 1:\n",
        "  print('Пошёл дождь. Возьмите зонтик!')\n"
      ],
      "execution_count": null,
      "outputs": [
        {
          "output_type": "stream",
          "name": "stdout",
          "text": [
            "На улице идёт дождь? 1\n",
            "Пошёл дождь. Возьмите зонтик!\n"
          ]
        }
      ]
    },
    {
      "cell_type": "code",
      "metadata": {
        "colab": {
          "base_uri": "https://localhost:8080/"
        },
        "id": "i5w0HzwbHavT",
        "outputId": "5301f67e-d287-49d5-9015-f4d7c3eb168d"
      },
      "source": [
        "num = int(input('На улице идёт дождь? '))\n",
        "if num == 1:\n",
        "  print('Пошёл дождь. Возьмите зонтик!')"
      ],
      "execution_count": null,
      "outputs": [
        {
          "name": "stdout",
          "output_type": "stream",
          "text": [
            "На улице идёт дождь? 0\n"
          ]
        }
      ]
    },
    {
      "cell_type": "markdown",
      "metadata": {
        "id": "jJKdiS-1Hos7"
      },
      "source": [
        "**Задача 2. Поступление**\n",
        "\n",
        "\n",
        "Что нужно сделать\n",
        "\n",
        "Степан хочет поступить на бюджет в престижный университет, но для этого ему нужно хорошо сдать три экзамена и набрать как минимум 270 баллов.\n",
        "\n",
        "Напишите программу, которая запрашивает у пользователя результаты ЕГЭ по трём экзаменам и проверяет, поступил он на бюджет или нет. Выведите соответствующее сообщение.\n",
        "\n",
        "\n",
        "\n",
        "Пример 1:\n",
        "\n",
        "Введите количество баллов по русскому языку: 90\n",
        "\n",
        "Введите количество баллов по математике: 90\n",
        "\n",
        "Введите количество баллов по информатике: 90\n",
        "\n",
        "\n",
        "\n",
        "Поздравляю, ты поступил на бюджет!\n",
        "\n",
        "\n",
        "\n",
        "Пример 2:\n",
        "\n",
        "Введите количество баллов по русскому языку: 100\n",
        "\n",
        "Введите количество баллов по математике: 50\n",
        "\n",
        "Введите количество баллов по информатике: 70\n",
        "\n",
        "\n",
        "\n",
        "К сожалению, ты не прошёл на бюджет.\n",
        "\n"
      ]
    },
    {
      "cell_type": "code",
      "metadata": {
        "colab": {
          "base_uri": "https://localhost:8080/"
        },
        "id": "EYWAXIoyHdy9",
        "outputId": "4e2f17a9-76d7-4d92-a9b4-eb5cdc134338"
      },
      "source": [
        "bal_1 = int(input('Введите количество баллов по русскому языку: '))\n",
        "bal_2 = int(input('Введите количество баллов по математике:  '))\n",
        "bal_3 = int(input('Введите количество баллов по информатике:  '))\n",
        "bal = 270\n",
        "\n",
        "if bal_1 + bal_2 + bal_3 >= bal:\n",
        "  print('Поздравляю, ты поступил на бюджет!')\n",
        "else:\n",
        "  print('К сожалению, ты не прошёл на бюджет.')\n"
      ],
      "execution_count": null,
      "outputs": [
        {
          "output_type": "stream",
          "name": "stdout",
          "text": [
            "Введите количество баллов по русскому языку: 90\n",
            "Введите количество баллов по математике:  90\n",
            "Введите количество баллов по информатике:  90\n",
            "Поздравляю, ты поступил на бюджет!\n"
          ]
        }
      ]
    },
    {
      "cell_type": "code",
      "metadata": {
        "colab": {
          "base_uri": "https://localhost:8080/"
        },
        "id": "5h37zKQmI4D9",
        "outputId": "a82c9ac9-ef12-414d-e824-19f8db5042cd"
      },
      "source": [
        "bal_1 = int(input('Введите количество баллов по русскому языку: '))\n",
        "bal_2 = int(input('Введите количество баллов по математике:  '))\n",
        "bal_3 = int(input('Введите количество баллов по информатике:  '))\n",
        "bal = 270\n",
        "\n",
        "if bal_1 + bal_2 + bal_3 >= bal:\n",
        "  print('Поздравляю, ты поступил на бюджет!')\n",
        "else:\n",
        "  print('К сожалению, ты не прошёл на бюджет.')"
      ],
      "execution_count": null,
      "outputs": [
        {
          "output_type": "stream",
          "name": "stdout",
          "text": [
            "Введите количество баллов по русскому языку: 100\n",
            "Введите количество баллов по математике:  50\n",
            "Введите количество баллов по информатике:  70\n",
            "К сожалению, ты не прошёл на бюджет.\n"
          ]
        }
      ]
    },
    {
      "cell_type": "markdown",
      "metadata": {
        "id": "by3QAt17JKl-"
      },
      "source": [
        "**Задача 3. Следим за зубами**\n",
        "\n",
        "\n",
        "Что нужно сделать\n",
        "\n",
        "Стоматолог посоветовал Маше использовать зубную нить каждый чётный день. Чтобы не забывать, Маша написала скрипт на Python, который в случае чего напоминает ей о совете стоматолога.\n",
        "\n",
        "Напишите программу, которая проверяет, чётное ли число ввёл пользователь, и выводит соответствующее сообщение. \n",
        "\n",
        "Подсказка: для проверки чётности используйте оператор %."
      ]
    },
    {
      "cell_type": "code",
      "metadata": {
        "colab": {
          "base_uri": "https://localhost:8080/"
        },
        "id": "90zrVjwxJBmW",
        "outputId": "6b31b719-1a5b-41cf-c12d-55c52085a0af"
      },
      "source": [
        "day = int(input('Введите дату: '))\n",
        "if day % 2 == 0:\n",
        "  print('Четная дата')\n",
        "else:\n",
        "  print('Нечетная дата')"
      ],
      "execution_count": null,
      "outputs": [
        {
          "output_type": "stream",
          "name": "stdout",
          "text": [
            "Введите день : 10\n",
            "Четный день\n"
          ]
        }
      ]
    },
    {
      "cell_type": "code",
      "metadata": {
        "colab": {
          "base_uri": "https://localhost:8080/"
        },
        "id": "r7Qxe6bFKoRD",
        "outputId": "ddfc4104-3b96-4789-d64b-e1fce8688679"
      },
      "source": [
        "day = int(input('Введите дату: '))\n",
        "if day % 2 == 0:\n",
        "  print('Четная дата')\n",
        "else:\n",
        "  print('Нечетная дата')"
      ],
      "execution_count": null,
      "outputs": [
        {
          "output_type": "stream",
          "name": "stdout",
          "text": [
            "Введите дату: 21\n",
            "Нечетная дата\n"
          ]
        }
      ]
    },
    {
      "cell_type": "markdown",
      "metadata": {
        "id": "HWClFnyMMFyV"
      },
      "source": [
        "**Задача 4. Калькулятор скидки**\n",
        "\n",
        "\n",
        "Что нужно сделать\n",
        "\n",
        "Андрей переехал в новую квартиру, и ему нужно купить три стула в разные комнаты. Естественно, цена на стулья в разных магазинах различается, а где-то ещё и скидка есть. Вот для одного из таких магазинов он и написал калькулятор скидки, чтобы проще ориентироваться в ценах.\n",
        "\n",
        "Напишите программу, которая запрашивает три стоимости товара и вычисляет сумму чека. Если сумма чека превышает 10 000 рублей, нужно вычесть из этой суммы скидку 10% (умножить на 10, разделить на 100). В конце вывести итоговую сумму на экран."
      ]
    },
    {
      "cell_type": "code",
      "metadata": {
        "colab": {
          "base_uri": "https://localhost:8080/"
        },
        "id": "kYFQ1-sKL90Q",
        "outputId": "c52bda30-e5f9-4b5a-e332-ad3b6f601f00"
      },
      "source": [
        "a = int(input('Введите цену первого стула: '))\n",
        "b = int(input('Введите цену второго стула: '))\n",
        "c = int(input('Введите цену третьего стула: '))\n",
        "summary = a + b + c\n",
        "if summary > 10000:\n",
        "  summary -= summary * 10 / 100\n",
        "  print('Итоговая сумма', summary)"
      ],
      "execution_count": null,
      "outputs": [
        {
          "output_type": "stream",
          "name": "stdout",
          "text": [
            "Введите цену первого стула: 5000\n",
            "Введите цену второго стула: 4000\n",
            "Введите цену третьего стула: 3000\n",
            "Итоговая сумма 10800.0\n"
          ]
        }
      ]
    },
    {
      "cell_type": "markdown",
      "metadata": {
        "id": "mjvz9SaXOR2x"
      },
      "source": [
        "**Задача 5. Модуль числа**\n",
        "\n",
        "\n",
        "Что нужно сделать\n",
        "\n",
        "Математик Саша пишет программу, которая должна строить график функции y = |x|. Для этого ему нужно найти модуль очередного числа x, то есть если число x отрицательное, то перевести его в положительное.\n",
        "\n",
        "Напишите программу, которая выводит на экран модуль введённого числа.\n",
        "\n",
        "\n",
        "\n",
        "Пример:\n",
        "\n",
        "Ввели 5, ответ 5\n",
        "\n",
        "Ввели −7, ответ 7\n",
        "\n",
        "\n",
        "\n",
        "Подсказка: достаточно в некоторых случаях переприсвоить переменную со знаком минус."
      ]
    },
    {
      "cell_type": "code",
      "metadata": {
        "colab": {
          "base_uri": "https://localhost:8080/"
        },
        "id": "gZ0K6X85NUn0",
        "outputId": "167f96e4-fc50-44c7-cd0d-cd90879667d2"
      },
      "source": [
        "a = int(input('Введите число : '))\n",
        "if a > 0:\n",
        "  print('Ввели', a, ',', 'ответ', a)\n",
        "else:\n",
        "  print('Ввели', a, ',', 'ответ', a * (-1))"
      ],
      "execution_count": null,
      "outputs": [
        {
          "output_type": "stream",
          "name": "stdout",
          "text": [
            "Введите число : 5\n",
            "Ввели 5 , ответ 5\n"
          ]
        }
      ]
    },
    {
      "cell_type": "code",
      "metadata": {
        "colab": {
          "base_uri": "https://localhost:8080/"
        },
        "id": "PrE4ecmMPOjD",
        "outputId": "c2173864-8849-48aa-9b58-b7a616a21ab1"
      },
      "source": [
        "a = int(input('Введите число : '))\n",
        "if a > 0:\n",
        "  print('Ввели', a, ',', 'ответ', a)\n",
        "else:\n",
        "  print('Ввели', a, ',', 'ответ', a * (-1))"
      ],
      "execution_count": null,
      "outputs": [
        {
          "output_type": "stream",
          "name": "stdout",
          "text": [
            "Введите число : -7\n",
            "Ввели -7 , ответ 7\n"
          ]
        }
      ]
    },
    {
      "cell_type": "markdown",
      "metadata": {
        "id": "XD8oKxiJPbzc"
      },
      "source": [
        "**Задача 6. Игра в кубики**\n",
        "\n",
        "\n",
        "Что нужно сделать\n",
        "\n",
        "Костя играет в азартную игру с кубиками с владельцем заведения. Правда, с довольно интересными правилами: если у Кости на кубике выпадет столько же или больше, чем у владельца, то Костя задолжает разность в тысячах долларов. Однако если выпадет меньше, то Косте выплатят столько тысяч долларов, сколько будет сумма очков на кубиках.\n",
        "\n",
        "Напишите программу. На вход в программу подаётся два числа. Если первое число больше либо равно второму, нужно вывести на экран их разность и отдельной строкой фразу: «Костя платит». В противном случае вывести их сумму и отдельной строкой — фразу: «Владелец платит». Также последней строкой в результате нужно вывести на экран фразу: «Игра окончена».\n",
        "\n",
        "\n",
        "\n",
        "Пример:\n",
        "\n",
        "Кубик Кости: 3\n",
        "\n",
        "Кубик владельца: 4\n",
        "\n",
        "Сумма: 7\n",
        "\n",
        "Владелец платит\n",
        "\n",
        "Игра окончена\n",
        "\n",
        "\n",
        "\n",
        "Рекомендация\n",
        "\n",
        "Обратите внимание на разный выигрыш, который получит Костя при различных исходах."
      ]
    },
    {
      "cell_type": "code",
      "metadata": {
        "id": "gZsmbrtAPPXK",
        "colab": {
          "base_uri": "https://localhost:8080/"
        },
        "outputId": "9925c955-253e-4353-ce1e-0ceac151ccfb"
      },
      "source": [
        "a = int(input('Кубик Кости: '))\n",
        "b = int(input('Кубик владельца: '))\n",
        "if a >= b:\n",
        "  print('Сумма: ', a - b)\n",
        "else:\n",
        "  print('Сумма: ', a + b)\n",
        "  print('Владелец платит ')\n",
        "print('Игра окончена')\n"
      ],
      "execution_count": 1,
      "outputs": [
        {
          "output_type": "stream",
          "name": "stdout",
          "text": [
            "Кубик Кости: 3\n",
            "Кубик владельца: 4\n",
            "Сумма:  7\n",
            "Владелец платит \n",
            "Игра окончена\n"
          ]
        }
      ]
    },
    {
      "cell_type": "markdown",
      "metadata": {
        "id": "ldk2-4frKkPe"
      },
      "source": [
        "**Задача 7. Банкомат**\n",
        "\n",
        "\n",
        "Что нужно сделать\n",
        "\n",
        "Пользователи банкомата хотят снимать деньги. Но банкомат выдаёт только купюры по 100 рублей. \n",
        "\n",
        "Напишите программу, которая проверяет допустимость денежной суммы, которую ввёл пользователь.\n",
        "\n",
        "\n",
        "\n",
        "Пример:\n",
        "\n",
        "Введите сумму, которую хотите снять: 250\n",
        "\n",
        "Такую сумму снять невозможно. Обратитесь в другой банкомат."
      ]
    },
    {
      "cell_type": "code",
      "metadata": {
        "colab": {
          "base_uri": "https://localhost:8080/"
        },
        "id": "3nbLv-_XKUZO",
        "outputId": "5f9ca575-1132-4a1d-eedb-8bff4de24169"
      },
      "source": [
        "f = int(input('Введите сумму, которую хотите снять: '))\n",
        "if f // 10 % 2 == 0:\n",
        "  pass\n",
        "else:\n",
        "  print('Такую сумму снять невозможно. Обратитесь в другой банкомат.')\n"
      ],
      "execution_count": 6,
      "outputs": [
        {
          "output_type": "stream",
          "name": "stdout",
          "text": [
            "Введите сумму, которую хотите снять: 250\n",
            "Такую сумму снять невозможно. Обратитесь в другой банкомат.\n"
          ]
        }
      ]
    },
    {
      "cell_type": "markdown",
      "metadata": {
        "id": "NGIz1wfgLo-Q"
      },
      "source": [
        "**Задача 8. Хватит ли зарплаты**\n",
        "\n",
        "\n",
        "Что нужно сделать\n",
        "\n",
        "Георгий работает неофициально по часам, и его зарплата высчитывается по следующей формуле:\n",
        "\n",
        "![2.png](data:image/png;base64,iVBORw0KGgoAAAANSUhEUgAAAS8AAABcCAYAAAA/HzMDAAAR8klEQVR4Xu1d2+tVRRQe/wC1skefujxIDwpeCtMgISsDMdSyCxEoqAU9eEtNEfGS1wQftERBpOhCQQRZKShYCHlDIfAh9UHCJ2/oH2B8A+uwftuZPWv22ee49/l9+6X8ndkza3+z59tr1m1GPHjw4IHjRQSIABFoGQIjSF4tmzGKSwSIgEeA5MUXgQgQgVYiQPJq5bRRaCJABEhefAeIABFoJQIkr1ZOG4UmAkSA5MV3gAgQgVYiQPJq5bRRaCJABEhefX4H/vrrryEjjhw50o0fP77PUnA4ItB+BLLJ69q1a+7GjRv+ybtZeLqfadOmVUby0qVL7v79+13JUnnwzBsh66JFi9y5c+c6dy5dutTt27cvsyc2JwJEwERe3333nfv555/dsWPH3J07d4ag9vjjjzsswGXLlrkxY8YkEUVf69atc1evXh3S9u2333Zbt251Tz31VLKPW7duuUOHDrlt27YNkSdXluRAPWrw2Wef+WfF9e2337oFCxb0aCR2SwQGF4FS8jp69Kh7//33OwQBgvnggw/cqFGj3H///TeEhCZNmuR+//33UgL76KOP3P79+x1IZvXq1W7q1Km+H/wdpIi/nzx5snQbBeJ67bXXvPby9NNPu82bN7uxY8e606dPu08//dTPlEWWRzmlO3bs6MgKErcQ9qOUl2MTgSYiUEpeepFt377drVq1asgzgEief/75jhb15ZdfusWLFwef86uvvnJLlizxv128eHEIQWE79fLLL3sCAyH9/fffURKElvL9998H20Gre+edd/wYIFr8u4mXkDie9cqVK00UkTIRgcYjYCKvskWmSenVV1/12lfxAsk9++yznpxiNh7LVgrG7unTp5dutyZPntyxKTVVq3nmmWc84dPe1fj1QQEbjEApeUFzOXz4sPvwww+jdhlNKDHy0hrRr7/+6mbNmvUQJLofbPvOnj37UBvRWPDDzZs3g9qZ1hbXrl3rtmzZ0ij4QeRPPvlkKQE3SmAKQwQaioDJYF8mu4W8ZKuHfsq0oREjRnSGClXqeeKJJzpby9h2yyJPzlxIaEM3HlE9HuyIb7zxhv+TxgKkdvny5cpeU/G6ot9x48YlnSfi7U21tXhzgVHM8yzPZZFLe6At7XPmkW0HD4GuyUtrVbFtkJAO4CsrH6a3fH/++afThIFFNGHCBD8DMQ0Pv2nNJjWeZTqFUOsqeybbY9mKQ94vvvii432ETFaHAxb7rl27vG0PGGM7eubMmc72fNOmTQ+RGMb7+OOPvd0QV8pJIs8fsiEWHTraLopx1q9f7x00coXspvgN2vKBAwfc7du33ZQpU3zzP/74oyMfPn4MJ7G8rcOrTdfkBc+fvGgxrUoWABYKXtDYpfsqbi+1RpUyxmsNLra9jMmARadDPkAIkFtvY4ttcl4ZeUYQPchFPKcgZCEe9Jeyh4GwsI3G9fXXXw/ZioumWyRB8dRinkCeEm8WG0tjXnTGyEcLY6A/8RZjfsUBA0IVDRP/DZkMxBQgeAj2IGbMM2Qs+1jlYM+2g4VAV+Slt0Cxr2rONk6TV7G/lOdTT4smr6IGVzZ9WDBYjJ9//nnHawqZcIkjAnIgvuzff/9Nbs1CY4lsiO/avXu37+Obb77x/8X4IBVcZQtWa7uh59P9COkIccmzYDyRJTaWdsbocWR8iVHTcwNPMjzHgqF21oS8zKJNhz4y8n410XY5WDTQzqepTF76pSzThHLIq4ygcshLk2AOeYk2I15RaEbvvfeen1kQDP4fWiY0saK2Y5n+olMC9xQdEylCEYIt89yi31A/IAOEtoh2I21i5KBtlXrbDM0K9jkJrpW5AS4g3/nz5w8Jq8FW+fz58w95ovWcxrblmMtPPvkk6OSxYM42g4tAJfLSgaIp+0ybyAvTrKP3sRBloWtb0ooVKyoFlurFioUe0t5ShKI9rhbnR0yr0tpZLMpfQjpS2zYtU6qtXkpasyuLERzc5ccn6waBSuQlL2uKuCBY28hLwCwanHPSl2ITojWZkP1HOyVCv2tnRCycRMZOaXB66xkiQU1uMZOAjFU1tk5rkegrNU43LzrvHTwEsskrh7iK5JUy2OvFXdzuaa0lZbC3ejdj0ylePEllknZIaVq4cGElWxf6ELlixKM1kTIbUGqhW2xn2qgfiqlL2dU0yUvcWsrJEMJbb9XxO7DZs2fPEE/z4C07PlEdCGSRl7j5LRqXFi4VvyVty2xVORqcdbwigEXSgnseCem45syZ0/HuVSExiyaTIhRN4GW2PIsjRYg0Zu/SW8GyMBE9ViwAOfWiQuNEXqp4rVPknOqPvw8PBMzkJV/imK2mDC6tCZWFLujtR3HB6C1V2ZZJb61y7C+QX7v/Dx486PMvtbcRMsydO9eHBuQuVIsmkyIUS1gKnkOnWhU9fPi9zu2pHis3LKX4zkDzXLNmTacQALeRw4OEqj6libxE60kFNMaESNl65D7RmGLkZCFBraFVcbFDu9Fbw2KohBj0i0nqqQlIaTKaUGJalSavMm1IDO2xnNTU9lTPVwpDkamuJPNikj4T11Nv1vD9PUleOiSiTNsAaaA8jcQsaUi11hFbDHr7EfM8aQKIyZLSOnKnGoSastVZ+hStMkbM1rAB2VrFyEvjGPMixkIgRPtEvTUEmyIcQ/cRCs6VD06OvUtShmIpVymit+DNNoOPQJK85EW3foFDi0oTYGzbKeOUbUtTdi9doid3yxib6qLmVeWV0FvZnJgqkD4CWaVOmmWLliJJyB/T4IDv7NmzfQyb5F+KFiga0S+//NIxppdF4JfhJB+zVHJ9HR+NKvPFe9qBQCl5FYMqY5VSdVpLTCPQ2heIRWtoehuTsiXpr7ImAh3agJceaSVNKfJn0YaKqVH//POPN2JrzScVm6WLPZY9vx4LGL7++uudYo4YD8UdpfQQfn/xxRd9UcqZM2cOqZFWjKy31uIXOWM2Ldn20ubVDhJ5VFKWkpd+ya0CltliNIGBYJCEC5sGDOD4N7x7lpLImsBga9EJyfj3Tz/91KhDLSyLXBO4YB3a9mnHiVSjvXfvntu7d6/31hU/DKF502Qqvxfx1/ZFtCnmHpZpcKl3RchJ+n333Xf9LaiqC00TxJuzDU2Nx98HE4EkeeU+dqgYoe4D2sOPP/7oTpw44f/82GOP+Vy4efPmZcVPQSv87bfffNoJLmhZL730kon8cp+p2/aSHoN+yvAByQEXPAsq0sY0mSKG6HfGjBmeuKzaDwjsyJEj7u7du27ixIneSaE1VWwTkZ+IC2EioY8K/ib359RNg5aMarnQLi9cuOD7kCv3ObqdG97fXgSSNq/2PholJwJEYJARIHkN8uzy2YjAACNA8hrgyeWjPRoEdMyeSJBKaXs0krZ7VJJXu+eP0jcUgWLFWlbNqH+iSF71Y8oeiYBHwOJlJlTVESB5VceOd7YUASGVugKZYzBIUDGDbXvzopC8eoMre20wAv0iL8l2oL2rNy8Dyas3uLLXBiPQL/KSvE/au3rzMpC8eoMre20wAv0gL51aFypL1GB4WiMayas1U0VB60KgH+SlDyWR4/6Q1bBhwwaf/gQ7GFKgrJkJSAtDYcxjx4516p2hQsny5cujWSVIOdu5c6dPv0uljUk6WMgOiIwO5LjirM/Q4TNSQECO0otpmqFnwJxiTGR3IE0s53BnklddK4L9tAaBfpCX5AWLvUvn42qgUsnniBlbtGiRJzwQiKRx6b+H8kBD48Uqmui4tKI8ur6ayK0PTJYTtfQzhXJyRR59FoTUxkMBAlypyjXFF4zk1ZolR0HrQqAf5CWaDLQQEAC0DjkuTyfGl3k8NXGEtBm9NdWEAaLAeChfNG7cOCdnDMTGilX5lfGRw4pjAPXJ7ihnBIIGkW3dutXdv3+/c6J9sZim9B8rWCnEFqs/F5t3klddK4L9tAaBXpOX1mSgFWHxFo+5S53uZK1NJ/2Ihof7QDJvvfVWJ0k/VTBSa2m6xhrkPnXqlK/2gktvhVEeCRfayCXaZrGyjNTqi5GnkHmubZDk1ZolR0HrQqDX5FUsbxRalClCsR62YiFB0bxitihLAUtgr4thQotCZZBYjT89V0JqVc6/KJvzIHnp03fqemHYDxGoA4GyenHSf53vb86J6zK+1mRCNq1UUUn0I9vO1NkAKfLSW9QQiVqq/BY1K/w7BxdN5nAywPBfR6FQklcdK4p99A2BNpBX6gCU1IG/1kNkLCdlCZHGSDDn6LoUUZa9BPpkMGhgqBWHmnXdXNw2doMe720lAr3cNlo0mRSh6C1j6tAbXa47FHYhRBqrTGs5FwGTHHMO5LwAeizc160WRvLKQZ9tBwKBXpKXRZNJEYo+3anMiJ0iuTq3p3osxI1V3fbpEA+8TN2cN0HyGojlyIfIQaCX5JXSZDShxLQq6/mcshWLJX6ntqeakFJnBmijuwTd5mBebBs7SCenT5JXDlpsOxAI9JK8Uofwpg78BcAW8ioLLA05DkIn0OPsCFw4nzOVfykOhDqTzMui+i0vGsnLglKP2sCOgGvkyJHmgzN6JMqw6raX5JUKgQgdqAsi+uGHH9yyZct86IHl0F3LOacxEpRzVGE0X7JkiZ978R7iN0TNw0sqh7lYiDL0AsnBM7FDZ0S+qqWJSF59XLZ4MXBy0sGDB326ByYNf5NcN+vRb30UeSCH6hV5WQ7h1YSCgNDLly/7g35BRhIMqvsJbS1jEfHFySqeBTpr1ixveMd42CbivE4x+CO6/ZVXXvFaHy456Bj/r7XFnBAJ2daGbGT6IOrcyHp5TpJXH5envJTwsuiXQ3/ZUofu9lHcgR2qV+RlCSwtetwAclluIt6VPXv2+IRlnQsIO5c+vTw0WVoe/buMpz2j8jvGw8dVH6GnHQiWUBX0pfvWz4Df8L4jnxHnjKZsbWUvIcmrj0tUJm3dunUPZc8XE3n7KNawG6pX5GVZ5LItw8JF7NXKlSuj8U7QsA4fPuwXuVzQ1t98803zOacgy/3793u7Fkhk48aNDhqYXBgD21RcksNYjJoX7yjuP3v2rOl9wXMeP37cpxfBSaGfAcSL9KLYeaCmAZxzJC8rUoV2ICKo/NevX/e/jB492r3wwguVbVdCXt18iSo+yrC7rVfkNeyAfMQPTPLKmAAQFvb/+FrhSxa6Qmq3ZQj5ulXd/1vGYBsiMEgIkLyMs6mNlpLeMG/ePO8d0sXa0F1u4J14l6h1GSeDzYgAt432dyAVzYyetHenrLAa7AHYcp4+fdodOHDAC7F3794htgi7ZGxJBIYnAtS8jPNusZNoF3aqyJxUjzxz5ozfgiL4b82aNZVtZsbHYDMiMDAIkLyMU4kwB2hKU6dOjdbZ1vE5OYF3VeNojKKzGREYSARIXjVOa1Xygghi98pxR9coOrsiAq1DgORV45RpDSp1sEJxWF2NwBoIWKPo7IoItA4BkleNUybhDrFyt/BK3rhxI7jtTB1SUKOY7IoIDAQCJK+aptHijZQ2oVguic7O1dhqEp/dEIHWIUDyqmHKrFn3+vQVZPQ/99xz7t69e+7IkSO+rjfjvGqYDHYxbBAgeXU51dgKwsiOcIcU+aAtQiOQUnTixInOyBMnTvQZ/jmnBXcpNm8nAq1HgOTVxRQi2BSBqShpkyKuLobhrUSACAQQIHlVfC1IXBWB421EoCYESF4VgWQViIrA8TYiUBMCJK8KQDKgtAJovIUI1IwAySsTUAlELVZDzeyGzYkAEegSAZJXBoASEoEg1JMnT0aTqCXgFDXKi1UpM4ZjUyJABEoQIHllvB5yoEDZMVEguLlz5zocOsA0nwxw2ZQIZCJA8jICpsvdGG8heVmBYjsiUAEBkpcRNMlbNDb3zah55aDFtkQgDwGSlxEvpPbkXqtWrcq9he2JABEwIkDyMgLFZkSACDQLAZJXs+aD0hABImBEgORlBIrNiAARaBYCJK9mzQelIQJEwIgAycsIFJsRASLQLARIXs2aD0pDBIiAEQGSlxEoNiMCRKBZCJC8mjUflIYIEAEjAiQvI1BsRgSIQLMQIHk1az4oDREgAkYESF5GoNiMCBCBZiFA8mrWfFAaIkAEjAiQvIxAsRkRIALNQoDk1az5oDREgAgYESB5GYFiMyJABJqFwP+K6/aw5KNmoQAAAABJRU5ErkJggg==)\n",
        "\n",
        "Он хочет понять, сколько часов нужно отработать, чтобы хватило на погашение кредита и еду.\n",
        "\n",
        "Напишите программу, которая запрашивает у пользователя три числа: количество отработанных часов, остаток по кредиту и количество денег на еду. После этого рассчитывается зарплата по формуле, и если зарплата больше либо равна денежной сумме, которая требуется на кредит и еду, то выводится сообщение: «Часов хватает. Можно отдохнуть», в противном случае: «Часов не хватает. Придётся работать!»."
      ]
    },
    {
      "cell_type": "markdown",
      "metadata": {
        "id": "BGGRJ8YBN6N2"
      },
      "source": [
        "Пример:\n",
        "\n",
        "Введите отработанные часы: 80\n",
        "\n",
        "Введите остаток по кредиту: 1000\n",
        "\n",
        "Введите траты на еду: 5000\n",
        "\n",
        "Часов не хватает. Придётся работать!"
      ]
    },
    {
      "cell_type": "code",
      "metadata": {
        "colab": {
          "base_uri": "https://localhost:8080/"
        },
        "id": "KNAWSauNL2Qv",
        "outputId": "8206447a-a5e1-463e-f5f1-d099654afb87"
      },
      "source": [
        "count_hours = int(input('Введите отработанные часы: '))\n",
        "count_credits = int(input('Введите остаток по кредиту: '))\n",
        "count_food = int(input('Введите траты на еду: '))\n",
        "if (200 * count_hours / 2 ** 3) + count_hours >= count_credits + count_food:\n",
        "  print('Часов хватает. Можно отдохнуть')\n",
        "else:\n",
        "  print('Часов не хватает. Придётся работать!')\n"
      ],
      "execution_count": 9,
      "outputs": [
        {
          "output_type": "stream",
          "name": "stdout",
          "text": [
            "Введите отработанные часы: 80\n",
            "Введите остаток по кредиту: 1000\n",
            "Введите траты на еду: 5000\n",
            "Часов не хватает. Придётся работать!\n"
          ]
        }
      ]
    },
    {
      "cell_type": "markdown",
      "metadata": {
        "id": "CZvr5a3nOYz6"
      },
      "source": [
        "**Задача 9. Плохой циферблат**\n",
        "\n",
        "\n",
        "Что нужно сделать\n",
        "\n",
        "У Саши в грузовике стоит суперсовременный цифровой циферблат для подсчёта пробега, но он постоянно сбрасывается. Саша заметил закономерность: каждый раз, когда сумма цифр пробега на циферблате превышает число текущего дня, циферблат сбрасывается.\n",
        "\n",
        "Напишите программу, которая получает на вход от пользователя два числа: трёхзначное число пробега и число дня, затем находит сумму цифр первого числа и, если эта сумма больше числа дня, выводит сообщение «Сброс» и сбрасывает пробег до нуля. В противном случае выводится: «Сегодня не сломался». В конце также выводится сам пробег.\n",
        "\n",
        "\n",
        "\n",
        "Пример:\n",
        "\n",
        "Введите пробег: 123\n",
        "\n",
        "Введите сегодняшнее число: 5\n",
        "\n",
        "\n",
        "\n",
        "\n",
        "Сброс.\n",
        "\n",
        "Пробег: 0\n",
        "\n",
        "#\n",
        "\n",
        "\n",
        "\n",
        "\n",
        "Пример 2:\n",
        "\n",
        "Введите пробег: 123\n",
        "\n",
        "Введите сегодняшнее число: 10\n",
        "\n",
        "Сегодня не сломался.\n",
        "\n",
        "Пробег: 123"
      ]
    },
    {
      "cell_type": "code",
      "metadata": {
        "colab": {
          "base_uri": "https://localhost:8080/"
        },
        "id": "AeA1WJDtNu7a",
        "outputId": "0f276d58-7887-4884-ef0c-cf2f9de89ceb"
      },
      "source": [
        "a = int(input('Введите пробег:'))\n",
        "b = int(input('Введите сегодняшнее число:'))\n",
        "c = 0\n",
        "if ((a // 100) + (a // 10 % 10) + (a % 10)) > b:\n",
        "  print('Сброс.')\n",
        "  print('Пробег: ', c)\n",
        "else:\n",
        "  print('Сегодня не сломался.')\n",
        "  print('Пробег: ', a )"
      ],
      "execution_count": 18,
      "outputs": [
        {
          "output_type": "stream",
          "name": "stdout",
          "text": [
            "Введите пробег:123\n",
            "Введите сегодняшнее число:5\n",
            "Сброс.\n",
            "Пробег:  0\n"
          ]
        }
      ]
    },
    {
      "cell_type": "code",
      "metadata": {
        "colab": {
          "base_uri": "https://localhost:8080/"
        },
        "id": "LOa2YE05PGWd",
        "outputId": "a007d319-9d50-4ef9-9125-a8b51b25b4dd"
      },
      "source": [
        "a = int(input('Введите пробег:'))\n",
        "b = int(input('Введите сегодняшнее число:'))\n",
        "c = 0\n",
        "if a // 100 + a // 10 % 10 + a % 10 > b:\n",
        "  print('Сброс.')\n",
        "  print('Пробег: ', c)\n",
        "else:\n",
        "  print('Сегодня не сломался.')\n",
        "  print('Пробег: ', a )"
      ],
      "execution_count": 19,
      "outputs": [
        {
          "output_type": "stream",
          "name": "stdout",
          "text": [
            "Введите пробег:123\n",
            "Введите сегодняшнее число:10\n",
            "Сегодня не сломался.\n",
            "Пробег:  123\n"
          ]
        }
      ]
    },
    {
      "cell_type": "markdown",
      "metadata": {
        "id": "cRiySVWIUmik"
      },
      "source": [
        "**Задача 10. Максимальное число (по желанию)**\n",
        "\n",
        "\n",
        "Что нужно сделать\n",
        "\n",
        "Пользователь вводит три числа. \n",
        "\n",
        "Напишите программу, которая выводит на экран максимальное из этих трёх чисел (все числа разные). Используйте дополнительные переменные, если нужно."
      ]
    },
    {
      "cell_type": "code",
      "metadata": {
        "colab": {
          "base_uri": "https://localhost:8080/"
        },
        "id": "eSk9Kfs0UpPq",
        "outputId": "865016cd-e2f2-47a8-f8d7-6dbf34eca15e"
      },
      "source": [
        "a = int(input('Введите первое число: '))\n",
        "b = int(input('Введите второе число: '))\n",
        "c = int(input('Введите третье число: '))\n",
        "if c < a > b:\n",
        "  print('Первое число максимальное')\n",
        "if a < b > c:\n",
        "  print('Второе число максимальное')\n",
        "if a < c > b:\n",
        "  print('Третье число максимальное')"
      ],
      "execution_count": 20,
      "outputs": [
        {
          "output_type": "stream",
          "name": "stdout",
          "text": [
            "Введите первое число: 1\n",
            "Введите второе число: 2\n",
            "Введите третье число: 3\n",
            "Третье число максимальное\n"
          ]
        }
      ]
    }
  ]
}