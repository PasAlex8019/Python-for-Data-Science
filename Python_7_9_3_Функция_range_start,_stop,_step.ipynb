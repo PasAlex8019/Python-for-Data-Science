{
  "nbformat": 4,
  "nbformat_minor": 0,
  "metadata": {
    "colab": {
      "name": "Python_7_9.3 Функция range: start, stop, step",
      "provenance": [],
      "authorship_tag": "ABX9TyM2cQ9PCOmkvPXRKJDMhjvT",
      "include_colab_link": true
    },
    "kernelspec": {
      "name": "python3",
      "display_name": "Python 3"
    },
    "language_info": {
      "name": "python"
    }
  },
  "cells": [
    {
      "cell_type": "markdown",
      "metadata": {
        "id": "view-in-github",
        "colab_type": "text"
      },
      "source": [
        "<a href=\"https://colab.research.google.com/github/PasAlex8019/Python-for-Data-Science/blob/main/Python_7_9_3_%D0%A4%D1%83%D0%BD%D0%BA%D1%86%D0%B8%D1%8F_range_start%2C_stop%2C_step.ipynb\" target=\"_parent\"><img src=\"https://colab.research.google.com/assets/colab-badge.svg\" alt=\"Open In Colab\"/></a>"
      ]
    },
    {
      "cell_type": "markdown",
      "metadata": {
        "id": "xsi0oA9_Lt03"
      },
      "source": [
        "### Квадрат не четных чисел от 1 до N\n",
        "Через цикл while"
      ]
    },
    {
      "cell_type": "code",
      "metadata": {
        "colab": {
          "base_uri": "https://localhost:8080/"
        },
        "id": "NbJc7pqi4fOx",
        "outputId": "bebc105e-8c45-4085-f54e-303a683650d3"
      },
      "source": [
        "N  = int(input('Введите число: '))\n",
        "num = 1\n",
        "print()\n",
        "\n",
        "while num < N:\n",
        "  print('Квадрат нечетного числа-', num, 'равен', num ** 2)\n",
        "  num += 2"
      ],
      "execution_count": 6,
      "outputs": [
        {
          "output_type": "stream",
          "name": "stdout",
          "text": [
            "Введите число: 10\n",
            "\n",
            "Квадрат нечетного числа- 1 равен 1\n",
            "Квадрат нечетного числа- 3 равен 9\n",
            "Квадрат нечетного числа- 5 равен 25\n",
            "Квадрат нечетного числа- 7 равен 49\n",
            "Квадрат нечетного числа- 9 равен 81\n"
          ]
        }
      ]
    },
    {
      "cell_type": "markdown",
      "metadata": {
        "id": "0cIfHhaWN_jC"
      },
      "source": [
        "### Квадрат четных чисел от 1 до N\n",
        "Через цикл for"
      ]
    },
    {
      "cell_type": "code",
      "metadata": {
        "colab": {
          "base_uri": "https://localhost:8080/"
        },
        "id": "L7Y5bbxBM2bq",
        "outputId": "d76579e3-e9b9-4218-8d96-ca2ead2a2415"
      },
      "source": [
        "N  = int(input('Введите число: '))\n",
        "\n",
        "print()\n",
        "\n",
        "for number in range(1, N//2 + N%2 +1):\n",
        "  number = number * 2 - 1\n",
        "  print('Квадрат четного числа-', number, 'равен', number ** 2)"
      ],
      "execution_count": 10,
      "outputs": [
        {
          "output_type": "stream",
          "name": "stdout",
          "text": [
            "Введите число: 9\n",
            "\n",
            "Квадрат четного числа- 1 равен 1\n",
            "Квадрат четного числа- 3 равен 9\n",
            "Квадрат четного числа- 5 равен 25\n",
            "Квадрат четного числа- 7 равен 49\n",
            "Квадрат четного числа- 9 равен 81\n"
          ]
        }
      ]
    },
    {
      "cell_type": "markdown",
      "metadata": {
        "id": "_lp3i0J0RL6d"
      },
      "source": [
        "###Оптимизация кода через **ШАГ** функции for"
      ]
    },
    {
      "cell_type": "code",
      "metadata": {
        "colab": {
          "base_uri": "https://localhost:8080/"
        },
        "id": "Wi3wK0b2Ratc",
        "outputId": "5a05c93c-4a12-4758-d072-d1683381b360"
      },
      "source": [
        "N  = int(input('Введите число: '))\n",
        "\n",
        "print()\n",
        "\n",
        "for number in range(1, N, 2): \n",
        "  print('Квадрат четного числа-', number, 'равен', number ** 2)"
      ],
      "execution_count": 13,
      "outputs": [
        {
          "output_type": "stream",
          "name": "stdout",
          "text": [
            "Введите число: 10\n",
            "\n",
            "Квадрат четного числа- 1 равен 1\n",
            "Квадрат четного числа- 3 равен 9\n",
            "Квадрат четного числа- 5 равен 25\n",
            "Квадрат четного числа- 7 равен 49\n",
            "Квадрат четного числа- 9 равен 81\n"
          ]
        }
      ]
    },
    {
      "cell_type": "markdown",
      "metadata": {
        "id": "EY_4DvF9TBpp"
      },
      "source": [
        "###Задача 'Диета'"
      ]
    },
    {
      "cell_type": "code",
      "metadata": {
        "colab": {
          "base_uri": "https://localhost:8080/"
        },
        "id": "bcA4080KTG1j",
        "outputId": "4b59e60c-3cf1-4cec-c9d7-5759be55b1b3"
      },
      "source": [
        "wake_up = int(input('Восколько проснулся? '))\n",
        "water = 0\n",
        "calories_sum = 0\n",
        "print()\n",
        "\n",
        "for hour in range(wake_up, 23, 3):\n",
        "  water += 1\n",
        "  print(f'Пошли есть в {hour} часов.')\n",
        "  calories = int(input('Сколько съел колорий? '))\n",
        "  calories_sum += calories\n",
        "print(f'Выпито литров воды {water}')\n",
        "print(f'Съеденно калорий {calories_sum}')"
      ],
      "execution_count": 15,
      "outputs": [
        {
          "output_type": "stream",
          "name": "stdout",
          "text": [
            "Восколько проснулся? 18\n",
            "\n",
            "Пошли есть в 18 часов.\n",
            "Сколько съел колорий? 400\n",
            "Пошли есть в 21 часов.\n",
            "Сколько съел колорий? 500\n",
            "Выпито литров воды 2\n",
            "Съеденно калорий 900\n"
          ]
        }
      ]
    },
    {
      "cell_type": "markdown",
      "metadata": {
        "id": "0UVkqGWJUmRx"
      },
      "source": [
        "##**Практика**\n",
        "\n",
        "**Задача 1. Степень нечётного числа**\n",
        "\n",
        "Выведите третью степень каждого нечётного числа в диапазоне от единицы до указанного пользователем числа включительно. Для этого используйте шаг внутри функции range."
      ]
    },
    {
      "cell_type": "code",
      "metadata": {
        "colab": {
          "base_uri": "https://localhost:8080/"
        },
        "id": "DEmTGoPwUrxK",
        "outputId": "40dff0fb-fcb3-4bb4-b61b-36bed067bbf8"
      },
      "source": [
        "number = int(input('Введите число: '))\n",
        "\n",
        "for num in range(1, number +1, 3):\n",
        "  print(f'Степень нечетного числа {num} равна {num}**3 = {num ** 3}')"
      ],
      "execution_count": 16,
      "outputs": [
        {
          "output_type": "stream",
          "name": "stdout",
          "text": [
            "Введите число: 18\n",
            "Степень нечетного числа 1 равна 1**3 = 1\n",
            "Степень нечетного числа 4 равна 4**3 = 64\n",
            "Степень нечетного числа 7 равна 7**3 = 343\n",
            "Степень нечетного числа 10 равна 10**3 = 1000\n",
            "Степень нечетного числа 13 равна 13**3 = 2197\n",
            "Степень нечетного числа 16 равна 16**3 = 4096\n"
          ]
        }
      ]
    },
    {
      "cell_type": "markdown",
      "metadata": {
        "id": "w-cfJP9oVwPj"
      },
      "source": [
        "**Задача 2. Театр**\n",
        "\n",
        "Ваню заставили пойти в театр на балет. Ему стало там настолько скучно, что он придумал себе очень странное развлечение: считать сумму номеров каждого пятого стула в рядах.\n",
        "\n",
        "Напишите программу для вычисления суммы каждого пятого числа, лежащего в диапазоне от единицы до N. Использовать условный оператор нельзя.\n",
        "\n",
        "Пример:\n",
        "\n",
        "Введите число: 21\n",
        "\n",
        "Номер стула: 1\n",
        "\n",
        "Номер стула: 6\n",
        "\n",
        "Номер стула: 11\n",
        "\n",
        "Номер стула: 16\n",
        "\n",
        "Номер стула: 21\n",
        "\n",
        "Сумма: 55"
      ]
    },
    {
      "cell_type": "code",
      "metadata": {
        "colab": {
          "base_uri": "https://localhost:8080/"
        },
        "id": "6N8Ka8fZV6J2",
        "outputId": "9c4ddf96-de63-4de7-a193-1ee8aad1ecda"
      },
      "source": [
        "number = int(input('Введите число: '))\n",
        "num_sum = 0\n",
        "print()\n",
        "\n",
        "for num in range(1, number +1, 5):\n",
        "  print(f'Номер стула: {num}')\n",
        "  num_sum += num\n",
        "print(f'Сумма: {num_sum}')\n"
      ],
      "execution_count": 19,
      "outputs": [
        {
          "output_type": "stream",
          "name": "stdout",
          "text": [
            "Введите число: 21\n",
            "\n",
            "Номер стула: 1\n",
            "Номер стула: 6\n",
            "Номер стула: 11\n",
            "Номер стула: 16\n",
            "Номер стула: 21\n",
            "Сумма: 55\n"
          ]
        }
      ]
    },
    {
      "cell_type": "markdown",
      "metadata": {
        "id": "LsIIbW7kXA7J"
      },
      "source": [
        "**Задача 3. Диета**\n",
        "\n",
        "Саша просыпается когда угодно, но в 23 часа уже точно идёт спать. Питается Саша следующим образом: каждые 3 часа он выпивает литр воды и съедает N калорий. Пить и есть он, кстати, начинает сразу как только проснётся. Напишите программу, которая считает сколько он выпьет литров воды и сколько калорий он съест перед тем как пойдёт спать."
      ]
    },
    {
      "cell_type": "code",
      "metadata": {
        "colab": {
          "base_uri": "https://localhost:8080/"
        },
        "id": "GVXR_DhfXD4T",
        "outputId": "d6376f0d-0683-4bc0-a218-c3d76a8f44a5"
      },
      "source": [
        "wake_up = int(input('Восколько проснулся? '))\n",
        "water = 0\n",
        "calories_sum = 0\n",
        "print()\n",
        "\n",
        "for hour in range(wake_up, 23, 3):\n",
        "  water += 1\n",
        "  print(f'Пошли есть в {hour} часов.')\n",
        "  calories = int(input('Сколько съел колорий? '))\n",
        "  calories_sum += calories\n",
        "print(f'Выпито литров воды {water}')\n",
        "print(f'Съеденно калорий {calories_sum}')"
      ],
      "execution_count": 20,
      "outputs": [
        {
          "output_type": "stream",
          "name": "stdout",
          "text": [
            "Восколько проснулся? 20\n",
            "\n",
            "Пошли есть в 20 часов.\n",
            "Сколько съел колорий? 500\n",
            "Выпито литров воды 1\n",
            "Съеденно калорий 500\n"
          ]
        }
      ]
    },
    {
      "cell_type": "code",
      "metadata": {
        "id": "dqVc4JuGXSOb"
      },
      "source": [
        ""
      ],
      "execution_count": null,
      "outputs": []
    }
  ]
}