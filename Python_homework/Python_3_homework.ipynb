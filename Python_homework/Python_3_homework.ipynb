{
  "nbformat": 4,
  "nbformat_minor": 0,
  "metadata": {
    "colab": {
      "name": "Python_3_homework",
      "provenance": [],
      "authorship_tag": "ABX9TyNI5wnlOTr8UHPMI7xiHX2I",
      "include_colab_link": true
    },
    "kernelspec": {
      "name": "python3",
      "display_name": "Python 3"
    },
    "language_info": {
      "name": "python"
    }
  },
  "cells": [
    {
      "cell_type": "markdown",
      "metadata": {
        "id": "view-in-github",
        "colab_type": "text"
      },
      "source": [
        "<a href=\"https://colab.research.google.com/github/PasAlex8019/Python-for-Data-Science/blob/main/Python_3_homework.ipynb\" target=\"_parent\"><img src=\"https://colab.research.google.com/assets/colab-badge.svg\" alt=\"Open In Colab\"/></a>"
      ]
    },
    {
      "cell_type": "markdown",
      "metadata": {
        "id": "nefsDp_HsUeP"
      },
      "source": [
        "#**4.7 Домашняя работа**"
      ]
    },
    {
      "cell_type": "markdown",
      "metadata": {
        "id": "iCIE0zkrseUT"
      },
      "source": [
        "##**Задача**\n",
        "###**Цели домашнего задания**\n",
        "**Научиться:**\n",
        "\n",
        "* использовать базовые арифметические операции в Python;\n",
        "* понимать разницу между конкатенацией и сложением;\n",
        "* приоритизировать арифметические операции; \n",
        "* работать с приведением строки к int;\n",
        "* понимать операции модуля, целочисленного деления и деления с остатком;\n",
        "* понимать сокращённые операторы.\n",
        "\n",
        "\n",
        "**Что входит в задание**\n",
        "* Перевести выражение с языка математики на язык Python.\n",
        "* Написать программу для финансового отчёта.\n",
        "* Вывести следующее и предыдущее числа.\n",
        "* Вычислить площадь треугольника.\n",
        "* Посчитать часы и минуты.\n",
        "* Сложить два последних разряда чисел.\n",
        "*  номер километра на основе скорости и времени.\n",
        "* Вывести каждую цифру отдельно.\n",
        "* Вывести число в обратном порядке.\n",
        "* По желанию (задача повышенной сложности). Поменять местами значения двух переменных: не всё так просто! "
      ]
    },
    {
      "cell_type": "markdown",
      "metadata": {
        "id": "ic_Z7M7RuxPO"
      },
      "source": [
        "##**Задача 1. Язык математики**\n",
        "**Что нужно сделать**\n",
        "\n",
        "Маше для защиты курсовой работы нужно написать программу для расчёта экономической модели по формуле. Как записать саму формулу в программу, она не знает, у неё есть только начальные значения. Поэтому Маша решила просто заплатить Егору, чтобы тот написал её быстрее.\n",
        "\n",
        "Дана программа:\n",
        "\n",
        "a = 8\n",
        "\n",
        "b = 10\n",
        "\n",
        "c = 12\n",
        "\n",
        "d = 18\n",
        "\n",
        "\n",
        "\n",
        "Продолжите программу: переведите выражение с математического языка на язык Python, запишите его в переменную res и выведите результат.\n",
        "\n",
        "\n",
        "\n",
        "Выражение:\n",
        "\n",
        "![Без_названия_tV7DL4Z.png](data:image/png;base64,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)\n",
        "\n",
        "**Что оценивается**\n",
        "\n",
        "* Результат вычисления корректен.\n",
        "* Правильное употребление пробелов после запятых и при бинарных операциях."
      ]
    },
    {
      "cell_type": "code",
      "metadata": {
        "colab": {
          "base_uri": "https://localhost:8080/"
        },
        "id": "HCGeGaNVsOBY",
        "outputId": "4f98175e-54cc-42c3-f2f6-3328c23c2787"
      },
      "source": [
        "a = 8\n",
        "b = 10\n",
        "c = 12\n",
        "d = 18\n",
        "res = ((-3 + a ** 2) * b - 2 ** 3) / (c - 2 * d)\n",
        "print(res)"
      ],
      "execution_count": 1,
      "outputs": [
        {
          "output_type": "stream",
          "name": "stdout",
          "text": [
            "-25.083333333333332\n"
          ]
        }
      ]
    },
    {
      "cell_type": "markdown",
      "metadata": {
        "id": "u-9GizXtv_v0"
      },
      "source": [
        "##**Задача 2. Финансовый отчёт**\n",
        "**Что нужно сделать**\n",
        "\n",
        "Наде дали задание сформировать финансовый отчёт за последние 20 лет по полугодиям. Нужно сумму дохода первых двух кварталов поделить на сумму последних двух кварталов, чтобы понять динамику роста или падения дохода. И так за каждый год. Надя решила, что быстрее будет написать простую программу, которая сделает всё за неё.\n",
        "\n",
        "- Запросите у пользователя четыре числа.\n",
        "- Отдельно сложите два первых и отдельно — два вторых.\n",
        "- Разделите первую сумму на вторую.\n",
        "- Выведите результат на экран.\n",
        "\n",
        "**Что оценивается**\n",
        "\n",
        "- input содержит корректное приглашение для ввода;\n",
        "- результат вычислений корректен;\n",
        "- переменные имеют значащие имена, не только a, b, c, d (видео 2.3);\n",
        "- пробелы после запятых, пробелы при бинарных операциях."
      ]
    },
    {
      "cell_type": "code",
      "metadata": {
        "colab": {
          "base_uri": "https://localhost:8080/"
        },
        "id": "kKIzeSkNvxLu",
        "outputId": "11fe5053-5417-4446-da53-0180336bdfd1"
      },
      "source": [
        "a1 = int(input('Введите первое число: '))\n",
        "a2 = int(input('Введите второе число: '))\n",
        "a3 = int(input('Введите третье число: '))\n",
        "a4 = int(input('Введите четвертое число: '))\n",
        "print((a1 + a2) / (a3 + a4))"
      ],
      "execution_count": 2,
      "outputs": [
        {
          "output_type": "stream",
          "name": "stdout",
          "text": [
            "Введите первое число: 1\n",
            "Введите второе число: 2\n",
            "Введите третье число: 3\n",
            "Введите четвертое число: 4\n",
            "0.42857142857142855\n"
          ]
        }
      ]
    },
    {
      "cell_type": "markdown",
      "metadata": {
        "id": "cE15xsMhxTzD"
      },
      "source": [
        "##**Задача 3. Следующее и предыдущее числа**\n",
        "**Что нужно сделать**\n",
        "\n",
        "Напишите программу, которая получает от пользователя число и выводит на экран два ответа — следующее и предыдущее числа. Результат:\n",
        "\n",
        "![Без_названия_WIU9SX2.png](data:image/png;base64,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)\n",
        "\n",
        "**Что оценивается**\n",
        "\n",
        "- input содержит корректное приглашение для ввода;\n",
        "- вывод соответствует заданию;\n",
        "- нет простых print(a), print(a - 1);\n",
        "- пробелы после запятых в print.\n"
      ]
    },
    {
      "cell_type": "code",
      "metadata": {
        "colab": {
          "base_uri": "https://localhost:8080/"
        },
        "id": "S1wFz5FOxHl7",
        "outputId": "a1463416-3960-42b4-a10d-c6189f212cae"
      },
      "source": [
        "n = int(input('Введите число: '))\n",
        "print('После числа', n, 'идет число', n + 1)\n",
        "print('До числа', n, 'идет число', n - 1)"
      ],
      "execution_count": 4,
      "outputs": [
        {
          "output_type": "stream",
          "name": "stdout",
          "text": [
            "Введите число: 5\n",
            "После числа 5 идет число 6\n",
            "До числа 5 идет число 4\n"
          ]
        }
      ]
    },
    {
      "cell_type": "code",
      "metadata": {
        "id": "C2B1fHg3yQ6v"
      },
      "source": [
        ""
      ],
      "execution_count": null,
      "outputs": []
    },
    {
      "cell_type": "markdown",
      "metadata": {
        "id": "ByT6x8xRyaH1"
      },
      "source": [
        "##**Задача 4. Площадь треугольника**\n",
        "**Что нужно сделать**\n",
        "\n",
        "Напишите программу, которая запрашивает у пользователя длины двух катетов\n",
        "\n",
        "в прямоугольном треугольнике и выводит его площадь.\n",
        "\n",
        "![Без_названия_njEuopA.png](data:image/png;base64,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)\n",
        "\n",
        "**Советы и рекомендации**\n",
        "\n",
        "* Не стоит применять целочисленное деление, это не совсем корректно.\n",
        "* Обратите внимание на написание переменной S: её нужно писать s — со строчной.\n",
        "\n",
        "\n",
        "**Что оценивается**\n",
        "\n",
        "* корректность вычислений и применения правильных операций;\n",
        "* input содержит корректное приглашение для ввода;\n",
        "* пробелы после запятых, пробелы при бинарных операциях.\n"
      ]
    },
    {
      "cell_type": "code",
      "metadata": {
        "colab": {
          "base_uri": "https://localhost:8080/"
        },
        "id": "GqXCIrmGy1E5",
        "outputId": "59a04cb8-685c-4e07-d0eb-631155f623f3"
      },
      "source": [
        "a = int(input('Введите длину первого катета: '))\n",
        "b = int(input('Введите длину второго катета: '))\n",
        "s = a * b / 2\n",
        "print(s)"
      ],
      "execution_count": 5,
      "outputs": [
        {
          "output_type": "stream",
          "name": "stdout",
          "text": [
            "Введите длину первого катета: 2\n",
            "Введите длину второго катета: 2\n",
            "2.0\n"
          ]
        }
      ]
    },
    {
      "cell_type": "markdown",
      "metadata": {
        "id": "NO2p6PJD0gc8"
      },
      "source": [
        "##**Задача 5. Часы**\n",
        "**Что нужно сделать**\n",
        "\n",
        "Напишите программу, которая получает на вход число n (количество минут), затем считает, сколько это будет в часах и сколько минут останется, и выводит на экран эти два результата.\n",
        "\n",
        "**Что оценивается**\n",
        "\n",
        "* результат вычислений корректен;\n",
        "* input содержит корректное приглашение для ввода;\n",
        "* переменные имеют значащие названия;\n",
        "* пробелы после запятых, пробелы при бинарных операциях.\n",
        "\n",
        "\n"
      ]
    },
    {
      "cell_type": "code",
      "metadata": {
        "colab": {
          "base_uri": "https://localhost:8080/"
        },
        "id": "Bgt7rRMPzQ86",
        "outputId": "c3cd5364-494f-4caf-ecd0-4a9b9b817ff3"
      },
      "source": [
        "n = int(input('Введите количество минут: '))\n",
        "g = n // 60 \n",
        "g2 = n  % 60\n",
        "print('Количество часов: ', g)\n",
        "print('Количество минут: ', g2)"
      ],
      "execution_count": 18,
      "outputs": [
        {
          "output_type": "stream",
          "name": "stdout",
          "text": [
            "Введите количество минут: 160\n",
            "Количество часов:  2\n",
            "Количество минут:  40\n"
          ]
        }
      ]
    },
    {
      "cell_type": "markdown",
      "metadata": {
        "id": "L8_lBDSP2iq6"
      },
      "source": [
        "##**Задача 6. Проверяем бухгалтера**\n",
        "**Что нужно сделать**\n",
        "\n",
        "Невнимательный бухгалтер Антон складывает числа быстро, но иногда забывает о двух последних разрядах. Напишите программу, которая бы складывала только два последних разряда. \n",
        "\n",
        "Реализуйте программу, которая запрашивает два числа у пользователя. После этого у каждого числа возьмите две последние цифры. Получившиеся два числа сложите и выведите на экран. Пример:\n",
        "\n",
        "![Без_названия_d06ZEpk.png](data:image/png;base64,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)\n",
        "\n",
        "**Что оценивается**\n",
        "\n",
        "- результат вычислений корректен;\n",
        "- input содержит корректное приглашение для ввода;\n",
        "-  имеют значащие названия;\n",
        "- пробелы после запятых, пробелы при бинарных операциях."
      ]
    },
    {
      "cell_type": "code",
      "metadata": {
        "colab": {
          "base_uri": "https://localhost:8080/"
        },
        "id": "Ma7vhsBM0-b7",
        "outputId": "7bf550b4-e679-4d1f-9585-bef155719079"
      },
      "source": [
        "a1 = int(input(' Введите первое число: '))\n",
        "a2 = int(input(' Введите второе число: '))\n",
        "h = (a1 % 100) + (a2 % 100)\n",
        "print('Сумма: ', h)"
      ],
      "execution_count": 21,
      "outputs": [
        {
          "output_type": "stream",
          "name": "stdout",
          "text": [
            " Введите первое число: 111\n",
            " Введите второе число: 904\n",
            "Сумма:  15\n"
          ]
        }
      ]
    },
    {
      "cell_type": "markdown",
      "metadata": {
        "id": "_YJ2hh_O3ufI"
      },
      "source": [
        "##**Задача 7. Поездка по кругу**\n",
        "**Что нужно сделать**\n",
        "\n",
        "Вася решил потренироваться перед марафоном и покататься вокруг Москвы на скорость. Длина дороги — 115 километров. Вася стартует с нулевого километра и едет со скоростью v километров в час. На какой отметке он остановится через t часов?\n",
        "\n",
        "Реализуйте программу, которая спрашивает у пользователя v и t и выводит целое число от 0 до 114 — номер километра, на котором остановится Вася. Учтите, что он может прокатиться больше одного круга.\n",
        "\n",
        "**Что оценивается**\n",
        "\n",
        "- результат вычислений корректен;\n",
        "- input содержит корректное приглашение для ввода;\n",
        "- переменные имеют значащие названия (могут быть краткими);\n",
        "- пробелы после запятых, пробелы при бинарных операциях.\n"
      ]
    },
    {
      "cell_type": "code",
      "metadata": {
        "colab": {
          "base_uri": "https://localhost:8080/"
        },
        "id": "Vw64Amxw3HIl",
        "outputId": "d1d19878-fcd0-4bd3-811d-a7b1d2f818b0"
      },
      "source": [
        "v = int(input('Введите скорость: '))\n",
        "t = int(input('Введите время: '))\n",
        "k = v * t \n",
        "k2 = k // 115 \n",
        "m = 115 * k2 - k\n",
        "print('номер километра, на котором остановится Вася: ', m * (-1))"
      ],
      "execution_count": 36,
      "outputs": [
        {
          "output_type": "stream",
          "name": "stdout",
          "text": [
            "Введите скорость: 50\n",
            "Введите время: 4\n",
            "номер километра, на котором остановится Вася:  85\n"
          ]
        }
      ]
    },
    {
      "cell_type": "markdown",
      "metadata": {
        "id": "ypWgdD3KKn0_"
      },
      "source": [
        "## **Задача 8. «Режем» число на части**\n",
        "**Что нужно сделать**\n",
        "\n",
        "Реализуйте программу, которая получает на вход четырёхзначное число и выводит на экран каждую его цифру отдельно (в одну строчку либо каждую цифру в новой строчке). Само число при этом изменять нельзя, то есть нужно обойтись без переприсваивания. Однако можно использовать сколько угодно переменных.\n",
        "\n",
        "\n",
        "\n",
        "**Что оценивается**\n",
        "\n",
        "* результат вычислений корректен;\n",
        "* Input содержит корректное приглашение для ввода;\n",
        "* пробелы после запятых, пробелы при бинарных операциях.\n"
      ]
    },
    {
      "cell_type": "code",
      "metadata": {
        "colab": {
          "base_uri": "https://localhost:8080/"
        },
        "id": "kJERWncS4izy",
        "outputId": "603bcdd3-89a4-490a-8891-777dd277adc1"
      },
      "source": [
        "n = int(input('Введите четырёхзначное число: '))\n",
        "n1 = n // 1000\n",
        "n2 = n // 100 % 10\n",
        "n3 = n // 10 % 10\n",
        "n4 = n % 10\n",
        "print(n1)\n",
        "print(n2)\n",
        "print(n3)\n",
        "print(n4)"
      ],
      "execution_count": 7,
      "outputs": [
        {
          "output_type": "stream",
          "name": "stdout",
          "text": [
            "Введите четырёхзначное число: 4596\n",
            "4\n",
            "5\n",
            "9\n",
            "6\n"
          ]
        }
      ]
    },
    {
      "cell_type": "markdown",
      "metadata": {
        "id": "bzqoAebpMVf2"
      },
      "source": [
        "##**Задача 9. В обратном порядке**\n",
        "**Что нужно сделать**\n",
        "\n",
        "Реализуйте программу, которая получает на вход четырёхзначное число и выводит его на экран в обратном порядке. Само число при этом изменять нельзя, то есть нужно обойтись без переприсваивания. Однако можно использовать сколько угодно переменных. Пример ввода: 1234. Пример вывода: 4321.\n",
        "\n",
        "\n",
        "\n",
        "**Что оценивается**\n",
        "\n",
        "* результат вычислений корректен;\n",
        "* input содержит корректное приглашение для ввода;\n",
        "* пробелы после запятых, пробелы при бинарных операциях.\n"
      ]
    },
    {
      "cell_type": "code",
      "metadata": {
        "colab": {
          "base_uri": "https://localhost:8080/"
        },
        "id": "_-JMAouqLKu5",
        "outputId": "61f9b614-6387-4430-fe38-20ef6518520d"
      },
      "source": [
        "n = int(input('Введите четырёхзначное число: '))\n",
        "n1 = n // 1000\n",
        "n2 = n // 100 % 10\n",
        "n3 = n // 10 % 10\n",
        "n4 = n % 10\n",
        "print(int(str(n4) + str(n3) + str(n2) + str(n1)))"
      ],
      "execution_count": 11,
      "outputs": [
        {
          "output_type": "stream",
          "name": "stdout",
          "text": [
            "Введите четырёхзначное число: 1234\n",
            "4321\n"
          ]
        }
      ]
    },
    {
      "cell_type": "markdown",
      "metadata": {
        "id": "rcsZmS1GNq63"
      },
      "source": [
        "##**Задача 10. Поменять местами: не всё так просто! (необязательная, повышенной сложности)**\n",
        "**Что нужно сделать**\n",
        "\n",
        "Мы умеем менять местами строковые переменные и знаем, что в переменных, кроме строк, можно хранить и числа. Напишите программу, которая меняла бы значения двух переменных местами, но без использования третьей переменной и синтаксического сахара, который мы разбирали, а именно — без конструкции a,b = b,a. В переменные будут вводиться только числа.\n",
        "\n",
        "\n",
        "\n",
        "a = int(input('Введите первое число: '))\n",
        "\n",
        "b = int(input('Введите второе число: '))\n",
        "\n",
        "print(a, b)\n",
        "\n",
        "# стереть эту строчку и вставить свой код здесь\n",
        "\n",
        "print(a, b)\n",
        "\n",
        "\n",
        "\n",
        "Изменять, удалять, менять местами 1-ю, 2-ю, 3-ю и последнюю строчки нельзя.\n",
        "\n",
        "Но между 3-ей и 4-ой строкой можно вставлять сколько угодно строк кода, не трогая последний принт.\n",
        "\n",
        "**Что оценивается**\n",
        "\n",
        "* результат вычислений корректен;\n",
        "* не используются swap и третья переменная;\n",
        "* не изменён вывод;\n",
        "* input содержит корректное приглашение для ввода.\n",
        "\n",
        "\n",
        "**Что оценивается (общее)**\n",
        "\n",
        "- избегание пустых или неинформативных input (видео 2.3);\n",
        "- избегание неинформативных имён переменных;\n",
        "- пробелы после запятых, пробелы при бинарных операциях.\n",
        "\n",
        "\n",
        "**Советы и рекомендации**\n",
        "\n",
        "- Обратите внимание на приоритет арифметических операций PEP8.\n",
        "- Прочитайте материал о сложении чисел, на примере float + int, [описание __radd__ и __add__](https://docs.google.com/document/d/1JLCgboFl0r2vFwYGZF6xvsH2zjPBInLoGXgC0ZHGcCM/edit)\n",
        "- Если вам хочется начать постепенно вводить стиль (тем более об этом говорится в видео) и вы легко справляетесь с заданиями, можете потратить время на стиль.\n"
      ]
    },
    {
      "cell_type": "code",
      "metadata": {
        "colab": {
          "base_uri": "https://localhost:8080/"
        },
        "id": "UqcfMAPpNEdH",
        "outputId": "811b3bbb-4274-4e8e-b3d9-82e6ba4b303a"
      },
      "source": [
        "a = int(input('Введите первое число: '))\n",
        "b = int(input('Введите второе число: '))\n",
        "print(a, b)\n",
        "b+=a\n",
        "a=b-a\n",
        "b-=a\n",
        "print(a, b)"
      ],
      "execution_count": 35,
      "outputs": [
        {
          "output_type": "stream",
          "name": "stdout",
          "text": [
            "Введите первое число: 45\n",
            "Введите второе число: 54\n",
            "45 54\n",
            "54 45\n"
          ]
        }
      ]
    },
    {
      "cell_type": "code",
      "metadata": {
        "id": "ZDEUIyu_RrQg"
      },
      "source": [
        ""
      ],
      "execution_count": 35,
      "outputs": []
    },
    {
      "cell_type": "code",
      "metadata": {
        "id": "x3-rG7xUVbc2"
      },
      "source": [
        ""
      ],
      "execution_count": null,
      "outputs": []
    }
  ]
}