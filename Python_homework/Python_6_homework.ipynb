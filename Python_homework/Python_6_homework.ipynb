{
  "nbformat": 4,
  "nbformat_minor": 0,
  "metadata": {
    "colab": {
      "name": "Python_6_homework",
      "provenance": [],
      "authorship_tag": "ABX9TyOQS7WOWCmc+ci5fnrC6/H+",
      "include_colab_link": true
    },
    "kernelspec": {
      "name": "python3",
      "display_name": "Python 3"
    },
    "language_info": {
      "name": "python"
    }
  },
  "cells": [
    {
      "cell_type": "markdown",
      "metadata": {
        "id": "view-in-github",
        "colab_type": "text"
      },
      "source": [
        "<a href=\"https://colab.research.google.com/github/PasAlex8019/Python-for-Data-Science/blob/main/Python_6_homework.ipynb\" target=\"_parent\"><img src=\"https://colab.research.google.com/assets/colab-badge.svg\" alt=\"Open In Colab\"/></a>"
      ]
    },
    {
      "cell_type": "markdown",
      "metadata": {
        "id": "mtEhVa7ejznj"
      },
      "source": [
        "##**8.6 Домашняя работа**"
      ]
    },
    {
      "cell_type": "markdown",
      "metadata": {
        "id": "PKEwUeKej_l2"
      },
      "source": [
        "**Цель задания**\n",
        "\n",
        "Научиться работать с циклом For и счетчиками."
      ]
    },
    {
      "cell_type": "markdown",
      "metadata": {
        "id": "zFCVQyp_kGEp"
      },
      "source": [
        "**Задача 1. Тайны археологии**\n",
        "\n",
        "Ирина работает археологом и недавно приехала с интересных раскопок.Там нашли древнюю глиняную табличку, на которой еле-еле видны числа 114 12 14 10605 4907 450. Ирина предположила, что это такой шифр и хочет использовать программу, которую использовали для расшифровки целой книги из таких чисел.\n",
        "\n",
        "Напишите программу, которая проверяет каждое число и выводит к каждому соответствующее сообщение: \"Число подходит\" или \"Число не подходит\". Число подходит, если оно четное и не делится на 3."
      ]
    },
    {
      "cell_type": "code",
      "metadata": {
        "colab": {
          "base_uri": "https://localhost:8080/"
        },
        "id": "YS_R3fpwjjmj",
        "outputId": "6c303c71-8ca0-4526-ced7-86e8068e02e4"
      },
      "source": [
        "#number = 114,12,14,10605,4907,450\n",
        "number = map(int, input('Введите числа: ').split())\n",
        "\n",
        "for num in number:\n",
        "  if (num % 2 == 0) and (num / 3 != 0):\n",
        "    print('Число подходит')\n",
        "  else:\n",
        "    print('Число не подходит')"
      ],
      "execution_count": null,
      "outputs": [
        {
          "output_type": "stream",
          "name": "stdout",
          "text": [
            "Введите числа: 114 12 14 10605 4907 450\n",
            "Число подходит\n",
            "Число подходит\n",
            "Число подходит\n",
            "Число не подходит\n",
            "Число не подходит\n",
            "Число подходит\n"
          ]
        }
      ]
    },
    {
      "cell_type": "markdown",
      "metadata": {
        "id": "6ODKVWxpmlU8"
      },
      "source": [
        "**Задача 2. Должники**\n",
        "\n",
        "Должники и законопослушные граждане хранятся в одной базе банка. Из этой базы нам выделяются по 10 человек, у каждого из которых есть свой номер. Правда, иногда база глючит и выдаёт нам отрицательный номер. А ещё по статистике, которую собрал наш МирПрогБанк, каждый второй, кто в этом году брал кредит, не выплатил его вовремя.\n",
        "\n",
        "Пользователь вводит 10 чисел. Напишите программу, которая определяет, сколько из них являются одновременно четными и положительными."
      ]
    },
    {
      "cell_type": "code",
      "metadata": {
        "colab": {
          "base_uri": "https://localhost:8080/"
        },
        "id": "LtbGt5f0lC3y",
        "outputId": "07afe464-79ce-4a60-ed42-542cb023d8bd"
      },
      "source": [
        "number = map(int, input('Введите 10 чисел через пробел: ').split())\n",
        "count_number = 0\n",
        "\n",
        "for num in number:\n",
        "  if (num % 2 == 0) and (num > 0):\n",
        "    count_number += 1\n",
        "print(f'Количество одновременно четных и положительных чисел = {count_number}')"
      ],
      "execution_count": null,
      "outputs": [
        {
          "output_type": "stream",
          "name": "stdout",
          "text": [
            "Введите 10 чисел через пробел: 2 8 -12 34 102 37 -1 15 21 106\n",
            "Количество одновременно четных и положительных чисел = 5\n"
          ]
        }
      ]
    },
    {
      "cell_type": "markdown",
      "metadata": {
        "id": "DkeUcpudq1It"
      },
      "source": [
        "**Задача 3. Посчитай чужую зарплату...**\n",
        "\n",
        "Бухгалтер устала постоянно считать вручную среднегодовую зарплату сотрудников компании и, чтобы облегчить себе жизнь, обратилась к программисту.\n",
        "\n",
        "Напишите программу, которая принимает от пользователя зарплату сотрудника за каждый из 12 месяцев и выводит на экран среднюю зарплату за год."
      ]
    },
    {
      "cell_type": "code",
      "metadata": {
        "colab": {
          "base_uri": "https://localhost:8080/"
        },
        "id": "XpmSx3T-q-4m",
        "outputId": "db7b142c-286c-4c15-d398-76679f289f04"
      },
      "source": [
        "number = map(int, input('Введите зарплату сотрудника за каждый из 12 месяцев через \",\": ').split(','))\n",
        "count_number = 0\n",
        "# сотрудника за каждый из 12 месяцев 2000,3000,4000,2000,3000,4000,2000,3000,4000,2000,3000,4000\n",
        "for num in number:\n",
        "    count_number += num\n",
        "print(f'Средняя зарплата за год = {count_number / 12}')"
      ],
      "execution_count": null,
      "outputs": [
        {
          "output_type": "stream",
          "name": "stdout",
          "text": [
            "Введите зарплату сотрудника за каждый из 12 месяцев через \",\": 2000,3000,4000,2000,3000,4000,2000,3000,4000,2000,3000,4000\n",
            "Средняя зарплата за год = 3000.0\n"
          ]
        }
      ]
    },
    {
      "cell_type": "code",
      "metadata": {
        "colab": {
          "base_uri": "https://localhost:8080/"
        },
        "id": "8cv9Xmrhslr6",
        "outputId": "32dd53fe-f89a-438c-b1d4-ad1b62bc60b9"
      },
      "source": [
        "month = 0\n",
        "salary = 0\n",
        "\n",
        "while month != 12:\n",
        "  number = int(input('Введите зарплату сотрудника: '))\n",
        "  month += 1\n",
        "  salary += number\n",
        "print('Средняя зарплата за год =', salary / month)"
      ],
      "execution_count": null,
      "outputs": [
        {
          "output_type": "stream",
          "name": "stdout",
          "text": [
            "Введите зарплату сотрудника: 2000\n",
            "Введите зарплату сотрудника: 3000\n",
            "Введите зарплату сотрудника: 4000\n",
            "Введите зарплату сотрудника: 2000\n",
            "Введите зарплату сотрудника: 3000\n",
            "Введите зарплату сотрудника: 4000\n",
            "Введите зарплату сотрудника: 2000\n",
            "Введите зарплату сотрудника: 3000\n",
            "Введите зарплату сотрудника: 4000\n",
            "Введите зарплату сотрудника: 2000\n",
            "Введите зарплату сотрудника: 3000\n",
            "Введите зарплату сотрудника: 4000\n",
            "Средняя зарплата за год = 3000.0\n"
          ]
        }
      ]
    },
    {
      "cell_type": "markdown",
      "metadata": {
        "id": "nzGx2Y0tt3j8"
      },
      "source": [
        "**Задача 4. С заботой о природе**\n",
        "\n",
        "Огромный заповедник поделён на большое количество секторов. И у каждого сектора есть номер. Мы ответственны за группу секторов с номерами с 30-го по 35-ый и нам нужно следить за тем, чтобы посетителей в каждом секторе было меньше 10. А заодно и фиксировать для общей статистики, сколько раз это правило было нарушено.\n",
        "\n",
        "Напишите программу, которая для каждого сектора запрашивает текущее количество людей в нём, и если оно больше 10, то фиксирует нарушение. В конце выведите количество нарушений\n",
        "\n",
        "Пример:\n",
        "\n",
        "Людей в 30 секторе: 7\n",
        "\n",
        "Всё спокойно.\n",
        "\n",
        "Людей в 31 секторе: 11\n",
        "\n",
        "Нарушение! Слишком много людей в секторе!\n",
        "\n",
        "Людей в 32 секторе: 100\n",
        "\n",
        "Нарушение! Слишком много людей в секторе!\n",
        "\n",
        "Людей в 33 секторе: 10\n",
        "\n",
        "Всё спокойно.\n",
        "\n",
        "Людей в 34 секторе: 0\n",
        "\n",
        "Всё спокойно.\n",
        "\n",
        "Людей в 35 секторе: 1\n",
        "\n",
        "Всё спокойно.\n",
        "\n",
        "Количество нарушений: 2"
      ]
    },
    {
      "cell_type": "code",
      "metadata": {
        "colab": {
          "base_uri": "https://localhost:8080/"
        },
        "id": "Re3jIcLHuFkV",
        "outputId": "f601d18d-b2b2-484f-bb23-f4e6e0e002f6"
      },
      "source": [
        "violation = 0\n",
        "\n",
        "for human in range(30, 36):\n",
        "  count_human = int(input(f'Людей в {human} секторе: '))\n",
        "  if count_human > 10:\n",
        "    print('Нарушение! Слишком много людей в секторе!')\n",
        "    violation += 1\n",
        "  else:\n",
        "    print('Всё спокойно.')\n",
        "print('Количество нарушений:  ', violation)\n"
      ],
      "execution_count": null,
      "outputs": [
        {
          "output_type": "stream",
          "name": "stdout",
          "text": [
            "Людей в 30 секторе: 7\n",
            "Всё спокойно.\n",
            "Людей в 31 секторе: 11\n",
            "Нарушение! Слишком много людей в секторе!\n",
            "Людей в 32 секторе: 100\n",
            "Нарушение! Слишком много людей в секторе!\n",
            "Людей в 33 секторе: 10\n",
            "Всё спокойно.\n",
            "Людей в 34 секторе: 0\n",
            "Всё спокойно.\n",
            "Людей в 35 секторе: 1\n",
            "Всё спокойно.\n",
            "Количество нарушений:   2\n"
          ]
        }
      ]
    },
    {
      "cell_type": "markdown",
      "metadata": {
        "id": "1Zy3mojHOAEX"
      },
      "source": [
        "**Задача 5. Факториал** \n",
        "\n",
        "Мы всё ближе и ближе подбираемся к серьёзной математике. Одна из классических задач - задача на нахождение факториала числа. И в будущем мы с ней ещё встретимся.\n",
        "\n",
        "Дано натуральное число N. Напишите программу, которая находит N! (N факториал)\n",
        "\n",
        "Запись N! означает следующее:\n",
        "\n",
        "N! = 1 * 2 * 3 * 4 * 5 * … * N\n",
        "\n",
        "Пример:\n",
        "\n",
        "Введите число: 5\n",
        "Факториал числа 5 равен 120"
      ]
    },
    {
      "cell_type": "markdown",
      "metadata": {
        "id": "54Ul5Ad4YKlQ"
      },
      "source": [
        "###Через цикл for"
      ]
    },
    {
      "cell_type": "code",
      "metadata": {
        "colab": {
          "base_uri": "https://localhost:8080/"
        },
        "id": "jDnP7Ue9OEE3",
        "outputId": "07162b5a-d0a6-4584-d205-0606f1c862f3"
      },
      "source": [
        "number = int(input('Введите число: '))\n",
        "factorial = 1\n",
        "\n",
        "for num in range(2, number + 1):\n",
        "  factorial *= num\n",
        "print(f'Факториал числа {number} равен {factorial}')"
      ],
      "execution_count": null,
      "outputs": [
        {
          "output_type": "stream",
          "name": "stdout",
          "text": [
            "Введите число: 5\n",
            "Факториал числа 5 равен 120\n"
          ]
        }
      ]
    },
    {
      "cell_type": "markdown",
      "metadata": {
        "id": "Bi8OYDmpYFSK"
      },
      "source": [
        "###Через цикл while"
      ]
    },
    {
      "cell_type": "code",
      "metadata": {
        "colab": {
          "base_uri": "https://localhost:8080/"
        },
        "id": "nHFGeYZHYDok",
        "outputId": "2b634fe7-f55f-4952-e004-07085f86c3c4"
      },
      "source": [
        "number = int(input('Введите число: '))\n",
        " \n",
        "factorial = 1\n",
        "while number > 1:\n",
        "    factorial *= number\n",
        "    number -= 1\n",
        " \n",
        "print(f'Факториал числа равен {factorial}')"
      ],
      "execution_count": null,
      "outputs": [
        {
          "output_type": "stream",
          "name": "stdout",
          "text": [
            "Введите число: 5\n",
            "Факториал числа равен 120\n"
          ]
        }
      ]
    },
    {
      "cell_type": "markdown",
      "metadata": {
        "id": "vUIqH5UmB9CG"
      },
      "source": [
        "**Задача 6. Успеваемость в классе**\n",
        "\n",
        "**Что нужно сделать**\n",
        "\n",
        "В классе N человек. Каждый из них получил за урок по информатике оценку: 3, 4 или 5, двоек сегодня не было. Напишите программу, которая получает список оценок — N чисел — и выводит на экран сообщение о том, кого сегодня больше: отличников, хорошистов или троечников.\n",
        "\n",
        "Замечание: можно предположить, что количество отличников, хорошистов, троечников различно."
      ]
    },
    {
      "cell_type": "code",
      "metadata": {
        "id": "3pOAi-CdaoEX",
        "colab": {
          "base_uri": "https://localhost:8080/"
        },
        "outputId": "b79f7a45-1d3a-4e7a-d241-9a51c3819892"
      },
      "source": [
        "#number_of_people = int(input('Введите количество человек: '))\n",
        "estimation = map(int,input('Введите оценки через запятую: ').split(','))\n",
        "estimation_3_count = 0\n",
        "\n",
        "estimation_4_count = 0\n",
        "\n",
        "estimation_5_count = 0\n",
        "\n",
        "for number in estimation:\n",
        "  if number == 3:\n",
        "    estimation_3_count += 1\n",
        "  elif number == 4:\n",
        "    estimation_4_count += 1\n",
        "  else:\n",
        "    estimation_5_count += 1\n",
        "\n",
        "if estimation_4_count < estimation_3_count > estimation_5_count:\n",
        "  print(f'Сегодня больше:троечников. {estimation_3_count}')\n",
        "elif estimation_3_count < estimation_4_count > estimation_5_count:\n",
        "  print(f'Сегодня больше:хорошистов. {estimation_4_count}')  \n",
        "else:\n",
        "  print(f'Сегодня больше:отличников. {estimation_5_count}')"
      ],
      "execution_count": 3,
      "outputs": [
        {
          "output_type": "stream",
          "name": "stdout",
          "text": [
            "Введите оценки через запятую: 3,4,5,3,3,4,5\n",
            "Сегодня больше:троечников. 3\n"
          ]
        }
      ]
    },
    {
      "cell_type": "markdown",
      "metadata": {
        "id": "vyoYGESmIDQT"
      },
      "source": [
        "**Задача 7. Отрезок**\n",
        "\n",
        "**Что нужно сделать**\n",
        "\n",
        "Напишите программу, которая считывает с клавиатуры два числа a и b, считает и выводит на консоль среднее арифметическое всех чисел из отрезка [a; b], кратных числу 3."
      ]
    },
    {
      "cell_type": "code",
      "metadata": {
        "colab": {
          "base_uri": "https://localhost:8080/"
        },
        "id": "FWh5RdE4HC7s",
        "outputId": "b51ee09d-020f-4319-b704-46d426f8b966"
      },
      "source": [
        "a = int(input('Введите первое число: '))\n",
        "b = int(input('Введите второе число: '))\n",
        "summ = 0\n",
        "count = 0\n",
        "\n",
        "for number in range(a, b + 1):\n",
        "  if number % 3 == 0:\n",
        "    summ += number\n",
        "    count += 1\n",
        "print('среднее арифметическое всех чисел из отрезка [a; b], кратных числу 3 = ', summ / count)\n"
      ],
      "execution_count": 4,
      "outputs": [
        {
          "output_type": "stream",
          "name": "stdout",
          "text": [
            "Введите первое число: 2\n",
            "Введите второе число: 13\n",
            "среднее арифметическое всех чисел из отрезка [a; b], кратных числу 3 =  7.5\n"
          ]
        }
      ]
    },
    {
      "cell_type": "markdown",
      "metadata": {
        "id": "xYIkrzADJlCr"
      },
      "source": [
        "**Задача 8. Замечательные числа**\n",
        "\n",
        "**Что нужно сделать**\n",
        "\n",
        "Напишите программу, которая находит и выводит все двузначные числа, которые равны утроенному произведению своих цифр. К таким относятся, например, 15 и 24."
      ]
    },
    {
      "cell_type": "code",
      "metadata": {
        "colab": {
          "base_uri": "https://localhost:8080/"
        },
        "id": "H8N4_iFEJpjy",
        "outputId": "5e9b0608-e6d4-4399-d871-3733155dcd3d"
      },
      "source": [
        "for number in range(10, 100):\n",
        "  if number == (number // 10 * number % 10) * 3:\n",
        "    print('К таким относятся: ', number)"
      ],
      "execution_count": 8,
      "outputs": [
        {
          "output_type": "stream",
          "name": "stdout",
          "text": [
            "К таким относятся:  15\n",
            "К таким относятся:  24\n"
          ]
        }
      ]
    },
    {
      "cell_type": "markdown",
      "metadata": {
        "id": "cjnNvdjPLyNQ"
      },
      "source": [
        "**Задача 9. ...Теперь можно посчитать и свою**\n",
        "\n",
        "**Что нужно сделать**\n",
        "\n",
        "Пока бухгалтер считала среднюю зарплату сотрудников, ей стало интересно, а не зря ли она работает столько времени на одном месте? Ей захотелось узнать, увеличивается ли её зарплата с каждым месяцем или нет.\n",
        "\n",
        "Пользователь вводит десять чисел. Напишите программу, которая проверяет, упорядочены ли они по возрастанию."
      ]
    },
    {
      "cell_type": "code",
      "metadata": {
        "colab": {
          "base_uri": "https://localhost:8080/"
        },
        "id": "WfThZcVTLJlQ",
        "outputId": "287a4544-ac6c-4dc9-a543-c227510f8c67"
      },
      "source": [
        "salary = map(int,input('Введите 10 чисел через запятую: ').split(','))\n",
        "salary_count = 0\n",
        "\n",
        "for number in salary:\n",
        "  if salary_count <= number:\n",
        "    pass \n",
        "  else:\n",
        "    print('Не упорядочены по возрастанию')\n",
        "    break\n",
        "  salary_count = number\n",
        "print('Упорядочены по возрастанию')"
      ],
      "execution_count": 40,
      "outputs": [
        {
          "output_type": "stream",
          "name": "stdout",
          "text": [
            "Введите 10 чисел через запятую: 10,20,30,40,50,60,70,80,90,100\n",
            "Упорядочены по возрастанию\n"
          ]
        }
      ]
    },
    {
      "cell_type": "code",
      "metadata": {
        "colab": {
          "base_uri": "https://localhost:8080/"
        },
        "id": "0oy7d2iILPNm",
        "outputId": "f2c1d43b-c902-46d1-9497-257de006134d"
      },
      "source": [
        "salary_begin = 0\n",
        "\n",
        "for number in range(10):\n",
        "  salary = int(input('Введите число: '))\n",
        "  \n",
        "  if salary > salary_begin:\n",
        "    continue\n",
        "  elif salary == salary_begin:\n",
        "    continue\n",
        "  else:\n",
        "    print('Не упорядочены по возрастанию')\n",
        "    break\n",
        "  salary_begin = salary\n",
        "\n",
        "print('Упорядочены по возрастанию')"
      ],
      "execution_count": 38,
      "outputs": [
        {
          "output_type": "stream",
          "name": "stdout",
          "text": [
            "Введите число: 10\n",
            "Введите число: 20\n",
            "Введите число: 30\n",
            "Введите число: 40\n",
            "Введите число: 50\n",
            "Введите число: 60\n",
            "Введите число: 70\n",
            "Введите число: 80\n",
            "Введите число: 90\n",
            "Введите число: 100\n",
            "Упорядочены по возрастанию\n"
          ]
        }
      ]
    },
    {
      "cell_type": "markdown",
      "metadata": {
        "id": "4Sm03JTBf_PQ"
      },
      "source": [
        "**Задача 10. Пропавшая карточка**\n",
        "\n",
        "**Что нужно сделать**\n",
        "\n",
        "Для настольной игры используются карточки с номерами от 1 до N. Одна карточка потерялась. Напишите программу, которая поможет найти потерянную карточку, если номера оставшихся известны. Найдите её, зная номера оставшихся карточек.\n",
        "\n",
        "Введите число карточек — N.\n",
        "\n",
        "Затем последовательно введите N – 1 номера оставшихся карточек."
      ]
    },
    {
      "cell_type": "code",
      "metadata": {
        "colab": {
          "base_uri": "https://localhost:8080/"
        },
        "id": "dH2JxtL4gDw4",
        "outputId": "eb99d038-7dac-4ac5-a0cf-87d8f2dd3e2b"
      },
      "source": [
        "N = int(input('Введите число карточек — N: '))\n",
        "\n",
        "count_i = 1\n",
        "count_t = 0\n",
        "\n",
        "for i in range(2, N + 1):\n",
        "  count_i += i\n",
        "  J = int(input('Введите номера карточек: '))\n",
        "  count_t += J\n",
        "\n",
        "\n",
        "print('Недостающая карточка: ', count_i - count_t)    \n",
        "\n"
      ],
      "execution_count": 82,
      "outputs": [
        {
          "output_type": "stream",
          "name": "stdout",
          "text": [
            "Введите число карточек — N: 10\n",
            "Введите номера карточек: 8\n",
            "Введите номера карточек: 6\n",
            "Введите номера карточек: 1\n",
            "Введите номера карточек: 2\n",
            "Введите номера карточек: 3\n",
            "Введите номера карточек: 10\n",
            "Введите номера карточек: 9\n",
            "Введите номера карточек: 4\n",
            "Введите номера карточек: 7\n",
            "Недостающая карточка:  5\n"
          ]
        }
      ]
    }
  ]
}