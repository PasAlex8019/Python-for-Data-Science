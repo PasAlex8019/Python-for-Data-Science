{
  "nbformat": 4,
  "nbformat_minor": 0,
  "metadata": {
    "colab": {
      "name": "Python 1.Homework",
      "provenance": [],
      "authorship_tag": "ABX9TyPkxaeg1eXnewTpa6qrXc0M",
      "include_colab_link": true
    },
    "kernelspec": {
      "name": "python3",
      "display_name": "Python 3"
    },
    "language_info": {
      "name": "python"
    }
  },
  "cells": [
    {
      "cell_type": "markdown",
      "metadata": {
        "id": "view-in-github",
        "colab_type": "text"
      },
      "source": [
        "<a href=\"https://colab.research.google.com/github/PasAlex8019/Python-for-Data-Science/blob/main/Python_1_Homework.ipynb\" target=\"_parent\"><img src=\"https://colab.research.google.com/assets/colab-badge.svg\" alt=\"Open In Colab\"/></a>"
      ]
    },
    {
      "cell_type": "markdown",
      "metadata": {
        "id": "5iDk8tGnoD_p"
      },
      "source": [
        "## Задача 1. «Доска»\n",
        "### Что нужно сделать \n",
        "\n",
        "Исправьте программу так, чтобы в результате её выполнения на экран вывелась «доска».\n",
        "\n",
        "\n",
        "\n",
        "print('-'---------')\n",
        "\n",
        "print('  |00000000| ')\n",
        "\n",
        "print('''|00000000|'')\n",
        "\n",
        "print('  |00000000| ')\n",
        "\n",
        "print('|00000000|   ')\n",
        "\n",
        "print('-'---------\")\n",
        "\n"
      ]
    },
    {
      "cell_type": "code",
      "metadata": {
        "colab": {
          "base_uri": "https://localhost:8080/"
        },
        "id": "gFa4XLLSoG-j",
        "outputId": "2ba269cd-3a0b-482b-b44d-04ef9c4cc311"
      },
      "source": [
        "print(' ----------')\n",
        "\n",
        "print(' |00000000| ')\n",
        "\n",
        "print(' |00000000| ')\n",
        "\n",
        "print(' |00000000| ')\n",
        "\n",
        "print(' |00000000| ')\n",
        "\n",
        "print(' ----------')"
      ],
      "execution_count": 2,
      "outputs": [
        {
          "output_type": "stream",
          "name": "stdout",
          "text": [
            " ----------\n",
            " |00000000| \n",
            " |00000000| \n",
            " |00000000| \n",
            " |00000000| \n",
            " ----------\n"
          ]
        }
      ]
    },
    {
      "cell_type": "markdown",
      "metadata": {
        "id": "NDqLYU1YofWN"
      },
      "source": [
        "## Задача 2. Приветствие\n",
        "### Что нужно сделать\n",
        "\n",
        "Напишите программу, которая выводит такое «окно» на экран. Размер окна может быть любым, вместо слова «друг» можете написать своё имя. Постарайтесь добиться результата из третьего варианта.\n",
        "\n",
        "\n",
        "\n",
        "Вариант 1:\n",
        "\n",
        "\n",
        "\n",
        "![Без_названия_7CvKgQD.png](data:image/png;base64,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)\n",
        "\n",
        "\n",
        "\n",
        "Вариант 2:\n",
        "\n",
        "![Без_названия_jD7H0OY.png](data:image/png;base64,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)\n",
        "\n",
        "\n",
        "\n",
        "\n",
        "Вариант 3:\n",
        "\n",
        "![Без_названия_KNyDn8k.png](data:image/png;base64,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)"
      ]
    },
    {
      "cell_type": "code",
      "metadata": {
        "colab": {
          "base_uri": "https://localhost:8080/"
        },
        "id": "Gko1CaJ3qPYw",
        "outputId": "c0f2507a-a3a3-46ae-8d89-28bb0c952dd9"
      },
      "source": [
        "print('==============================')\n",
        "print('Привет')\n",
        "print('друг!')\n",
        "print('==============================')"
      ],
      "execution_count": 4,
      "outputs": [
        {
          "output_type": "stream",
          "name": "stdout",
          "text": [
            "==============================\n",
            "Привет\n",
            "друг!\n",
            "==============================\n"
          ]
        }
      ]
    },
    {
      "cell_type": "code",
      "metadata": {
        "colab": {
          "base_uri": "https://localhost:8080/"
        },
        "id": "ldbxX64Pq2NZ",
        "outputId": "dc1f346f-159a-4c3a-a1f4-c96166f0dc7f"
      },
      "source": [
        "print('==============================')\n",
        "print('||        Привет            ||')\n",
        "print('||        друг!             ||')\n",
        "print('==============================')"
      ],
      "execution_count": 6,
      "outputs": [
        {
          "output_type": "stream",
          "name": "stdout",
          "text": [
            "==============================\n",
            "||        Привет            ||\n",
            "||        друг!             ||\n",
            "==============================\n"
          ]
        }
      ]
    },
    {
      "cell_type": "code",
      "metadata": {
        "colab": {
          "base_uri": "https://localhost:8080/"
        },
        "id": "AaMGik8srY2t",
        "outputId": "27fe1ec8-ddca-4cd0-e46b-e721b7706c34"
      },
      "source": [
        "print('==============================')\n",
        "print('||                          ||')\n",
        "print('||                          ||')\n",
        "print('||        Привет            ||')\n",
        "print('||        друг!             ||')\n",
        "print('||                          ||')\n",
        "print('||                          ||')\n",
        "print('==============================')"
      ],
      "execution_count": 7,
      "outputs": [
        {
          "output_type": "stream",
          "name": "stdout",
          "text": [
            "==============================\n",
            "||                          ||\n",
            "||                          ||\n",
            "||        Привет            ||\n",
            "||        друг!             ||\n",
            "||                          ||\n",
            "||                          ||\n",
            "==============================\n"
          ]
        }
      ]
    }
  ]
}