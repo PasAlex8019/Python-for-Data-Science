{
  "nbformat": 4,
  "nbformat_minor": 0,
  "metadata": {
    "colab": {
      "name": "Python_7_9.2 Алгоритмические задачи со счётными циклами",
      "provenance": [],
      "collapsed_sections": [],
      "authorship_tag": "ABX9TyMMyntF31vAh5i4Uf9MDDLW",
      "include_colab_link": true
    },
    "kernelspec": {
      "name": "python3",
      "display_name": "Python 3"
    },
    "language_info": {
      "name": "python"
    }
  },
  "cells": [
    {
      "cell_type": "markdown",
      "metadata": {
        "id": "view-in-github",
        "colab_type": "text"
      },
      "source": [
        "<a href=\"https://colab.research.google.com/github/PasAlex8019/Python-for-Data-Science/blob/main/Python_7_9_2_%D0%90%D0%BB%D0%B3%D0%BE%D1%80%D0%B8%D1%82%D0%BC%D0%B8%D1%87%D0%B5%D1%81%D0%BA%D0%B8%D0%B5_%D0%B7%D0%B0%D0%B4%D0%B0%D1%87%D0%B8_%D1%81%D0%BE_%D1%81%D1%87%D1%91%D1%82%D0%BD%D1%8B%D0%BC%D0%B8_%D1%86%D0%B8%D0%BA%D0%BB%D0%B0%D0%BC%D0%B8.ipynb\" target=\"_parent\"><img src=\"https://colab.research.google.com/assets/colab-badge.svg\" alt=\"Open In Colab\"/></a>"
      ]
    },
    {
      "cell_type": "markdown",
      "metadata": {
        "id": "ukEkkjABQejM"
      },
      "source": [
        "### Необходима таблица кубов только четных чисел"
      ]
    },
    {
      "cell_type": "code",
      "metadata": {
        "colab": {
          "base_uri": "https://localhost:8080/"
        },
        "id": "d2TVjMztocX_",
        "outputId": "5d8fa7cf-6671-4946-a340-d0494b5d1719"
      },
      "source": [
        "number = int(input('Введите число: '))\n",
        "\n",
        "for num in range(1, number // 2 +1):\n",
        "  num *= 2\n",
        "  print('Куб числа - ', num, '=', num ** 3)"
      ],
      "execution_count": 6,
      "outputs": [
        {
          "output_type": "stream",
          "name": "stdout",
          "text": [
            "Введите число: 10\n",
            "Куб числа -  2 = 8\n",
            "Куб числа -  4 = 64\n",
            "Куб числа -  6 = 216\n",
            "Куб числа -  8 = 512\n",
            "Куб числа -  10 = 1000\n"
          ]
        }
      ]
    },
    {
      "cell_type": "markdown",
      "metadata": {
        "id": "-6U24mNuoq8U"
      },
      "source": [
        "### Оптимизация кода через шаг в функции range\n"
      ]
    },
    {
      "cell_type": "code",
      "metadata": {
        "id": "zB4uc-O_EDWQ",
        "colab": {
          "base_uri": "https://localhost:8080/"
        },
        "outputId": "5c295570-f3d1-4751-e4db-cdb80a98c0a1"
      },
      "source": [
        "number = int(input('Введите число: '))\n",
        "\n",
        "for num in range(2, number +1, 2):\n",
        "  print('Куб числа - ', num, '=', num ** 3)"
      ],
      "execution_count": 5,
      "outputs": [
        {
          "output_type": "stream",
          "name": "stdout",
          "text": [
            "Введите число: 10\n",
            "Куб числа -  2 = 8\n",
            "Куб числа -  4 = 64\n",
            "Куб числа -  6 = 216\n",
            "Куб числа -  8 = 512\n",
            "Куб числа -  10 = 1000\n"
          ]
        }
      ]
    },
    {
      "cell_type": "markdown",
      "metadata": {
        "id": "78xqUQp6qEHr"
      },
      "source": [
        "### Задача 'Деление клетки'\n",
        "по условию клетка делится каждые три часа ."
      ]
    },
    {
      "cell_type": "code",
      "metadata": {
        "colab": {
          "base_uri": "https://localhost:8080/"
        },
        "id": "9OK2pF5vnPPa",
        "outputId": "cfd0a9a0-f316-4a7f-c1b9-b53eac385f06"
      },
      "source": [
        "total_hours = int(input('Введите количество часов: '))\n",
        "cells = 1\n",
        "\n",
        "for hour in range(1, total_hours // 3 + 1):\n",
        "  cells *= 2\n",
        "  print(f'Прошло {hour * 3} часов')\n",
        "  print(f'Количество клеток {cells}')\n",
        "  print(f'Осталось часов, {total_hours - hour * 3}')\n",
        "  print()\n",
        "print('Наблюдение завершенно.')"
      ],
      "execution_count": 45,
      "outputs": [
        {
          "output_type": "stream",
          "name": "stdout",
          "text": [
            "Введите количество часов: 9\n",
            "Прошло 3 часов\n",
            "Количество клеток 2\n",
            "Осталось часов, 6\n",
            "\n",
            "Прошло 6 часов\n",
            "Количество клеток 4\n",
            "Осталось часов, 3\n",
            "\n",
            "Прошло 9 часов\n",
            "Количество клеток 8\n",
            "Осталось часов, 0\n",
            "\n",
            "Наблюдение завершенно.\n"
          ]
        }
      ]
    },
    {
      "cell_type": "markdown",
      "metadata": {
        "id": "YUOmZaJOs2sF"
      },
      "source": [
        "##**Практика**\n",
        "\n",
        "**Задача 1. Таблица кубов**\n",
        "\n",
        "Паше для проекта по математике нужна таблица кубов (третья степень числа) только чётных чисел от 1 до N. Напишите программу, которая выведет ему эту таблицу на экран. Не используйте условные операторы, выведите формулу, как мы сделали это в уроке."
      ]
    },
    {
      "cell_type": "code",
      "metadata": {
        "colab": {
          "base_uri": "https://localhost:8080/"
        },
        "id": "VMQI4YrkrQM1",
        "outputId": "0832a5e2-2b27-455d-f38c-f022cbf6d43d"
      },
      "source": [
        "number = int(input('Введите число: '))\n",
        "\n",
        "for num in range(1, number + 1):\n",
        "  print(f'Куб числа {num} ** 3 = {num ** 3}')"
      ],
      "execution_count": 15,
      "outputs": [
        {
          "output_type": "stream",
          "name": "stdout",
          "text": [
            "Введите число: 5\n",
            "Куб числа 1 ** 3 = 1\n",
            "Куб числа 2 ** 3 = 8\n",
            "Куб числа 3 ** 3 = 27\n",
            "Куб числа 4 ** 3 = 64\n",
            "Куб числа 5 ** 3 = 125\n"
          ]
        }
      ]
    },
    {
      "cell_type": "markdown",
      "metadata": {
        "id": "6nQFpBFNt8yD"
      },
      "source": [
        "**Задача 2. Деление клетки**\n",
        "\n",
        "Реализуйте программу, разобранную в уроке.\n",
        "\n",
        "В одной лаборатории наблюдают за одноклеточной амёбой. Мы знаем, что каждые три часа она делится на 2 клетки. Нам нужно для этой лаборатории написать программу, которая будет выводить сколько прошло часов и сколько получилось клеток. Также нас попросили писать на каждом этапе деления сколько осталось часов до завершения наблюдения, чтобы ученым было проще формулировать выводы на определённом этапе наблюдения.\n",
        "\n",
        "Пример сообщений:\n",
        "\n",
        "Прошло часов: 3.\n",
        "Клеток: 2.\n",
        "Часов до конца эксперимента: 12\n",
        "Прошло часов: 6..."
      ]
    },
    {
      "cell_type": "code",
      "metadata": {
        "colab": {
          "base_uri": "https://localhost:8080/"
        },
        "id": "CDuAQKH_tmNh",
        "outputId": "781b9521-fa37-4eab-acfc-42ea8c563a98"
      },
      "source": [
        "hours = int(input('Введите количество часов: '))\n",
        "cells = 1\n",
        "print()\n",
        "\n",
        "for hour in range(3, hours +1, 3):\n",
        "  cells *= 2\n",
        "  print(f'Прошло часов: {hour}. Клеток: {cells}. Часов до конца эксперимента: {hours - hour}')"
      ],
      "execution_count": 23,
      "outputs": [
        {
          "output_type": "stream",
          "name": "stdout",
          "text": [
            "Введите количество часов: 9\n",
            "\n",
            "Прошло часов: 3. Клеток: 2. Часов до конца эксперимента: 6\n",
            "Прошло часов: 6. Клеток: 4. Часов до конца эксперимента: 3\n",
            "Прошло часов: 9. Клеток: 8. Часов до конца эксперимента: 0\n"
          ]
        }
      ]
    },
    {
      "cell_type": "markdown",
      "metadata": {
        "id": "KY5DrafLwf9i"
      },
      "source": [
        "**Задача 3. Квадраты нечётных чисел**\n",
        "\n",
        "Вводится число N. Напишите программу, которая выводит квадраты нечетных чисел от 1 до N. Нельзя использовать условные операторы. Можно использовать цикл while, но постарайтесь всё-таки решить с помощью конструкции for in range. Не нужно искать решение в интернете, попробуйте подумать сами, в следующем уроке мы обязательно разберём эту задачу."
      ]
    },
    {
      "cell_type": "code",
      "metadata": {
        "colab": {
          "base_uri": "https://localhost:8080/"
        },
        "id": "cibfrWwzxssg",
        "outputId": "41c8bea2-a924-4580-ea46-987cd08d19d6"
      },
      "source": [
        "number = int(input('Введите число N: '))\n",
        "print()\n",
        "\n",
        "for num in range(1, number // 2 + 1):\n",
        "  num *= 2\n",
        "  #print(num - 1)\n",
        "  print(f'Квадрат нечетного числа: {num - 1} = {(num - 1) ** 2}')"
      ],
      "execution_count": 70,
      "outputs": [
        {
          "output_type": "stream",
          "name": "stdout",
          "text": [
            "Введите число N: 6\n",
            "\n",
            "Квадрат нечетного числа: 1 = 1\n",
            "Квадрат нечетного числа: 3 = 9\n",
            "Квадрат нечетного числа: 5 = 25\n"
          ]
        }
      ]
    },
    {
      "cell_type": "markdown",
      "metadata": {
        "id": "FoQYrTln7zeP"
      },
      "source": [
        "### Оптимизация кода через шаг в функции range"
      ]
    },
    {
      "cell_type": "code",
      "metadata": {
        "colab": {
          "base_uri": "https://localhost:8080/"
        },
        "id": "jL9fhZRswjST",
        "outputId": "93bbeaa1-343a-42ce-ddee-f44964238ef6"
      },
      "source": [
        "number = int(input('Введите число N: '))\n",
        "print()\n",
        "\n",
        "for num in range(1, number +1, 2):\n",
        "  print(f'Квадрат нечетного числа: {num} = {num ** 2}')"
      ],
      "execution_count": 71,
      "outputs": [
        {
          "output_type": "stream",
          "name": "stdout",
          "text": [
            "Введите число N: 6\n",
            "\n",
            "Квадрат нечетного числа: 1 = 1\n",
            "Квадрат нечетного числа: 3 = 9\n",
            "Квадрат нечетного числа: 5 = 25\n"
          ]
        }
      ]
    },
    {
      "cell_type": "code",
      "metadata": {
        "id": "PLVikmrexrKj"
      },
      "source": [
        ""
      ],
      "execution_count": null,
      "outputs": []
    }
  ]
}