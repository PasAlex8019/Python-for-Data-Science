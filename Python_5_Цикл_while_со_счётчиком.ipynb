{
  "nbformat": 4,
  "nbformat_minor": 0,
  "metadata": {
    "colab": {
      "name": "Python_5_Цикл while со счётчиком",
      "provenance": [],
      "authorship_tag": "ABX9TyO0Z/0lXhLWlloNyfhbtZ4c",
      "include_colab_link": true
    },
    "kernelspec": {
      "name": "python3",
      "display_name": "Python 3"
    },
    "language_info": {
      "name": "python"
    }
  },
  "cells": [
    {
      "cell_type": "markdown",
      "metadata": {
        "id": "view-in-github",
        "colab_type": "text"
      },
      "source": [
        "<a href=\"https://colab.research.google.com/github/PasAlex8019/Python-for-Data-Science/blob/main/Python_5_%D0%A6%D0%B8%D0%BA%D0%BB_while_%D1%81%D0%BE_%D1%81%D1%87%D1%91%D1%82%D1%87%D0%B8%D0%BA%D0%BE%D0%BC.ipynb\" target=\"_parent\"><img src=\"https://colab.research.google.com/assets/colab-badge.svg\" alt=\"Open In Colab\"/></a>"
      ]
    },
    {
      "cell_type": "markdown",
      "metadata": {
        "id": "jjTPpgGhO1-n"
      },
      "source": [
        "## words_count является счетчиком и инициализируется нулем (считает количество чего либо)"
      ]
    },
    {
      "cell_type": "code",
      "metadata": {
        "colab": {
          "base_uri": "https://localhost:8080/"
        },
        "id": "7099nbeHN3My",
        "outputId": "6b1411fe-f050-4adf-aa0e-adee0b0c813a"
      },
      "source": [
        "text = 'Python'\n",
        "words_count = 0\n",
        "\n",
        "while words_count < 5:\n",
        "  print(text)\n",
        "  words_count += 1"
      ],
      "execution_count": 2,
      "outputs": [
        {
          "output_type": "stream",
          "name": "stdout",
          "text": [
            "Python\n",
            "Python\n",
            "Python\n",
            "Python\n",
            "Python\n"
          ]
        }
      ]
    },
    {
      "cell_type": "markdown",
      "metadata": {
        "id": "RvyqccxDPhZB"
      },
      "source": [
        "### Счетчик увеличивается строго на единицу и еще помогает понять сколько было итераций в цикле или сколько должно быти, это очень полезно если необходимо выйти на конкретной итерации"
      ]
    },
    {
      "cell_type": "markdown",
      "metadata": {
        "id": "1YjuEPXaQ3m9"
      },
      "source": [
        "**Задача с мешками**"
      ]
    },
    {
      "cell_type": "code",
      "metadata": {
        "colab": {
          "base_uri": "https://localhost:8080/"
        },
        "id": "Os80o8_mPt_o",
        "outputId": "42c7091b-ea90-459c-b3ec-9f140321427e"
      },
      "source": [
        "bags = int(input('Сколько нужно перенести мешков? '))\n",
        "totalweight = 0\n",
        "bags_count = 0\n",
        "\n",
        "while bags_count < bags:\n",
        "  weight = int(input('Сколько весит мешок? '))\n",
        "  totalweight += weight\n",
        "  bags_count += 1\n",
        "  print('Перенесено мешков', bags_count, 'из', bags )\n",
        "print('Общий вес мешков', totalweight)"
      ],
      "execution_count": 4,
      "outputs": [
        {
          "output_type": "stream",
          "name": "stdout",
          "text": [
            "Сколько нужно перенести мешков? 5\n",
            "Сколько весит мешок? 20\n",
            "Перенесено мешков 1 из 5\n",
            "Сколько весит мешок? 10\n",
            "Перенесено мешков 2 из 5\n",
            "Сколько весит мешок? 5\n",
            "Перенесено мешков 3 из 5\n",
            "Сколько весит мешок? 5\n",
            "Перенесено мешков 4 из 5\n",
            "Сколько весит мешок? 5\n",
            "Перенесено мешков 5 из 5\n",
            "Общий вес мешков 45\n"
          ]
        }
      ]
    },
    {
      "cell_type": "markdown",
      "metadata": {
        "id": "AaV271U5hXoG"
      },
      "source": [
        "###**Практика**\n",
        "\n",
        "\n",
        "\n",
        "**Цель задания**\n",
        "\n",
        "Потренироваться в работе с циклом while.\n",
        "\n",
        "\n",
        "\n",
        "**Что нужно сделать**"
      ]
    },
    {
      "cell_type": "markdown",
      "metadata": {
        "id": "aV6DtX0fhhx6"
      },
      "source": [
        "**Задача 1. Надоедливый заказчик**\n",
        "\n",
        "Нашему заказчику нужно, чтобы фраза «Я — программист!» выводилась на экран столько раз, сколько он сам этого захочет.\n",
        "\n",
        "Напишите программу, которая запрашивает число — количество строчек с фразой «Я — программист!» — и столько же раз выводит на экран эту фразу. Для решения задачи используйте переменную-счётчик, которая увеличивается на единицу до тех пор, пока не будет введено нужное количество слов."
      ]
    },
    {
      "cell_type": "code",
      "metadata": {
        "colab": {
          "base_uri": "https://localhost:8080/"
        },
        "id": "5bPBGaoLRb4B",
        "outputId": "99c95985-6e3a-4324-be68-3e133a184b9b"
      },
      "source": [
        "active = int(input('Введите сколько раз выводить на экран? '))\n",
        "count_active = 0\n",
        "\n",
        "while count_active < active:\n",
        "  print('Я — программист!')\n",
        "  count_active += 1"
      ],
      "execution_count": 5,
      "outputs": [
        {
          "output_type": "stream",
          "name": "stdout",
          "text": [
            "Введите сколько раз выводить на экран? 5\n",
            "Я — программист!\n",
            "Я — программист!\n",
            "Я — программист!\n",
            "Я — программист!\n",
            "Я — программист!\n"
          ]
        }
      ]
    },
    {
      "cell_type": "markdown",
      "metadata": {
        "id": "POl54eTYi0pA"
      },
      "source": [
        "**Задача 2. Напоминалка**\n",
        "\n",
        "У Евгения много работы, а ещё он очень забывчивый. Иногда он забывает о какой-нибудь важной встрече, и ему приходится выслушивать критику от начальства. Напишите для него программу-напоминалку. В самом начале программа спрашивает, сколько раз ему напомнить, а затем нужное количество раз выводит: «Вы хотели не забыть о чём-то»."
      ]
    },
    {
      "cell_type": "code",
      "metadata": {
        "colab": {
          "base_uri": "https://localhost:8080/"
        },
        "id": "WCFyRcA8i3OM",
        "outputId": "f106ea25-3376-4acc-8f02-1d8f1b61dfbe"
      },
      "source": [
        "active = int(input('Сколько раз напомнить? '))\n",
        "count_active = 0\n",
        "\n",
        "while count_active < active:\n",
        "  print('Вы хотели не забыть о чём-то')\n",
        "  count_active += 1\n",
        "  print('Количество напоминаний', count_active, 'из', active)"
      ],
      "execution_count": 8,
      "outputs": [
        {
          "output_type": "stream",
          "name": "stdout",
          "text": [
            "Сколько раз напомнить? 4\n",
            "Вы хотели не забыть о чём-то\n",
            "Количество напоминаний 1 из 4\n",
            "Вы хотели не забыть о чём-то\n",
            "Количество напоминаний 2 из 4\n",
            "Вы хотели не забыть о чём-то\n",
            "Количество напоминаний 3 из 4\n",
            "Вы хотели не забыть о чём-то\n",
            "Количество напоминаний 4 из 4\n"
          ]
        }
      ]
    },
    {
      "cell_type": "markdown",
      "metadata": {
        "id": "twc-wagRj9v3"
      },
      "source": [
        "**Задача 3. Рыбалка**\n",
        "\n",
        "Наши прекрасные родственники удачно сходили на рыбалку. Настолько, что ходили мешком перетаскивать рыбу с берега в машину целых n раз. Каждый мешок они взвешивали на электронных весах (все мешки весили по-разному). Напишите программу для весов, которая считает суммарный вес мешков и выводит его на экран."
      ]
    },
    {
      "cell_type": "code",
      "metadata": {
        "colab": {
          "base_uri": "https://localhost:8080/"
        },
        "id": "vGNFi2LEkAGs",
        "outputId": "42b487b5-2872-475d-8514-470943684fe2"
      },
      "source": [
        "bags = int(input('Сколько нужно перенести мешков? '))\n",
        "totalweight = 0\n",
        "bags_count = 0\n",
        "\n",
        "while bags_count < bags:\n",
        "  weight = int(input('Сколько весит мешок? '))\n",
        "  totalweight += weight\n",
        "  bags_count += 1\n",
        "  #print('Перенесено мешков', bags_count, 'из', bags )\n",
        "print('Общий вес мешков', totalweight)"
      ],
      "execution_count": 9,
      "outputs": [
        {
          "output_type": "stream",
          "name": "stdout",
          "text": [
            "Сколько нужно перенести мешков? 4\n",
            "Сколько весит мешок? 5\n",
            "Сколько весит мешок? 25\n",
            "Сколько весит мешок? 13\n",
            "Сколько весит мешок? 7\n",
            "Общий вес мешков 50\n"
          ]
        }
      ]
    }
  ]
}