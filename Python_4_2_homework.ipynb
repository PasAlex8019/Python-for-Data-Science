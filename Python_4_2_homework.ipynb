{
  "nbformat": 4,
  "nbformat_minor": 0,
  "metadata": {
    "colab": {
      "name": "Python_4_2_homework",
      "provenance": [],
      "authorship_tag": "ABX9TyPlY/7q5inrlRbJ/k6DpzvH",
      "include_colab_link": true
    },
    "kernelspec": {
      "name": "python3",
      "display_name": "Python 3"
    },
    "language_info": {
      "name": "python"
    }
  },
  "cells": [
    {
      "cell_type": "markdown",
      "metadata": {
        "id": "view-in-github",
        "colab_type": "text"
      },
      "source": [
        "<a href=\"https://colab.research.google.com/github/PasAlex8019/Python-for-Data-Science/blob/main/Python_4_2_homework.ipynb\" target=\"_parent\"><img src=\"https://colab.research.google.com/assets/colab-badge.svg\" alt=\"Open In Colab\"/></a>"
      ]
    },
    {
      "cell_type": "markdown",
      "metadata": {
        "id": "AkkNvfl2FAYw"
      },
      "source": [
        "##**6.6 Домашняя работа**"
      ]
    },
    {
      "cell_type": "markdown",
      "metadata": {
        "id": "I848RRV8FIvU"
      },
      "source": [
        "###**Задача**\n",
        "Цели домашнего задания\n",
        "* Научиться работать с конструкцией if-elif-else.\n",
        "* Научиться работать с логическими операторами and or."
      ]
    },
    {
      "cell_type": "markdown",
      "metadata": {
        "id": "y0ZVELCAFV2J"
      },
      "source": [
        "###**Что входит в задание**\n",
        "Написать программы:\n",
        "\n",
        "1. Калькулятор опыта.\n",
        "2. Максимум из трёх чисел 2.\n",
        "3. Функция.\n",
        "4. Поступление.\n",
        "5. Опять двойка.\n",
        "6. Защита от дурака.\n",
        "7. Костя хочет выигрывать.\n",
        "8. Новоселье.\n",
        "9. Прогрессивный налог 2.\n",
        "10. Почта."
      ]
    },
    {
      "cell_type": "markdown",
      "metadata": {
        "id": "N5LLzQRsFqpv"
      },
      "source": [
        "###**Задача 1. Калькулятор опыта**\n",
        "\n",
        "\n",
        "**Что нужно сделать**\n",
        "\n",
        "Андрей любит играть в компьютерные игры. В один прекрасный день у него появилась классная идея для сюжета своей игры. Чтобы воплотить её в жизнь, он начал изучать программирование и геймдизайн. Начал он с главного героя и его системы прокачки.\n",
        "\n",
        "Напишите программу, которая определяет уровень персонажа в компьютерной игре. Пользователь вводит число «очков опыта», а программа вычисляет уровень. Новый уровень даётся при достижении 1000, 2500 и 5000 «очков опыта». Начальный уровень равен единице.\n",
        "\n",
        "\n",
        "\n",
        "Пример:\n",
        "\n",
        "Введите количество опыта: 6000\n",
        "\n",
        "Ваш уровень: 4\n",
        "\n",
        "\n",
        "\n",
        "\n",
        "Пример 2:\n",
        "\n",
        "Введите количество опыта: 2000\n",
        "\n",
        "Ваш уровень: 2\n",
        "\n",
        "\n",
        "\n",
        "**Советы и рекомендации**\n",
        "\n",
        "По возможности уделите внимание сокращению кода и избегайте проверять условия, которые уже были проверены. Если вы проверили условие condition, то не следует проверять not condition после."
      ]
    },
    {
      "cell_type": "code",
      "metadata": {
        "colab": {
          "base_uri": "https://localhost:8080/"
        },
        "id": "IaXj8Zt6Ew3M",
        "outputId": "e087f1ac-a6ca-41ee-b535-66c9f2f322b1"
      },
      "source": [
        "number_of_points = int(input('Введите количество опыта: '))\n",
        "level = 1\n",
        "if number_of_points <= 1000:\n",
        "  print(f'Ваш уровень: {level}')\n",
        "elif number_of_points > 1000 and number_of_points < 2500:\n",
        "  level += 1\n",
        "  print(f'Ваш уровень: {level}')\n",
        "elif number_of_points > 2500 and number_of_points < 5000:\n",
        "  level += 2\n",
        "  print(f'Ваш уровень: {level}')\n",
        "else:\n",
        "  level += 3\n",
        "  print(f'Ваш уровень: {level}')\n"
      ],
      "execution_count": 3,
      "outputs": [
        {
          "output_type": "stream",
          "name": "stdout",
          "text": [
            "Введите количество опыта: 6000\n",
            "Ваш уровень: 4\n"
          ]
        }
      ]
    },
    {
      "cell_type": "code",
      "metadata": {
        "colab": {
          "base_uri": "https://localhost:8080/"
        },
        "id": "6d0ktvI-IJOL",
        "outputId": "b1042994-170c-44ac-bd3c-a3cf4579dd33"
      },
      "source": [
        "number_of_points = int(input('Введите количество опыта: '))\n",
        "level = 1\n",
        "if number_of_points <= 1000:\n",
        "  print(f'Ваш уровень: {level}')\n",
        "elif number_of_points > 1000 and number_of_points < 2500:\n",
        "  level += 1\n",
        "  print(f'Ваш уровень: {level}')\n",
        "elif number_of_points > 2500 and number_of_points < 5000:\n",
        "  level += 2\n",
        "  print(f'Ваш уровень: {level}')\n",
        "else:\n",
        "  level += 3\n",
        "  print(f'Ваш уровень: {level}')"
      ],
      "execution_count": 2,
      "outputs": [
        {
          "output_type": "stream",
          "name": "stdout",
          "text": [
            "Введите количество опыта: 2000\n",
            "Ваш уровень: 2\n"
          ]
        }
      ]
    },
    {
      "cell_type": "markdown",
      "metadata": {
        "id": "gCUiFP_WIgxV"
      },
      "source": [
        "###**Задача 2. Максимум из трёх чисел 2**\n",
        "\n",
        "\n",
        "**Что нужно сделать**\n",
        "\n",
        "У нас уже было задание на нахождение максимума из трёх чисел с помощью дополнительной переменной. Теперь, когда вы знаете намного больше, вы можете оптимизировать программу, не тратя память компьютера на лишние переменные.\n",
        "\n",
        "Напишите программу, которая находит максимум из трёх чисел, не используя дополнительные переменные.\n",
        "\n",
        "\n",
        "\n",
        "**Советы и рекомендации**\n",
        "\n",
        "По возможности уделите внимание сокращению кода и избегайте проверять условия, которые уже были проверены. Если вы проверили условие condition, то не следует проверять not condition после."
      ]
    },
    {
      "cell_type": "code",
      "metadata": {
        "colab": {
          "base_uri": "https://localhost:8080/"
        },
        "id": "afnakhX8Im8R",
        "outputId": "eceedcc5-4f83-4d34-abe5-948dd043b969"
      },
      "source": [
        "num_1 = int(input('Введите число: '))\n",
        "num_2 = int(input('Введите число: '))\n",
        "num_3 = int(input('Введите число: '))\n",
        "\n",
        "if num_1 > num_2 and num_1 > num_3:\n",
        "  print('Превое число максимальное.')\n",
        "elif num_1 < num_2 and num_2 > num_3:\n",
        "  print('Второе число максимальное.')\n",
        "else:\n",
        "  print('Третье число максимальное.')"
      ],
      "execution_count": 8,
      "outputs": [
        {
          "output_type": "stream",
          "name": "stdout",
          "text": [
            "Введите число: 1\n",
            "Введите число: 2\n",
            "Введите число: 3\n",
            "Третье число максимальное.\n"
          ]
        }
      ]
    },
    {
      "cell_type": "markdown",
      "metadata": {
        "id": "A9FUms0lKGh8"
      },
      "source": [
        "###**Задача 3. Функция**\n",
        "\n",
        "\n",
        "**Что нужно сделать**\n",
        "\n",
        "Учитель математики придумывает каждому своему ученику отдельные функции, которые нужно отобразить на графике и посчитать. А ещё этот учитель разбирается в программировании. Поэтому, чтобы не считать вручную все эти функции, он написал программу, которая делает всю работу за него.\n",
        "\n",
        "Напишите программу, которая получает от пользователя число X и вычисляет значение функции Y по следующей схеме:\n",
        "\n",
        "\n",
        "\n",
        "y= {x −12, x>0, 5,  x=0 x²,  x<0 \n",
        "\n",
        "![Без_названия_6MH60bB.png](data:image/png;base64,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)\n",
        "\n",
        "\n",
        "\n",
        "Напомним, как это работает: \n",
        "\n",
        "для X > 0, Y = X − 12\n",
        "\n",
        "для X = 0,  Y = 5\n",
        "\n",
        "для X < 0, Y = X²\n",
        "\n",
        "\n",
        "\n",
        "Пример:\n",
        "\n",
        "Введите икс: 0\n",
        "\n",
        "Игрек равен 5\n",
        "\n",
        "\n",
        "\n",
        "Пример 2:\n",
        "\n",
        "Введите икс: −6\n",
        "\n",
        "Игрек равен 36\n",
        "\n",
        "\n",
        "\n",
        "**Советы и рекомендации**\n",
        "\n",
        "По возможности уделите внимание сокращению кода и избегайте проверять условия, которые уже были проверены. Если вы проверили условие condition, то не следует проверять not condition после."
      ]
    },
    {
      "cell_type": "code",
      "metadata": {
        "colab": {
          "base_uri": "https://localhost:8080/"
        },
        "id": "HHm5CjuSKZs4",
        "outputId": "df6b3a0b-e4a8-4121-8145-8b3968b12a95"
      },
      "source": [
        "X = int(input('Введите икс: '))\n",
        "\n",
        "if X > 0:\n",
        "  Y = X - 12\n",
        "  print(f\"Игрек равен {Y}\")\n",
        "elif X == 0:\n",
        "  Y = 5\n",
        "  print(f\"Игрек равен {Y}\")\n",
        "else:\n",
        "  Y = X ** 2\n",
        "  print(f\"Игрек равен {Y}\")\n",
        "\n"
      ],
      "execution_count": 10,
      "outputs": [
        {
          "output_type": "stream",
          "name": "stdout",
          "text": [
            "Введите икс: 0\n",
            "Игрек равен 5\n"
          ]
        }
      ]
    },
    {
      "cell_type": "code",
      "metadata": {
        "colab": {
          "base_uri": "https://localhost:8080/"
        },
        "id": "Y-5pgVf2L19c",
        "outputId": "ea99bcad-2fd9-4e57-c921-bdd712ecf39a"
      },
      "source": [
        "X = int(input('Введите икс: '))\n",
        "\n",
        "if X > 0:\n",
        "  Y = X - 12\n",
        "  print(f\"Игрек равен {Y}\")\n",
        "elif X == 0:\n",
        "  Y = 5\n",
        "  print(f\"Игрек равен {Y}\")\n",
        "else:\n",
        "  Y = X ** 2\n",
        "  print(f\"Игрек равен {Y}\")"
      ],
      "execution_count": 11,
      "outputs": [
        {
          "output_type": "stream",
          "name": "stdout",
          "text": [
            "Введите икс: -6\n",
            "Игрек равен 36\n"
          ]
        }
      ]
    },
    {
      "cell_type": "markdown",
      "metadata": {
        "id": "6PrUJyYrMCYL"
      },
      "source": [
        "###**Задача 4. Поступление**\n",
        "\n",
        "\n",
        "**Что нужно сделать**\n",
        "\n",
        "В университете на факультет кибернетики очень серьёзный конкурс — поступают только сильнейшие, первые десять человек из списка. Потом среди поступивших определяется, кто будет получать стипендию. Для стипендии общий балл при поступлении должен быть не менее 290.\n",
        "\n",
        "Напишите программу, которая получает на вход место студента в списке и его балл, а затем выводит соответствующие сообщения о поступлении и получении стипендии.\n",
        "\n",
        "\n",
        "\n",
        "Пример 1:\n",
        "\n",
        "Введите место в списке поступающих: 3\n",
        "\n",
        "Введите количество баллов за экзамены: 295\n",
        "\n",
        "Поздравляем, вы поступили!\n",
        "\n",
        "Бонусом вам будет начисляться стипендия.\n",
        "\n",
        "\n",
        "\n",
        "Пример 2:\n",
        "\n",
        "Введите место в списке поступающих: 3\n",
        "\n",
        "Введите количество баллов за экзамены: 270\n",
        "\n",
        "Поздравляем, вы поступили!\n",
        "\n",
        "Но вам не хватило баллов для стипендии.\n",
        "\n",
        "\n",
        "\n",
        "Пример 3:\n",
        "\n",
        "Введите место в списке поступающих: 11\n",
        "\n",
        "К сожалению, вы не поступили."
      ]
    },
    {
      "cell_type": "code",
      "metadata": {
        "colab": {
          "base_uri": "https://localhost:8080/"
        },
        "id": "hsO6Mhv3RhoC",
        "outputId": "0d3d0188-5f12-41cb-bb1c-969a46c0efd6"
      },
      "source": [
        "student_place = int(input('Введите место в списке поступающих: '))\n",
        "\n",
        "if (student_place > 0 and student_place < 10):\n",
        "  student_scores = int(input('Введите количество баллов за экзамены: '))\n",
        "  print('Поздравляем, вы поступили!')\n",
        "  if (student_scores > 290):\n",
        "    print('Бонусом вам будет начисляться стипендия.')\n",
        "  else:\n",
        "    print('Но вам не хватило баллов для стипендии.')\n",
        "else:\n",
        "  print('К сожалению, вы не поступили.')\n"
      ],
      "execution_count": 36,
      "outputs": [
        {
          "output_type": "stream",
          "name": "stdout",
          "text": [
            "Введите место в списке поступающих: 3\n",
            "Введите количество баллов за экзамены: 295\n",
            "Поздравляем, вы поступили!\n",
            "Бонусом вам будет начисляться стипендия.\n"
          ]
        }
      ]
    },
    {
      "cell_type": "code",
      "metadata": {
        "colab": {
          "base_uri": "https://localhost:8080/"
        },
        "id": "UtqC78DdUair",
        "outputId": "cdbc0fbc-03b1-4eed-c807-380f85b362b3"
      },
      "source": [
        "student_place = int(input('Введите место в списке поступающих: '))\n",
        "\n",
        "if (student_place > 0 and student_place < 10):\n",
        "  student_scores = int(input('Введите количество баллов за экзамены: '))\n",
        "  print('Поздравляем, вы поступили!')\n",
        "  if (student_scores > 290):\n",
        "    print('Бонусом вам будет начисляться стипендия.')\n",
        "  else:\n",
        "    print('Но вам не хватило баллов для стипендии.')\n",
        "else:\n",
        "  print('К сожалению, вы не поступили.')"
      ],
      "execution_count": 37,
      "outputs": [
        {
          "output_type": "stream",
          "name": "stdout",
          "text": [
            "Введите место в списке поступающих: 3\n",
            "Введите количество баллов за экзамены: 270\n",
            "Поздравляем, вы поступили!\n",
            "Но вам не хватило баллов для стипендии.\n"
          ]
        }
      ]
    },
    {
      "cell_type": "code",
      "metadata": {
        "colab": {
          "base_uri": "https://localhost:8080/"
        },
        "id": "7KZ5GaTBUcrI",
        "outputId": "85a97d16-f334-4c09-9fd9-0b98af7e8357"
      },
      "source": [
        "student_place = int(input('Введите место в списке поступающих: '))\n",
        "\n",
        "if (student_place > 0 and student_place < 10):\n",
        "  student_scores = int(input('Введите количество баллов за экзамены: '))\n",
        "  print('Поздравляем, вы поступили!')\n",
        "  if (student_scores > 290):\n",
        "    print('Бонусом вам будет начисляться стипендия.')\n",
        "  else:\n",
        "    print('Но вам не хватило баллов для стипендии.')\n",
        "else:\n",
        "  print('К сожалению, вы не поступили.')"
      ],
      "execution_count": 38,
      "outputs": [
        {
          "output_type": "stream",
          "name": "stdout",
          "text": [
            "Введите место в списке поступающих: 11\n",
            "К сожалению, вы не поступили.\n"
          ]
        }
      ]
    },
    {
      "cell_type": "markdown",
      "metadata": {
        "id": "IuaqvcxoUzTs"
      },
      "source": [
        "###**Задача 5. Опять двойка**\n",
        "\n",
        "\n",
        "**Что нужно сделать**\n",
        "\n",
        "Папа-программист уже настолько обленился, что вместо того, чтобы самому спросить у сына, какую оценку тот получил в школе, он написал для этого вот такую программу:\n",
        "\n",
        "\n",
        "\n",
        "rating = int(input('Что получил по математике? '))\n",
        "\n",
        "if rating == 2:\n",
        "\n",
        " print('Плохо. Марш учиться!')\n",
        "\n",
        "if rating == 3:\n",
        "\n",
        " print('Плохо. Марш учиться!')\n",
        "\n",
        "if rating == 4:\n",
        "\n",
        " print('Молодец! Можешь отдохнуть.')\n",
        "\n",
        "if rating == 5:\n",
        "\n",
        " print('Молодец! Можешь отдохнуть.')\n",
        "\n",
        "\n",
        "\n",
        "Сын после того, как «сообщил» свою оценку, посмотрел на код программы и понял, что её можно улучшить, и даже рассказал папе, как это сделать, за что получил безграничное уважение отца.\n",
        "\n",
        "\n",
        "\n",
        "**Скопируйте программу в редактор и оптимизируйте:**\n",
        "\n",
        "1. При плохой оценке (2 или 3) выводится сообщение: «Плохо. Марш учиться!»\n",
        "2. При хорошей оценке (4 или 5) выводится сообщение: «Молодец! Можешь отдохнуть».\n",
        "3. В программе не должно быть повторяющихся строк."
      ]
    },
    {
      "cell_type": "code",
      "metadata": {
        "colab": {
          "base_uri": "https://localhost:8080/"
        },
        "id": "2dzMGc1JU-am",
        "outputId": "eeda7367-dfb2-4dd5-978e-fe69662c1b01"
      },
      "source": [
        "rating = int(input('Что получил по математике? '))\n",
        "\n",
        "if rating == 2 or rating < 4:\n",
        "  print('Плохо. Марш учиться!')\n",
        "\n",
        "else:\n",
        "  print('Молодец! Можешь отдохнуть.')"
      ],
      "execution_count": 47,
      "outputs": [
        {
          "output_type": "stream",
          "name": "stdout",
          "text": [
            "Что получил по математике? 5\n",
            "Молодец! Можешь отдохнуть.\n"
          ]
        }
      ]
    },
    {
      "cell_type": "markdown",
      "metadata": {
        "id": "1g40IRPIWaan"
      },
      "source": [
        "###**Задача 6. Защита от дурака**\n",
        "\n",
        "\n",
        "**Что нужно сделать**\n",
        "\n",
        "Вы участвуете в разработке приложения для математиков, где можно будет делать всё, начиная от простейших вычислений и заканчивая построением сложных графиков. В этом приложении реализована установка диапазона чисел, и вам необходимо написать этакую «защиту от дурака».\n",
        "\n",
        "Напишите программу, которая получает на вход число и проверяет, двузначное оно или нет. Выведите соответствующее сообщение. Числа −42 и −99 тоже считаются двузначными. Сделайте это, используя не более одного оператора if-elsе. Не используйте elif.\n",
        "\n"
      ]
    },
    {
      "cell_type": "code",
      "metadata": {
        "colab": {
          "base_uri": "https://localhost:8080/"
        },
        "id": "NNlFf1WreOg3",
        "outputId": "560a4d99-2cda-4b8c-ac7c-9569f2fda072"
      },
      "source": [
        "num = int(input('Введите число: '))\n",
        "if (num >=10 and num <= 99) or (num <= -10 and num >= -99):\n",
        "  print('Число двузначнное.')\n",
        "else:\n",
        "  print('Число не двузначнное.')\n"
      ],
      "execution_count": 66,
      "outputs": [
        {
          "output_type": "stream",
          "name": "stdout",
          "text": [
            "Введите число: -14\n",
            "Число двузначнное.\n"
          ]
        }
      ]
    },
    {
      "cell_type": "markdown",
      "metadata": {
        "id": "NjL0T9VZhOWY"
      },
      "source": [
        "###**Задача 7. Костя хочет выигрывать**\n",
        "\n",
        "\n",
        "**Что нужно сделать**\n",
        "\n",
        "После игры в кубики Костя захотел немного изучить работу игровых автоматов, а заодно математику и теорию вероятностей. Но ему нужно с чего-то начать: написать программу, которая поможет выявить закономерности в комбинациях чисел на автомате.\n",
        "\n",
        "Даны три целых числа. Определите, сколько среди них совпадающих. Программа должна вывести одно из чисел: 3 (если все совпадают), 2 (если два совпадают) или 0 (если все числа различны).\n",
        "\n",
        "\n",
        "\n",
        "**Советы и рекомендации**\n",
        "\n",
        "По возможности уделите внимание сокращению кода и избегайте проверки условий, которые уже были проверены. Если вы проверили условие condition, то не следует проверять not condition после."
      ]
    },
    {
      "cell_type": "code",
      "metadata": {
        "colab": {
          "base_uri": "https://localhost:8080/"
        },
        "id": "-TT7oeCVerlA",
        "outputId": "3d9829e0-da32-46ad-f041-5e44b7347e73"
      },
      "source": [
        "bone_1 = int(input('Введите чичло : '))\n",
        "bone_2 = int(input('Введите чичло : '))\n",
        "bone_3 = int(input('Введите чичло : '))\n",
        "\n",
        "if (bone_1 == bone_2 and bone_2 == bone_3):\n",
        "  print('3 (если все совпадают)')\n",
        "elif (bone_1 == bone_3 and bone_2 != bone_3) or (bone_1 == bone_2 and bone_1 != bone_3) or (bone_3 == bone_2 and bone_1 != bone_3):\n",
        "  print('2 (если два совпадают)')\n",
        "else:\n",
        "  print('0 (если все числа различны)')\n",
        "\n"
      ],
      "execution_count": 77,
      "outputs": [
        {
          "output_type": "stream",
          "name": "stdout",
          "text": [
            "Введите чичло : 1\n",
            "Введите чичло : 2\n",
            "Введите чичло : 3\n",
            "0 (если все числа различны)\n"
          ]
        }
      ]
    },
    {
      "cell_type": "code",
      "metadata": {
        "colab": {
          "base_uri": "https://localhost:8080/"
        },
        "id": "yiLriS7AewCo",
        "outputId": "213a8bbb-e8fb-4a0e-ae32-0c8c0d19c445"
      },
      "source": [
        "bone_1 = int(input('Введите чичло : '))\n",
        "bone_2 = int(input('Введите чичло : '))\n",
        "bone_3 = int(input('Введите чичло : '))\n",
        "\n",
        "if (bone_1 == bone_2 and bone_2 == bone_3):\n",
        "  print('3 (если все совпадают)')\n",
        "elif (bone_1 != bone_2 and bone_1 != bone_3 and bone_2 != bone_3):\n",
        "  print('0 (если все числа различны)')\n",
        "else:\n",
        "  print('2 (если два совпадают)')"
      ],
      "execution_count": 86,
      "outputs": [
        {
          "output_type": "stream",
          "name": "stdout",
          "text": [
            "Введите чичло : 4\n",
            "Введите чичло : 5\n",
            "Введите чичло : 6\n",
            "0 (если все числа различны)\n"
          ]
        }
      ]
    },
    {
      "cell_type": "markdown",
      "metadata": {
        "id": "yMpp4mmCm5F1"
      },
      "source": [
        "###**Задача 8. Новоселье**\n",
        "\n",
        "\n",
        "**Что нужно сделать**\n",
        "\n",
        "Семья из трёх человек устала тесниться в однушке и наконец решила переехать. При обсуждении, какую купить квартиру исходя из своих предпочтений и семейного бюджета, они остановились на двух вариантах: \n",
        "\n",
        "1. Взять квартиру попросторнее (не менее 100 м2), но стоимостью не более 10 млн. \n",
        "2. Немного расширить круг поиска, то есть взять квартиру поменьше (от 80 м2), но и стоимостью не более 7 млн. \n",
        "\n",
        "Напишите программу, которая получает на вход стоимость квартиры и её площадь и выводит сообщение о том, подходит она или нет."
      ]
    },
    {
      "cell_type": "code",
      "metadata": {
        "colab": {
          "base_uri": "https://localhost:8080/"
        },
        "id": "UzlKv6xknFkx",
        "outputId": "4766f6ae-61c6-4466-f6a2-8ed3f13f7c3a"
      },
      "source": [
        "price = int(input('Введите стоимость квартиры : '))\n",
        "square = int(input('Введите площадь квартиры : '))\n",
        "\n",
        "if (square >= 100 and price < 10) or (square <= 80 and price < 7):\n",
        "  print('Квартира подходит.')\n",
        "else:\n",
        "  print('Квартира не подходит.')"
      ],
      "execution_count": 88,
      "outputs": [
        {
          "output_type": "stream",
          "name": "stdout",
          "text": [
            "Введите стоимость квартиры : 5\n",
            "Введите площадь квартиры : 80\n",
            "Квартира подходит.\n"
          ]
        }
      ]
    },
    {
      "cell_type": "markdown",
      "metadata": {
        "id": "EJNCjC5sok6J"
      },
      "source": [
        "###**Задача 9. Прогрессивный налог 2**\n",
        "\n",
        "\n",
        "**Что нужно сделать**\n",
        "\n",
        "Вы уже писали программу, вычисляющую сумму налога по прогрессивной шкале в зависимости от полученного заработка: 13% на доход до 10 000, 20% на доход от 10 000 до 50 000, 30% на доход выше 50 000.\n",
        "\n",
        "Однако во многих странах, использующих такую шкалу, эта сумма вычисляется более сложным способом: налоговая ставка 30% на доход выше 50 000 означает, что 30% уплачивается не со всей суммы, а лишь с той её части, которая превосходит 50 000. Аналогично ставка 20% на доход от 10 000 до 50 000 обязывает уплатить 20% лишь с той части суммы, которая превосходит 10 000, но не превосходит 50 000.\n",
        "\n",
        "Так, например, с дохода 100 000 придётся заплатить такой налог:\n",
        "\n",
        "30% × (100 000 − 50 000) + 20% × (50 000 − 10 000) + 13% × 10 000 = 15 000 + 8 000 + 1 300 = 24 300\n",
        "\n",
        "А с дохода 30 000 — такой:  20% × (30 000 − 10 000) + 13% × 10 000 = 4 000 + 1 300 = 5 300\n",
        "\n",
        "Напишите программу, которая спрашивает у пользователя его доход и высчитывает сумму налога для него по вышеописанным правилам."
      ]
    },
    {
      "cell_type": "code",
      "metadata": {
        "colab": {
          "base_uri": "https://localhost:8080/"
        },
        "id": "zGOhxIrHoqY5",
        "outputId": "d061f2a9-948a-4369-ba1a-be487aef86ae"
      },
      "source": [
        "profit = int(input('Введите ваш, доход: '))\n",
        "\n",
        "\n",
        "if profit <= 0:\n",
        "  print('Ошибка: доход не может быть отрицательным')\n",
        "\n",
        "elif profit < 10000:\n",
        "  tax = profit * 13 / 100\n",
        "  print(f\"Размер налога (13%) равен, {tax}\")\n",
        "\n",
        "elif profit < 50000:\n",
        "  tax = (profit - 10000 ) * 20 / 100 + 10000 * 13 / 100\n",
        "  print(f\"Размер налога (20%) равен, {tax}\")\n",
        "\n",
        "else:\n",
        "  tax = (profit - 50000 ) * 30 / 100 + ((profit - 50000 ) - 10000) * 20 / 100  + 10000 * 13 / 100\n",
        "  print(f\"Размер налога (30%) равен, {tax}\")"
      ],
      "execution_count": 99,
      "outputs": [
        {
          "output_type": "stream",
          "name": "stdout",
          "text": [
            "Введите ваш, доход: 30000\n",
            "Размер налога (20%) равен, 5300.0\n"
          ]
        }
      ]
    },
    {
      "cell_type": "markdown",
      "metadata": {
        "id": "ze6uNsOJu-Mp"
      },
      "source": [
        "###**Задача 10. Почта**\n",
        "\n",
        "\n",
        "**Что нужно сделать**\n",
        "\n",
        "Почтовое отделение открывается в 08:00 и закрывается в 22:00. С 14:00 до 15:00 все сотрудники уходят на обед, а в 10:00 и 18:00 приезжают машины с посылками, и тогда все сотрудники на два часа заняты их разгрузкой. Во время обеда, разумеется, посылки никто не выдаёт, как и в моменты, когда разгружаются машины.\n",
        "\n",
        "Напишите программу, которая получает на вход время в часах — число от 0 до 23 — и пишет, можно ли в этот час получить посылку. Используйте только один условный оператор if-else, без elif и прочего. Решите задание двумя способами: \n",
        "\n",
        "При выполнении условия выводится сообщение: «Можно получить посылку».\n",
        "При выполнении условия выводится сообщение: «Посылку получить нельзя».\n",
        "\n",
        "\n",
        "**Советы и рекомендации**\n",
        "\n",
        "Обратите внимание на количество условий и постарайтесь сократить их. Не используйте перечисление конкретных часов вида a == 1 and a == 2..."
      ]
    },
    {
      "cell_type": "code",
      "metadata": {
        "colab": {
          "base_uri": "https://localhost:8080/"
        },
        "id": "sZH4Zfb7vf6R",
        "outputId": "c42ff1c4-44e3-4c77-ec0d-7ef7b0feee7c"
      },
      "source": [
        "working_hours = int(input('Введите время от 0 до 23 : '))\n",
        "\n",
        "if (working_hours >= 10 and working_hours <= 12)\\\n",
        " or (working_hours >= 18 and working_hours <= 20)\\\n",
        "  or (working_hours >= 14 and working_hours <= 15)\\\n",
        "  or (working_hours > 22 or working_hours < 8):\n",
        "  print('Посылку получить нельзя.')\n",
        "else:\n",
        "  print('Посылку получить можно.')"
      ],
      "execution_count": 109,
      "outputs": [
        {
          "output_type": "stream",
          "name": "stdout",
          "text": [
            "Введите время от 0 до 23 : 15\n",
            "Посылку получить нельзя.\n"
          ]
        }
      ]
    },
    {
      "cell_type": "code",
      "metadata": {
        "colab": {
          "base_uri": "https://localhost:8080/"
        },
        "id": "bIbSWKTuytax",
        "outputId": "4197b82a-513c-4990-ba8b-ec44cd59c02f"
      },
      "source": [
        "working_hours = int(input('Введите время от 0 до 23 : '))\n",
        "\n",
        "if (working_hours > 8 and working_hours < 10)\\\n",
        " or (working_hours > 12 and working_hours < 14)\\\n",
        "  or (working_hours > 15 and working_hours < 16)\\\n",
        "  or (working_hours > 20 and working_hours <= 22):\n",
        "  print('Посылку получить можно.')\n",
        "  #print('Посылку получить нельзя.')\n",
        "else:\n",
        "  print('Посылку получить нельзя.')"
      ],
      "execution_count": 112,
      "outputs": [
        {
          "output_type": "stream",
          "name": "stdout",
          "text": [
            "Введите время от 0 до 23 : 22\n",
            "Посылку получить можно.\n"
          ]
        }
      ]
    }
  ]
}