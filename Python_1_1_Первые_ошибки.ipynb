{
  "nbformat": 4,
  "nbformat_minor": 0,
  "metadata": {
    "colab": {
      "name": "Python 1.1 Первые ошибки",
      "provenance": [],
      "authorship_tag": "ABX9TyMxRtfHk7WBdQmFt10nXxiQ",
      "include_colab_link": true
    },
    "kernelspec": {
      "name": "python3",
      "display_name": "Python 3"
    },
    "language_info": {
      "name": "python"
    }
  },
  "cells": [
    {
      "cell_type": "markdown",
      "metadata": {
        "id": "view-in-github",
        "colab_type": "text"
      },
      "source": [
        "<a href=\"https://colab.research.google.com/github/PasAlex8019/Python-for-Data-Science/blob/main/Python_1_1_%D0%9F%D0%B5%D1%80%D0%B2%D1%8B%D0%B5_%D0%BE%D1%88%D0%B8%D0%B1%D0%BA%D0%B8.ipynb\" target=\"_parent\"><img src=\"https://colab.research.google.com/assets/colab-badge.svg\" alt=\"Open In Colab\"/></a>"
      ]
    },
    {
      "cell_type": "markdown",
      "metadata": {
        "id": "mgbkcrq6jQ2H"
      },
      "source": [
        "## Цель задания\n",
        "\n",
        "### Найти ошибки в работе с print.\n",
        "\n",
        "\n",
        "\n",
        "**Что нужно сделать**\n",
        "\n",
        "Найдите и исправьте ошибки в коде. Для этого скопируйте код в repl.it, посмотрите, какие ошибки там есть, и исправьте их. Убедитесь, что программа работает.\n",
        "\n",
        " \n",
        "\n",
        "1. Print('Hello World')\n",
        "\n",
        "\n",
        "\n",
        "2. print 'Hello World'\n",
        "\n",
        " \n",
        "\n",
        "3. print('Hello World\")\n",
        "\n",
        "\n",
        "\n",
        "4. print (Hello)\n",
        "\n",
        "\n",
        "\n",
        "5. print('Привет',')\n",
        "\n",
        "print ('Меня зовут Вася'')\n",
        "\n",
        "print 'и я умнее всех')\n",
        "\n"
      ]
    },
    {
      "cell_type": "code",
      "metadata": {
        "colab": {
          "base_uri": "https://localhost:8080/"
        },
        "id": "JtYvoHAvjtFZ",
        "outputId": "3c061099-6ea0-41c4-ad3d-ea35b03ae41d"
      },
      "source": [
        "print('Hello World') # Print с маленькой буквы print\n",
        "print ('Hello World') #() поставить кавычки\n",
        "print(\"Hello World\") # поставить одинаковые кавычки '' or \"\"\n",
        "print ('Hello') # поставить кавычки '' или \"\"\n",
        "print('Привет','') # поставить кавычки '' или \"\""
      ],
      "execution_count": 1,
      "outputs": [
        {
          "output_type": "stream",
          "name": "stdout",
          "text": [
            "Hello World\n",
            "Hello World\n",
            "Hello World\n",
            "Hello\n",
            "Привет \n"
          ]
        }
      ]
    },
    {
      "cell_type": "markdown",
      "metadata": {
        "id": "y26OSrv_jEIZ"
      },
      "source": [
        ""
      ]
    }
  ]
}