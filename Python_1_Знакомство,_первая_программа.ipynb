{
  "nbformat": 4,
  "nbformat_minor": 0,
  "metadata": {
    "colab": {
      "name": "Python 1. Знакомство, первая программа",
      "provenance": [],
      "authorship_tag": "ABX9TyMMHx5gecrcaK4UkAOkreKT",
      "include_colab_link": true
    },
    "kernelspec": {
      "name": "python3",
      "display_name": "Python 3"
    },
    "language_info": {
      "name": "python"
    }
  },
  "cells": [
    {
      "cell_type": "markdown",
      "metadata": {
        "id": "view-in-github",
        "colab_type": "text"
      },
      "source": [
        "<a href=\"https://colab.research.google.com/github/PasAlex8019/Python-for-Data-Science/blob/main/Python_1_%D0%97%D0%BD%D0%B0%D0%BA%D0%BE%D0%BC%D1%81%D1%82%D0%B2%D0%BE%2C_%D0%BF%D0%B5%D1%80%D0%B2%D0%B0%D1%8F_%D0%BF%D1%80%D0%BE%D0%B3%D1%80%D0%B0%D0%BC%D0%BC%D0%B0.ipynb\" target=\"_parent\"><img src=\"https://colab.research.google.com/assets/colab-badge.svg\" alt=\"Open In Colab\"/></a>"
      ]
    },
    {
      "cell_type": "markdown",
      "metadata": {
        "id": "tDEqX93zgdJQ"
      },
      "source": [
        "## Создайте новый проект, язык Python."
      ]
    },
    {
      "cell_type": "markdown",
      "metadata": {
        "id": "wBoUseHahHOB"
      },
      "source": [
        "### В examples выберите пример Hello World.\n",
        "\n",
        "* Запустите программу, посмотрите, что она выводит в консоль.\n",
        "* Теперь измените программу, чтобы она выводила фразу ‘Привет Мир!’:\n",
        "\n",
        "* Замените Hello World! на нужный текст.\n",
        "* Запустите программу ещё раз, убедитесь, что всё работает."
      ]
    },
    {
      "cell_type": "code",
      "metadata": {
        "colab": {
          "base_uri": "https://localhost:8080/"
        },
        "id": "Z_k1vLssg1tv",
        "outputId": "4e1400e0-3312-4b7c-8863-72cd3c40f451"
      },
      "source": [
        "print('Hello World.')"
      ],
      "execution_count": 1,
      "outputs": [
        {
          "output_type": "stream",
          "name": "stdout",
          "text": [
            "Hello World.\n"
          ]
        }
      ]
    },
    {
      "cell_type": "code",
      "metadata": {
        "colab": {
          "base_uri": "https://localhost:8080/"
        },
        "id": "WkZkRsLbhYrt",
        "outputId": "3c1ddb6d-15b5-45a2-deb6-ac65eaf3e16b"
      },
      "source": [
        "print('Hello World.')\n",
        "print('Привет Мир!')"
      ],
      "execution_count": 2,
      "outputs": [
        {
          "output_type": "stream",
          "name": "stdout",
          "text": [
            "Hello World.\n",
            "Привет Мир!\n"
          ]
        }
      ]
    },
    {
      "cell_type": "markdown",
      "metadata": {
        "id": "SDv6pOHfh1hw"
      },
      "source": [
        "### Задание 2\n",
        "\n",
        "* Дополните программу из предыдущего задания так, чтобы она вывела в консоль приветствие, ваше имя и любимый цвет в отдельных строчках. Затем запустите программу и проверьте результат.\n",
        "* Теперь попробуйте поменять местами строчки программы, например первую и третью. В результате выведется сначала цвет, затем имя и в конце — приветствие."
      ]
    },
    {
      "cell_type": "code",
      "metadata": {
        "colab": {
          "base_uri": "https://localhost:8080/"
        },
        "id": "k3l9ffeehp0Q",
        "outputId": "f85c855b-68a9-430b-fafa-d805e875a1a0"
      },
      "source": [
        "print('Привет Мир!')\n",
        "print('Александр.')\n",
        "print('Зеленый.')"
      ],
      "execution_count": 4,
      "outputs": [
        {
          "output_type": "stream",
          "name": "stdout",
          "text": [
            "Привет Мир!\n",
            "Александр.\n",
            "Зеленый.\n"
          ]
        }
      ]
    },
    {
      "cell_type": "code",
      "metadata": {
        "colab": {
          "base_uri": "https://localhost:8080/"
        },
        "id": "zBL7JlU-iQwf",
        "outputId": "fe295079-d48e-48d4-d60d-f37c8c36b4cf"
      },
      "source": [
        "\n",
        "print('Зеленый.')\n",
        "\n",
        "print('Александр.')\n",
        "\n",
        "print('Привет Мир!')\n"
      ],
      "execution_count": 5,
      "outputs": [
        {
          "output_type": "stream",
          "name": "stdout",
          "text": [
            "Зеленый.\n",
            "Александр.\n",
            "Привет Мир!\n"
          ]
        }
      ]
    }
  ]
}