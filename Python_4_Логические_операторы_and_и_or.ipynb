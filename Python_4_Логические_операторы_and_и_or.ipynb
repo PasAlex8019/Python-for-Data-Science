{
  "nbformat": 4,
  "nbformat_minor": 0,
  "metadata": {
    "colab": {
      "name": "Python_4_Логические операторы and и or",
      "provenance": [],
      "authorship_tag": "ABX9TyMPGXmgHhu/Wrzac6ep0x/7",
      "include_colab_link": true
    },
    "kernelspec": {
      "name": "python3",
      "display_name": "Python 3"
    },
    "language_info": {
      "name": "python"
    }
  },
  "cells": [
    {
      "cell_type": "markdown",
      "metadata": {
        "id": "view-in-github",
        "colab_type": "text"
      },
      "source": [
        "<a href=\"https://colab.research.google.com/github/PasAlex8019/Python-for-Data-Science/blob/main/Python_4_%D0%9B%D0%BE%D0%B3%D0%B8%D1%87%D0%B5%D1%81%D0%BA%D0%B8%D0%B5_%D0%BE%D0%BF%D0%B5%D1%80%D0%B0%D1%82%D0%BE%D1%80%D1%8B_and_%D0%B8_or.ipynb\" target=\"_parent\"><img src=\"https://colab.research.google.com/assets/colab-badge.svg\" alt=\"Open In Colab\"/></a>"
      ]
    },
    {
      "cell_type": "markdown",
      "metadata": {
        "id": "JbJZMOi55J8-"
      },
      "source": [
        "### Задача про велосипед"
      ]
    },
    {
      "cell_type": "code",
      "metadata": {
        "colab": {
          "base_uri": "https://localhost:8080/"
        },
        "id": "vfbrsO993sY_",
        "outputId": "8395e2a4-3af9-4597-c8cd-d255752b7370"
      },
      "source": [
        "year = int(input('Введите дату выпуска: '))\n",
        "speed_count = int(input('Введите количество скоростей: '))\n",
        "\n",
        "if year >= 2018:\n",
        "  if speed_count >= 24:\n",
        "    print('Подходит')\n",
        "  else:\n",
        "   print('Не соответствует критериям') \n",
        "else:\n",
        "  print('Не соответствует критериям')"
      ],
      "execution_count": null,
      "outputs": [
        {
          "output_type": "stream",
          "name": "stdout",
          "text": [
            "Введите дату выпуска: 2019\n",
            "Введите количество скоростей: 15\n",
            "Не соответствует критериям\n"
          ]
        }
      ]
    },
    {
      "cell_type": "markdown",
      "metadata": {
        "id": "LJpb2X1-5IlK"
      },
      "source": [
        "### Оптимизация кода через and"
      ]
    },
    {
      "cell_type": "code",
      "metadata": {
        "colab": {
          "base_uri": "https://localhost:8080/"
        },
        "id": "7UFM0OE168-j",
        "outputId": "c2e1a091-ae4c-4401-af74-d38334995a31"
      },
      "source": [
        "year = int(input('Введите дату выпуска: '))\n",
        "speed_count = int(input('Введите количество скоростей: '))\n",
        "\n",
        "if year >= 2018 and speed_count >= 24:\n",
        "    print('Подходит') \n",
        "else:\n",
        "  print('Не соответствует критериям')"
      ],
      "execution_count": null,
      "outputs": [
        {
          "output_type": "stream",
          "name": "stdout",
          "text": [
            "Введите дату выпуска: 2020\n",
            "Введите количество скоростей: 25\n",
            "Подходит\n"
          ]
        }
      ]
    },
    {
      "cell_type": "markdown",
      "metadata": {
        "id": "RhpeBlyx8Vk7"
      },
      "source": [
        "### Оптимизация кода через or"
      ]
    },
    {
      "cell_type": "code",
      "metadata": {
        "colab": {
          "base_uri": "https://localhost:8080/"
        },
        "id": "fJgM0rbS8W8m",
        "outputId": "13fd5078-361f-44e3-bf7f-23d445a5898e"
      },
      "source": [
        "year = int(input('Введите дату выпуска: '))\n",
        "speed_count = int(input('Введите количество скоростей: '))\n",
        "\n",
        "if year < 2018 or speed_count < 24:\n",
        "    print('Не соответствует критериям') \n",
        "else:\n",
        "    print('Подходит')"
      ],
      "execution_count": null,
      "outputs": [
        {
          "output_type": "stream",
          "name": "stdout",
          "text": [
            "Введите дату выпуска: 2015\n",
            "Введите количество скоростей: 12\n",
            "Не соответствует критериям\n"
          ]
        }
      ]
    },
    {
      "cell_type": "code",
      "metadata": {
        "id": "y6xD8Rz38pU_",
        "colab": {
          "base_uri": "https://localhost:8080/"
        },
        "outputId": "c1d40ece-bb09-488b-d433-9480d7343f24"
      },
      "source": [
        "X = int(input('Введите точку икс : '))\n",
        "if X >= 0 and X <= 100:\n",
        "  print('Точка икс входит в диапазон.')\n",
        "else:\n",
        "  print('Ошибка точка икс вышла за границы отрезка.')"
      ],
      "execution_count": 1,
      "outputs": [
        {
          "output_type": "stream",
          "name": "stdout",
          "text": [
            "Введите точку икс : 54\n",
            "Точка икс входит в диапазон.\n"
          ]
        }
      ]
    },
    {
      "cell_type": "code",
      "metadata": {
        "colab": {
          "base_uri": "https://localhost:8080/"
        },
        "id": "ppFAmdk7uqpd",
        "outputId": "5bb69083-6a16-479b-df85-1ce16a0bbe8f"
      },
      "source": [
        "X = int(input('Введите точку икс : '))\n",
        "left_border = int(input('Введите левую границу диапазона : '))\n",
        "right_border = int(input('Введите правую границу диапазона : '))\n",
        "if X >= left_border and X <= right_border:\n",
        "  print('Точка икс входит в диапазон.')\n",
        "else:\n",
        "  print('Ошибка точка икс вышла за границы отрезка.')"
      ],
      "execution_count": 3,
      "outputs": [
        {
          "output_type": "stream",
          "name": "stdout",
          "text": [
            "Введите точку икс : 12\n",
            "Введите левую границу диапазона : 5\n",
            "Введите правую границу диапазона : 60\n",
            "Точка икс входит в диапазон.\n"
          ]
        }
      ]
    },
    {
      "cell_type": "markdown",
      "metadata": {
        "id": "sPZtSAsq08Fv"
      },
      "source": [
        "###**Практика**\n",
        "\n",
        "\n",
        "\n",
        "**Цель задания**\n",
        "\n",
        "Потренироваться в написании цепочек условий if-elif-else.\n",
        "\n",
        "\n",
        "\n",
        "**Что нужно сделать**\n",
        "\n"
      ]
    },
    {
      "cell_type": "markdown",
      "metadata": {
        "id": "33VE4yit1HRF"
      },
      "source": [
        "####**Задача 1. Покупка велосипеда**\n",
        "\n",
        "Напишите программу, которую мы разбирали в рамках теории. Нашему ребёнку нужен новый хороший велосипед. Правда, никто из нас в них не разбирается, всё что нам нужно — чтобы велосипед не был устаревшим и чтоб скоростей на нём было побольше, а сколько он стоит — пока неважно. Чтобы не искать велосипед на сайте вручную, мы хотим написать программу, которая будет проверять каждый велосипед на нужный нам год выпуска и на количество скоростей.\n",
        "\n",
        "Используя один из логических операторов (and, or), напишите программу из урока, которая запрашивает год выпуска велосипеда и количество скоростей на нём и выводит на экран сообщение о том, подходит этот велик или нет. Год выпуска — не старше 2018-го, количество скоростей — не менее 24."
      ]
    },
    {
      "cell_type": "code",
      "metadata": {
        "colab": {
          "base_uri": "https://localhost:8080/"
        },
        "id": "SUlBK8Chu9y-",
        "outputId": "7f716164-c363-4e42-dc50-980fc87de30a"
      },
      "source": [
        "year = int(input('Введите дату выпуска: '))\n",
        "speed_count = int(input('Введите количество скоростей: '))\n",
        "\n",
        "if year < 2018 or speed_count < 24:\n",
        "    print('Не соответствует критериям') \n",
        "else:\n",
        "    print('Подходит')"
      ],
      "execution_count": 4,
      "outputs": [
        {
          "output_type": "stream",
          "name": "stdout",
          "text": [
            "Введите дату выпуска: 2014\n",
            "Введите количество скоростей: 12\n",
            "Не соответствует критериям\n"
          ]
        }
      ]
    },
    {
      "cell_type": "markdown",
      "metadata": {
        "id": "KmzR9yql9_SH"
      },
      "source": [
        "###**Задача 2. Как поступить?**\n",
        "\n",
        "Илья хочет в лучший вуз страны, а для этого нужно не только хорошо сдать экзамены (балл должен быть больше 280), но и иметь золотую медаль.\n",
        "\n",
        "Напишите программу, которая запрашивает у пользователя два числа: результат экзаменов и наличие золотой медали (0 — нет медали, 1 — медаль есть), а затем проверяет, поступил ли Илья в вуз. Выведите соответствующее сообщение.\n",
        "\n",
        "\n",
        "\n",
        "Пример:\n",
        "\n",
        "Сколько баллов набрал? 290\n",
        "\n",
        "Есть медаль? 1\n",
        "\n",
        "Поздравляем! Ты поступил!\n",
        "\n",
        "\n",
        "\n",
        "Пример 2:\n",
        "\n",
        "Сколько баллов набрал? 269\n",
        "\n",
        "Есть медаль? 1\n",
        "\n",
        "К сожалению, ты не прошёл в наш университет."
      ]
    },
    {
      "cell_type": "code",
      "metadata": {
        "colab": {
          "base_uri": "https://localhost:8080/"
        },
        "id": "fNw0nOXa1dGU",
        "outputId": "913d7156-594f-40ae-f9d8-c5941b17f283"
      },
      "source": [
        "exam_result = int(input('Сколько баллов набрал? '))\n",
        "gold_medal = int(input('Есть медаль? '))\n",
        "if exam_result > 280 and gold_medal == 1:\n",
        "  print('Поздравляем! Ты поступил!')\n",
        "else:\n",
        "  print('К сожалению, ты не прошёл в наш университет.')"
      ],
      "execution_count": 5,
      "outputs": [
        {
          "output_type": "stream",
          "name": "stdout",
          "text": [
            "Сколько баллов набрал? 290\n",
            "Есть медаль? 1\n",
            "Поздравляем! Ты поступил!\n"
          ]
        }
      ]
    },
    {
      "cell_type": "code",
      "metadata": {
        "colab": {
          "base_uri": "https://localhost:8080/"
        },
        "id": "tWvVnV08_L43",
        "outputId": "083e781c-1ed6-4cb1-c842-f5f3bd6c91b3"
      },
      "source": [
        "exam_result = int(input('Сколько баллов набрал? '))\n",
        "gold_medal = int(input('Есть медаль? '))\n",
        "if exam_result < 280 or gold_medal != 1:\n",
        "  print('К сожалению, ты не прошёл в наш университет.')\n",
        "else:\n",
        "  print('Поздравляем! Ты поступил!')"
      ],
      "execution_count": 6,
      "outputs": [
        {
          "output_type": "stream",
          "name": "stdout",
          "text": [
            "Сколько баллов набрал? 269\n",
            "Есть медаль? 1\n",
            "К сожалению, ты не прошёл в наш университет.\n"
          ]
        }
      ]
    },
    {
      "cell_type": "markdown",
      "metadata": {
        "id": "58YUJe0-_pmM"
      },
      "source": [
        "###**Задача 3. Бактерии живут комфортно**\n",
        "\n",
        "Биолог Арсений изучает микробы и их поведение при разных температурных нагрузках. Он помещает их в специальную среду, где температура скачет в промежутке от 0 до 100 градусов. Если же температура в среде выходит за рамки промежутка, то выводится предупреждение.\n",
        "\n",
        "Напишите программу, которая запрашивает у пользователя температуру, и, если она меньше нуля или больше 100, то выводится сообщение об опасности."
      ]
    },
    {
      "cell_type": "code",
      "metadata": {
        "colab": {
          "base_uri": "https://localhost:8080/"
        },
        "id": "P0cx_gIC_sKS",
        "outputId": "e1c2ed08-7d5e-4660-9ac5-5f150988a5e2"
      },
      "source": [
        "temperature = int(input('Ваедите температуру : '))\n",
        "if temperature < 0 or temperature > 100:\n",
        "  print('Сообщение об опасности.')"
      ],
      "execution_count": 7,
      "outputs": [
        {
          "output_type": "stream",
          "name": "stdout",
          "text": [
            "Ваедите температуру : 101\n",
            "Сообщение об опасности.\n"
          ]
        }
      ]
    },
    {
      "cell_type": "markdown",
      "metadata": {
        "id": "S6wgObKSB1_D"
      },
      "source": [
        "##**Использование нескольких логических операторов**"
      ]
    },
    {
      "cell_type": "markdown",
      "metadata": {
        "id": "rbEajKZzB6l-"
      },
      "source": [
        "**Задача високосный год**"
      ]
    },
    {
      "cell_type": "code",
      "metadata": {
        "colab": {
          "base_uri": "https://localhost:8080/"
        },
        "id": "F1DNqtdNB53k",
        "outputId": "1bdc8c40-45c2-4df7-ff2c-bd60567c5897"
      },
      "source": [
        "year = int(input('Введите год : '))\n",
        "if (year % 4 == 0 and year % 100 == 0) or (year % 400 == 0):\n",
        "  print('Год високостный.')\n",
        "else:\n",
        "  print('Год не високостный.')"
      ],
      "execution_count": 8,
      "outputs": [
        {
          "output_type": "stream",
          "name": "stdout",
          "text": [
            "Введите год : 2022\n",
            "Год не високостный.\n"
          ]
        }
      ]
    }
  ]
}