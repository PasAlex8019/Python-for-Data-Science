{
  "nbformat": 4,
  "nbformat_minor": 0,
  "metadata": {
    "colab": {
      "name": "Python 2. variables/переменные",
      "provenance": [],
      "authorship_tag": "ABX9TyPsk2UghNTI/AcLRcpHBcea",
      "include_colab_link": true
    },
    "kernelspec": {
      "name": "python3",
      "display_name": "Python 3"
    },
    "language_info": {
      "name": "python"
    }
  },
  "cells": [
    {
      "cell_type": "markdown",
      "metadata": {
        "id": "view-in-github",
        "colab_type": "text"
      },
      "source": [
        "<a href=\"https://colab.research.google.com/github/PasAlex8019/Python-for-Data-Science/blob/main/Python_2_variables_%D0%BF%D0%B5%D1%80%D0%B5%D0%BC%D0%B5%D0%BD%D0%BD%D1%8B%D0%B5.ipynb\" target=\"_parent\"><img src=\"https://colab.research.google.com/assets/colab-badge.svg\" alt=\"Open In Colab\"/></a>"
      ]
    },
    {
      "cell_type": "markdown",
      "metadata": {
        "id": "KqLWS-VRyZ3A"
      },
      "source": [
        "## Правила переменной (имя)\n",
        "* только английский алфавит  (name)\n",
        "* без спец символов (@,#,$,%,^,&) и т.д.  (name)\n",
        "* без пробелов (используется нижнее подчеркивание)  (new_name)"
      ]
    },
    {
      "cell_type": "markdown",
      "metadata": {
        "id": "SJqOkd0J7ePi"
      },
      "source": [
        "## Что нужно сделать\n",
        "\n",
        "### Задача 1. Моя первая переменная\n",
        "\n",
        "Создайте переменную, присвойте ей текст «Моя первая переменная!» и выведите значение переменной на экран. Для этого:\n",
        "\n",
        "1. Назовите переменную, используйте только буквы латинского алфавита. Пример имени: first.\n",
        "\n",
        "2. После этого сделайте присваивание (знак = ).\n",
        "\n",
        "3. Вставьте нужный текст.\n",
        "\n",
        "4. Вставьте команду вывода переменной на экран в следующей строке программы. Кавычки здесь не нужны.\n",
        "\n",
        "5. Запустите программу и убедитесь, что в консоль выводится сообщение: «Моя первая переменная!»\n",
        "\n"
      ]
    },
    {
      "cell_type": "code",
      "metadata": {
        "colab": {
          "base_uri": "https://localhost:8080/"
        },
        "id": "N5bZYv6bt3Fm",
        "outputId": "1dde1928-f706-4616-a633-5019cbb6d3a6"
      },
      "source": [
        "text = 'Моя первая переменная!'\n",
        "print(text)"
      ],
      "execution_count": 1,
      "outputs": [
        {
          "output_type": "stream",
          "name": "stdout",
          "text": [
            "Моя первая переменная!\n"
          ]
        }
      ]
    },
    {
      "cell_type": "markdown",
      "metadata": {
        "id": "mAU-9Sp570jg"
      },
      "source": [
        "## Задача 2. Две переменные\n",
        "\n",
        "Продолжая предыдущую программу, создайте ещё одну переменную с другим именем (например second), присвойте ей значение «И не последняя!» и выведете её на экран. В результате работы программы в консоли должно отобразиться две строки: «Моя первая переменная!» и «И не последняя!»"
      ]
    },
    {
      "cell_type": "code",
      "metadata": {
        "colab": {
          "base_uri": "https://localhost:8080/"
        },
        "id": "IYr1-RBm7vTk",
        "outputId": "820816cf-0dee-41c2-a877-ef13fd1d5c1e"
      },
      "source": [
        "second = 'И не последняя!'\n",
        "print(text)\n",
        "print(second)"
      ],
      "execution_count": 2,
      "outputs": [
        {
          "output_type": "stream",
          "name": "stdout",
          "text": [
            "Моя первая переменная!\n",
            "И не последняя!\n"
          ]
        }
      ]
    },
    {
      "cell_type": "markdown",
      "metadata": {
        "id": "iMlHoODL8Oez"
      },
      "source": [
        "## Задача 3. Ошибки в коде\n",
        "\n",
        "Дана программа\n",
        "\n",
        "my color@ = 'Зелёный'\n",
        "\n",
        "*sport& = 'Бег'\n",
        "\n",
        "print('Меня зовут')\n",
        "\n",
        "print(name)\n",
        "\n",
        "name = 'Иван'\n",
        "\n",
        "print('Мой любимый цвет:')\n",
        "\n",
        "print(my_color)\n",
        "\n",
        "print('Мой любимый вид спорта:')\n",
        "\n",
        "print(спорт)\n",
        "\n",
        "1. Скопируйте программу в редактор и исправьте ошибки в названиях и выводе переменных. При необходимости переставляйте строчки местами.\n",
        "2. Проверьте правильность работы программы.\n",
        "\n",
        "Правильный результат:\n",
        "\n",
        "![Без_названия_0piOhfc.png](data:image/png;base64,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)\n"
      ]
    },
    {
      "cell_type": "code",
      "metadata": {
        "colab": {
          "base_uri": "https://localhost:8080/"
        },
        "id": "c7dG3L5k8JDT",
        "outputId": "0549400b-c604-421e-8eed-536e892b5fbc"
      },
      "source": [
        "sport = 'Бег'\n",
        "print('Меня зовут')\n",
        "\n",
        "name = 'Иван'\n",
        "print(name)\n",
        "\n",
        "print('Мой любимый цвет:')\n",
        "my_color = 'Зеленый'\n",
        "print(my_color)\n",
        "print('Мой любимый вид спорта:')\n",
        "print(sport)"
      ],
      "execution_count": 3,
      "outputs": [
        {
          "output_type": "stream",
          "name": "stdout",
          "text": [
            "Меня зовут\n",
            "Иван\n",
            "Мой любимый цвет:\n",
            "Зеленый\n",
            "Мой любимый вид спорта:\n",
            "Бег\n"
          ]
        }
      ]
    }
  ]
}