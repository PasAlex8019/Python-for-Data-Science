{
  "nbformat": 4,
  "nbformat_minor": 0,
  "metadata": {
    "colab": {
      "name": "Python_6_Функция range с началом отсчета",
      "provenance": [],
      "authorship_tag": "ABX9TyPpoQuinuVjywvb2ayCjR+i",
      "include_colab_link": true
    },
    "kernelspec": {
      "name": "python3",
      "display_name": "Python 3"
    },
    "language_info": {
      "name": "python"
    }
  },
  "cells": [
    {
      "cell_type": "markdown",
      "metadata": {
        "id": "view-in-github",
        "colab_type": "text"
      },
      "source": [
        "<a href=\"https://colab.research.google.com/github/PasAlex8019/Python-for-Data-Science/blob/main/Python_6_%D0%A4%D1%83%D0%BD%D0%BA%D1%86%D0%B8%D1%8F_range_%D1%81_%D0%BD%D0%B0%D1%87%D0%B0%D0%BB%D0%BE%D0%BC_%D0%BE%D1%82%D1%81%D1%87%D0%B5%D1%82%D0%B0.ipynb\" target=\"_parent\"><img src=\"https://colab.research.google.com/assets/colab-badge.svg\" alt=\"Open In Colab\"/></a>"
      ]
    },
    {
      "cell_type": "markdown",
      "metadata": {
        "id": "VLqc-nX9C-Cx"
      },
      "source": [
        "### В функции range можно задать начало диапазона и его конец\n",
        " range(начало диапазона, конец диапазона)"
      ]
    },
    {
      "cell_type": "code",
      "metadata": {
        "colab": {
          "base_uri": "https://localhost:8080/"
        },
        "id": "DOfMTK1BBchZ",
        "outputId": "687b9d73-981d-4cdf-885b-bee13f56344f"
      },
      "source": [
        "begin_number = int(input('Введите начальное число: '))\n",
        "end_number = int(input('Ввудите конечное число: '))\n",
        "\n",
        "for number in range(begin_number, end_number):\n",
        "  print(number ** 2)"
      ],
      "execution_count": null,
      "outputs": [
        {
          "output_type": "stream",
          "name": "stdout",
          "text": [
            "Введите начальное число: 5\n",
            "Ввудите конечное число: 12\n",
            "25\n",
            "36\n",
            "49\n",
            "64\n",
            "81\n",
            "100\n",
            "121\n"
          ]
        }
      ]
    },
    {
      "cell_type": "markdown",
      "metadata": {
        "id": "LZxAPZAIDe2a"
      },
      "source": [
        "В функции range диапазон начинается с нуля 0 и не включает последнее значение для учёта последнего значения в диапазоне rangeнеобходимо его увеличение на одно значение + 1"
      ]
    },
    {
      "cell_type": "code",
      "metadata": {
        "colab": {
          "base_uri": "https://localhost:8080/"
        },
        "id": "sRMppN36CxhP",
        "outputId": "53ed9210-ac37-46c3-f9b3-7a837f4992ef"
      },
      "source": [
        "begin_number = int(input('Введите начальное число: '))\n",
        "end_number = int(input('Ввудите конечное число: '))\n",
        "\n",
        "for number in range(begin_number, end_number + 1):\n",
        "  print()\n",
        "  print('Номер позиции в диапазоне: ', number)\n",
        "  print('Квадрат числа: ', number ** 2)"
      ],
      "execution_count": null,
      "outputs": [
        {
          "output_type": "stream",
          "name": "stdout",
          "text": [
            "Введите начальное число: 4\n",
            "Ввудите конечное число: 8\n",
            "\n",
            "Номер позиции в диапазоне:  4\n",
            "Квадрат числа:  16\n",
            "\n",
            "Номер позиции в диапазоне:  5\n",
            "Квадрат числа:  25\n",
            "\n",
            "Номер позиции в диапазоне:  6\n",
            "Квадрат числа:  36\n",
            "\n",
            "Номер позиции в диапазоне:  7\n",
            "Квадрат числа:  49\n",
            "\n",
            "Номер позиции в диапазоне:  8\n",
            "Квадрат числа:  64\n"
          ]
        }
      ]
    },
    {
      "cell_type": "markdown",
      "metadata": {
        "id": "SgeOugPs5fLq"
      },
      "source": [
        "###**Задача \"Здоровый сон\"**\n",
        "**Условие**\n",
        "\n",
        "Восколько проснулись\n",
        "\n",
        "Количество калорий на каждый час\n",
        "\n",
        "Засыпаем в 23. Если съели > 2000, то засыпаем сразу\n",
        "\n",
        "**Выходные данные**\n",
        "\n",
        "Общее количество калорий\n",
        "\n",
        "Кол-во часов бодроствования"
      ]
    },
    {
      "cell_type": "code",
      "metadata": {
        "colab": {
          "base_uri": "https://localhost:8080/"
        },
        "id": "9fBRhbhs4tEW",
        "outputId": "63e73647-59bf-4668-cfd3-bd2129b0d46a"
      },
      "source": [
        "wake_up = int(input('Восколько проснулся? '))\n",
        "awake_hours = 0\n",
        "calories_sum = 0\n",
        "\n",
        "for hour in range (wake_up, 23):\n",
        "  print('Сейчас', hour, 'часов')\n",
        "  calories = int(input('Сколько съел за час? '))\n",
        "  calories_sum += calories\n",
        "  if calories_sum > 2000:\n",
        "    print('Хорошо поел, можно и поспать')\n",
        "    break\n",
        "  awake_hours += 1\n",
        "print('Съедено калорий за день: ', calories_sum)\n",
        "print('Часов не спал: ', awake_hours)"
      ],
      "execution_count": 7,
      "outputs": [
        {
          "output_type": "stream",
          "name": "stdout",
          "text": [
            "Восколько проснулся? 20\n",
            "Сейчас 20 часов\n",
            "Сколько съел за час? 56\n",
            "Сейчас 21 часов\n",
            "Сколько съел за час? 45\n",
            "Сейчас 22 часов\n",
            "Сколько съел за час? 32\n",
            "Съедено калорий за день:  133\n",
            "Часов не спал:  3\n"
          ]
        }
      ]
    },
    {
      "cell_type": "markdown",
      "metadata": {
        "id": "OoeilXRazD4s"
      },
      "source": [
        "##**Практика**\n"
      ]
    },
    {
      "cell_type": "markdown",
      "metadata": {
        "id": "R2z-cJrBzIEw"
      },
      "source": [
        "**Задача 1. Квадраты превратились в кубы**\n",
        "\n",
        "Напишите программу, которая выводит кубы чисел (число в третьей степени), лежащих в диапазоне от 1 до 10.\n",
        "\n",
        "Результат:\n",
        "\n",
        "1\n",
        "\n",
        "8\n",
        "\n",
        "27\n",
        "\n",
        "64\n",
        "\n",
        "125\n",
        "\n",
        "216\n",
        "\n",
        "343\n",
        "\n",
        "512\n",
        "\n",
        "729\n",
        "\n",
        "1000\n"
      ]
    },
    {
      "cell_type": "code",
      "metadata": {
        "id": "sc7mE51sECr5",
        "colab": {
          "base_uri": "https://localhost:8080/"
        },
        "outputId": "b1548789-fd90-48ff-9d53-65e7cbc356f9"
      },
      "source": [
        "for number in range(1, 11):\n",
        "  print(number ** 3)"
      ],
      "execution_count": 1,
      "outputs": [
        {
          "output_type": "stream",
          "name": "stdout",
          "text": [
            "1\n",
            "8\n",
            "27\n",
            "64\n",
            "125\n",
            "216\n",
            "343\n",
            "512\n",
            "729\n",
            "1000\n"
          ]
        }
      ]
    },
    {
      "cell_type": "markdown",
      "metadata": {
        "id": "C_go0_1Bzrpj"
      },
      "source": [
        "**Задача 2. Сумма чисел**\n",
        "\n",
        "Напишите программу, где пользователь вводит любые два целых положительных числа. А программа суммирует все числа в диапазоне от первого до второго. Гарантируется, что первое введённое число всегда меньше второго.\n",
        "\n",
        "Пример:\n",
        "\n",
        "Введите первое число: 5\n",
        "\n",
        "Введите второе число: 10\n",
        "\n",
        "Сумма чисел от 5 до 10 равна 45\n"
      ]
    },
    {
      "cell_type": "code",
      "metadata": {
        "colab": {
          "base_uri": "https://localhost:8080/"
        },
        "id": "FG8lntVRzicq",
        "outputId": "97892eb2-84e4-4843-9286-184d2c2366c6"
      },
      "source": [
        "begin_num = int(input('Введите первое число: '))\n",
        "end_num = int(input('Введите второе число: '))\n",
        "summ = 0\n",
        "\n",
        "for number in range(begin_num, end_num + 1):\n",
        "  summ += number\n",
        "print(f'Сумма чисел от {begin_num} до {end_num} равна {summ}')"
      ],
      "execution_count": 2,
      "outputs": [
        {
          "output_type": "stream",
          "name": "stdout",
          "text": [
            "Введите первое число: 5\n",
            "Введите второе число: 10\n",
            "Сумма чисел от 5 до 10 равна 45\n"
          ]
        }
      ]
    },
    {
      "cell_type": "markdown",
      "metadata": {
        "id": "SpxwZDgM01Mm"
      },
      "source": [
        "**Задача 3. Поел - можно и поспать, поспал - можно и поесть**\n",
        "\n",
        "Напишите программу, разобранную в уроке.\n",
        "\n",
        "У Саши интересный режим сна: он может проснуться когда угодно, хоть ночью, но засыпает всегда до того, как наступит полночь, обычно в 23 часа. А ещё он очень любит поесть. Он ест каждый час и если съедает больше 2000 калорий, то он просто падает спать. Напишите программу, которая поможет Саше понять, всё ли с ним хорошо. Для этого нужно посчитать, сколько он всего съест калорий и сколько часов будет бодрым."
      ]
    },
    {
      "cell_type": "code",
      "metadata": {
        "colab": {
          "base_uri": "https://localhost:8080/"
        },
        "id": "BoznpykF056O",
        "outputId": "7bf040ff-435b-41b1-bc33-afeeb7fb1e54"
      },
      "source": [
        "wake_up = int(input('Восколько проснулся? '))\n",
        "awake_hours = 0\n",
        "calories_sum = 0\n",
        "\n",
        "for hour in range (wake_up, 23):\n",
        "  print('Сейчас', hour, 'часов')\n",
        "  calories = int(input('Сколько съел за час? '))\n",
        "  calories_sum += calories\n",
        "  if calories_sum > 2000:\n",
        "    print('Хорошо поел, можно и поспать')\n",
        "    break\n",
        "  awake_hours += 1\n",
        "print('Съедено калорий за день: ', calories_sum)\n",
        "print('Часов не спал: ', awake_hours)"
      ],
      "execution_count": 8,
      "outputs": [
        {
          "output_type": "stream",
          "name": "stdout",
          "text": [
            "Восколько проснулся? 7\n",
            "Сейчас 7 часов\n",
            "Сколько съел за час? 300\n",
            "Сейчас 8 часов\n",
            "Сколько съел за час? 1500\n",
            "Сейчас 9 часов\n",
            "Сколько съел за час? 250\n",
            "Хорошо поел, можно и поспать\n",
            "Съедено калорий за день:  2050\n",
            "Часов не спал:  2\n"
          ]
        }
      ]
    },
    {
      "cell_type": "code",
      "metadata": {
        "id": "5wEG9Cd9CZFn"
      },
      "source": [
        ""
      ],
      "execution_count": null,
      "outputs": []
    }
  ]
}