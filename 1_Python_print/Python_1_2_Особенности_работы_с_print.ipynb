{
  "nbformat": 4,
  "nbformat_minor": 0,
  "metadata": {
    "colab": {
      "name": "Python 1.2. Особенности работы с print",
      "provenance": [],
      "authorship_tag": "ABX9TyOGe4pgPHFQvSs52BtwsSC+",
      "include_colab_link": true
    },
    "kernelspec": {
      "name": "python3",
      "display_name": "Python 3"
    },
    "language_info": {
      "name": "python"
    }
  },
  "cells": [
    {
      "cell_type": "markdown",
      "metadata": {
        "id": "view-in-github",
        "colab_type": "text"
      },
      "source": [
        "<a href=\"https://colab.research.google.com/github/PasAlex8019/Python-for-Data-Science/blob/main/Python_1_2_%D0%9E%D1%81%D0%BE%D0%B1%D0%B5%D0%BD%D0%BD%D0%BE%D1%81%D1%82%D0%B8_%D1%80%D0%B0%D0%B1%D0%BE%D1%82%D1%8B_%D1%81_print.ipynb\" target=\"_parent\"><img src=\"https://colab.research.google.com/assets/colab-badge.svg\" alt=\"Open In Colab\"/></a>"
      ]
    },
    {
      "cell_type": "markdown",
      "metadata": {
        "id": "YXRtsG3SlJsI"
      },
      "source": [
        "## Правильный выбор апострофа."
      ]
    },
    {
      "cell_type": "code",
      "metadata": {
        "colab": {
          "base_uri": "https://localhost:8080/"
        },
        "id": "2r7OOtaLlL0v",
        "outputId": "451fa22f-88a1-4d4c-bcd9-da6a62225ae2"
      },
      "source": [
        "print(\"I'm Python\")"
      ],
      "execution_count": 1,
      "outputs": [
        {
          "output_type": "stream",
          "name": "stdout",
          "text": [
            "I'm Python\n"
          ]
        }
      ]
    },
    {
      "cell_type": "markdown",
      "metadata": {
        "id": "fMD8BkdOl5yC"
      },
      "source": [
        "Если в тексте уже встречаются одинарные кавычки, то необходимо использовать двойные"
      ]
    },
    {
      "cell_type": "markdown",
      "metadata": {
        "id": "eXdReKn3mPZ8"
      },
      "source": [
        "В консоле можно выводить любые символы и даже рисовать с помощью их, однаро не забываем про кавычки."
      ]
    },
    {
      "cell_type": "code",
      "metadata": {
        "colab": {
          "base_uri": "https://localhost:8080/"
        },
        "id": "-RkaOvJXltX7",
        "outputId": "2aadacdf-fe99-4946-f001-90a0cdb32940"
      },
      "source": [
        "print('*****')\n",
        "print('*   *')\n",
        "print('*   *')\n",
        "print('*****')"
      ],
      "execution_count": 2,
      "outputs": [
        {
          "output_type": "stream",
          "name": "stdout",
          "text": [
            "*****\n",
            "*   *\n",
            "*   *\n",
            "*****\n"
          ]
        }
      ]
    }
  ]
}