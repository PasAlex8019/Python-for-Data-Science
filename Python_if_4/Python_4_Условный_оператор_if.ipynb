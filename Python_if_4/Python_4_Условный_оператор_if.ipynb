{
  "nbformat": 4,
  "nbformat_minor": 0,
  "metadata": {
    "colab": {
      "name": "Python_4_Условный оператор_if",
      "provenance": [],
      "authorship_tag": "ABX9TyPA0glwXlwc1wMHJQMXQi5v",
      "include_colab_link": true
    },
    "kernelspec": {
      "name": "python3",
      "display_name": "Python 3"
    },
    "language_info": {
      "name": "python"
    }
  },
  "cells": [
    {
      "cell_type": "markdown",
      "metadata": {
        "id": "view-in-github",
        "colab_type": "text"
      },
      "source": [
        "<a href=\"https://colab.research.google.com/github/PasAlex8019/Python-for-Data-Science/blob/main/Python_4_%D0%A3%D1%81%D0%BB%D0%BE%D0%B2%D0%BD%D1%8B%D0%B9_%D0%BE%D0%BF%D0%B5%D1%80%D0%B0%D1%82%D0%BE%D1%80_if.ipynb\" target=\"_parent\"><img src=\"https://colab.research.google.com/assets/colab-badge.svg\" alt=\"Open In Colab\"/></a>"
      ]
    },
    {
      "cell_type": "code",
      "metadata": {
        "colab": {
          "base_uri": "https://localhost:8080/"
        },
        "id": "zpPTlSlSyFiF",
        "outputId": "6d155dc2-fcd5-4a16-bcde-54b30355caab"
      },
      "source": [
        "bank = int(input(\"Сколько денег на счету ? \"))\n",
        "if bank >= 75000:\n",
        "  print('Курс успешно приобретен.')\n",
        "  # if условие (:) тогда\n",
        "  # обычный код\n"
      ],
      "execution_count": 5,
      "outputs": [
        {
          "output_type": "stream",
          "name": "stdout",
          "text": [
            "Сколько денег на счету ? 75000\n",
            "Курс успешно приобретен.\n"
          ]
        }
      ]
    },
    {
      "cell_type": "code",
      "metadata": {
        "colab": {
          "base_uri": "https://localhost:8080/"
        },
        "id": "PBImyj3R2xgW",
        "outputId": "9171e401-285e-4381-a2c4-1b9ec4adfce9"
      },
      "source": [
        "bank = int(input(\"Сколько денег на счету ? \"))\n",
        "if bank >= 75000:\n",
        "  bank -= 75000\n",
        "  print('Курс успешно приобретен.')\n",
        "print('Хорошего дня.')\n"
      ],
      "execution_count": 7,
      "outputs": [
        {
          "output_type": "stream",
          "name": "stdout",
          "text": [
            "Сколько денег на счету ? 76000\n",
            "Курс успешно приобретен.\n",
            "Хорошего дня.\n"
          ]
        }
      ]
    },
    {
      "cell_type": "code",
      "metadata": {
        "colab": {
          "base_uri": "https://localhost:8080/"
        },
        "id": "QtY0hdw62zGh",
        "outputId": "e1b25a8a-2d88-4c9f-ebf0-0b03960f4a70"
      },
      "source": [
        "son = int(input('Какое число, я загодал ? '))\n",
        "father = 5\n",
        "if son == father:\n",
        "  print('Угадал, можешь идти гулять.')"
      ],
      "execution_count": 10,
      "outputs": [
        {
          "output_type": "stream",
          "name": "stdout",
          "text": [
            "Какое число, я загодал ? 5\n",
            "Угадал, можешь идти гулять.\n"
          ]
        }
      ]
    },
    {
      "cell_type": "code",
      "metadata": {
        "colab": {
          "base_uri": "https://localhost:8080/"
        },
        "id": "ZaXFTcsi49Yp",
        "outputId": "4a983e84-717e-43b8-8aa8-7020274dd142"
      },
      "source": [
        "son = int(input('Какое число, я загодал ? '))\n",
        "father = 5\n",
        "if son != father:\n",
        "  print('Не угадал.')"
      ],
      "execution_count": 11,
      "outputs": [
        {
          "output_type": "stream",
          "name": "stdout",
          "text": [
            "Какое число, я загодал ? 6\n",
            "Не угадал.\n"
          ]
        }
      ]
    },
    {
      "cell_type": "markdown",
      "metadata": {
        "id": "AUOMkvwV5bTK"
      },
      "source": [
        "Операции сравнения\n",
        "\n",
        "Примеры использования\n",
        "\n",
        ".> Больше\n",
        "\n",
        "if a > b:\n",
        "\n",
        "<  Меньше\n",
        "\n",
        "if a < b:\n",
        "\n",
        ".>= Больше либо равно\n",
        "\n",
        "if a >= b:\n",
        "\n",
        "<= Меньше либо равно\n",
        "\n",
        "if a <= b:\n",
        "\n",
        "== Равно\n",
        "\n",
        "if a == b:\n",
        "\n",
        "!= Не равно\n",
        "\n",
        "if a != b:"
      ]
    },
    {
      "cell_type": "markdown",
      "metadata": {
        "id": "-7JW628T6LLX"
      },
      "source": [
        "### **Практика**\n",
        "\n",
        "**Цель задания**\n",
        "\n",
        "Научиться работать с условным оператором if."
      ]
    },
    {
      "cell_type": "markdown",
      "metadata": {
        "id": "LI7y-5Uf6Xsi"
      },
      "source": [
        "**Задача 1. Сбой**\n",
        "\n",
        "На предприятии произошло ЧП: что-то случилось с программным обеспечением, и производство встало. Когда стали разбираться, нашли битый кусок программы:\n",
        "\n",
        "a = 6\n",
        "\n",
        "b = ?\n",
        "\n",
        "c = 0\n",
        "\n",
        "if ? < ?\n",
        "\n",
        "c = a * b\n",
        "\n",
        "print(c)\n",
        "\n",
        "\n",
        "\n",
        "По задумке, здесь проверялись переменные а и b и в конце должен был выводиться ответ 12.\n",
        "\n",
        "Скопируйте программу в редактор, исправьте ошибки и вставьте необходимые значения вместо знаков вопроса. Проверьте работу программы.\n",
        "\n"
      ]
    },
    {
      "cell_type": "code",
      "metadata": {
        "colab": {
          "base_uri": "https://localhost:8080/"
        },
        "id": "kFqVbHgx5IXf",
        "outputId": "f83b7939-bcfb-4986-f7c0-267f6305eeb0"
      },
      "source": [
        "a = 6\n",
        "\n",
        "b = 2\n",
        "\n",
        "c = 0\n",
        "\n",
        "if b < a:\n",
        "  c = a * b\n",
        "  print(c)"
      ],
      "execution_count": 13,
      "outputs": [
        {
          "output_type": "stream",
          "name": "stdout",
          "text": [
            "12\n"
          ]
        }
      ]
    },
    {
      "cell_type": "markdown",
      "metadata": {
        "id": "CyNIa-Wg7Fiq"
      },
      "source": [
        "**Задача 2. Курс от Skillbox**\n",
        "\n",
        "Повторим задачу, разобранную в уроке, и дополним её одной строчкой.\n",
        "\n",
        "Пользователь хочет купить курс и вводит состояние своего банковского счёта для проверки.\n",
        "Курс стоит 75 000 рублей. Если на счету хватает денег (больше или равно), то со счёта списываются 75 000 рублей, и программа выводит сообщение об успешной покупке.\n",
        "В конце обязательно выводится сообщение «Хорошего дня!», вне зависимости от результата проверки.\n",
        "Пример:\n",
        "\n",
        "Сколько денег на счету? 90 000\n",
        "\n",
        "Курс успешно приобретён.\n",
        "\n",
        "Хорошего дня!"
      ]
    },
    {
      "cell_type": "code",
      "metadata": {
        "colab": {
          "base_uri": "https://localhost:8080/"
        },
        "id": "UKGyqKI07JOX",
        "outputId": "a0308872-6182-4593-e1f1-3bd06b6d6c5f"
      },
      "source": [
        "bank = int(input(\"Сколько денег на счету ? \"))\n",
        "if bank >= 75000:\n",
        "  bank -= 75000\n",
        "  print('Курс успешно приобретен.')\n",
        "print('Хорошего дня.')"
      ],
      "execution_count": 14,
      "outputs": [
        {
          "output_type": "stream",
          "name": "stdout",
          "text": [
            "Сколько денег на счету ? 90000\n",
            "Курс успешно приобретен.\n",
            "Хорошего дня.\n"
          ]
        }
      ]
    },
    {
      "cell_type": "markdown",
      "metadata": {
        "id": "EhMaOytH7dFt"
      },
      "source": [
        "**Задача 3. Угадай число**\n",
        "\n",
        "Отец пообещал сыну отпустить его гулять, если тот с первого раза угадает число от 1 до 10, которое загадал папа. В противном случае сыну придётся весь день делать уроки.\n",
        "\n",
        "Напишите программу из урока, которая запрашивает число у пользователя (у сына), затем сравнивает его с другим числом (которое отец загадал), и если они равны, то выводит сообщение «Угадал». В конце вывести фразу: «Конец игры».\n",
        "\n",
        "* Пример 1:\n",
        "\n",
        "Какое число я загадал? 5\n",
        "\n",
        "Угадал!\n",
        "\n",
        "Конец игры\n",
        "\n",
        "\n",
        "\n",
        "\n",
        "* Пример 2:\n",
        "\n",
        "Какое число я загадал? 6\n",
        "\n",
        "Конец игры\n",
        "\n",
        "\n",
        "\n",
        "Попробуйте решить задачу сначала с помощью одного знака сравнения (==), а затем с помощью другого (!=). Во втором случае сообщение измените на «Не угадал»."
      ]
    },
    {
      "cell_type": "code",
      "metadata": {
        "colab": {
          "base_uri": "https://localhost:8080/"
        },
        "id": "UgLWxUOK7ru1",
        "outputId": "a83ade6d-ff87-4051-f7f7-1271552b100b"
      },
      "source": [
        "son = int(input('Какое число, я загодал ? '))\n",
        "father = 5\n",
        "if son == father:\n",
        "  print('Угадал!')\n",
        "  print('Конец игры')"
      ],
      "execution_count": 15,
      "outputs": [
        {
          "output_type": "stream",
          "name": "stdout",
          "text": [
            "Какое число, я загодал ? 5\n",
            "Угадал!\n",
            "Конец игры\n"
          ]
        }
      ]
    },
    {
      "cell_type": "code",
      "metadata": {
        "colab": {
          "base_uri": "https://localhost:8080/"
        },
        "id": "nc3FGElO8Lyc",
        "outputId": "34fc05cd-c85f-4d49-c5b2-0ffb946604bd"
      },
      "source": [
        "son = int(input('Какое число, я загодал ? '))\n",
        "father = 5\n",
        "if son != father:\n",
        "  print('Не угадал!')\n",
        "  print('Конец игры')"
      ],
      "execution_count": 16,
      "outputs": [
        {
          "output_type": "stream",
          "name": "stdout",
          "text": [
            "Какое число, я загодал ? 6\n",
            "Не угадал!\n",
            "Конец игры\n"
          ]
        }
      ]
    },
    {
      "cell_type": "code",
      "metadata": {
        "id": "WjrtCoKQ8RqA"
      },
      "source": [
        ""
      ],
      "execution_count": null,
      "outputs": []
    }
  ]
}