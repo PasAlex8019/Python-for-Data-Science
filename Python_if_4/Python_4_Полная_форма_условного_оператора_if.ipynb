{
  "nbformat": 4,
  "nbformat_minor": 0,
  "metadata": {
    "colab": {
      "name": "Python_4_Полная форма условного оператора if",
      "provenance": [],
      "authorship_tag": "ABX9TyMFVDizmcCTRS5NS3IUwGrg",
      "include_colab_link": true
    },
    "kernelspec": {
      "name": "python3",
      "display_name": "Python 3"
    },
    "language_info": {
      "name": "python"
    }
  },
  "cells": [
    {
      "cell_type": "markdown",
      "metadata": {
        "id": "view-in-github",
        "colab_type": "text"
      },
      "source": [
        "<a href=\"https://colab.research.google.com/github/PasAlex8019/Python-for-Data-Science/blob/main/Python_4_%D0%9F%D0%BE%D0%BB%D0%BD%D0%B0%D1%8F_%D1%84%D0%BE%D1%80%D0%BC%D0%B0_%D1%83%D1%81%D0%BB%D0%BE%D0%B2%D0%BD%D0%BE%D0%B3%D0%BE_%D0%BE%D0%BF%D0%B5%D1%80%D0%B0%D1%82%D0%BE%D1%80%D0%B0_if.ipynb\" target=\"_parent\"><img src=\"https://colab.research.google.com/assets/colab-badge.svg\" alt=\"Open In Colab\"/></a>"
      ]
    },
    {
      "cell_type": "markdown",
      "metadata": {
        "id": "7LFyPCuc9JfA"
      },
      "source": [
        "Конструкция УСЛИ ТО ИНАЧЕ называется полной формой условного оператора if"
      ]
    },
    {
      "cell_type": "code",
      "metadata": {
        "colab": {
          "base_uri": "https://localhost:8080/"
        },
        "id": "o5QZFsVH8jug",
        "outputId": "ddeea4f4-10c2-4387-a7ef-f489b7fba5e5"
      },
      "source": [
        "bank = int(input(\"Сколько денег на счету ? \"))\n",
        "if bank >= 75000:\n",
        "  bank -= 75000\n",
        "  print('Курс успешно приобретен.')\n",
        "if bank < 75000:\n",
        "  print('Нехватает средств на счете.')\n",
        "print('Хорошего дня.')"
      ],
      "execution_count": 2,
      "outputs": [
        {
          "output_type": "stream",
          "name": "stdout",
          "text": [
            "Сколько денег на счету ? 4\n",
            "Нехватает средств на счете.\n",
            "Хорошего дня.\n"
          ]
        }
      ]
    },
    {
      "cell_type": "markdown",
      "metadata": {
        "id": "ZChHnWOc-EIq"
      },
      "source": [
        "Упрощение кода вместо второго условия if просто ставим else:"
      ]
    },
    {
      "cell_type": "code",
      "metadata": {
        "colab": {
          "base_uri": "https://localhost:8080/"
        },
        "id": "MDZ3zNSp-NDQ",
        "outputId": "2d87bc0a-c92d-47df-ce8b-7c88a78adf52"
      },
      "source": [
        "bank = int(input(\"Сколько денег на счету ? \"))\n",
        "if bank >= 75000:\n",
        "  bank -= 75000\n",
        "  print('Курс успешно приобретен.')\n",
        "else:\n",
        "  print('Нехватает средств на счете.')\n",
        "print('Хорошего дня.')"
      ],
      "execution_count": 3,
      "outputs": [
        {
          "output_type": "stream",
          "name": "stdout",
          "text": [
            "Сколько денег на счету ? 5\n",
            "Нехватает средств на счете.\n",
            "Хорошего дня.\n"
          ]
        }
      ]
    },
    {
      "cell_type": "code",
      "metadata": {
        "colab": {
          "base_uri": "https://localhost:8080/"
        },
        "id": "Vd2OeUFS-ReJ",
        "outputId": "c788ba01-20f0-409a-c326-b43a82c150a2"
      },
      "source": [
        "apple = int(input('Доходы от яблок: '))\n",
        "orange = int(input('Доходы от апельсинов: '))\n",
        "income = apple + orange\n",
        " \n",
        "if income > 100:\n",
        "  print('Доходы превышают расходы')\n",
        "else:\n",
        "  print('Доход слишком мал')"
      ],
      "execution_count": 4,
      "outputs": [
        {
          "output_type": "stream",
          "name": "stdout",
          "text": [
            "Доходы от яблок: 40\n",
            "Доходы от апельсинов: 20\n",
            "Доход слишком мал\n"
          ]
        }
      ]
    },
    {
      "cell_type": "code",
      "metadata": {
        "colab": {
          "base_uri": "https://localhost:8080/"
        },
        "id": "dVUJ_nYSAEI0",
        "outputId": "66e360ce-0630-4178-d33f-7d6b380f6ab6"
      },
      "source": [
        "apple = int(input('Доходы от яблок: '))\n",
        "orange = int(input('Доходы от апельсинов: '))\n",
        "expenses = int(input('Расходы: '))\n",
        "\n",
        "if apple + orange > expenses:\n",
        "  print('Доходы превышают расходы')\n",
        "else:\n",
        "  print('Расходы превышают расходы')\n"
      ],
      "execution_count": 7,
      "outputs": [
        {
          "output_type": "stream",
          "name": "stdout",
          "text": [
            "Доходы от яблок: 40\n",
            "Доходы от апельсинов: 40\n",
            "Расходы: 90\n",
            "Расходы превышают расходы\n"
          ]
        }
      ]
    },
    {
      "cell_type": "markdown",
      "metadata": {
        "id": "idQ1OKFoBVs1"
      },
      "source": [
        "##**Практика**\n",
        "\n",
        "\n",
        "\n",
        "**Цель задания**\n",
        "\n",
        "Научиться работать с условным оператором if.\n",
        "\n",
        "\n",
        "\n",
        "Что нужно сделать"
      ]
    },
    {
      "cell_type": "markdown",
      "metadata": {
        "id": "rx4iBsp-Bht3"
      },
      "source": [
        "**Задача 1. Курс от Skillbox-2**\n",
        "\n",
        "Напишите программу для примера, разобранного в уроке.\n",
        "\n",
        "Пользователь покупает курс стоимостью 75 000 рублей.\n",
        "1. Если денег на счету достаточно, нужно списать деньги и вывести сообщение: \n",
        "2. «Курс успешно приобретён», — а иначе вывести: «Не хватает денег на счёте».\n",
        "3. Не забудьте пожелать «Хорошего дня!» в любом случае. Мы же вежливые продавцы.\n",
        "\n",
        "Пример:\n",
        "\n",
        "Сколько денег на счету? 5000\n",
        "\n",
        "Не хватает денег на счету.\n",
        "\n",
        "Хорошего дня!"
      ]
    },
    {
      "cell_type": "code",
      "metadata": {
        "colab": {
          "base_uri": "https://localhost:8080/"
        },
        "id": "AqgJy9oTBamT",
        "outputId": "130472f6-6802-476b-e731-ee229e74fe44"
      },
      "source": [
        "bank = int(input(\"Сколько денег на счету ? \"))\n",
        "if bank >= 75000:\n",
        "  bank -= 75000\n",
        "  print('Курс успешно приобретен.')\n",
        "else:\n",
        "  print('Нехватает средств на счете.')\n",
        "print('Хорошего дня.')"
      ],
      "execution_count": 6,
      "outputs": [
        {
          "output_type": "stream",
          "name": "stdout",
          "text": [
            "Сколько денег на счету ? 5000\n",
            "Нехватает средств на счете.\n",
            "Хорошего дня.\n"
          ]
        }
      ]
    },
    {
      "cell_type": "markdown",
      "metadata": {
        "id": "om4HZtFGCKLE"
      },
      "source": [
        "**Задача 2. Разминка для мозгов**\n",
        "\n",
        "Напишите программу, которая проверяет то, как вы умеете складывать два числа в уме. Программа получает на вход два числа и предполагаемую сумму и должна выводить два разных сообщения — на верный и неверный ответ пользователя. В последнем случае надо показывать правильный результат.\n",
        "\n",
        "\n",
        "\n",
        "Пример:\n",
        "\n",
        "Введите первое число: 3\n",
        "\n",
        "Введите второе число: 10\n",
        "\n",
        "Сумма этих чисел: 13\n",
        "\n",
        "Ответ верный!\n",
        "\n",
        "\n",
        "\n",
        "Пример 2:\n",
        "\n",
        "Введите первое число: 3\n",
        "\n",
        "Введите второе число: 10\n",
        "\n",
        "Сумма этих чисел: 14\n",
        "\n",
        "Ответ неверный!"
      ]
    },
    {
      "cell_type": "code",
      "metadata": {
        "colab": {
          "base_uri": "https://localhost:8080/"
        },
        "id": "bIwuOJVqB8Io",
        "outputId": "5c16cbf4-b590-4561-de1b-f69eb533ea1a"
      },
      "source": [
        "num_1 = int(input('Введите первое число: '))\n",
        "num_2 = int(input('Введите второе число:  '))\n",
        "summary = int(input('Сумма этих чисел: '))\n",
        "\n",
        "if num_1 + num_2 == summary:\n",
        "  print('Ответ верный!')\n",
        "else:\n",
        "  print('Ответ неверный!')"
      ],
      "execution_count": 8,
      "outputs": [
        {
          "output_type": "stream",
          "name": "stdout",
          "text": [
            "Введите первое число: 3\n",
            "Введите второе число:  10\n",
            "Сумма этих чисел: 14\n",
            "Ответ неверный!\n"
          ]
        }
      ]
    },
    {
      "cell_type": "markdown",
      "metadata": {
        "id": "wfqmbnHwCJXk"
      },
      "source": [
        "**Задача 3. Угадай число 2**\n",
        "\n",
        "На удивление, отец и сын частенько стали играть в игру «Угадай число», и поэтому папа захотел немного усовершенствовать свою программу, чтобы на экран всегда выводилось нужное сообщение.\n",
        "\n",
        "Напишите программу, которая запрашивает число у пользователя, сравнивает его с другим числом и выводит соответствующее сообщение: «Угадал», — если они равны,  и: «Не угадал», — если не равны. В конце выводите фразу: «Конец игры».\n",
        "\n",
        "\n",
        "\n",
        "Пример 1:\n",
        "\n",
        "Какое число я загадал? 5\n",
        "\n",
        "Угадал!\n",
        "\n",
        "Конец игры\n",
        "\n",
        "\n",
        "\n",
        "Пример 2:\n",
        "\n",
        "Какое число я загадал? 6\n",
        "\n",
        "Не угадал!\n",
        "\n",
        "Конец игры\n",
        "\n",
        "\n",
        "\n",
        "Попробуйте решить задачу сначала с помощью одного знака сравнения (==), а затем с помощью другого (!=).\n",
        "\n"
      ]
    },
    {
      "cell_type": "code",
      "metadata": {
        "colab": {
          "base_uri": "https://localhost:8080/"
        },
        "id": "TrJDAXKgD9ul",
        "outputId": "5f902bb1-bc89-402f-bdc0-2bb786e1bb61"
      },
      "source": [
        "son = int(input('Какое число, я загодал? '))\n",
        "father = 5\n",
        "if son != father:\n",
        "  print('Не угадал!.')\n",
        "else:\n",
        "  print('Угадал!.')\n",
        "print('Конец игры.')"
      ],
      "execution_count": 9,
      "outputs": [
        {
          "output_type": "stream",
          "name": "stdout",
          "text": [
            "Какое число, я загодал? 6\n",
            "Не угадал!.\n",
            "Конец игры.\n"
          ]
        }
      ]
    }
  ]
}