{
  "nbformat": 4,
  "nbformat_minor": 0,
  "metadata": {
    "colab": {
      "name": "Python_5_Прерывание цикла, оператор break",
      "provenance": [],
      "authorship_tag": "ABX9TyObp61qqY0r3jmt7WeAAQqH",
      "include_colab_link": true
    },
    "kernelspec": {
      "name": "python3",
      "display_name": "Python 3"
    },
    "language_info": {
      "name": "python"
    }
  },
  "cells": [
    {
      "cell_type": "markdown",
      "metadata": {
        "id": "view-in-github",
        "colab_type": "text"
      },
      "source": [
        "<a href=\"https://colab.research.google.com/github/PasAlex8019/Python-for-Data-Science/blob/main/Python_5_%D0%9F%D1%80%D0%B5%D1%80%D1%8B%D0%B2%D0%B0%D0%BD%D0%B8%D0%B5_%D1%86%D0%B8%D0%BA%D0%BB%D0%B0%2C_%D0%BE%D0%BF%D0%B5%D1%80%D0%B0%D1%82%D0%BE%D1%80_break.ipynb\" target=\"_parent\"><img src=\"https://colab.research.google.com/assets/colab-badge.svg\" alt=\"Open In Colab\"/></a>"
      ]
    },
    {
      "cell_type": "markdown",
      "metadata": {
        "id": "C89GG29ZUCEC"
      },
      "source": [
        "### Можно ли выйти из цикла раньше чем это требуется?"
      ]
    },
    {
      "cell_type": "markdown",
      "metadata": {
        "id": "mAtkTCOwVKtJ"
      },
      "source": [
        "### Задача температура\n",
        "Пока температура больше 15 градусов спортсмен продолжает тренероваться"
      ]
    },
    {
      "cell_type": "code",
      "metadata": {
        "colab": {
          "base_uri": "https://localhost:8080/"
        },
        "id": "TV7xWsTNTwA7",
        "outputId": "576de55f-95ff-4c02-9a97-716d2e53fc79"
      },
      "source": [
        "wather = int(input('Сколько градусов на улице? '))\n",
        "meters = 0\n",
        "\n",
        "while wather > 15:\n",
        "  meters += 20\n",
        "  wather -= 2\n",
        "  meters += 10\n",
        "print('Пройдено метров ', meters)"
      ],
      "execution_count": 1,
      "outputs": [
        {
          "output_type": "stream",
          "name": "stdout",
          "text": [
            "Сколько градусов на улице? 21\n",
            "Пройдено метров  90\n"
          ]
        }
      ]
    },
    {
      "cell_type": "code",
      "metadata": {
        "colab": {
          "base_uri": "https://localhost:8080/"
        },
        "id": "aschzn85Whpj",
        "outputId": "3b493ccc-b6cb-4470-bca5-9e59e612fb8e"
      },
      "source": [
        "wather = int(input('Сколько градусов на улице? '))\n",
        "meters = 0\n",
        "\n",
        "while wather > 15:\n",
        "  meters += 20\n",
        "  wather -= 2\n",
        "  if wather <= 15:\n",
        "    break\n",
        "  meters += 10\n",
        "print('Пройдено метров ', meters)"
      ],
      "execution_count": 2,
      "outputs": [
        {
          "output_type": "stream",
          "name": "stdout",
          "text": [
            "Сколько градусов на улице? 21\n",
            "Пройдено метров  80\n"
          ]
        }
      ]
    },
    {
      "cell_type": "markdown",
      "metadata": {
        "id": "Wwpjm4QMX5X1"
      },
      "source": [
        "### Задача \"Расшифровка кода\""
      ]
    },
    {
      "cell_type": "code",
      "metadata": {
        "colab": {
          "base_uri": "https://localhost:8080/"
        },
        "id": "urZwFu5yYAZC",
        "outputId": "69dd577d-2762-4cc5-a72e-d536d67a411d"
      },
      "source": [
        "number = int(input('Введите число: '))\n",
        "summ = 0\n",
        "\n",
        "while number != 0:\n",
        "  last_num = number % 10\n",
        "  print(last_num)\n",
        "  if last_num == 5:\n",
        "    print('Обнаружен разрыв.')\n",
        "    break\n",
        "  summ += last_num\n",
        "  number //= 10\n",
        "print('Сумма: ', summ)"
      ],
      "execution_count": 6,
      "outputs": [
        {
          "output_type": "stream",
          "name": "stdout",
          "text": [
            "Введите число: 142369873451246\n",
            "6\n",
            "4\n",
            "2\n",
            "1\n",
            "5\n",
            "Обнаружен разрыв.\n",
            "Сумма:  13\n"
          ]
        }
      ]
    },
    {
      "cell_type": "markdown",
      "metadata": {
        "id": "MGpWd-dOaDjV"
      },
      "source": [
        "### Осмысленно вызывать break только внутри конструкции if\n",
        "break выполняется только при наличии какого то особенного условия"
      ]
    },
    {
      "cell_type": "markdown",
      "metadata": {
        "id": "mMLi9uNplQs8"
      },
      "source": [
        "##**Практика**\n",
        "\n",
        "\n",
        "\n",
        "**Цель задания**\n",
        "\n",
        "Потренироваться в работе с циклом while и оператором break.\n",
        "\n",
        "\n",
        "\n",
        "**Что нужно сделать**\n",
        "\n"
      ]
    },
    {
      "cell_type": "markdown",
      "metadata": {
        "id": "2OwOkR26lc5Z"
      },
      "source": [
        "**Задача 1. Бегать — это полезно**\n",
        "\n",
        "Представим, что у нас далёкое будущее и мы можем заниматься спортом на планетах со странными перепадами температур. Спортсмен бегает по стадиону до тех пор, пока температура на улице больше 15 градусов. Он пробегает 20 метров, затем температура падает на два градуса, и, если уже в этот момент она стала меньше либо равна 15 градусам, спорт сразу заканчивается. Если же всё в порядке, то он проходит пешком ещё 10 метров. Затем всё это повторяется.\n",
        "\n",
        "Напишите программу, которая спрашивает у пользователя, сколько на улице градусов, и, исходя из погоды, считает количество пройденных по стадиону метров и выводит ответ на экран."
      ]
    },
    {
      "cell_type": "code",
      "metadata": {
        "colab": {
          "base_uri": "https://localhost:8080/"
        },
        "id": "yLMP1pRLaLxi",
        "outputId": "e9f9e803-1ee2-42ef-8eed-73669d3ed69c"
      },
      "source": [
        "wather = int(input('Сколько градусов на улице? '))\n",
        "meters = 0\n",
        "\n",
        "while wather > 15:\n",
        "  meters += 20\n",
        "  wather -= 2\n",
        "  if wather <= 15:\n",
        "    break\n",
        "  meters += 10\n",
        "print('Пройдено метров ', meters)"
      ],
      "execution_count": 7,
      "outputs": [
        {
          "output_type": "stream",
          "name": "stdout",
          "text": [
            "Сколько градусов на улице? 40\n",
            "Пройдено метров  380\n"
          ]
        }
      ]
    },
    {
      "cell_type": "markdown",
      "metadata": {
        "id": "tfJI5G0ol4uN"
      },
      "source": [
        "**Задача 2. Расшифровка кода**\n",
        "\n",
        "Нам нужно расшифровать определённый код в виде одного большого числа. Для этого нужно посчитать сумму цифр справа налево. Если мы встречаем в числе цифру 5, то выводим сообщение «Обнаружен разрыв» и заканчиваем считать сумму. В конце программы на экран выводится сумма тех цифр, которые мы взяли."
      ]
    },
    {
      "cell_type": "code",
      "metadata": {
        "colab": {
          "base_uri": "https://localhost:8080/"
        },
        "id": "gAbIiVCkl7gi",
        "outputId": "3eb72f68-4d84-4132-b562-332ca02c4f36"
      },
      "source": [
        "number = int(input('Введите число: '))\n",
        "summ = 0\n",
        "\n",
        "while number != 0:\n",
        "  last_num = number % 10\n",
        "  print(last_num)\n",
        "  if last_num == 5:\n",
        "    print('Обнаружен разрыв.')\n",
        "    break\n",
        "  summ += last_num\n",
        "  number //= 10\n",
        "print('Сумма: ', summ)"
      ],
      "execution_count": 8,
      "outputs": [
        {
          "output_type": "stream",
          "name": "stdout",
          "text": [
            "Введите число: 531\n",
            "1\n",
            "3\n",
            "5\n",
            "Обнаружен разрыв.\n",
            "Сумма:  4\n"
          ]
        }
      ]
    },
    {
      "cell_type": "markdown",
      "metadata": {
        "id": "tOGMqtKVmPsd"
      },
      "source": [
        "**Задача 3. Ставки приняты, ставок больше нет**\n",
        "\n",
        "Костя опять за старое! Только теперь он играет в кубики более надёжно, то есть на какую-то фиксированную сумму. И при этом пока что постоянно выигрывает! Однако по правилам это не мешает ему проиграть сразу всё.\n",
        "\n",
        "Напишите программу, которая запрашивает у пользователя начальное количество денег и, пока оно меньше 10 000, запрашивает число, которое выпало на кубике (от 1 до 6). Если на кубике выпало 3, то выводится сообщение «Вы проиграли всё!», и деньги обнуляются. Если выпало другое число, к сумме прибавляется 500.\n",
        "\n",
        "\n",
        "\n",
        "Пример:\n",
        "\n",
        "Введите стартовую сумму: 5000\n",
        "\n",
        "Сколько выпало на кубике? 4\n",
        "\n",
        "Выиграли 500 рублей!\n",
        "\n",
        "Сколько выпало на кубике? 5\n",
        "\n",
        "Выиграли 500 рублей!\n",
        "\n",
        "Сколько выпало на кубике? 3\n",
        "\n",
        "Вы проиграли всё!\n",
        "\n",
        "Игра закончена.\n",
        "\n",
        "Итого осталось: 0 рублей\n",
        "\n",
        "\n",
        "\n",
        "Пример 2:\n",
        "\n",
        "Введите стартовую сумму: 9700\n",
        "\n",
        "Сколько выпало на кубике? 4\n",
        "\n",
        "Выиграли 500 рублей!\n",
        "\n",
        "Игра закончена.\n",
        "\n",
        "Итого осталось: 10200 рублей"
      ]
    },
    {
      "cell_type": "code",
      "metadata": {
        "colab": {
          "base_uri": "https://localhost:8080/"
        },
        "id": "3NQu0x-lmiP4",
        "outputId": "ab38f78e-143c-4634-f590-602909d1860c"
      },
      "source": [
        "num = int(input('Введите стартовую сумму:'))\n",
        "\n",
        "while num < 10000:\n",
        "  box = int(input('Сколько выпало на кубике?'))\n",
        "  if box == 3:\n",
        "    num = 0\n",
        "    print('Вы проиграли всё!')\n",
        "    break\n",
        "  num += 500\n",
        "  print('Выиграли 500 рублей!')\n",
        "print('Игра закончена.')\n",
        "print('Итого осталось:', num, 'рублей')\n",
        "\n",
        "\n"
      ],
      "execution_count": 16,
      "outputs": [
        {
          "output_type": "stream",
          "name": "stdout",
          "text": [
            "Введите стартовую сумму:5000\n",
            "Сколько выпало на кубике?4\n",
            "Выиграли 500 рублей!\n",
            "Сколько выпало на кубике?5\n",
            "Выиграли 500 рублей!\n",
            "Сколько выпало на кубике?3\n",
            "Вы проиграли всё!\n",
            "Игра закончена.\n",
            "Итого осталось: 0 рублей\n"
          ]
        }
      ]
    },
    {
      "cell_type": "code",
      "metadata": {
        "colab": {
          "base_uri": "https://localhost:8080/"
        },
        "id": "zfpXbnnOqTRT",
        "outputId": "7ae4b338-a056-4603-dbea-6ab524f9583a"
      },
      "source": [
        "num = int(input('Введите стартовую сумму:'))\n",
        "\n",
        "while num < 10000:\n",
        "  box = int(input('Сколько выпало на кубике?'))\n",
        "  if box == 3:\n",
        "    num = 0\n",
        "    print('Вы проиграли всё!')\n",
        "    break\n",
        "  num += 500\n",
        "  print('Выиграли 500 рублей!')\n",
        "print('Игра закончена.')\n",
        "print('Итого осталось:', num, 'рублей')"
      ],
      "execution_count": 15,
      "outputs": [
        {
          "output_type": "stream",
          "name": "stdout",
          "text": [
            "Введите стартовую сумму:9700\n",
            "Сколько выпало на кубике?4\n",
            "Выиграли 500 рублей!\n",
            "Игра закончена.\n",
            "Итого осталось: 10200 рублей\n"
          ]
        }
      ]
    }
  ]
}