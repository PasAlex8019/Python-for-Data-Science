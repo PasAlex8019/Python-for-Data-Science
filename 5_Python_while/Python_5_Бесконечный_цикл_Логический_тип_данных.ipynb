{
  "nbformat": 4,
  "nbformat_minor": 0,
  "metadata": {
    "colab": {
      "name": "Python_5_Бесконечный цикл. Логический тип данных",
      "provenance": [],
      "authorship_tag": "ABX9TyMkr89yzpLznVFYgYGXPmmg",
      "include_colab_link": true
    },
    "kernelspec": {
      "name": "python3",
      "display_name": "Python 3"
    },
    "language_info": {
      "name": "python"
    }
  },
  "cells": [
    {
      "cell_type": "markdown",
      "metadata": {
        "id": "view-in-github",
        "colab_type": "text"
      },
      "source": [
        "<a href=\"https://colab.research.google.com/github/PasAlex8019/Python-for-Data-Science/blob/main/Python_5_%D0%91%D0%B5%D1%81%D0%BA%D0%BE%D0%BD%D0%B5%D1%87%D0%BD%D1%8B%D0%B9_%D1%86%D0%B8%D0%BA%D0%BB_%D0%9B%D0%BE%D0%B3%D0%B8%D1%87%D0%B5%D1%81%D0%BA%D0%B8%D0%B9_%D1%82%D0%B8%D0%BF_%D0%B4%D0%B0%D0%BD%D0%BD%D1%8B%D1%85.ipynb\" target=\"_parent\"><img src=\"https://colab.research.google.com/assets/colab-badge.svg\" alt=\"Open In Colab\"/></a>"
      ]
    },
    {
      "cell_type": "code",
      "metadata": {
        "colab": {
          "base_uri": "https://localhost:8080/"
        },
        "id": "0hZZqnCnCZW4",
        "outputId": "230b4c26-baa4-42d9-8ca0-64a1af69faa5"
      },
      "source": [
        "while True:\n",
        "  active = int(input('Продолжаем работать? 1/0: '))\n",
        "  if active == 0:\n",
        "    print('Приложение закрывается')\n",
        "    break\n",
        "print('Работа завершена.')"
      ],
      "execution_count": 1,
      "outputs": [
        {
          "output_type": "stream",
          "name": "stdout",
          "text": [
            "Продолжаем работать? 1/0: 1\n",
            "Продолжаем работать? 1/0: 1\n",
            "Продолжаем работать? 1/0: 1\n",
            "Продолжаем работать? 1/0: 1\n",
            "Продолжаем работать? 1/0: 0\n",
            "Приложение закрывается\n",
            "Работа завершена.\n"
          ]
        }
      ]
    },
    {
      "cell_type": "code",
      "metadata": {
        "colab": {
          "base_uri": "https://localhost:8080/"
        },
        "id": "oDtPs_Y9Fm7L",
        "outputId": "a18d3192-031c-4aea-aa54-9f4ea461a86d"
      },
      "source": [
        "rate_check = False\n",
        "\n",
        "while True:\n",
        "  active = int(input('Продолжаем работать? 1/0: '))\n",
        "  if active == 0:\n",
        "    print('Приложение закрывается')\n",
        "    break\n",
        "  rate = int(input('Поставите оценку приложению? 1/0: '))\n",
        "  if rate == 1:\n",
        "    rate_check = True\n",
        "print('Работа завершена.')\n",
        "\n",
        "if rate_chek == True:\n",
        "  print('Пользователь поставит оценку.')"
      ],
      "execution_count": 10,
      "outputs": [
        {
          "output_type": "stream",
          "name": "stdout",
          "text": [
            "Продолжаем работать? 1/0: 1\n",
            "Поставите оценку приложению? 1/0: 0\n",
            "Продолжаем работать? 1/0: 1\n",
            "Поставите оценку приложению? 1/0: 0\n",
            "Продолжаем работать? 1/0: 0\n",
            "Приложение закрывается\n",
            "Работа завершена.\n"
          ]
        }
      ]
    },
    {
      "cell_type": "markdown",
      "metadata": {
        "id": "McQFuI-RIdSI"
      },
      "source": [
        "### Оптимизация кода rate_check = rate == 1"
      ]
    },
    {
      "cell_type": "code",
      "metadata": {
        "colab": {
          "base_uri": "https://localhost:8080/"
        },
        "id": "5KolmWYyIoro",
        "outputId": "31a76bb6-b527-4a71-e479-a9461190997d"
      },
      "source": [
        "rate_check = False\n",
        "\n",
        "while True:\n",
        "  active = int(input('Продолжаем работать? 1/0: '))\n",
        "  if active == 0:\n",
        "    print('Приложение закрывается')\n",
        "    break\n",
        "  rate = int(input('Поставите оценку приложению? 1/0: '))\n",
        "  if rate == 1:\n",
        "    rate_check = True\n",
        "print('Работа завершена.')\n",
        "\n",
        "if rate_check:\n",
        "  print('Пользователь поставит оценку.')"
      ],
      "execution_count": 13,
      "outputs": [
        {
          "output_type": "stream",
          "name": "stdout",
          "text": [
            "Продолжаем работать? 1/0: 1\n",
            "Поставите оценку приложению? 1/0: 0\n",
            "Продолжаем работать? 1/0: 1\n",
            "Поставите оценку приложению? 1/0: 1\n",
            "Продолжаем работать? 1/0: 0\n",
            "Приложение закрывается\n",
            "Работа завершена.\n",
            "Пользователь поставит оценку.\n"
          ]
        }
      ]
    },
    {
      "cell_type": "markdown",
      "metadata": {
        "id": "R_iu1WWhJ8Ty"
      },
      "source": [
        "##**Практика**\n",
        "\n",
        "\n",
        "\n",
        "**Цель задания**\n",
        "\n",
        "Потренироваться в работе с бесконечными циклами и логическим типом данных.\n",
        "\n",
        "\n",
        "\n",
        "**Что нужно сделать**"
      ]
    },
    {
      "cell_type": "markdown",
      "metadata": {
        "id": "6bqLgJ7kKLRJ"
      },
      "source": [
        "###**Задача 1. Неправильный таймер**\n",
        "\n",
        "Петя писал таймер для телефона, но у него что-то пошло не так.\n",
        "\n",
        "count = 0\n",
        "\n",
        "While count <= 10\n",
        "\n",
        " if count == 0:\n",
        "\n",
        "   print('Время вышло!')\n",
        "\n",
        " else:\n",
        "\n",
        "   print(count)\n",
        "   \n",
        "   count -= 1\n",
        "\n",
        "\n",
        "Скопируйте программу в редактор, исправьте ошибки и убедитесь, что на экран выводятся числа с 10 до 0 и сообщение «Время вышло!».\n",
        "\n"
      ]
    },
    {
      "cell_type": "code",
      "metadata": {
        "colab": {
          "base_uri": "https://localhost:8080/"
        },
        "id": "j1Bblc3YKBv9",
        "outputId": "aa3fe160-f7c8-47a4-89bf-4512c1d2d0ab"
      },
      "source": [
        "count = 10\n",
        "\n",
        "while count <= 10:\n",
        "  if count == 0:\n",
        "    print('Время вышло!')\n",
        "    break\n",
        "  else:\n",
        "    print(count)\n",
        "    count -= 1"
      ],
      "execution_count": 16,
      "outputs": [
        {
          "output_type": "stream",
          "name": "stdout",
          "text": [
            "10\n",
            "9\n",
            "8\n",
            "7\n",
            "6\n",
            "5\n",
            "4\n",
            "3\n",
            "2\n",
            "1\n",
            "Время вышло!\n"
          ]
        }
      ]
    },
    {
      "cell_type": "markdown",
      "metadata": {
        "id": "r2WaEP4hLFRR"
      },
      "source": [
        "###**Задача 2. Тестируем приложение**\n",
        "\n",
        "Напишите программу, которая имитирует работу с приложением: программа спрашивает у пользователя «Продолжаем работать? 1/0: » до тех пор, пока пользователь не введёт 0, — после этого выводится сообщение: «Приложение закрывается…». В конце программы также выводится сообщение: «Работа завершена». Для создания бесконечного цикла используйте while True.\n",
        "\n"
      ]
    },
    {
      "cell_type": "code",
      "metadata": {
        "colab": {
          "base_uri": "https://localhost:8080/"
        },
        "id": "rpCZr9bMLH3R",
        "outputId": "68518ce0-2ca8-49f9-aa95-b56de8825847"
      },
      "source": [
        "while True:\n",
        "  active = int(input('Продолжаем работать? 1/0: '))\n",
        "  if active == 0:\n",
        "    print('Приложение закрывается…')\n",
        "    break\n",
        "print('Работа завершена.')"
      ],
      "execution_count": 17,
      "outputs": [
        {
          "output_type": "stream",
          "name": "stdout",
          "text": [
            "Продолжаем работать? 1/0: 1\n",
            "Продолжаем работать? 1/0: 1\n",
            "Продолжаем работать? 1/0: 0\n",
            "Приложение закрывается…\n",
            "Работа завершена.\n"
          ]
        }
      ]
    },
    {
      "cell_type": "markdown",
      "metadata": {
        "id": "NpmaKkFSL4Li"
      },
      "source": [
        "###**Задача 3. Вирус**\n",
        "\n",
        "Дима написал программу-вирус специально для того, чтобы проучить своего друга-должника, который никак не хочет возвращать скейтборд. Программа не даёт работать за компьютером и постоянно выводит на экран сообщение «Компьютер заблокирован. Вернёшь скейт — скажу код разблокировки!». Как только вводится правильный код, вирус удаляется. Напишите такую же программу, которую написал Дима.\n",
        "\n",
        "\n",
        "\n",
        "Пример:\n",
        "\n",
        "Компьютер заблокирован. Вернёшь скейт — скажу код разблокировки!\n",
        "\n",
        "Введите код: 1005\n",
        "\n",
        "Компьютер заблокирован. Вернёшь скейт — скажу код разблокировки!\n",
        "\n",
        "Введите код: 7777\n",
        "\n",
        "Компьютер заблокирован. Вернёшь скейт — скажу код разблокировки!\n",
        "\n",
        "Введите код: 0550\n",
        "\n",
        "Код верный, завершаю работу...\n",
        "\n"
      ]
    },
    {
      "cell_type": "code",
      "metadata": {
        "colab": {
          "base_uri": "https://localhost:8080/"
        },
        "id": "NC7ZdkMWL8--",
        "outputId": "7c2dce7e-e52e-4616-9527-037493a6dc45"
      },
      "source": [
        "\n",
        "while True:\n",
        "  print('Компьютер заблокирован. Вернёшь скейт — скажу код разблокировки!')\n",
        "  password = (input('Введите код: '))\n",
        "  if password == '0550':\n",
        "    print('Код верный, завершаю работу...')\n",
        "    break"
      ],
      "execution_count": 25,
      "outputs": [
        {
          "output_type": "stream",
          "name": "stdout",
          "text": [
            "Компьютер заблокирован. Вернёшь скейт — скажу код разблокировки!\n",
            "Введите код: 1005\n",
            "Компьютер заблокирован. Вернёшь скейт — скажу код разблокировки!\n",
            "Введите код: 7777\n",
            "Компьютер заблокирован. Вернёшь скейт — скажу код разблокировки!\n",
            "Введите код: 0550\n",
            "Код верный, завершаю работу...\n"
          ]
        }
      ]
    }
  ]
}