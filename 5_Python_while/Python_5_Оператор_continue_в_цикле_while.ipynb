{
  "nbformat": 4,
  "nbformat_minor": 0,
  "metadata": {
    "colab": {
      "name": "Python_5_Оператор continue в цикле while",
      "provenance": [],
      "authorship_tag": "ABX9TyN++srAwLgONU6Oi2qRkZ+u",
      "include_colab_link": true
    },
    "kernelspec": {
      "name": "python3",
      "display_name": "Python 3"
    },
    "language_info": {
      "name": "python"
    }
  },
  "cells": [
    {
      "cell_type": "markdown",
      "metadata": {
        "id": "view-in-github",
        "colab_type": "text"
      },
      "source": [
        "<a href=\"https://colab.research.google.com/github/PasAlex8019/Python-for-Data-Science/blob/main/Python_5_%D0%9E%D0%BF%D0%B5%D1%80%D0%B0%D1%82%D0%BE%D1%80_continue_%D0%B2_%D1%86%D0%B8%D0%BA%D0%BB%D0%B5_while.ipynb\" target=\"_parent\"><img src=\"https://colab.research.google.com/assets/colab-badge.svg\" alt=\"Open In Colab\"/></a>"
      ]
    },
    {
      "cell_type": "code",
      "metadata": {
        "colab": {
          "base_uri": "https://localhost:8080/"
        },
        "id": "wzOOyIIGkngR",
        "outputId": "da4d70b8-32df-4c3b-d996-fe61c68b80da"
      },
      "source": [
        "number = int(input('Введите число: '))\n",
        "\n",
        "while number >= 0:\n",
        "  if number != 3:\n",
        "    print(number)\n",
        "  number -= 1"
      ],
      "execution_count": 3,
      "outputs": [
        {
          "output_type": "stream",
          "name": "stdout",
          "text": [
            "Введите число: 5\n",
            "5\n",
            "4\n",
            "2\n",
            "1\n",
            "0\n"
          ]
        }
      ]
    },
    {
      "cell_type": "markdown",
      "metadata": {
        "id": "ZabIIuMPnSMG"
      },
      "source": [
        "## Оптимизация кода\n",
        "Однако существуют разногласия по использованию оператора continue для оптимизации кода"
      ]
    },
    {
      "cell_type": "code",
      "metadata": {
        "colab": {
          "base_uri": "https://localhost:8080/"
        },
        "id": "YiZhp9sFm2t5",
        "outputId": "b65c08a0-468a-4c1f-96b8-94dfd1ddc8c1"
      },
      "source": [
        "number = int(input('Введите число: '))\n",
        "\n",
        "while number >= 0:\n",
        "  if number == 3:\n",
        "    number -= 1\n",
        "    continue\n",
        "  print(number)\n",
        "  number -= 1"
      ],
      "execution_count": 5,
      "outputs": [
        {
          "output_type": "stream",
          "name": "stdout",
          "text": [
            "Введите число: 5\n",
            "5\n",
            "4\n",
            "2\n",
            "1\n",
            "0\n"
          ]
        }
      ]
    }
  ]
}