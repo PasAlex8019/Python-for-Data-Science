{
  "nbformat": 4,
  "nbformat_minor": 0,
  "metadata": {
    "colab": {
      "name": "Python 3. int_Ввод числа с клавиатуры",
      "provenance": [],
      "authorship_tag": "ABX9TyPt2g4+MIrn6Frlxj9uVR+N",
      "include_colab_link": true
    },
    "kernelspec": {
      "name": "python3",
      "display_name": "Python 3"
    },
    "language_info": {
      "name": "python"
    }
  },
  "cells": [
    {
      "cell_type": "markdown",
      "metadata": {
        "id": "view-in-github",
        "colab_type": "text"
      },
      "source": [
        "<a href=\"https://colab.research.google.com/github/PasAlex8019/Python-for-Data-Science/blob/main/Python_3_int_%D0%92%D0%B2%D0%BE%D0%B4_%D1%87%D0%B8%D1%81%D0%BB%D0%B0_%D1%81_%D0%BA%D0%BB%D0%B0%D0%B2%D0%B8%D0%B0%D1%82%D1%83%D1%80%D1%8B.ipynb\" target=\"_parent\"><img src=\"https://colab.research.google.com/assets/colab-badge.svg\" alt=\"Open In Colab\"/></a>"
      ]
    },
    {
      "cell_type": "markdown",
      "metadata": {
        "id": "tKzClsmJZ6kD"
      },
      "source": [
        "## Функция int (целое число)\n",
        "int преобразовывает данные в целое число, если передать int строку python выдаст ошибку"
      ]
    },
    {
      "cell_type": "code",
      "metadata": {
        "colab": {
          "base_uri": "https://localhost:8080/"
        },
        "id": "B0G8JeTCaDAY",
        "outputId": "dc257f3b-a55e-44ae-de94-91cd8d7cdc88"
      },
      "source": [
        "a = '6'\n",
        "b = '5'\n",
        "print(int(a + b) * 2)"
      ],
      "execution_count": 2,
      "outputs": [
        {
          "output_type": "stream",
          "name": "stdout",
          "text": [
            "130\n"
          ]
        }
      ]
    },
    {
      "cell_type": "code",
      "metadata": {
        "colab": {
          "base_uri": "https://localhost:8080/"
        },
        "id": "Ddp82wH8aokS",
        "outputId": "143b40da-d412-4325-8ff7-790b51432edd"
      },
      "source": [
        "d = int(input('Введите число: '))\n",
        "print(d)"
      ],
      "execution_count": 4,
      "outputs": [
        {
          "output_type": "stream",
          "name": "stdout",
          "text": [
            "Введите число: 56\n",
            "56\n"
          ]
        }
      ]
    },
    {
      "cell_type": "markdown",
      "metadata": {
        "id": "MUlHiKoObJGH"
      },
      "source": [
        "**Задача 1. Координаты точки**\n",
        "\n",
        "Лена пишет программу для построения графиков функций, чтобы можно было анализировать статистику посещений её сайта. Перед тем как построить график функции, Лена сначала расставляет на нём точки. У каждой точки есть координаты: X и Y. Лене также нужно найти сумму этих координат, чтобы убедиться в их правильном расположении.\n",
        "\n",
        "\n",
        "\n",
        "* Реализуйте программу, которую мы разбирали в уроке: она запрашивает у пользователя два числа и выводит их сумму на экран.\n",
        "* Используйте функцию int() для преобразования входящих данных из текста в число. Для этого внутри скобок функции int вставьте команду input. Результат должен быть таким:\n",
        "\n",
        "![Без_названия_q8GJgrS.png](data:image/png;base64,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)"
      ]
    },
    {
      "cell_type": "code",
      "metadata": {
        "colab": {
          "base_uri": "https://localhost:8080/"
        },
        "id": "mquHtOrPa7hc",
        "outputId": "2704e59e-3e03-46d7-ced9-1987c01f55f7"
      },
      "source": [
        "a = int(input('Введите первое число: '))\n",
        "b = int(input('Введите второе число: '))\n",
        "print('Сумма = ', a + b)"
      ],
      "execution_count": 5,
      "outputs": [
        {
          "output_type": "stream",
          "name": "stdout",
          "text": [
            "Введите первое число: 5\n",
            "Введите второе число: 10\n",
            "Сумма =  15\n"
          ]
        }
      ]
    },
    {
      "cell_type": "markdown",
      "metadata": {
        "id": "-328Wuudbz7x"
      },
      "source": [
        "**Задача 2. Отрезок**\n",
        "\n",
        "Доверчивой Лене необходимо построить отрезок, соединяющий две точки на графике, и найти его длину по довольно необычной формуле, которую она нашла в интернете. Для нахождения длины отрезка нужны координаты как первой, так и второй точки.\n",
        "\n",
        "\n",
        "\n",
        "Продолжая программу прошлой задачи, добавьте ввод третьего и четвёртого числа, вычислите значение выражения и выведите результат на экран.\n",
        "\n",
        "Выражение:\n",
        "\n",
        "![Без_названия_4ZHEJte.png](data:image/png;base64,iVBORw0KGgoAAAANSUhEUgAAAf4AAAB5CAYAAADYrUPxAAAff0lEQVR4Xu1d26tWxRse/4E2adcilhfRxQ4pvdFgX7gLC1EyKgUJFLUDQiVuqbyIdGMHEUK2JQlduC3R0IvKEyjYgTxF4UUXWkR0WZr9A/54V8z3e/f4rTXnWTNrPd9Nhz1r5p1n3jXPvId516w7d+7cEfgBASAABIAAEAACvUBgFoi/F+uMSQIBIAAEgAAQqBAA8UMRgAAQAAJAAAj0CAEQf48WG1MFAkAACAABIADihw4AASAABIAAEOgRAiD+Hi02pgoEgAAQAAJAAMQPHQACQAAIAAEg0CMEQPw9WmxMFQgAASAABIAAiB86AASAABAAAkCgRwiA+Hu02JgqEAACQAAIAAEQP3QACAABIAAEgECPEADx92ixMVUgAASAABAAAiB+6AAQAAJAAAgAgR4hAOLv0WJjqkAACAABIAAEQPzQASAABIAAEAACPUIAxN+jxcZUgQAQAAK//fabOHv2rDh+/Li4dOmSuHXrVgXKI488IsbHx8Vrr70m5syZA6A6jACIv8OLi6kBAVsEPv/8c3Ht2jWxa9cu20fRvgAEXnrpJbF///5K0nfffVesX7++Ivlvv/1WvPrqq+LKlSvi3nvvrf45f/78oTOitocPHxZTU1MFzBgiDkMAxA+9AAJAoEKASP/555+vLL/Lly8DlQ4i8MQTT4jTp0+LN954467DHXkC7r///mrWL774Yi2xv/nmm2JycrKxTQeh69SUQPydWk5MBgi4ISBJn6y98+fPi9HRUbeO8FTWCEji//XXX4da9LNmzarkf/zxx8WpU6dq5yL7aTogZA1Ez4UD8fdcATB9PQLk2ly6dOldDT/77DPx3HPP6TvIvMXPP/8sxsbGqljvTz/9BNLPfL1iimdK/H///bcg8qeQAIUMtm3bFlMs9B0YARB/YEDRXTcRoI1ux44dg/gozbLOaioJAZrXggULKtL/6KOPxKZNm0oSH7IGRIAfcE0OtXRgfPjhhysJvvrqK7F8+fKA0qCrmAiA+GOii747hQDfGLsSB5cuW51rt1MLicnchQDF9ymjnw6zNu77jz/+WGzevFmbEAjI80IAxJ/XekCajBH4+uuvxZNPPllJOCw5KmPRh4qGTbu0FQsvLx1mT548WXmyZs+eLXbu3GkdvsLhMfy6xO4RxB8bYfTfGQTee+89MTEx0QnXJll45LUgFz9itJ1RUeOJDMtbIUv/qaeesnbZc5c/wkXGS9BqQxB/q/Bj8JIQkJYNyfzXX38VXeREzoWub924caOkZYCsgRGgQ+CxY8fE7t27q4MghX2mp6et9FvWB6BbIdevX7d6NvB00J0BAiB+A5DQBAgQAjLjufT4Pg9ZmCRxYfX7gQC33G1zPrgHySZHoB/I5jfLzhA/FZWYO3cuspLz07FOSMQ3Rdf4PvVBoQJbayo0gA888ECVxAVrPzSy5fdH11OPHDlSTcT21oos7OPybPnIlTWDThC/dDOVbomVpTplSEuxzH379okzZ84MapIT4ZGurFy5sprEW2+9VWU0N5UglYlw1J5fXaLCN3v27KnuM9Pv2WefraqaDSt3KjdGGpuKo7RRD10W6iFZYe2XocNcylD6XDdznsfyzTffiCVLlhiDZFr5z7hDNIyGQPHEz0m/rc002uqgY2cE6H762rVrq/KkRPQffvjhIGmJNs8VK1YMDgI0iM6K55bQnTt3BO9fFZLGu3jx4lBib1tfYe07q1SrD4bSZyL2kZGRWs8or+XvksfCn7f1GLQKcM8GL5r4+XUkJJT0THMbpsuritVZ19yCV634YV1LwpSJT5QcR7+9e/dWVpF6mGjKlJeJdeQdIAs81Y9b+8jkT4W6/zgh9VnmqQyr0EjjLF682PouP58hD4kh1u+/9rF6KJb4+XUUW5dULDDRbx4IPProo4OvjNUdCNXrTE3WCXdhEmEePXq0mqjqYeIxzqawE6+Wl5KA+a0EWGN56KqJFCH1mSeovv322wMvmMw/IQ+ZS1Y/n4eUl/4f9MxkhdO3KZL4+clU56JNDylGbBMBHqNsimFz4tclufEseGp78+bNoVeW1MMEhQTqfrzPFPXxuSWW2tPQpj6UPnZofab+zp07V4WqZF4KYUTX8CjPhfJefL8/wb1pKQ+2pa91SvmLJH5pWeHOaEpVyX8sbknryJxvTjqXJLfkCYW6uuQ2xE/9SAs8RVIqj70iqS9/XSYJY+lz7NlzD5nuPYwtC/ofjkBxxM8tF2xgUGuOALeOdJ4gTua6amPcddl0v9mW+FNWPKNyrFSchX4uSVvQtPQIxNLnFDPhybD4gE8KxO3GKI74UXHMboH71Fom4NGcde5zHu/WtZVxUeq3KZ/ElvipvxQVz3hSH9z85bwRsfQ5BQI2HrUU8mCMmQgURfy2n43EYvcHAe5epFk3xdfJhXrfffcNwGlqa5MLwAnWtPIZt/pjxUO59aXzbvRHY/KeaSx9TjVrVX54mVIhbzZOUcQvrTTE9s0Wt0+tbEjXpq2ru1UXauBrE1Ov1UMOsqzLeCtsdNSmbcrZ8xAZ3P0pkdePVQzxc8tLl4ylnzZadA0BTtA6a5u7+XVWtk2s0nWji3m/Xr2RgA/ylKH5sfQ55ex5Hg327JTI68cqhvj5BqyLyeqnjRZdQ4BvlE1krsbhdTUgTJPifDOZ5TjkzaLrgqF+PJsfm28oVOP3E0uf40v+/xH4oTO0XqecRxfHKoL4+aaa4upTFxe663My3Sh5whRh0hR75PF33cZlOn7dOsS6bscPLrgFU85bYKpPNvqcevZqmAkGW+oVqB+vCOLnLwGSk/JRnpwkMXGNkuuRvjxGJE7FS3R3jE1jp7ygVFOd/ia8fD6JWtcv75PaIL6fk8Y2yxJDn9uYPQ9/6cJqbcjX1zGLIH6bay19Xci+z5uT9DBCl38nq2NsbKy6085zAeRHUGhzGh0dreDkVnhT3oDPF834unHrPARJ8ytVukNO3/Unt/nH0Oc25mj6DrUhW5/HzJ74udWCzavPqto8d9WtKK0L+v8HDx4UExMTg8/Qynv50jr/888/xYYNGyqL+Pz58wPi59ZKnas/5Gdu+SYZwrPF82Jwf7+sdyeGPreBAH8/aPymq7NtyNfXMbMnfmSG9lU17efNLW/+NJH21NTUoAa5GheltnQI+OKLLwakr2681IaS47Zu3Srmz58vKO+EDhSTk5NV6ODQoUODD57YS/7fE3yTDJHLwj0IcLO6rkp7z4XU57ZmYZtM25acfRs3e+LnVheSk/qmnvbzJff2+++/X1nvRMhk9Uqylr2RF+npp5+u2hDhb9y4Uaxfv17MmTNnMCC1oZAAPb9mzRpx8uRJcfXqVUFfL5M/ImfyFKxevXrGs/ZS//dEyKInal+4R+26Ku0+F0qf25wFr3wZwpPV5ly6MnbWxI/iI11RM8zDFAHujfAha36VisYOkTNgOge0AwIcAW684UppHrqRNfHjHmgeSgIp0iHA4/I21f9UCVU3MWKr6dYQI81EgOt0iBAW8PVHIGviN7nS4g9Bf3uQ7uzt27eLbdu29ReIjGYeSufb3GzrYtOo156RoiUUBYfQhGAbDuVE/BQ/vHTpkrhw4YK4fPlydSda/ihmSqe6devWeSc78dKqPtaPIRadaFa36TZNDolf+Sy96qJ3tdRNPyUca+a0R9BNArk3dO1GDh2af/jhh+oWCM2RQinyR/sf4b9p06ZBsmgsnEvoV83s70MhH3mbaPfu3cLVsKI+jh07Jo4fPz7ILaK8pfHxcbFy5cpBsrKLDlgRPy3gnj17ZhA9vdwLFy6sxj569OiMv9Hd5+npaefEJ56VjKQQs+UF8ZvhlGsrteiO6ybJE6raOthxXexCbFdu5gcOHBgQvUwgnTdvnrh9+3ZVIIofAmCwCNG3zH7iSbqaS7VC6KcrCz5sL+IJyKRj9P6MjIzM4Fg6YJ46dcqJX62In28mNCgpOV1t4j/1dOf6wquJfS7g5bq5x5TLhfh9kshizqWvffP3zGVt1Iz+toifhxu6cCNHJTDa29555527Nl5ej4F0uAtz93kX1cNsW/roMweTZ8lbt2XLlhkHPxfiJ+5bsGBBdXAYRu5cv1zJ34n4dZ/F5S88Tdwlo1h9yVwtH5MF61IbTvyubuIu4VHiXHzv36vvjsvhIQRuXau4yXFtquTISzgTjl0Lc7joRg4eKBe5TZ4hvdi5c+eMq778OVujlYe463iPv1suBykn4tcNpMYpXU68Xar4lJKMU45l8lJQmxxlMpW9jXb8xXfxmKnvju3GE2LO3Oug+8BRiPFS9MGJX4cpLzzmavykmFOqMTjx6z6bnUqmEONII1cWCVu2bFkV8qHDnvzpdIXLYXq45O+4y/tlRfymQKkWh+6gMKzfLmWCpiS+lGOZ6kOOMpnK3kY7Tvwum6T67rThLeOHf5c5tIF7yDHVNbDZ/EPKkUtfbSebxsKB1pl+agEwftCxWXvTst1qKNzWq5eE+F0S8/iLU/rdz5TEl3Is05cpR5lMZW+jne+HTXI4NHOL1+Xg3wbuIcfM4fAVcj6+ffHDbB9CH67Ez8N8ugMDd/fbegaTEL+LxeFr9QxTVHKPnDhxQpw5c2aQcUntyCKhJMXHHnvM64pE3cuRkvhSjmW6GeQok6nsbbTzJW41xyZGrofMcFdv8sirbPSOyex23QbWBsaxx+Rr6OKKjS1f6v75fk5jx9DJ1HNqGs+F+NUkSF3dCx+OjEL8/LTverrzmZS6IOrVCNoY6frN77//Lvbv3z+jeQyFTEl8KccyfdFylMlU9jba+RJ/7E2WX1cia56+VSA/XPTBBx/c9U7pNrA2MI49JsrUzkQ4xWE09pra9O9C/LZ5bT77RHDi51cRCCjb2IMENxTxy+p08mqEegXRFmybxZdtUxJfyrFMschRJlPZ22jn80KTvPzdCW1t6j5DrMYeSw/Tuaw/z3Ei/KnAj3rt2aXfkp/x1enS5u5C/LYY2bbnGAYnfm7t+3wDnG9ePv2YXCnip/MuWfx06Pryyy+r0IZ0u4aq/GTzIoL4bdASgr7Itnnz5sFDtjoZ6tCsSs0T9pri9nzT62MBG76fuOQ32WlLGa37lvPgS/wmB3YVUxvPWlDi5ydd18ICUo1D3Pvk1knT4YFvtLabrMlrl5L4VGVokq+uCJPJnGzapJy/jVy5tvWtdBYjg5p78nThO/7uulzlzXVdTOTium6bcGXSf6lt+nbLwYX4bQ/sPtd2gxE/3dslIiGXegj3Vgji5xtgmxtQSuKjDfrll18W//zzj3jhhRfEokWLBm5GCnvQ9+QnJiYG+wdt4hcvXnQq+2i6CaWcv6lMObfzJf4Yd6b5GureJT6+S/GunNemSTbuEeljiKMJGxD/Eq1a2xK/zz4RhPiJbEhoimUR6dOHK0ZHR7UTbWrgS/w5lfzNjfhClVU2XeDY8+e6YipT6nY2niSfF5rmFZr41bydJpciz0w2cVemXodY46m5RC411LumxxxrEL8d8eu8aoStT3XbIMQvLetQpK9uXi73gFVQbDZe081BHcP0OZN2MeTl46r1xG3iQ7KfXObftQ0zN+LnB0VdMR7T8JrJO0Bt1BsKps/p2rnsKXV9cm+nT4iza3ocg/hjYRT6yqmLq1/dk3Uc4JML5E38XFidC1D3MvK/+1r8IP5mtNWyyi63L3Ihfhu9KqFtbsTP33EdYdq0NVmL3Ik/hrfTBJfS2oSy+LtM/LZZ+rbtZ/DrHd2xokHDeAZ/SNIvxeI3ffliu7pN5eDt1FCIbkN3GUM+k+P8feYT+9nciJ/fjNFZRjZtY+OYov8Y3s4UcqceIxTxp5bbdTwXi9+WyHl7k9BAEOLnLr0YV1ZCW/wurmzXRVefy5X4fDE2xSfX+ZvKn7pdbsRvuoml8LKlXoum8bh3w6U6aU5ziS0LiF8f47eN2ftcnXdy9fNEllhXVnzv8ftuniFfhFyJj2/oMQ5vsPjdtMgndqd6y3QxeRMJuZ40OQhts5JNxs61ja6QUa5ytyUXiF9P/PyLlrROuvArf99s929r4uffmvZJZNEpYIhNJBWx6eaSI/GrdaFjWiw5zl+3Zm3+3dblp8oa4t2Z4RacNWvwn3XEr94U6XLhHv7uxDJ82tS/GGOD+PXET7jzUJnuHfK5NmtN/NK9YHJXX14DorvkdL3F5hdi8+L1oU3u1ZK8c+bMsRHTqG0q4pPjmMyVW5W28SGjSbNGqeZvK1eu7XMm/mExfpnVPj4+LqgkNv1C5/zktFYyrm/ynknPY8wcmpywqZNF1emu13cwDY+peJnG7X0/e21F/Pykq3Mt0GYgP9jh4m4MQfxq5nqdzET4a9euFfTPy5cvB3+PUhEfH6cpCYt7bVJs0qnmH3zhWuowJPHTFDzydysEuBWiErrMaqfD49jY2KDUMNc/8gZcuHBBTE1NtYRouGH5gVnnJaP9csOGDVV9ExD/ezMKh/nqZLgVjdOTa/VKtWZG3T7OjVpdwu2wGVoRv+vVGhel55ufycm6bvnUr0JR6d5169aJe+65R/z777/iu+++q74mRhUHY1kpqYiPj1NXU0FW9pOWWQpXZar5x3mF0/fKk8Z8D80hiF/92iZ9+4E+OkMH6y1btlRFu8ijd/DgwcHmLg/Zcu1T6FnslVI3ZZvxXDZnm/5zb9unr/OpOTq235rhYbNh+zj/uy4cUKcXxsSvxoRtFM2X+H02L2nNU6nauh+Be+jQIbF8+XKbaRm3TUV8qsKRgKR0CxcurGSlzxCT0tAhh34u62I8adYw1fxdZMvxGV9vl20hEB0GTYRHB5Pp6ekqRKbG+WW/rpuTTq7Ufx/2fpnK0Hfij/2paNN1iNGO9P6PP/6ouj569Gjl4VF/ZLw+88wzYmRkRDz00EPiwQcfbAwrq+QvPyV/7ty5quw6/XzeK2PiV92PNgC6EEzoz+VSfydOnKi+VCeJjxaDXHH0PfEYsX2JUUrioxDLpUuXKtcq/Ts/8NABh/ItVq1aJZYtW5bsU6Ep52+jl6Zt6woVxfIQ8U3SxVL2DRUMw4V0iTYa6Smid+f1118XtCHxn3rF6JVXXhFLlpglNpmuR1vtXD2eJC+I/4nBXuTjwW1r7ZvGdSkqZKIPMlzOv65KITXKpVmzZo3Xe2VM/KkBt73TmFo+m/FKJz6buQ5rm9P8XWNjZPXu2LGjCgvJX6wEpdmzZ3t5ZfqWQe2rnzk/T3p39uzZoQd5HxIgUqHQDJGKtFB9+tNhGOOLkbox8fd6BLIl/pw+sgMF6gYCarKnyambz1z97HSMRFAaj1sQuru8w1bGd57dWO2yZ0G6dvjw4RkHTR624y5fmikPuehmTt5PCgeR55PIfuPGjeL27duVN4cOs/Rz8TSZWsW2MW/dfPB3ewSyJX6aCrd8dLcI7KeOJ/qEwLA4tS3xc0L1ia814R6ivoLqLYsVkuiT/qSeKw8rkGucSJkSKtWD6IoVKwbeIZNEUK4bKrnz7w6EJv9UVUJTr1Op42VN/Fz5Y220pS4c5LZDQM0qpqdtiZ+70F0scROJVWvd5dpTyu8wmMwJbewR4Htf07VBNeGwqS0//JKlf/Hixbtym9TqcbbvyLCZqodZGHH2+hD6iayJn2+0JqfZ0OCgv24gIMmUNjtZeMqF+PlmHOvbD6F0nltYODSXp8dS13RucZtDHtetpoRrfitEN74JsjmVTzeRtw9tsiZ+bv3Qhn3z5s0+rAnmGBABbuWQ9bJz585BdrGtNSPJNGZWMvdM+BC275XAgEuAriIjYOpG54WYmjwDqtfJ95CreiViJcVGhrlT3WdN/OppFgrTKd1LMhlJpNJy4YRoQ/zcXelDyLpJ883ZJ5zArbbYJZl1c8Lf4yJgQvyqu70phKS6+31zRGJcL42LaPd7z5r4CX5+DcRXAbu/nJghR0BaLuQtun79ehXPdCV+brVwQqYM6T179gyuRNEBY3Jy0qlGgrrh+lha2Gz78S6YJoNy/TXxWJkcJkwRhvfJFKl07bInfl4QJPQVk3QwY6TUCHAXP08mciV+7oIna6mpImRd4pQOA160ymRzbuoPcVUd2t34u2l5Z9N2EpWQZG3zxblurEr+s8ie+PmJFi7L/BUqFwklUatJoa7ELzcveV+a+qHf3r17qwpaRLT8apVLtUq+OftmPqthMnjLctHMcHLww13dtzlciTwk8bt+sCYcUuhJRSB74ieBTZNSsLxAgBDgyUlqXogL8XMXPBE61eOmH32Yhpd65t4pF4ud160Ikc/C3xuXgwi0KV8EVNf9J598IkZHR2sF5npvkqmv1hFwLVbVpQqs+WqDvWRFED+PV/paQvYQ4YmSEOAu/mFk50L8/CBBXie6XSJzBjg26iZncwefe7ZCXV21de+WtM59k5X0+pdffhHff/+9OHDgQFVhj6z87du3i23btmnhsI3Zh/rQEz+g4GaWdpmSNSiC+LnFBXd/Mt0ociDp4q/TExfi55Y8gVKXbe9D/HyjDeWWV7/wheuwRap0FUZaunTpXcLLj4yZfHDLlvhDJYeGrglQ5grmJ3URxE+w8eSqpjuo+UEMiVIhwC3zuqt6LsRv+oERH+KXbv6QVpF6SwDvTSpNDDsOreOxY8cGnap1+ukPulAOJ36TJGlO/D46ycNN8NaG1Quf3ooh/qYa0z4A4NluIMBd/E337OuIXybrUdxe/fFNs+nuvyvxc8tct4HbrhbfeEN5EmxlQPvwCJC+09f1JiYmBp03ETrXA5NQEje0TNoPm6GaYIqDZ3g9cO2xGOKnCcpNm9/Ldp04nusWAtylSBvgvHnzhk5Qxkfpj7KdtKCGbXCczHVhJk7gNptlTL3Gddhu6bk6G7UqXt3hzjZL37b9MJTV3JgbN250ezEKml1RxM83YbiNCtKyBKLyjcp1uGFkzV2euop9nGR1baWMPKkvtLVPY2DzddWGcp7j1nzdbRJbIuftTUIDw9BSD+NTU1PlgNpxSYsifm7166yvjq8bpueIgG2Mn7s8dSV0eS6Arq0UX26OMb1Y/Jog3K2OipPxY2ry6bDbJLYxe67LrkZWqPLTGUNfrGjFET+3kBCzLFbvWhPclvg5aTaV0HW5ecJ12XVzNQEyZGEgk/HQJi0CJhn4PAxF0unKQfO8FpfDIn8ffJID0yLZn9GKI35aGnnCjWkl9UcF+jVTG+LnxKzbvEw/ecrRlrK4FPuxWTXu7rfJPbAZA23bQ8DEmldveDR5pGzyWupmzXMPXEMF7SHa/ZGLJH7KFl28eHFVxMI0ltr9pcQMTRCwIX7TZD2uj6Z1+jkZu1hUJnPlbUw9F7b9on0cBKTFbeIJ4uGoJpI1jdvz0IFr3gkPFdh8BTMOmuhVRaBI4qdJ8FMpFAuKbYqAzYZkWvmOW1wmuqirLmg6F5t2fDNHiMwGuXbaSuLXeTVVS970umldv/wQqxu7DhmXsFc7KPd31GKJn5ZMupNcFbS/y97fmdtUMOOHhDpXP/cKmBKqtLxMaqaHWim+GcPdHwrVeP1wPZUfhuLfhaCRaU1Jh65cuVIJYmKd88MshZjU703wv5smqKoocDe/iUzxUETPdQgUTfw0Kamow5QYyw4EJAJkyezYsUPs379/AAq55T/99NPq63rqTy0+Qn8nN+rWrVvF/Pnzq02XCqhMTk5WNdMPHTokli9frgW8TX3lrt4QHwHSThYNnBHgGfHUCekYufRlfYoff/xRHDlypOqf/kZX5ejvJj9O7vQO0OFhZGRkxjcAbPpTx+QHZl0SoYm8aBMegeKJXyV/169IhYcWPeaEALegVLmGWSWU2Dc2NlZtpmvWrBEnT54UV69eFadPnx48Lmulr169esZX+urmLd3tbR1SeXgMllhO2jlcFtJB0jcieTqoSctekv2iRYvEqlWrhKn+8VFIF/bt2yfOnDkjbt26Vf2J9HJ8fFysX7++Oty6/HhCLJL6XBBM80wniJ+gok117ty5YtOmTWmQwyhAwBIB2hSpxOr09LTRQcGye6Pm0pLU3VIw6gyNgICCAPcmwKuUr3p0hvjzhRiSAYF8EHDJSchHekiSMwI8jwTWfs4rJQSIP+/1gXRAIDgC0upH9cvg0Pa6Q367BdZ+3qoA4s97fSAdEAiOAI/1m95ECC4EOuwUAvyKKqz9/JcWxJ//GkFCIBAcAZnhD6s/OLS97BDVVMtadhB/WesFaYFAEAQoHktZ3JTRjQz/IJD2thMe2zepNNhboDKaOIg/o8WAKEAgJQK8ABZdFXO9wpVSZoyVHwLSe4TCUPmtTZ1EIP5y1gqSAoHgCGDTDg5przrE4bHM5Qbxl7lukBoIBEGAJ2XBTRsE0t50IotcUbjItbxvb8DKbKIg/swWBOIAgdQI8GprKb4UmHp+GC88AnRgJG8RhYiQIxIe39g9gvhjI4z+gUABCMjCPvjgVQGLlYGI8lPAuLqXwWI4iADidwANjwCBLiIgyZ+y/fHNiy6ucJg5yat7IP0weLbRC4i/DdQxJhDIFAEi/2vXroldu3ZlKiHEahsBKgB1+PDh6ouA+JWJAIi/zHWD1EAACAABIAAEnBAA8TvBhoeAABAAAkAACJSJAIi/zHWD1EAACAABIAAEnBAA8TvBhoeAABAAAkAACJSJAIi/zHWD1EAACAABIAAEnBAA8TvBhoeAABAAAkAACJSJAIi/zHWD1EAACAABIAAEnBAA8TvBhoeAABAAAkAACJSJAIi/zHWD1EAACAABIAAEnBAA8TvBhoeAABAAAkAACJSJwP8ATo29/s346I4AAAAASUVORK5CYII=)\n",
        "\n",
        "Результат:\n",
        "\n",
        "![Без_названия_hwQlMGD.png](data:image/png;base64,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)"
      ]
    },
    {
      "cell_type": "code",
      "metadata": {
        "colab": {
          "base_uri": "https://localhost:8080/"
        },
        "id": "cBRdEmjEbriA",
        "outputId": "54cb9ab5-3b4e-4893-a11a-290180dfc527"
      },
      "source": [
        "a = int(input('Введите первое число: '))\n",
        "b = int(input('Введите второе число: '))\n",
        "c = int(input('Введите третье число: '))\n",
        "d = int(input('Введите четвертое число: '))\n",
        "z = 2 * (c + 5 + (a * b / (4 * b))) * (d - ( (2 * a ** 3) / 30)) -10\n",
        "print(z)"
      ],
      "execution_count": 10,
      "outputs": [
        {
          "output_type": "stream",
          "name": "stdout",
          "text": [
            "Введите первое число: 1\n",
            "Введите второе число: 2\n",
            "Введите третье число: 3\n",
            "Введите четвертое число: 4\n",
            "54.89999999999999\n"
          ]
        }
      ]
    },
    {
      "cell_type": "markdown",
      "metadata": {
        "id": "3hx4pfhteE18"
      },
      "source": [
        "**Задача 3. Исправление ошибки**\n",
        "\n",
        "Секретарь заполняла данные по категории сотрудников для расчёта множителя к зарплате и, не проверив правильность записи, случайно нажала «Подтвердить», после чего данные со значениями заблокировались. Однако осталась возможность редактировать формулу.\n",
        "\n",
        "\n",
        "\n",
        "Дана программа:\n",
        "\n",
        "a = '2'\n",
        "\n",
        "b = '5'\n",
        "\n",
        "c = '3'\n",
        "\n",
        "num = 6 ** a + (7 - b) * c\n",
        "\n",
        "print(num)\n",
        "\n",
        "Скопируйте её в редактор и исправьте в ней четвёртую строку, используя только функцию int().\n",
        "\n",
        "Запустите и проверьте работу программы. Результат должен быть равен 42.\n"
      ]
    },
    {
      "cell_type": "code",
      "metadata": {
        "colab": {
          "base_uri": "https://localhost:8080/"
        },
        "id": "GvLU71HvdF7R",
        "outputId": "861ac157-01df-4612-bd8d-b9ce5689eeba"
      },
      "source": [
        "a = '2'\n",
        "\n",
        "b = '5'\n",
        "\n",
        "c = '3'\n",
        "a, b, c = int(a), int(b), int(c)\n",
        "num = 6 ** a + (7 - b) * c\n",
        "\n",
        "print(num)"
      ],
      "execution_count": 13,
      "outputs": [
        {
          "output_type": "stream",
          "name": "stdout",
          "text": [
            "42\n"
          ]
        }
      ]
    },
    {
      "cell_type": "code",
      "metadata": {
        "id": "aS-YmTyaewvN"
      },
      "source": [
        ""
      ],
      "execution_count": null,
      "outputs": []
    }
  ]
}