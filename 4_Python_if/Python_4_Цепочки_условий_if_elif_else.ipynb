{
  "nbformat": 4,
  "nbformat_minor": 0,
  "metadata": {
    "colab": {
      "name": "Python_4_Цепочки условий if-elif-else",
      "provenance": [],
      "authorship_tag": "ABX9TyN3Yuc95bVrBzSlct8cH1Dx",
      "include_colab_link": true
    },
    "kernelspec": {
      "name": "python3",
      "display_name": "Python 3"
    },
    "language_info": {
      "name": "python"
    }
  },
  "cells": [
    {
      "cell_type": "markdown",
      "metadata": {
        "id": "view-in-github",
        "colab_type": "text"
      },
      "source": [
        "<a href=\"https://colab.research.google.com/github/PasAlex8019/Python-for-Data-Science/blob/main/Python_4_%D0%A6%D0%B5%D0%BF%D0%BE%D1%87%D0%BA%D0%B8_%D1%83%D1%81%D0%BB%D0%BE%D0%B2%D0%B8%D0%B9_if_elif_else.ipynb\" target=\"_parent\"><img src=\"https://colab.research.google.com/assets/colab-badge.svg\" alt=\"Open In Colab\"/></a>"
      ]
    },
    {
      "cell_type": "code",
      "metadata": {
        "id": "FVtYmVrJGnvn",
        "colab": {
          "base_uri": "https://localhost:8080/"
        },
        "outputId": "431be453-2026-4f9e-c4f8-2ea58325142d"
      },
      "source": [
        "X = int(input('Введите икс: '))\n",
        "Y = int(input('Введите игрек: '))\n",
        "if X > Y:\n",
        "  #result = X\n",
        "  print('X больше Y')\n",
        "else:\n",
        "  if X < Y:\n",
        "    print('X меньше Y')\n",
        "  else:\n",
        "    print('X равен Y')"
      ],
      "execution_count": 1,
      "outputs": [
        {
          "output_type": "stream",
          "name": "stdout",
          "text": [
            "Введите икс: 4\n",
            "Введите игрек: 2\n",
            "X больше Y\n"
          ]
        }
      ]
    },
    {
      "cell_type": "markdown",
      "metadata": {
        "id": "g5hC7mc2vwix"
      },
      "source": [
        "## Оптимизация кода if-elif-else"
      ]
    },
    {
      "cell_type": "code",
      "metadata": {
        "colab": {
          "base_uri": "https://localhost:8080/"
        },
        "id": "fM8Y3tlcv6PG",
        "outputId": "3e2fe792-e2b5-431b-ce5d-ef1922c1d218"
      },
      "source": [
        "X = int(input('Введите икс: '))\n",
        "Y = int(input('Введите игрек: '))\n",
        "if X > Y:\n",
        "  print('X больше Y')\n",
        "elif X < Y:\n",
        "  print('X меньше Y')\n",
        "else:\n",
        "    print('X равен Y')"
      ],
      "execution_count": 2,
      "outputs": [
        {
          "output_type": "stream",
          "name": "stdout",
          "text": [
            "Введите икс: 2\n",
            "Введите игрек: 2\n",
            "X равен Y\n"
          ]
        }
      ]
    },
    {
      "cell_type": "markdown",
      "metadata": {
        "id": "UVQB3bI5w9XH"
      },
      "source": [
        "## Программа сумма налога"
      ]
    },
    {
      "cell_type": "code",
      "metadata": {
        "colab": {
          "base_uri": "https://localhost:8080/"
        },
        "id": "1EX6djNMxCcU",
        "outputId": "e6bbd3da-bfdc-4bac-b675-53057cb2aa70"
      },
      "source": [
        "profit = int(input('Введите размер прибыли: '))\n",
        "\n",
        "if profit < 10000:\n",
        "  tax = profit * 13 / 100\n",
        "  print(f\"Размер налога (13%) равен, {tax}\")\n",
        "elif 10000 < profit < 50000:\n",
        "  tax = profit * 20 / 100\n",
        "  print(f\"Размер налога (20%) равен, {tax}\")\n",
        "else:\n",
        "  tax = profit * 30 / 100\n",
        "  print(f\"Размер налога (30%) равен, {tax}\")"
      ],
      "execution_count": 3,
      "outputs": [
        {
          "output_type": "stream",
          "name": "stdout",
          "text": [
            "Введите размер прибыли: 15000\n",
            "Размер налога (20%) равен, 3000.0\n"
          ]
        }
      ]
    },
    {
      "cell_type": "markdown",
      "metadata": {
        "id": "iQF8wPYJykSc"
      },
      "source": [
        "## **Практика**\n",
        "\n",
        "\n",
        "\n",
        "**Цель задания**\n",
        "\n",
        "Потренироваться в написании цепочек условий if-elif-else.\n",
        "\n",
        "\n",
        "\n",
        "**Что нужно сделать**\n",
        "\n",
        "\n",
        "###**Задача 1. Координаты**\n",
        "\n",
        "Вернёмся к задаче про подводную лодку и её координаты. Теперь мы знаем, что вместо трёх отдельных проверок можно использовать оператор elif — «»иначе-если». То есть если одна координата больше другой, то будет одно сообщение, иначе если одна меньше другой, то…\n",
        "\n",
        "\n",
        "\n",
        "Напишите программу, которая сравнивает координаты X (икс) и Y (игрек) и выводит соответствующий результат. Для этого используйте оператор elif."
      ]
    },
    {
      "cell_type": "code",
      "metadata": {
        "colab": {
          "base_uri": "https://localhost:8080/"
        },
        "id": "nv-1SMzjyteJ",
        "outputId": "44413343-5a61-4947-ea47-66b9b3c3fa25"
      },
      "source": [
        "X = int(input('Введите икс: '))\n",
        "Y = int(input('Введите игрек: '))\n",
        "if X > Y:\n",
        "  print('X больше Y')\n",
        "elif X < Y:\n",
        "  print('X меньше Y')\n",
        "else:\n",
        "    print('X равен Y')"
      ],
      "execution_count": 4,
      "outputs": [
        {
          "output_type": "stream",
          "name": "stdout",
          "text": [
            "Введите икс: 2\n",
            "Введите игрек: 7\n",
            "X меньше Y\n"
          ]
        }
      ]
    },
    {
      "cell_type": "markdown",
      "metadata": {
        "id": "LqzW6aYty-Pr"
      },
      "source": [
        "###**Задача 2. Прогрессивный налог**\n",
        "\n",
        "\n",
        "В некоторых странах действует так называемая прогрессивная шкала налогообложения: чем больше ты зарабатываешь, тем больший налог платишь. Нужно написать программу, которая будет рассчитывать сумму налога исходя из прибыли. Если прибыль до 10 000 — ставка налога равна 13%, начиная с 10 000 и до 50 000 — 20%. А начиная с 50 000 — 30%. А также нужно добавить «проверку на дурака»: если ввели число меньше нуля, то вывести сообщение: «Ошибка: доход не может быть отрицательным»."
      ]
    },
    {
      "cell_type": "code",
      "metadata": {
        "colab": {
          "base_uri": "https://localhost:8080/"
        },
        "id": "XpHJNR2wy0cU",
        "outputId": "f73c74a9-0bad-426d-abd5-286ee0ded9ff"
      },
      "source": [
        "profit = int(input('Введите размер прибыли: '))\n",
        "\n",
        "if profit <= 0:\n",
        "  print('Ошибка: доход не может быть отрицательным')\n",
        "elif profit < 10000:\n",
        "  tax = profit * 13 / 100\n",
        "  print(f\"Размер налога (13%) равен, {tax}\")\n",
        "elif profit < 50000:\n",
        "  tax = profit * 20 / 100\n",
        "  print(f\"Размер налога (20%) равен, {tax}\")\n",
        "else:\n",
        "  tax = profit * 30 / 100\n",
        "  print(f\"Размер налога (30%) равен, {tax}\")\n"
      ],
      "execution_count": 9,
      "outputs": [
        {
          "output_type": "stream",
          "name": "stdout",
          "text": [
            "Введите размер прибыли: -5\n",
            "Ошибка: доход не может быть отрицательным\n"
          ]
        }
      ]
    },
    {
      "cell_type": "markdown",
      "metadata": {
        "id": "P36Hyyb20H7o"
      },
      "source": [
        "###**Задача 3. Фальшивомонетчики**\n",
        "\n",
        "Пете дали три монетки и сказали, что если он сможет на весах без гирь определить, какая из них фальшивая (более лёгкая), то сможет забрать их все. А Петя в одной из книжек прочитал, что для этого достаточно одного взвешивания: если две монеты весят одинаково, то фальшивая третья, а иначе фальшивая та, которая легче на весах. Напишите программу, которая принимает на вход вес трёх монет (две одинаковые, третья меньше) и определяет, какая из них легче."
      ]
    },
    {
      "cell_type": "code",
      "metadata": {
        "colab": {
          "base_uri": "https://localhost:8080/"
        },
        "id": "Aip4JgLe0Lwa",
        "outputId": "10e49f5f-c432-4afc-d8ed-49d60f9d3e75"
      },
      "source": [
        "a = int(input('Введите вес первой монетки: '))\n",
        "b = int(input('Введите вес второй монетки: '))\n",
        "c = int(input('Введите вес третьей монетки: '))\n",
        "\n",
        "if a == b:\n",
        "  print('Фальшивая третья монетка')\n",
        "elif b == c:\n",
        "  print('Фальшивая первая монетка')\n",
        "else:\n",
        "  print('Фальшивая вторая монетка')"
      ],
      "execution_count": 10,
      "outputs": [
        {
          "output_type": "stream",
          "name": "stdout",
          "text": [
            "Введите вес первой монетки: 2\n",
            "Введите вес второй монетки: 2\n",
            "Введите вес третьей монетки: 1\n",
            "Фальшивая третья монетка\n"
          ]
        }
      ]
    },
    {
      "cell_type": "code",
      "metadata": {
        "id": "yqs0iWnl3MOb"
      },
      "source": [
        ""
      ],
      "execution_count": null,
      "outputs": []
    }
  ]
}