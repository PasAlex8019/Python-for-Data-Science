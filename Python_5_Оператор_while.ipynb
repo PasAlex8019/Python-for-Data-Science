{
  "nbformat": 4,
  "nbformat_minor": 0,
  "metadata": {
    "colab": {
      "name": "Python_5_Оператор while",
      "provenance": [],
      "authorship_tag": "ABX9TyPOeJL8DaH60YYY5fXAyIo5",
      "include_colab_link": true
    },
    "kernelspec": {
      "name": "python3",
      "display_name": "Python 3"
    },
    "language_info": {
      "name": "python"
    }
  },
  "cells": [
    {
      "cell_type": "markdown",
      "metadata": {
        "id": "view-in-github",
        "colab_type": "text"
      },
      "source": [
        "<a href=\"https://colab.research.google.com/github/PasAlex8019/Python-for-Data-Science/blob/main/Python_5_%D0%9E%D0%BF%D0%B5%D1%80%D0%B0%D1%82%D0%BE%D1%80_while.ipynb\" target=\"_parent\"><img src=\"https://colab.research.google.com/assets/colab-badge.svg\" alt=\"Open In Colab\"/></a>"
      ]
    },
    {
      "cell_type": "markdown",
      "metadata": {
        "id": "g-D-ebngE0ij"
      },
      "source": [
        "### Цикл - это многократное повторение одних и тех же действий"
      ]
    },
    {
      "cell_type": "code",
      "metadata": {
        "colab": {
          "base_uri": "https://localhost:8080/"
        },
        "id": "4eEUKAx2EZ9M",
        "outputId": "d1d956ee-8019-42f1-f9c2-5d5c33f334fb"
      },
      "source": [
        "password = int(input('Введите пароль : '))\n",
        "\n",
        "while password != 235:\n",
        "  print('Неверный пароль')\n",
        "  password = int(input('Попробуйте еще раз : '))\n",
        "print('Пароль верный. Добро пожаловать.')"
      ],
      "execution_count": 1,
      "outputs": [
        {
          "output_type": "stream",
          "name": "stdout",
          "text": [
            "Введите пароль : 11\n",
            "Неверный пароль\n",
            "Попробуйте еще раз : 235\n",
            "Пароль верный. Добро пожаловать.\n"
          ]
        }
      ]
    },
    {
      "cell_type": "markdown",
      "metadata": {
        "id": "DO3c1KSiINpL"
      },
      "source": [
        "### Каждое однократное выполнение тела цикла называется итерация"
      ]
    },
    {
      "cell_type": "markdown",
      "metadata": {
        "id": "AptO5Rc-Iq4A"
      },
      "source": [
        "### Цикл while используется когда количество итераций не известно (неизвестно сколько будет повторений выполнения тела цикла)"
      ]
    },
    {
      "cell_type": "markdown",
      "metadata": {
        "id": "sWaqr2whJJkG"
      },
      "source": [
        "### Задача \"Шопинг\""
      ]
    },
    {
      "cell_type": "code",
      "metadata": {
        "colab": {
          "base_uri": "https://localhost:8080/"
        },
        "id": "QJ71saJ1IXru",
        "outputId": "38d7b52f-82aa-480a-98e9-20361e137e1b"
      },
      "source": [
        "balance = int(input('Введите баланс счета : '))\n",
        "#sale = int(input('Введите сумму покупки : '))\n",
        "\n",
        "while balance > 5000:\n",
        "  sale = int(input('Введите сумму покупки : '))\n",
        "  balance -= sale\n",
        "print(f'Баланс меньше 5000 . На карте осталось {balance}')"
      ],
      "execution_count": 5,
      "outputs": [
        {
          "output_type": "stream",
          "name": "stdout",
          "text": [
            "Введите баланс счета : 20000\n",
            "Введите сумму покупки : 5000\n",
            "Введите сумму покупки : 7000\n",
            "Введите сумму покупки : 4000\n",
            "Баланс меньше 5000 . На карте осталось 4000\n"
          ]
        }
      ]
    },
    {
      "cell_type": "markdown",
      "metadata": {
        "id": "iBt-0IGqME5C"
      },
      "source": [
        "##**Практика**\n",
        "\n",
        "\n",
        "\n",
        "**Цель задания**\n",
        "\n",
        "Потренироваться в работе с циклом while.\n",
        "\n",
        "\n",
        "\n",
        "**Что нужно сделать**\n",
        "\n"
      ]
    },
    {
      "cell_type": "markdown",
      "metadata": {
        "id": "n5_Sy8Y9MR9p"
      },
      "source": [
        "**Задача 1. Циклы — это сложно?**\n",
        "\n",
        "Даша начала проходить циклы. Она написала программу, которая просто должна считать сумму чисел до тех пор, пока мы не ввели 0, но что-то пошло не так.\n",
        "\n",
        "number = int(input(‘Введите число: ’))\n",
        "\n",
        "While number <= 0:\n",
        "\n",
        "   summ += number\n",
        "\n",
        "   number = int(input(‘Введите число: ’))\n",
        "\n",
        "print(Summ)\n",
        "\n",
        "Скопируйте программу в редактор, исправьте её и убедитесь в правильности работы программы."
      ]
    },
    {
      "cell_type": "code",
      "metadata": {
        "colab": {
          "base_uri": "https://localhost:8080/"
        },
        "id": "J7Eoh6lgML24",
        "outputId": "56fffb97-9b85-4c33-8bda-6a0808b4da7f"
      },
      "source": [
        "number = int(input('Введите число: '))\n",
        "summ = 0\n",
        "\n",
        "while number != 0:\n",
        "  summ += number\n",
        "  number = int(input('Введите число: '))\n",
        "print(summ)"
      ],
      "execution_count": 14,
      "outputs": [
        {
          "output_type": "stream",
          "name": "stdout",
          "text": [
            "Введите число: 4\n",
            "Введите число: 2\n",
            "Введите число: 2\n",
            "Введите число: 0\n",
            "8\n"
          ]
        }
      ]
    },
    {
      "cell_type": "markdown",
      "metadata": {
        "id": "aaZRKzp3ORHF"
      },
      "source": [
        "**Задача 2. Введите пароль**\n",
        "\n",
        "Когда мы включаем ноутбук, он просит нас ввести пароль. Если пароль оказался неверным, нам сообщают об этом и снова просят ввести пароль. И так до тех пор, пока мы не введём правильный пароль, — тогда ноутбук даст доступ в учётную запись, и программа завершится.\n",
        "\n",
        "Напишите программу, которая запрашивает у пользователя пароль до тех пор, пока он не введёт верный (верным будет считаться пароль 235).\n",
        "\n",
        "\n",
        "\n",
        "Пример:\n",
        "\n",
        "Введите пароль: 100000\n",
        "\n",
        "Неверный пароль!\n",
        "\n",
        "Попробуйте ещё раз: 500\n",
        "\n",
        "Неверный пароль!\n",
        "\n",
        "Попробуйте ещё раз: 235\n",
        "\n",
        "Пароль верный! Добро пожаловать."
      ]
    },
    {
      "cell_type": "code",
      "metadata": {
        "colab": {
          "base_uri": "https://localhost:8080/"
        },
        "id": "iEFsPwSdOXNG",
        "outputId": "184df82d-7f90-4a0c-99d2-7ee412d08c74"
      },
      "source": [
        "password = int(input('Введите пароль : '))\n",
        "\n",
        "while password != 235:\n",
        "  print('Неверный пароль!')\n",
        "  password = int(input('Попробуйте ещё раз: '))\n",
        "print('Пароль верный! Добро пожаловать.')"
      ],
      "execution_count": 15,
      "outputs": [
        {
          "output_type": "stream",
          "name": "stdout",
          "text": [
            "Введите пароль : 100000\n",
            "Неверный пароль!\n",
            "Попробуйте ещё раз: 500\n",
            "Неверный пароль!\n",
            "Попробуйте ещё раз: 235\n",
            "Пароль верный! Добро пожаловать.\n"
          ]
        }
      ]
    },
    {
      "cell_type": "markdown",
      "metadata": {
        "id": "Yjj1nnf3PMdn"
      },
      "source": [
        "**Задача 3. Накопления**\n",
        "\n",
        "Кирилл копит себе на хорошую новенькую машину и для этого он каждый раз откладывает в копилку определённую сумму с зарплаты.\n",
        "\n",
        "Напишите программу, которая спрашивает у пользователя «Сколько отложить денег?» до тех пор, пока сумма в копилке не превысит или не станет равна 500 000 рублей.\n",
        "\n"
      ]
    },
    {
      "cell_type": "code",
      "metadata": {
        "colab": {
          "base_uri": "https://localhost:8080/"
        },
        "id": "W37ca5omPOdJ",
        "outputId": "2ed6f83a-cb1a-4eb2-b5ef-df639c19e96d"
      },
      "source": [
        "#money = int(input('Сколько отложить денег? '))\n",
        "balance = 0\n",
        "\n",
        "while balance <= 500000:\n",
        "  money = int(input('Сколько отложить денег? '))\n",
        "  balance += money\n",
        "\n",
        "  print('Сумма не накоплена')\n",
        "  print('Баланс счета: ', balance)\n",
        "  \n",
        "print('Сумма накоплена')\n",
        "print('Баланс счета: ', balance)"
      ],
      "execution_count": 28,
      "outputs": [
        {
          "output_type": "stream",
          "name": "stdout",
          "text": [
            "Сколько отложить денег? 260000\n",
            "Сумма не накоплена\n",
            "Баланс счета:  260000\n",
            "Сколько отложить денег? 250000\n",
            "Сумма не накоплена\n",
            "Баланс счета:  510000\n",
            "Сумма накоплена\n",
            "Баланс счета:  510000\n"
          ]
        }
      ]
    }
  ]
}