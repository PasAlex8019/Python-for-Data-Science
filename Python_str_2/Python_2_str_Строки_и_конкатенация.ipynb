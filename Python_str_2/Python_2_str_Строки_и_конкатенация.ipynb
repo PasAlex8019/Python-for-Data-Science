{
  "nbformat": 4,
  "nbformat_minor": 0,
  "metadata": {
    "colab": {
      "name": "Python 2. str/Строки и конкатенация",
      "provenance": [],
      "authorship_tag": "ABX9TyOdSSiTibwgw1+dB5eOfACA",
      "include_colab_link": true
    },
    "kernelspec": {
      "name": "python3",
      "display_name": "Python 3"
    },
    "language_info": {
      "name": "python"
    }
  },
  "cells": [
    {
      "cell_type": "markdown",
      "metadata": {
        "id": "view-in-github",
        "colab_type": "text"
      },
      "source": [
        "<a href=\"https://colab.research.google.com/github/PasAlex8019/Python-for-Data-Science/blob/main/Python_2_str_%D0%A1%D1%82%D1%80%D0%BE%D0%BA%D0%B8_%D0%B8_%D0%BA%D0%BE%D0%BD%D0%BA%D0%B0%D1%82%D0%B5%D0%BD%D0%B0%D1%86%D0%B8%D1%8F.ipynb\" target=\"_parent\"><img src=\"https://colab.research.google.com/assets/colab-badge.svg\" alt=\"Open In Colab\"/></a>"
      ]
    },
    {
      "cell_type": "markdown",
      "metadata": {
        "id": "VNc6KakuELkV"
      },
      "source": [
        "print() - позволяет выводить объекты на экран простым перечислением через затятую \",\""
      ]
    },
    {
      "cell_type": "code",
      "metadata": {
        "colab": {
          "base_uri": "https://localhost:8080/"
        },
        "id": "1ff4A72zFvJE",
        "outputId": "57b20730-40a6-43a6-9ec7-d40465eef6cc"
      },
      "source": [
        "n = input('Введите имя : ')\n",
        "print('Привет,', n,'!')"
      ],
      "execution_count": 4,
      "outputs": [
        {
          "output_type": "stream",
          "name": "stdout",
          "text": [
            "Введите имя : Иван\n",
            "Привет, Иван !\n"
          ]
        }
      ]
    },
    {
      "cell_type": "markdown",
      "metadata": {
        "id": "vt_ai99iGy-M"
      },
      "source": [
        "Конкатенация - это операция соединения (склеивания) объектов"
      ]
    },
    {
      "cell_type": "code",
      "metadata": {
        "colab": {
          "base_uri": "https://localhost:8080/"
        },
        "id": "GYLDuodjF7qe",
        "outputId": "26a01098-044a-4d5c-ded7-d41ee09d25bb"
      },
      "source": [
        "print('Торговая' + 'площадь')\n",
        "# пробел тоже является символом. поэтому для разделения слов можно его добавить посло слова Торговая\n",
        "print('Торговая ' + 'площадь')"
      ],
      "execution_count": 5,
      "outputs": [
        {
          "output_type": "stream",
          "name": "stdout",
          "text": [
            "Торговаяплощадь\n",
            "Торговая площадь\n"
          ]
        }
      ]
    },
    {
      "cell_type": "markdown",
      "metadata": {
        "id": "bn8ffIZqH8ug"
      },
      "source": [
        "Операцию конкантенации можно использовать с переменными,\n",
        "конкатенация позволяет формировать строку из нескольких кусочков"
      ]
    },
    {
      "cell_type": "code",
      "metadata": {
        "colab": {
          "base_uri": "https://localhost:8080/"
        },
        "id": "S9veGJdxHnIO",
        "outputId": "3c32c413-7cbe-475e-dc7a-d5b14058b14d"
      },
      "source": [
        "a = input('Введите слово :')\n",
        "b = input('Введите  второе слово :')\n",
        "print(a + 'Середина' + b)\n",
        "print(a + ' Середина ' + b) # добавим пробелы до и после слова середина\n"
      ],
      "execution_count": 8,
      "outputs": [
        {
          "output_type": "stream",
          "name": "stdout",
          "text": [
            "Введите слово :старт\n",
            "Введите  второе слово :финиш\n",
            "стартСерединафиниш\n",
            "старт Середина финиш\n"
          ]
        }
      ]
    },
    {
      "cell_type": "markdown",
      "metadata": {
        "id": "FDIyBbCBJXGy"
      },
      "source": [
        "## Что нужно сделать\n",
        "\n",
        "\n",
        "\n",
        "### Задача 1. Вывод в одну строку\n",
        "\n",
        "\n",
        "\n",
        "Напишите программу, которая запрашивает у пользователя его имя и выводит для него приветствие в одну строку, как в примере ниже. Не забывайте ставить запятую при перечислении объектов внутри print!\n",
        "\n",
        "![Без_названия_b4QFwf1.png](data:image/png;base64,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)\n",
        "\n"
      ]
    },
    {
      "cell_type": "code",
      "metadata": {
        "colab": {
          "base_uri": "https://localhost:8080/"
        },
        "id": "TqoQ_w8PIaJU",
        "outputId": "365d4dd4-0dec-4d81-a4aa-aef790bd7333"
      },
      "source": [
        "n = input('Введите имя: ')\n",
        "print('Привет,', n)"
      ],
      "execution_count": 10,
      "outputs": [
        {
          "output_type": "stream",
          "name": "stdout",
          "text": [
            "Введите имя: Лена\n",
            "Привет, Лена\n"
          ]
        }
      ]
    },
    {
      "cell_type": "markdown",
      "metadata": {
        "id": "_7mRE8M2J7Cn"
      },
      "source": [
        "## Задача 2. Конкатенация\n",
        "\n",
        "\n",
        "\n",
        "### Что нужно сделать\n",
        "\n",
        "1. Используя программу из предыдущего задания, добавьте вывод восклицательного знака в конец приветственной строки. Проверьте программу.\n",
        "2. Затем попробуйте использовать конкатенацию для вывода строки. Для этого в команде print уберите запятые между объектами и вместо них поставьте знак «+». Снова проверьте программу. Результат должен быть такой же."
      ]
    },
    {
      "cell_type": "code",
      "metadata": {
        "colab": {
          "base_uri": "https://localhost:8080/"
        },
        "id": "kHXb3kWlJxZK",
        "outputId": "da3e3e25-5602-463e-d8bd-11537671f19a"
      },
      "source": [
        "n = input('Введите имя: ')\n",
        "print('Привет, ' + n + ' !')"
      ],
      "execution_count": 11,
      "outputs": [
        {
          "output_type": "stream",
          "name": "stdout",
          "text": [
            "Введите имя: Лена\n",
            "Привет, Лена !\n"
          ]
        }
      ]
    },
    {
      "cell_type": "markdown",
      "metadata": {
        "id": "tL2NlhBhKWsx"
      },
      "source": [
        "## Задача 3. Склейка\n",
        "\n",
        "\n",
        "\n",
        "### Что нужно сделать\n",
        "\n",
        "Напишите программу, которая запрашивает на вход два слова, записывает их в разные переменные, затем склеивает их и выводит на экран полученную строку.\n",
        "\n",
        "\n",
        "\n",
        "Результат будет такой:\n",
        "\n",
        "Введите первое слово: Всем\n",
        "\n",
        "Введите второе слово: привет\n",
        "\n",
        "Всем привет"
      ]
    },
    {
      "cell_type": "code",
      "metadata": {
        "colab": {
          "base_uri": "https://localhost:8080/"
        },
        "id": "76jjiqakKMy2",
        "outputId": "d9c409c0-0607-4601-ffc4-f5094d33aa08"
      },
      "source": [
        "a = input('Введите первое слово: ')\n",
        "b = input('Введите второе слово: ')\n",
        "print(a + ' ' + b)"
      ],
      "execution_count": 12,
      "outputs": [
        {
          "output_type": "stream",
          "name": "stdout",
          "text": [
            "Введите первое слово: Всем\n",
            "Введите второе слово: привет\n",
            "Всем привет\n"
          ]
        }
      ]
    },
    {
      "cell_type": "code",
      "metadata": {
        "colab": {
          "base_uri": "https://localhost:8080/"
        },
        "id": "puipKZwTK02j",
        "outputId": "0da012d8-2b5e-4ec6-a55c-dccabb25fcef"
      },
      "source": [
        "a = 1\n",
        "b = 2\n",
        "print(a, b)"
      ],
      "execution_count": 13,
      "outputs": [
        {
          "output_type": "stream",
          "name": "stdout",
          "text": [
            "1 2\n"
          ]
        }
      ]
    },
    {
      "cell_type": "code",
      "metadata": {
        "colab": {
          "base_uri": "https://localhost:8080/"
        },
        "id": "KEaMN7zTPEX6",
        "outputId": "cecc4bc0-5430-4421-d654-715c64a0f77a"
      },
      "source": [
        "a, b = b, a\n",
        "print(a, b)"
      ],
      "execution_count": 14,
      "outputs": [
        {
          "output_type": "stream",
          "name": "stdout",
          "text": [
            "2 1\n"
          ]
        }
      ]
    },
    {
      "cell_type": "code",
      "metadata": {
        "id": "iXZJu6dAPLb-"
      },
      "source": [
        ""
      ],
      "execution_count": null,
      "outputs": []
    }
  ]
}