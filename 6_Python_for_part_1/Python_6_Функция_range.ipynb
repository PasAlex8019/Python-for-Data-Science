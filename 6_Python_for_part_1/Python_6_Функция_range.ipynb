{
  "nbformat": 4,
  "nbformat_minor": 0,
  "metadata": {
    "colab": {
      "name": "Python_6_Функция range",
      "provenance": [],
      "authorship_tag": "ABX9TyNzTKAxHQxhPW0ugd3dXjic",
      "include_colab_link": true
    },
    "kernelspec": {
      "name": "python3",
      "display_name": "Python 3"
    },
    "language_info": {
      "name": "python"
    }
  },
  "cells": [
    {
      "cell_type": "markdown",
      "metadata": {
        "id": "view-in-github",
        "colab_type": "text"
      },
      "source": [
        "<a href=\"https://colab.research.google.com/github/PasAlex8019/Python-for-Data-Science/blob/main/Python_6_%D0%A4%D1%83%D0%BD%D0%BA%D1%86%D0%B8%D1%8F_range.ipynb\" target=\"_parent\"><img src=\"https://colab.research.google.com/assets/colab-badge.svg\" alt=\"Open In Colab\"/></a>"
      ]
    },
    {
      "cell_type": "markdown",
      "metadata": {
        "id": "4bC6J9_Q5Ml0"
      },
      "source": [
        "### В цикле for можно явно указывать количество итераций цикла"
      ]
    },
    {
      "cell_type": "code",
      "metadata": {
        "colab": {
          "base_uri": "https://localhost:8080/"
        },
        "id": "FhXB734C4U4t",
        "outputId": "ad8039b0-eea7-4fb5-92f8-311e348a8c93"
      },
      "source": [
        "text = 'Python'\n",
        "words_count = 0\n",
        "\n",
        "while words_count < 5:\n",
        "  print(text)\n",
        "  words_count += 1"
      ],
      "execution_count": 1,
      "outputs": [
        {
          "output_type": "stream",
          "name": "stdout",
          "text": [
            "Python\n",
            "Python\n",
            "Python\n",
            "Python\n",
            "Python\n"
          ]
        }
      ]
    },
    {
      "cell_type": "markdown",
      "metadata": {
        "id": "wku3iEXX5yNw"
      },
      "source": [
        "### Оптимизация кода через for\n",
        "Функция range переводится как диапазон, а в скобках () указывается количество итераций"
      ]
    },
    {
      "cell_type": "code",
      "metadata": {
        "colab": {
          "base_uri": "https://localhost:8080/"
        },
        "id": "qLNlyMr-5HZP",
        "outputId": "3102c29f-cd77-48cf-a261-bc562019bed7"
      },
      "source": [
        "for words_count in range(5):\n",
        "  print(text)"
      ],
      "execution_count": 3,
      "outputs": [
        {
          "output_type": "stream",
          "name": "stdout",
          "text": [
            "Python\n",
            "Python\n",
            "Python\n",
            "Python\n",
            "Python\n"
          ]
        }
      ]
    },
    {
      "cell_type": "code",
      "metadata": {
        "colab": {
          "base_uri": "https://localhost:8080/"
        },
        "id": "QHTSwJG-7HZv",
        "outputId": "e053bac4-2f6f-4617-aa89-050cbb8becd0"
      },
      "source": [
        "for words_count in range(5):\n",
        "  print(words_count)\n",
        "  print(text)"
      ],
      "execution_count": 4,
      "outputs": [
        {
          "output_type": "stream",
          "name": "stdout",
          "text": [
            "0\n",
            "Python\n",
            "1\n",
            "Python\n",
            "2\n",
            "Python\n",
            "3\n",
            "Python\n",
            "4\n",
            "Python\n"
          ]
        }
      ]
    },
    {
      "cell_type": "markdown",
      "metadata": {
        "id": "-ZfsGIWk7TTZ"
      },
      "source": [
        "В цикле for переменная (words_count) является счетчиком"
      ]
    },
    {
      "cell_type": "code",
      "metadata": {
        "colab": {
          "base_uri": "https://localhost:8080/"
        },
        "id": "rGdR-HG57Ll9",
        "outputId": "07f52f3d-0405-40f6-a2a8-51a518b1c2db"
      },
      "source": [
        "for number in 0,1,2,3,4,5,6,7,8,9,10:\n",
        "  print(number ** 2)"
      ],
      "execution_count": 6,
      "outputs": [
        {
          "output_type": "stream",
          "name": "stdout",
          "text": [
            "0\n",
            "1\n",
            "4\n",
            "9\n",
            "16\n",
            "25\n",
            "36\n",
            "49\n",
            "64\n",
            "81\n",
            "100\n"
          ]
        }
      ]
    },
    {
      "cell_type": "markdown",
      "metadata": {
        "id": "QH6djCnT8PaC"
      },
      "source": [
        "оптимизация кода через функцию range"
      ]
    },
    {
      "cell_type": "code",
      "metadata": {
        "colab": {
          "base_uri": "https://localhost:8080/"
        },
        "id": "4JECOgwC77U0",
        "outputId": "586289f6-4ea2-4a52-a6d7-fa15d8a3bcbd"
      },
      "source": [
        "for number in range(11):\n",
        "  print(number ** 2)"
      ],
      "execution_count": 8,
      "outputs": [
        {
          "output_type": "stream",
          "name": "stdout",
          "text": [
            "0\n",
            "1\n",
            "4\n",
            "9\n",
            "16\n",
            "25\n",
            "36\n",
            "49\n",
            "64\n",
            "81\n",
            "100\n"
          ]
        }
      ]
    },
    {
      "cell_type": "markdown",
      "metadata": {
        "id": "c8t8kboe8qNM"
      },
      "source": [
        "### Задача \"Копим на путешествие\""
      ]
    },
    {
      "cell_type": "code",
      "metadata": {
        "colab": {
          "base_uri": "https://localhost:8080/"
        },
        "id": "Myr2gVYG8K3t",
        "outputId": "144de31c-80e3-49c3-ba49-4dbe72444b2b"
      },
      "source": [
        "total_months = int(input('Сколько месяцев откладываем? '))\n",
        "summ = 0\n",
        "\n",
        "for month in range(total_months):\n",
        "  print('Месяц', month)\n",
        "  money = int(input('Сколько денег откладываем? '))\n",
        "  summ += money\n",
        "print(f'За {total_months} месяцев, отложили {summ} рублей')"
      ],
      "execution_count": 14,
      "outputs": [
        {
          "output_type": "stream",
          "name": "stdout",
          "text": [
            "Сколько месяцев откладываем? 4\n",
            "Месяц 0\n",
            "Сколько денег откладываем? 450\n",
            "Месяц 1\n",
            "Сколько денег откладываем? 1000\n",
            "Месяц 2\n",
            "Сколько денег откладываем? 2000\n",
            "Месяц 3\n",
            "Сколько денег откладываем? 3002\n",
            "За 4 месяцев, отложили 6452 рублей\n"
          ]
        }
      ]
    },
    {
      "cell_type": "markdown",
      "metadata": {
        "id": "a0phL6iQ_tAy"
      },
      "source": [
        "##**Практика**\n",
        "\n",
        "**Задача 1. Квадраты чисел**\n",
        "\n",
        "Напишите программу, которая выводит квадраты чисел от 0 до 10. Для этого используйте цикл for и функцию range.\n",
        "\n"
      ]
    },
    {
      "cell_type": "code",
      "metadata": {
        "colab": {
          "base_uri": "https://localhost:8080/"
        },
        "id": "g6hp1ZAJ93_P",
        "outputId": "43cc91f3-82b4-4517-a0fa-ceb7f29206ff"
      },
      "source": [
        "for i in range(11):\n",
        "  print(i ** 2)"
      ],
      "execution_count": 15,
      "outputs": [
        {
          "output_type": "stream",
          "name": "stdout",
          "text": [
            "0\n",
            "1\n",
            "4\n",
            "9\n",
            "16\n",
            "25\n",
            "36\n",
            "49\n",
            "64\n",
            "81\n",
            "100\n"
          ]
        }
      ]
    },
    {
      "cell_type": "markdown",
      "metadata": {
        "id": "_mAlZmnoABJ5"
      },
      "source": [
        "**Задача 2. Кукушка**\n",
        "\n",
        "Напишите программу, которая имитировала бы часы с кукушкой. В начале работы она спрашивает, который час, а затем нужное количество раз пишет “Ку-ку!”."
      ]
    },
    {
      "cell_type": "code",
      "metadata": {
        "colab": {
          "base_uri": "https://localhost:8080/"
        },
        "id": "EoeAb8VS_7I_",
        "outputId": "e9c9b3f0-c864-4e0c-ae00-bb837df38799"
      },
      "source": [
        "what_time_is_it = int(input('Который час? '))\n",
        "\n",
        "for hour in range(what_time_is_it):\n",
        "  print('“Ку-ку!”')"
      ],
      "execution_count": 16,
      "outputs": [
        {
          "output_type": "stream",
          "name": "stdout",
          "text": [
            "Который час? 4\n",
            "“Ку-ку!”\n",
            "“Ку-ку!”\n",
            "“Ку-ку!”\n",
            "“Ку-ку!”\n"
          ]
        }
      ]
    },
    {
      "cell_type": "markdown",
      "metadata": {
        "id": "AxNtgPXMAypQ"
      },
      "source": [
        "**Задача 3. Любовь с первой цифры (цикл for)**\n",
        "\n",
        "Перепишите программу из прошлого модуля, используя цикл for.\n",
        "\n",
        "Паша очень любит математику. Настолько сильно, что у него по всей комнате висят всякие таблицы умножения, сложения, какие-то графики, формулы. И теперь он захотел распечатать таблицу степеней двойки, у них как раз началась новая тема по информатике.\n",
        "\n",
        "Используя цикл for, выведите на экран для числа 2 его степени от 0 до 20."
      ]
    },
    {
      "cell_type": "code",
      "metadata": {
        "colab": {
          "base_uri": "https://localhost:8080/"
        },
        "id": "M2FsxIf0A1Nc",
        "outputId": "965920bf-fe32-4f46-be9d-1b8fd052b5a4"
      },
      "source": [
        "for number in range(21):\n",
        "  print(2 ** number)"
      ],
      "execution_count": 17,
      "outputs": [
        {
          "output_type": "stream",
          "name": "stdout",
          "text": [
            "1\n",
            "2\n",
            "4\n",
            "8\n",
            "16\n",
            "32\n",
            "64\n",
            "128\n",
            "256\n",
            "512\n",
            "1024\n",
            "2048\n",
            "4096\n",
            "8192\n",
            "16384\n",
            "32768\n",
            "65536\n",
            "131072\n",
            "262144\n",
            "524288\n",
            "1048576\n"
          ]
        }
      ]
    }
  ]
}