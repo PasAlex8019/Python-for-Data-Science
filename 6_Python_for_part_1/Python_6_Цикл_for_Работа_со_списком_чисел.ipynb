{
  "nbformat": 4,
  "nbformat_minor": 0,
  "metadata": {
    "colab": {
      "name": "Python_6_Цикл for. Работа со списком чисел",
      "provenance": [],
      "authorship_tag": "ABX9TyP2hlY3ixDWVVVJnmPJEl7B",
      "include_colab_link": true
    },
    "kernelspec": {
      "name": "python3",
      "display_name": "Python 3"
    },
    "language_info": {
      "name": "python"
    }
  },
  "cells": [
    {
      "cell_type": "markdown",
      "metadata": {
        "id": "view-in-github",
        "colab_type": "text"
      },
      "source": [
        "<a href=\"https://colab.research.google.com/github/PasAlex8019/Python-for-Data-Science/blob/main/Python_6_%D0%A6%D0%B8%D0%BA%D0%BB_for_%D0%A0%D0%B0%D0%B1%D0%BE%D1%82%D0%B0_%D1%81%D0%BE_%D1%81%D0%BF%D0%B8%D1%81%D0%BA%D0%BE%D0%BC_%D1%87%D0%B8%D1%81%D0%B5%D0%BB.ipynb\" target=\"_parent\"><img src=\"https://colab.research.google.com/assets/colab-badge.svg\" alt=\"Open In Colab\"/></a>"
      ]
    },
    {
      "cell_type": "markdown",
      "metadata": {
        "id": "2N2ALceMbwLx"
      },
      "source": [
        "##**Цикл for, работа со списками чисел**\n",
        "### Вывод квадратов чисел через while"
      ]
    },
    {
      "cell_type": "code",
      "metadata": {
        "colab": {
          "base_uri": "https://localhost:8080/"
        },
        "id": "PWl_JbUAZ-TV",
        "outputId": "8c9886c3-b19e-4b68-a8a6-79392038e883"
      },
      "source": [
        "number = 0\n",
        "while number <= 10:\n",
        "  print(number ** 2)\n",
        "  number += 1"
      ],
      "execution_count": 1,
      "outputs": [
        {
          "output_type": "stream",
          "name": "stdout",
          "text": [
            "0\n",
            "1\n",
            "4\n",
            "9\n",
            "16\n",
            "25\n",
            "36\n",
            "49\n",
            "64\n",
            "81\n",
            "100\n"
          ]
        }
      ]
    },
    {
      "cell_type": "markdown",
      "metadata": {
        "id": "M6sRB74VdYvT"
      },
      "source": [
        "### Оптимизация через оператор for"
      ]
    },
    {
      "cell_type": "code",
      "metadata": {
        "colab": {
          "base_uri": "https://localhost:8080/"
        },
        "id": "WQHbEeWmdftG",
        "outputId": "24065567-ab1a-460a-be5e-11ad1e8e8c98"
      },
      "source": [
        "for number in 1,2,3,4,5,6,7,8,9,10:\n",
        "  print(number ** 2)"
      ],
      "execution_count": 3,
      "outputs": [
        {
          "output_type": "stream",
          "name": "stdout",
          "text": [
            "1\n",
            "4\n",
            "9\n",
            "16\n",
            "25\n",
            "36\n",
            "49\n",
            "64\n",
            "81\n",
            "100\n"
          ]
        }
      ]
    },
    {
      "cell_type": "markdown",
      "metadata": {
        "id": "ZxZt7hdbeNnJ"
      },
      "source": [
        "### Вывести квадраты чисел 2,7,5,3,10 в строгом порядке (здесь с циклом while возникнут сложности)"
      ]
    },
    {
      "cell_type": "code",
      "metadata": {
        "colab": {
          "base_uri": "https://localhost:8080/"
        },
        "id": "Fg9aaP9UdqUW",
        "outputId": "a8bd6175-5ef4-4197-8e2e-0412f6be84df"
      },
      "source": [
        "for i in 2,7,5,3,10:\n",
        "  print(i ** 2)"
      ],
      "execution_count": 4,
      "outputs": [
        {
          "output_type": "stream",
          "name": "stdout",
          "text": [
            "4\n",
            "49\n",
            "25\n",
            "9\n",
            "100\n"
          ]
        }
      ]
    },
    {
      "cell_type": "markdown",
      "metadata": {
        "id": "YjKjMnggfDE2"
      },
      "source": [
        "###**Задача \"Лотерея\"**\n",
        "### 5 билетов: 345,19,87,1020,421\n",
        "Если число делится на 5 то билет выигрышный"
      ]
    },
    {
      "cell_type": "code",
      "metadata": {
        "colab": {
          "base_uri": "https://localhost:8080/"
        },
        "id": "cURWAaSXeonx",
        "outputId": "d89020a3-69d7-4c80-f00b-341bd9851536"
      },
      "source": [
        "winners = 0\n",
        "for ticket in 345,19,87,1020,421:\n",
        "  if ticket % 5 == 0:\n",
        "    print('Билет выигрышный!', ticket)\n",
        "    winners += 1\n",
        "print('Количество победителей', winners)"
      ],
      "execution_count": 13,
      "outputs": [
        {
          "output_type": "stream",
          "name": "stdout",
          "text": [
            "Билет выигрышный! 345\n",
            "Билет выигрышный! 1020\n",
            "Количество победителей 2\n"
          ]
        }
      ]
    },
    {
      "cell_type": "markdown",
      "metadata": {
        "id": "4O2GWV5hhjXS"
      },
      "source": [
        "##**Практика**\n",
        "\n",
        "###**Задание 1. Дом для семьи**\n",
        "Максим написал программу, которая должна определять, подходит ли земельный участок для его семьи или нет. Живут они втроем, вот и условие будет таким же: если количество квадратных метров делится на 3, то участок подходит.\n",
        "\n",
        "For in meters 100,90,95,87,102:\n",
        "\n",
        " if meters % 3 == 1:\n",
        "\n",
        "   print(meters, 'Подходит')\n",
        "\n",
        " else:\n",
        "\n",
        "   print(meters, 'Не подходит')\n",
        "   \n",
        "Скопируйте программу в редактор и исправьте её. Убедитесь, что она работает правильно и решает задачу Максима."
      ]
    },
    {
      "cell_type": "code",
      "metadata": {
        "colab": {
          "base_uri": "https://localhost:8080/"
        },
        "id": "IiQYRVvIfnYm",
        "outputId": "eb00b1ae-bdb3-473b-96ba-7f830ff4878c"
      },
      "source": [
        "for meters in 100,90,95,87,102:\n",
        "  if meters % 3 == 0:\n",
        "    print(meters, 'Подходит')\n",
        "  else:\n",
        "    print(meters, 'Не подходит')\n",
        "   "
      ],
      "execution_count": 14,
      "outputs": [
        {
          "output_type": "stream",
          "name": "stdout",
          "text": [
            "100 Не подходит\n",
            "90 Подходит\n",
            "95 Не подходит\n",
            "87 Подходит\n",
            "102 Подходит\n"
          ]
        }
      ]
    },
    {
      "cell_type": "markdown",
      "metadata": {
        "id": "QHxA2HoNiPRe"
      },
      "source": [
        "**Задание 2. Таблица степеней**\n",
        "\n",
        "Аркадию для выступления с докладом нужно выучить таблицу степеней для определённых чисел. Правда, память у него работает довольно необычно, и ему проще учить их в нужном ему порядке.\n",
        "\n",
        "Напишите программу, которая выводит вторую, третью и четвёртую степень для каждого числа в отдельной строке (первая строка - степени для числа 3, вторая строчка - степени для числа 7 и т.д.). Числа: 3,7,5,6,4.\n",
        "\n",
        "Результат:\n",
        "\n",
        "9 27 81\n",
        "\n",
        "49 343 2401\n",
        "\n",
        "25 125 625\n",
        "\n",
        "36 216 1296\n",
        "\n",
        "16 64 256"
      ]
    },
    {
      "cell_type": "code",
      "metadata": {
        "colab": {
          "base_uri": "https://localhost:8080/"
        },
        "id": "4K1TdaXqiX-3",
        "outputId": "4a28b386-42ab-4652-cbc5-46aca6cd0c90"
      },
      "source": [
        "for degree in 3,7,5,6,4:\n",
        "  print(degree ** 2, degree ** 3, degree ** 4)"
      ],
      "execution_count": 15,
      "outputs": [
        {
          "output_type": "stream",
          "name": "stdout",
          "text": [
            "9 27 81\n",
            "49 343 2401\n",
            "25 125 625\n",
            "36 216 1296\n",
            "16 64 256\n"
          ]
        }
      ]
    },
    {
      "cell_type": "markdown",
      "metadata": {
        "id": "dzivccmOvI3N"
      },
      "source": [
        "**Задача 3. Лотерея 2**\n",
        "\n",
        "Напишите программу для немного усложнённой версии задачи про выигрышные билеты. Есть заранее известные номера билетов: 345, 19, 87, 1020 и 421 (можете брать свои номера, не стесняйтесь). Теперь, билет считается выигрышным, если номер билета - трёхзначное число и оно делится на 5. Выведете в консоль сообщение для каждого выигрышного билета и количество победителей."
      ]
    },
    {
      "cell_type": "code",
      "metadata": {
        "colab": {
          "base_uri": "https://localhost:8080/"
        },
        "id": "z-Bu_zvkvMO6",
        "outputId": "1b07cb32-f833-41e7-bbb8-d71b7ea7f42a"
      },
      "source": [
        "winners = 0\n",
        "summ = 0\n",
        "for ticket in 345,19,87,1020,421:\n",
        "  if (ticket % 3 == 0) and ((ticket // 100) > 0 and (ticket // 100) < 10):\n",
        "    print('Билет выигрышный!', ticket)\n",
        "    winners += 1\n",
        "print('Количество победителей', winners)\n",
        "\n",
        "    \n",
        "\n"
      ],
      "execution_count": 34,
      "outputs": [
        {
          "output_type": "stream",
          "name": "stdout",
          "text": [
            "Билет выигрышный! 345\n",
            "Количество победителей 1\n"
          ]
        }
      ]
    },
    {
      "cell_type": "code",
      "metadata": {
        "id": "Vt6VKPNd1k9w"
      },
      "source": [
        ""
      ],
      "execution_count": null,
      "outputs": []
    }
  ]
}