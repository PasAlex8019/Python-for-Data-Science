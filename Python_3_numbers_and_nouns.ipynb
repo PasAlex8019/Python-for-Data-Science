{
  "nbformat": 4,
  "nbformat_minor": 0,
  "metadata": {
    "colab": {
      "name": "Python 3. numbers and nouns",
      "provenance": [],
      "authorship_tag": "ABX9TyMqqRcPkYaagjjW7SujkYh3",
      "include_colab_link": true
    },
    "kernelspec": {
      "name": "python3",
      "display_name": "Python 3"
    },
    "language_info": {
      "name": "python"
    }
  },
  "cells": [
    {
      "cell_type": "markdown",
      "metadata": {
        "id": "view-in-github",
        "colab_type": "text"
      },
      "source": [
        "<a href=\"https://colab.research.google.com/github/PasAlex8019/Python-for-Data-Science/blob/main/Python_3_numbers_and_nouns.ipynb\" target=\"_parent\"><img src=\"https://colab.research.google.com/assets/colab-badge.svg\" alt=\"Open In Colab\"/></a>"
      ]
    },
    {
      "cell_type": "markdown",
      "metadata": {
        "id": "ivFGPJSkS4I4"
      },
      "source": [
        "## Числа и арифметические операции с ними"
      ]
    },
    {
      "cell_type": "code",
      "metadata": {
        "colab": {
          "base_uri": "https://localhost:8080/"
        },
        "id": "-jpzkVxRS_F3",
        "outputId": "39875c12-8359-4346-e0fc-04a0030c305b"
      },
      "source": [
        "print(3 + 4) # сложение\n",
        "print(3 - 4) # вычитание\n",
        "print(3 / 4) # деление\n",
        "print(3 * 4) # умножение\n",
        "print(3 ** 4) # возведение в степень"
      ],
      "execution_count": 3,
      "outputs": [
        {
          "output_type": "stream",
          "name": "stdout",
          "text": [
            "7\n",
            "-1\n",
            "0.75\n",
            "12\n",
            "81\n"
          ]
        }
      ]
    },
    {
      "cell_type": "code",
      "metadata": {
        "colab": {
          "base_uri": "https://localhost:8080/"
        },
        "id": "ZJnBA7EnT0bw",
        "outputId": "0ed6e2e0-d7ff-4da8-ce28-b2a7509b41e5"
      },
      "source": [
        "a = 5\n",
        "b = 7\n",
        "c = a + b\n",
        "c\n",
        "print(a + b)"
      ],
      "execution_count": 7,
      "outputs": [
        {
          "output_type": "stream",
          "name": "stdout",
          "text": [
            "12\n"
          ]
        }
      ]
    },
    {
      "cell_type": "markdown",
      "metadata": {
        "id": "iJaOsfqBVfnM"
      },
      "source": [
        "Для вывода текста и числа в одну строку используется запятая \" , \""
      ]
    },
    {
      "cell_type": "code",
      "metadata": {
        "colab": {
          "base_uri": "https://localhost:8080/"
        },
        "id": "H4gDdfQpVSMH",
        "outputId": "afae7eb4-c133-4e3c-b997-fadeb9a381f4"
      },
      "source": [
        "print('Сумма a и b = ', c)"
      ],
      "execution_count": 8,
      "outputs": [
        {
          "output_type": "stream",
          "name": "stdout",
          "text": [
            "Сумма a и b =  12\n"
          ]
        }
      ]
    },
    {
      "cell_type": "markdown",
      "metadata": {
        "id": "6hZPDDGaWBWA"
      },
      "source": [
        "##**Практика**\n",
        "\n",
        "\n",
        "\n",
        "###**Что нужно сделать**\n",
        "\n",
        "\n",
        "\n",
        "**Задача 1. Выражения**\n",
        "\n",
        "Третьекласснику Вове задали домашнее задание по математике, и папа-программист сказал, что вечером обязательно проверит его. Но Вове лень считать, поэтому он пишет программы на Python.\n",
        "\n",
        "Посчитайте и последовательно выведите на экран  значения математических выражений, по одному в каждой строчке, чтобы Вове не досталось от папы:\n",
        "\n",
        "* 6 умножить на 39;\n",
        "* 3 в степени 5;\n",
        "* Минус 8 разделить на минус 4;\n",
        "* 10 разделить на 2 и прибавить 6."
      ]
    },
    {
      "cell_type": "code",
      "metadata": {
        "colab": {
          "base_uri": "https://localhost:8080/"
        },
        "id": "nU_j6R7LWMNz",
        "outputId": "6a8ca99e-0f0a-41cd-a0b0-092f31eefcfe"
      },
      "source": [
        "print(6 * 9)\n",
        "print(3 ** 5)\n",
        "print(-8 / -4)\n",
        "print(10 /2 + 6)"
      ],
      "execution_count": 10,
      "outputs": [
        {
          "output_type": "stream",
          "name": "stdout",
          "text": [
            "54\n",
            "243\n",
            "2.0\n",
            "11.0\n"
          ]
        }
      ]
    },
    {
      "cell_type": "markdown",
      "metadata": {
        "id": "lpEMYTm2Wj4w"
      },
      "source": [
        "**Задача 2. Эти замечательные астрологи**\n",
        "\n",
        "Венера, преподаватель Максима по астрологии и нумерологии, не верит, что математические операции работают так, как описывает математика. Напишите для Максима программу, которая демонстрировала бы работу основных операций, чтобы убедить Венеру.\n",
        "\n",
        "\n",
        "\n",
        "1. Создайте три переменных, каждой из них присвойте любые числа, например 5, 4, 2 (кстати, не забывайте про множественное присваивание).\n",
        "2. Затем выведите результат сложения, вычитания, умножения, деления и возведения в степень всех трёх переменных в отдельных строчках. Результат с 5, 4 и 2 должен выглядеть так:\n",
        "\n",
        "![Без_названия_Dkyi868.png](data:image/png;base64,iVBORw0KGgoAAAANSUhEUgAAAZgAAACbCAYAAABf2I1PAAAawUlEQVR4Xu2dXYgdx5XHTx52YRfWE9h4ZhezIxOhSYQUJIg+DJL9YpjF1hgTzUNijGQcCIsThA3CJg6DHoRwgsWCjUDGGNZYwjj7MNKajBwk8Mt6BNJoDDa2kTPCxpkg8Iy84HEgD9mHXar6q6q6+t7qe7vv7b7zu0/S7epTp35V0/9bH33Ot+4a//7/CR8IQAACEIBAxQS+hcBUTBRzEIAABCCgCSAwDAQIQAACEKiFAAJTC1aMQgACEIAAAsMYgAAEIACBWgggMLVgxSgEIAABCCAwjAEIQAACEKiFAAJTC1aMQgACEIAAAsMYgAAEIACBWgggMLVgxSgEIAABCCAwjAEIQAACEKiFAAJTC1aMQgACEIAAAsMYgAAEIACBWgggMLVgxSgEIAABCCAwm3wMnF28KY9v+1zenDgkP+/AIrTcJsdJ8yEAAYNAJQJz7MKSnDrwD6nZjasvyuTlB2T1yG2ZPDgH8MYReEFurP1IpkTk66sX5aOdu2R1yicwoeUa10AcggAEGkCgT4F5Un638pw8sD4vY4aQnFm8KUe3icgt+/sGtBcXcgSOysLKjwsExiwcWg7EEIAABCICfQmMmrkcWd0n+57J49SzmvErsfCckqW1WfleIfU/y3+f2CePvBoVSAUqKW8IVTpbUt8t75aNx7amVv/w1na5vicSNz2LOvy6yEsLVhlVOL0W35nVZ/jxb6/L6sn7ZEyVuTUvc+vTxiztMzk3MSPH4vvNGZzyQfMIqDfDoR7ez8v9Y2pG8WvZcvjcAMdnqHCElhug61QFAQg0mkAfAqNmL0+J/HsmDN1aqh7Ez8or0YNff07J0so9cn7qSTmj/x/NiHZ9HIuD+QDf+YnMTT0pEts4LU/FtrbK0tpuuT4xIyuxqCkx0PWoZbrjIqdT+4aAiTm7KmiLEhlzmc/9vzKXCpEhOuq7oHoTYghMt7HDdQhAoH0E+hSYWfliKvsl36353QQmfz2zmL8WidHEO/Mij+2W6yfuyKMn75a305mFul7s37ELCzJ9eSaeNfUqMGpmNi1rJ67IxMlI5I5pkQyttxuxQVwPnZmElhuEz9QBAQi0gUCjBObM4pLce75gRuSbPTjLUPbSV7dlOXOpLN5L0uthzsfcR7J8SAROLYmpuhKBKVNvE4ZIqHCElmtCm/ABAhBoAoE+BabaJbJSAqOXpnbIh+ns4QPZvzYrkuyBqOW39KHfDXX5GUx+j8kUmOTf3eptwvVQ4Qgt14Q24QMEINAEAn0ITLyRvecD6wRZ2ijPPkR1S2QFswc1o3n4jt6rUXs6avN+/3K86d6RdkmBUYcLjHr0XpIhZuH1NmEIhApHaLkmtAkfIACBJhDoT2BExP4lHzdJL12N65NhV/412dgXz6EA3ya/Z1bkCIc+oZU+4M2Huyk8ypdouSqb1STI3cMEJQTm+A6RsXVjryepx5y1hNab+MMmfxP+GPABAhColkDfAqPccV+0FMlOVHmP8KqbrP0T85iyZw9j41o8K8n2SvRxYLGPIFvfee4x0aXHiWMRSo5QJ/s4dps+k+Wr47Infpk0uzd/HDm75t/Xse5NHRq0wGQvUOaH0zfy3tx+mXlNXQktV+2gxBoEIDAaBCoRmNFAQSsgAAEIQKBKAghMlTSxBQEIQAACKQEEhsEAAQhAAAK1EEBgasGKUQhAAAIQQGAYAxCAAAQgUAsBBKYWrBiFAAQgAAEEhjEAAQhAAAK1EEBgasGKUQhAAAIQQGAYAxCAAAQgUAsBBKYWrJvX6NnFm/L4ts/lzQlfCubNy4WWQ2AzEuhDYDqFpbczPm5GsJurzVlIma+vXpSPdu4KSMG8uQjRWghsRgJ9CIzCVRAk0g1OuRnJbto2E3V503Y9DYeAQ6AegUmFR2V6nJUokKQZ0DLyQoW1P7ot8eivIvK3qXtJ0Em7jB100gyqqW50A2uen1ySU3GASl/PmwnK7Hq6+Wu0JU2ZLCK35kWla87qtGdy3sCfTtI0VbOdOM30fNBBMXv5e0FgeqHGPRAYRQL1CExhOH0PQlU2zSlTkCTMKiMivuyW6YPejuT8rLwik4dfj0P3GyH1X1qQ1cn5+Jqva30h90uE9T9yWyYPzmWGPf7pdhwXOR3nr0kKa7GTeU+eHQRmFP8IaRMERpVABQLznDyQSzVs/nLvklmyEoFRdUzLWprdckaOxTOa3gUmmhFl93dYEnQFLyeAPv+UWM3KF1ORr+7n2IUFmb48I4+8Oryh99SF6/KbA3cVOrDy2+2y92n3MjOY4fUYNUOgWQQqEBhPgrD41/qXOn2x7zCAscRkCYxnhpAsId0yftFbD/CC7JZlBcazVJVfrvLneNFdWtq/TockokFSvFTWrEFke4PANLl38A0CgyRQj8CoFqTLP7fliJFOOGpc8ot+nzyy3Vwiyyfw0vssb4kcNVMzGwJjZ9TsNFvqcE2Li8i5CXs2UcUMpti/LjO7QY6CSutCYCrFiTEItJhAfQKjRGTlHjk/5ROYaIN//3KcldIUDx/Moj2Y5d1G6uREuMzUxaax4gf6mcUluff8vtxyVN8C08W/lMEzLR5BOdcRmFHqTdoCgX4I1CQwZs77rbJUZgYTKjDHd4iMrcvb1qyjtxmMetA/uv6iseGfLYXZy1QlNvmD/PMdJFAATH7qgELyYZO/n8HOvRCAwGAJ9CEwXfYQ9J6EyNJackzZbpjKTX99j3lM2X0502ffPqZs5bd39lDSaz3uraj702POnrYkwmMePVbLectXx2VPfDQ6yL9YTNyDEta9jReY7EXL/PD9Rt6b2y8zrw12YFMbBCAwfAJ9CMzwnccDCEAAAhBoLgEEprl9g2cQgAAEWk0AgWl19+E8BCAAgeYSQGCa2zd4BgEIQKDVBBCYVncfzkMAAhBoLgEEprl9g2cQgAAEWk0AgWl19+E8BCAAgeYSQGCa2zd4BgEIQKDVBBCYVncfzkMAAhBoLgEEprl90zzPfvaG/PHUPvn2rYsydvBXef+S6/EVfzj/5jULjyAAgXoI9C4wTgiWNGaXmeFRRPwhT+ppDFbrJBDFQZtY/1ym5EOPwKhwMbvkxsQh+bl2Q5X/hchpwsTU2SvYhkCTCfQuMLpVZi4Wo5laZO52AlE2GQO+dSOgk4+Nvytj7++SjR/mBebs4nWZfMMVkxfkxqLIXt9sp1uFXIcABFpPoE+BifO3PHxH5oy0v2Z04iwYpBvMMhMoHehx45q8v36f/HCb+r445/2YkYZYpxbW5eOPkfQrrVd9p8LmP7Y1LWYG2kxnXp6gmG7Cr6y+Yv/m1qflVBzsUueyMaI9m4ExOwXjLE40Nqxoymp28qCsqaCVOy95BOaoLCw+KJcOPiGvWH8ShO5v/ROCBkCgDwL9C4wYuV1UXhPP7CV5MOcenOqh/vC4bMgncV76wHD4BeHs9QN85yda7CROd3xanorTHmdpA1ZUufErosRAp0S+/ICsHpfYh4ym9luMTJq63oIMnkduy2QifrmUyQmX+2TMFJ00KduTcsboxHy9ycXhCMzZxZtyaP3XsuXwOZGXfQLzgtxYuUf+Y8onMCyT9fH3ya0QaDWBSgTGFBXJ5VaJBWj9mvzTAXPZLFlemxd5WCUmUw/ZsAd4PhFY1gf+JGHPycQ78yKP7ZbrJ+7Io9bynapzVr6YsrNZJhaPXViQ6cszcTKyMP80D1Nw0gyeV2TiZJIQrUy9QxxjSlAe+kp+mYhHkcBY+y+mICIwQ+w9qobAUAlUIzDxLObR8T/LmEQzCPcXucpeqfK/pIm99OxFLa3dliM682UiMM+JmxtFEzKWv4oyUOpyvtlD0YEEfUOXvDZq9e5qkowsS0SW6zXDP9sHc5/KTIhWpt5hjZF4Y//322Xv07EPCMywOoN6IdA6ApUJTDSLuU++fGu77HNSAKepgW8mm//zcu+KmlWosklq5fAZTCmB0X7tkA9PJLOHD2T/2qxI6menLJhuf5afwehlu/ErEu0duQJTlN65KeOoQyIx66iye4LMnMH8WFankpNlTWkXfkAAAoMgUJ3ApDMSe/aiGmHmntcHAKyZTnmBCV8iK5g9OL6a/nWGXlJg1OEC6wCELWbh9Q5iKATW4Z3BiKh9mr3vGzMdZU69F/PEbdnCKbJAuBSDwGgR6E9gXlqQ1cl5mTysNtDNWYENyXqQ5mY65QUmOh7t2Wx3Rc76v/lwd49XR8tV2awm8T8qt+tjc4kscJP/+A6RsXXnqLY7Wwqt15wRPC/3j4l8fTXedB/0eCwQGBF3o5/3YAbdNdQHgaYR6FtgkuO//qO17j6Dcbw3t/fxv/IX+Rv5+5hQUc777NivZw9j41q8/5PtlejjwLKQO6acfue5x+yk7EVRu74i/5avjsue+Jiy9ZKpsw+UXfPv6/hfUB3OKTLNw3lLX3xv8yvx+cl3U3y8yd+0P3f8gcBgCfQnMIP1ldogAAEIQKBFBBCYFnUWrkIAAhBoEwEEpk29ha8QgAAEWkQAgWlRZ+EqBCAAgTYRQGDa1Fv4CgEIQKBFBBCYFnUWrkIAAhBoEwEEpk29ha8QgAAEWkQAgWlRZ+EqBCAAgTYRQGDa1Fv4CgEIQKBFBBCYFnVWsKvOW/eVvVHvvKnvhqvRWS8P3BW7+Y28pxKUveZ47dhIrg4t9E0wVApCAAJlCfQnMJ4skLYDZmiYsq5RvjcCbmTjKmKCxSFqZCnLC+M4p4JdPi4XZSwNbBlFYpbfOgEwC2OZ9dZa7oIABJpLoD+BiduVjwpsBrBsbuNH0bOzi9dl8g135vCC3FgU2dtjVGNvpGQTnpoxPSvyGzejpS+aMgIzisOONkHAS2BwAhOQ87578i9jRhRgL0nVLGLcF0dzHlM4bs3rtMmn4uCUYqYzFhGdy8UNXBlQb0Z60MEpj8rC4oNy6aAvdXGPeVl+9obceOhd2avSJZf9+IQHgSlLkfIQaC2BwQhMydzz+Xwvzowo2F7J/C06KVj8SYXoM0kjOAfXmxgZtMC4IfNNP3pLXaz2VX76p/2yV8xIyZ/LmxPdk4h5Zz6+PZiN4qW31v5l4TgEICADEJjyuec7C0wZe70KjArNPy1raRbMGTmmc9DMyhdT6t/5z7ELCzJ9eUYeeXWYo6pTZsk+BEY+lfED35FLiajoQwTG/z1NVuJyaD0wZ40SnYe+KtzfGSZR6oYABHonMACBKZ97vrPAlLHnz7Wicd2aj9MYi+h0z0duy6SewRRkwczlr8lD9+fE6b1zyt9ZvcDozfttnhNhhUtn0aztBx8HiotuZBUHEcrT4g4IQKBeAhUJzJLce36f8evdXNIqk/M+amx3gQnNZV9+BqP3XcavxOJj+l6+HfV2nc96J4HpbQ9GHz0ef9c4HRbX+/Il+eO//KdssfZmCk6OBYDwH04IuJEiEIBAYwlUIDC+B6+9Z1I293y3PZhweyUFZnm3bDx8J86KqfrMblt4vcPrb+++h+80V6iLRcthL1+SG3JI9j4dG9Llvi8f+d596VpXkTB2vZECEIBAgwn0KTBubvukpe4x5e6550/LU/KsvCKTh0V+t+LmvS9vb/Lw6/Fyl2vLXRKL/398h8jYurw9Ye6xuOLZvR1Rvcln0Jv8ql53o7/T8lPmnzcFctyM3CzGFR29cS/5jX/3FFn8Aui69W5ML0tqDf6LwjUIQCAl0LPAmEd4i3maL1p2zj3vPRKsDFvHgsPtuUeek/0R2+/PZPnquOxxjyLn6hX5w1vbZd8z6kLndtgshiEwIuKc1Cp+kz9MYFSb7Lf07VNk9jVnNOROiBl1xkV5i58nEgRGk0BfAhPNOMxf7DakM4vu3sxoQqRVEIAABCCQJ4DAMCogAAEIQKAWAghMLVgxCgEIQAACPQsM6CAAAQhAAAKdCCAwjA8IQAACEKiFAAJTC1aMQgACEIAAAsMYgAAEIACBWgggMLVgxSgEIAABCCAwjAEIQAACEKiFAAJTC1aMQqAZBKJo2B3y9/jy84iIL7qCHbHBE2FbNblKe3FooW/7UHpyCAX55/GxMNKFU39xRIzYQaftLsMg/0rwa8YI6+xFHwLTKWy+kaSrDRTwEQIjRSCKaj2lheKifLRzl6xOFSSIC8wwqoVKLhpRtQsiZwfay0fpVvYelDUzWGqnVNxOiu4ge6qPc0FZo9BFE7/fngVu1WPBDcAaENNPihPnVc2vLcO1D4FRTSyIVqzih1lRiduCAz8hMGoE1IOxQ6qGEEHo9KB/4rZsOfirDFqIPZ3/x+NT0L1xXDwrhUS4PW+0ceWPk2rcnz7iBbmxKLLXbK+I+G0a46hyfu0Zo/UITIHwqHD3R7cZcMykX+rrlxZkdfID+XDnrDww5kA0yubspEXNYJjxl1awzOi7fGKwbknMDLsB9jL/jPvSFMxRsrO59Wk5FQfZFLFnfN7AnwH1hg67UvxCjcb9t/HY1uyOjWsy987d8uzkvI5Z1y1AqtUvAe0tbkfsgjm+Stkr7rexg3N2O9wx7OU1pKCn2pcKBKZoDPgenEEiES4I+ap9M45we0V5h+zv84IT+eGppzDxXsAfTs/8Amw3pEg9ApObwUQRiHd9/KIVHFM/cHZ+kuVfiR8CWeTijFIuR4wWo+jBlX7UQ/y4yOmpJ+WM+tL9f1xQP5jEyGiZGMjZdML1B9srmYdGZ9KMP6kQGaITXG+JURXCr4Q5zXT8mpFLJ4uEbUayzgKkOmxNf4LbW4KzOS4Kx0GgPREplxuo4QLzk+/aPe3Z3/ANBe8vd98egs+eJ2Hd2cVLIgcLlvISBzrkJ3IT4PnsFc027O/dlBdJ5fllMrU099M/7Ze9olJWJBw77HkZIPviV+Jvc5hFKxCY5/KzDc8v8qLIy5Zw+B56MZ0ggVEJwlbukfNaYNTDYla+mDLzu5iCtSDTl2eMLJzJDMoULfMhWMZe4IPKStWsfFP1TcvaiSsycTLJ2lmm3hJDycvazbsTaC/XDuM+ox67D4sERuUDCu23EM5l+IXYi9pWTmACOdZSrMsMxlenEomHvpJfTj0hrxT4pB6Oh9YD02IX2IsOIGQVhKRtKMywGi9VdbWX24PJ9quyTfzw1ONaYORTGT/wHbk0EYtjkQg64tIvv1qGS8VGKxCYgoReJ++TL+McKh3D9vseTp7lDLWspJYn0o+vjJhLZN2WvTxLZR1nMGXs+XPGaN/NdlhtN5O3uamaZ+V7HTo+v+QXMEq68guwUST+BbeGCcxWWVoLbW+IINTQb7HAWMu9qs1qSTCZPYfjq7lkDwKjl4J+IXJ6v8y85rrXS4K4vD2fQHXdy9B++Tbko30Q94FdaM86HRadhrv0UDwT0RlawwUmEknPibrCpbNq+NU8aCozX4/AKPeMZY6pTnlhOv36NZqpl9PGr2QiU/QLfG1WRAubL5VzF25dBSaZVXTjH/LgszNr2u1zBSa03m5+Gde78gu3lU9xHXJvUf+U6bcQzlXbi9rmncE08nBLLwKjHtjXZfINV2AKTo4FdLdtr+AB3i21d+HMoEd7qd+uAHYSGPtwQuGMyrMEGAnXj0SsjK4B8PTszNcfYfcOs1R9AmMsV8mFpTgdcj45WfjDqcOavUlQ/ZHv+UALUdllDOXLkdV9ceZKZdSuM9xeyIPPEJjl3c6pu17rLTGUipYjDX7B1np6sBY/+KvmXLW9QoGxlmiD6dVcsBeB8Txgc0tLZdx27RXtcfhPaSU1FS+P9WYvbYHnYIJ39uMTwA57QjfkUHb0uVJ+ZdgPt2xNAuNu6ocdZ45OBRW8Q+POdAoekPllmGRGY4L2HDrwPiTdh2C03BLNkDrZKyEwx3eIjK3L2xPmXlGv9ZYYTEH8wu0VHZzwbv5rs51mFhVz1nVV2G8FM5jcLNv6hfy83D/mf4ExnHIvJTsITLxUtG79ovYs4eiNe5E3kz2GxA33FFSovTgFt94c10tS0afzElnx8pi6N91sD7YXV1q43+SKVvGyYU74XNGpgV8vI2EY9/QhMF3WtnPHNz3lfWvW5nFei0gmPB2Pp+Zs+vdD0pNqhfWZlZt7O13sxQ+zZM/EPEFlHktevjoue+JjytapOWdvJLvWrd7w4VOOX7hd3zHk3P6Qd+/Hd3S8W3vt8VTE+Vwq3NXZW1HLtekRc5NP0QvGgz5Flm1c53vP3S/IfEvKdn4D3bGYOyHW3V5kIbRcXF/XjfMwe/bb9GrfrPjlSDcqQac3+W279imyXJ0mwp75hf9dDrNkHwIzTLcrrLvgSKxZQ8dDChW6gikIQAACo0QAgUFgRmk80xYIQKBBBBCYBnUGrkAAAhAYJQIIzCj1Jm2BAAQg0CACCEyDOgNXIAABCIwSgcYIzMbazSCuYxPbg8pRCAIQgAAEhksAgRkuf2qHAAQgMLIEEJiR7VoaBgEIQGC4BBCY4fKndghAAAIjSwCBGdmupWEQgAAEhkugb4E5s/dTOXpP3IjbW2Tsxt/11CI2+XvCxk0QgAAEGksAgWls1+AYBCAAgXYTQGDa3X94DwEIQKCxBPoWGKtl//w/srH/TvzV3XLuv/5RjgU2nSWyQFAUgwAEINASAghMSzoKNyEAAQi0jQAC07Yew18IQAACLSGAwLSko3ATAhCAQNsI9C0wHFNuW5fjLwQgAIHBEEBgBsOZWiAAAQhsOgIIzKbrchoMAQhAYDAE+haYqtzkmHJVJLEDAQhAoBkEEJhm9ANeQAACEBg5AgjMyHUpDYIABCDQDAIITDP6AS8gAAEIjBwBBGbkupQGQQACEGgGgcYITDNw4AUEIAABCFRFAIGpiiR2IAABCEDAIoDAMCAgAAEIQKAWAghMLVgxCgEIQAACCAxjAAIQgAAEaiGAwNSCFaMQgAAEIIDAMAYgAAEIQKAWAghMLVgxCgEIQAACCAxjAAIQgAAEaiGAwNSCFaMQgAAEIIDAMAYgAAEIQKAWAghMLVgxCgEIQAACCAxjAAIQgAAEaiGAwNSCFaMQgAAEIIDAMAYgAAEIQKAWAghMLVgxCgEIQAACCAxjAAIQgAAEaiGAwNSCFaMQgAAEIIDAMAYgAAEIQKAWAghMLVgxCgEIQAACCAxjAAIQgAAEaiGAwNSCFaMQgAAEIIDAMAYgAAEIQKAWAghMLVgxCgEIQAACCAxjAAIQgAAEaiHw/zSBBTHMw6FWAAAAAElFTkSuQmCC)"
      ]
    },
    {
      "cell_type": "code",
      "metadata": {
        "colab": {
          "base_uri": "https://localhost:8080/"
        },
        "id": "NdkrP8_vWTW9",
        "outputId": "dd3fcb6f-a75b-435a-fcdb-62869a7aaa01"
      },
      "source": [
        "a, b, c = 5, 4, 2\n",
        "print('Сложение : ', a + b + c)\n",
        "print('Вычитание: ', a - b - c)\n",
        "print('Умножение: ', a * b * c)\n",
        "print(\"Деление: \", a / b / c)\n",
        "print(\"Возведение в степень: \", a ** b ** c)"
      ],
      "execution_count": 11,
      "outputs": [
        {
          "output_type": "stream",
          "name": "stdout",
          "text": [
            "Сложение :  11\n",
            "Вычитание:  -1\n",
            "Умножение:  40\n",
            "Деление:  0.625\n",
            "Возведение в степень:  152587890625\n"
          ]
        }
      ]
    },
    {
      "cell_type": "markdown",
      "metadata": {
        "id": "LqTUdY8nYHLy"
      },
      "source": [
        "**Задача 3. Деление на ноль**\n",
        "\n",
        "Проверим школьное правило «На ноль делить нельзя». Напишите программу, которая выводит результат деления числа (например 65) на ноль. Какой будет ответ?\n",
        "\n",
        "\n",
        "\n",
        "Тизер к заданию\n",
        "\n",
        "\n",
        "\n",
        "Правильный ответ: деление на ноль в питоне порождает ошибку ZeroDivisionError, это означает, что на ноль делить нельзя. Однако в будущем мы узнаем, что делить на ноль всё-таки можно — и даже получать бесконечность, но это уже совсем другая история :)"
      ]
    },
    {
      "cell_type": "code",
      "metadata": {
        "colab": {
          "base_uri": "https://localhost:8080/",
          "height": 163
        },
        "id": "Z2m-h0ZYX5Kk",
        "outputId": "a7743be3-fdbe-464e-eeaf-8e3c45c28a55"
      },
      "source": [
        "65 / 0"
      ],
      "execution_count": 12,
      "outputs": [
        {
          "output_type": "error",
          "ename": "ZeroDivisionError",
          "evalue": "ignored",
          "traceback": [
            "\u001b[0;31m---------------------------------------------------------------------------\u001b[0m",
            "\u001b[0;31mZeroDivisionError\u001b[0m                         Traceback (most recent call last)",
            "\u001b[0;32m<ipython-input-12-43edf6faded5>\u001b[0m in \u001b[0;36m<module>\u001b[0;34m()\u001b[0m\n\u001b[0;32m----> 1\u001b[0;31m \u001b[0;36m65\u001b[0m \u001b[0;34m/\u001b[0m \u001b[0;36m0\u001b[0m\u001b[0;34m\u001b[0m\u001b[0;34m\u001b[0m\u001b[0m\n\u001b[0m",
            "\u001b[0;31mZeroDivisionError\u001b[0m: division by zero"
          ]
        }
      ]
    },
    {
      "cell_type": "code",
      "metadata": {
        "id": "eufm6_fBYK4a"
      },
      "source": [
        ""
      ],
      "execution_count": null,
      "outputs": []
    }
  ]
}