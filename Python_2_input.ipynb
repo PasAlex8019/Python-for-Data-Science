{
  "nbformat": 4,
  "nbformat_minor": 0,
  "metadata": {
    "colab": {
      "name": "Python 2. input",
      "provenance": [],
      "authorship_tag": "ABX9TyP68RLRDCZPxu+ddRKZ3CEP",
      "include_colab_link": true
    },
    "kernelspec": {
      "name": "python3",
      "display_name": "Python 3"
    },
    "language_info": {
      "name": "python"
    }
  },
  "cells": [
    {
      "cell_type": "markdown",
      "metadata": {
        "id": "view-in-github",
        "colab_type": "text"
      },
      "source": [
        "<a href=\"https://colab.research.google.com/github/PasAlex8019/Python-for-Data-Science/blob/main/Python_2_input.ipynb\" target=\"_parent\"><img src=\"https://colab.research.google.com/assets/colab-badge.svg\" alt=\"Open In Colab\"/></a>"
      ]
    },
    {
      "cell_type": "markdown",
      "metadata": {
        "id": "pe9xazR694Lg"
      },
      "source": [
        "input - это комманда которая просит пользователя ввести что нибудь в консоль\n",
        "то что пользователь вводит записывается в переменную name\n",
        "остальные строки кода не выполняются пока пользовательне введет данные"
      ]
    },
    {
      "cell_type": "code",
      "metadata": {
        "colab": {
          "base_uri": "https://localhost:8080/"
        },
        "id": "6gDnE3lx-LAq",
        "outputId": "c95d5d40-82ae-402f-b0e4-9a98998ce26d"
      },
      "source": [
        "name = input()\n",
        "print('Привет!')\n",
        "print(name)"
      ],
      "execution_count": 1,
      "outputs": [
        {
          "output_type": "stream",
          "name": "stdout",
          "text": [
            "Александр\n",
            "Привет!\n",
            "Александр\n"
          ]
        }
      ]
    },
    {
      "cell_type": "markdown",
      "metadata": {
        "id": "x7JFVXEv_j_P"
      },
      "source": [
        "Для понимания требований запроса используют, так называемое приглашение\n",
        "еще один дополнительный print()"
      ]
    },
    {
      "cell_type": "code",
      "metadata": {
        "colab": {
          "base_uri": "https://localhost:8080/"
        },
        "id": "p-v88me-_1lu",
        "outputId": "75d26add-1945-4fb3-e3d1-11fabdbaedde"
      },
      "source": [
        "print('Введите ваше имя: ')\n",
        "name = input()\n",
        "print('Привет!')\n",
        "print(name)"
      ],
      "execution_count": 2,
      "outputs": [
        {
          "output_type": "stream",
          "name": "stdout",
          "text": [
            "Введите ваше имя: \n",
            "Александр\n",
            "Привет!\n",
            "Александр\n"
          ]
        }
      ]
    },
    {
      "cell_type": "markdown",
      "metadata": {
        "id": "ilrTopw3ARR4"
      },
      "source": [
        "Скобки у комманды input(), необходимы для вывода приглашения"
      ]
    },
    {
      "cell_type": "code",
      "metadata": {
        "colab": {
          "base_uri": "https://localhost:8080/"
        },
        "id": "ndcyICq7AaMS",
        "outputId": "d6114881-45cb-445f-e869-cdee0c599946"
      },
      "source": [
        "name = input('Введите ваше имя: ')\n",
        "print('Привет!')\n",
        "print(name)"
      ],
      "execution_count": 4,
      "outputs": [
        {
          "output_type": "stream",
          "name": "stdout",
          "text": [
            "Введите ваше имя: Александр\n",
            "Привет!\n",
            "Александр\n"
          ]
        }
      ]
    },
    {
      "cell_type": "markdown",
      "metadata": {
        "id": "SsvrMzWLBOBa"
      },
      "source": [
        "Для отображения нескольких запросов понадобится несколько комманд input и соответственно несколько переменных"
      ]
    },
    {
      "cell_type": "code",
      "metadata": {
        "colab": {
          "base_uri": "https://localhost:8080/"
        },
        "id": "31KAi5ZfAgZ0",
        "outputId": "cf7b9745-fb61-4a76-fd8d-416635410a42"
      },
      "source": [
        "name = input('Введите ваше имя: ')\n",
        "print('Привет!')\n",
        "print(name)\n",
        "name2 = input('Введите вашу фамилию: ')\n",
        "print('Привет!')\n",
        "print(name, name2)"
      ],
      "execution_count": 5,
      "outputs": [
        {
          "output_type": "stream",
          "name": "stdout",
          "text": [
            "Введите ваше имя: Александр\n",
            "Привет!\n",
            "Александр\n",
            "Введите вашу фамилию: Пась\n",
            "Привет!\n",
            "Александр Пась\n"
          ]
        }
      ]
    },
    {
      "cell_type": "markdown",
      "metadata": {
        "id": "1q2onW4ACKEq"
      },
      "source": [
        "## Что нужно сделать\n",
        "\n",
        "\n",
        "\n",
        "### Задача 1. Приветствие пользователя\n",
        "\n",
        "Повторите действия из урока и создайте программу, которая запрашивает у пользователя имя и затем выводит для него приветствие. Для этого:\n",
        "\n",
        "* Создайте переменную и присвойте ей команду input(). Внутри скобок команды напишите приглашение, например: «Введите имя».\n",
        "* В следующих двух строках напишите вывод приветствия и переменной на экран.\n",
        "* Запустите программу, введите в консоль имя и нажмите Enter.\n",
        "* Убедитесь, что программа работает верно."
      ]
    },
    {
      "cell_type": "code",
      "metadata": {
        "colab": {
          "base_uri": "https://localhost:8080/"
        },
        "id": "OAWFvps8B-W8",
        "outputId": "b2fa3c39-8bc7-4e8f-8e95-b3247b0e243c"
      },
      "source": [
        "name = input('Введите ваше имя: ')\n",
        "print('Привет!')\n",
        "print(name)\n",
        "name2 = input('Введите вашу фамилию: ')\n",
        "print('Привет!')\n",
        "print(name, name2)"
      ],
      "execution_count": 6,
      "outputs": [
        {
          "output_type": "stream",
          "name": "stdout",
          "text": [
            "Введите ваше имя: Иван\n",
            "Привет!\n",
            "Иван\n",
            "Введите вашу фамилию: Пась\n",
            "Привет!\n",
            "Иван Пась\n"
          ]
        }
      ]
    },
    {
      "cell_type": "markdown",
      "metadata": {
        "id": "Q2SstTExCpZX"
      },
      "source": [
        " ## Задача 2. Приветствие для двух пользователей\n",
        "\n",
        "Продолжая предыдущую программу, запросите у пользователя второе имя и выведите второе приветствие на экран. Пример результата программы:\n",
        "\n",
        "![Без_названия_JhmnJg0.png](data:image/png;base64,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)"
      ]
    },
    {
      "cell_type": "code",
      "metadata": {
        "colab": {
          "base_uri": "https://localhost:8080/"
        },
        "id": "F_G-K2qrCetL",
        "outputId": "7fe38126-f038-4530-e74c-a7a14ac51a54"
      },
      "source": [
        "n = input('Введите первое имя: ')\n",
        "print('Привет,')\n",
        "print(n)\n",
        "n2 = input('введите второе имя: ')\n",
        "print('Привет,')\n",
        "print(n2)\n"
      ],
      "execution_count": 7,
      "outputs": [
        {
          "output_type": "stream",
          "name": "stdout",
          "text": [
            "Введите первое имя: Вова\n",
            "Привет,\n",
            "Вова\n",
            "введите второе имя: Саша\n",
            "Привет,\n",
            "Саша\n"
          ]
        }
      ]
    },
    {
      "cell_type": "markdown",
      "metadata": {
        "id": "gv93n_nYDaAk"
      },
      "source": [
        "## Задача 3. Неверная программа\n",
        "\n",
        "\n",
        "\n",
        "Ниже приведена программа, которая должна запрашивать фамилию пользователя и выводить её на экран. Но её написали неправильно. Скопируйте программу в редактор и исправьте все ошибки. Убедитесь, что программа работает.\n",
        "\n",
        "sur name = inpu('Введите фамилию: ')\n",
        "\n",
        "print('Ваша фамилия - ')\n",
        "\n",
        "print('sur name')"
      ]
    },
    {
      "cell_type": "code",
      "metadata": {
        "colab": {
          "base_uri": "https://localhost:8080/"
        },
        "id": "JnxMINhCDQuZ",
        "outputId": "bd8cfe70-2f99-45c7-9f8c-eab3ad657757"
      },
      "source": [
        "sur_name = input('Введите фамилию: ')\n",
        "print('Ваша фамилия - ')\n",
        "print(sur_name)"
      ],
      "execution_count": 9,
      "outputs": [
        {
          "output_type": "stream",
          "name": "stdout",
          "text": [
            "Введите фамилию: Пась\n",
            "Ваша фамилия - \n",
            "Пась\n"
          ]
        }
      ]
    },
    {
      "cell_type": "code",
      "metadata": {
        "id": "amplpJM6DpSZ"
      },
      "source": [
        ""
      ],
      "execution_count": 8,
      "outputs": []
    }
  ]
}