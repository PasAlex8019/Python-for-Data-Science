{
  "nbformat": 4,
  "nbformat_minor": 0,
  "metadata": {
    "colab": {
      "name": "Python 2. homework",
      "provenance": [],
      "authorship_tag": "ABX9TyM5nnW6MR+kHsT2i5a0k4CR",
      "include_colab_link": true
    },
    "kernelspec": {
      "name": "python3",
      "display_name": "Python 3"
    },
    "language_info": {
      "name": "python"
    }
  },
  "cells": [
    {
      "cell_type": "markdown",
      "metadata": {
        "id": "view-in-github",
        "colab_type": "text"
      },
      "source": [
        "<a href=\"https://colab.research.google.com/github/PasAlex8019/Python-for-Data-Science/blob/main/Python_2_homework.ipynb\" target=\"_parent\"><img src=\"https://colab.research.google.com/assets/colab-badge.svg\" alt=\"Open In Colab\"/></a>"
      ]
    },
    {
      "cell_type": "markdown",
      "metadata": {
        "id": "9hfRIYQVQinj"
      },
      "source": [
        "# **3.6 Домашняя работа**\n",
        "\n",
        "## **Задача**\n",
        "\n",
        "**Цели домашнего задания**\n",
        "\n",
        "Научиться: \n",
        "\n",
        "* работать с переменными;\n",
        "* присваивать значения, выводить значение переменной через print;\n",
        "* работать с функцией input.\n",
        "\n",
        "## **Что входит в задание**\n",
        "\n",
        "1. Найти пропавшую переменную.\n",
        "2. Исправить программу с названиями цвета.\n",
        "3. Вывести на экран фразу о животных.\n",
        "4. Написать программу с информацией о пользователе.\n",
        "5. Исправить программу о доступе к системе.\n",
        "6. Написать запрос о городах вылета и прилёта.\n",
        "7. Запросить путь к файлу.\n",
        "8. По желанию (подумать). Поменять местами значения двух переменных.\n",
        "\n"
      ]
    },
    {
      "cell_type": "markdown",
      "metadata": {
        "id": "CTeq_TLgRar_"
      },
      "source": [
        "## **Задача 1. Пропавшая переменная**\n",
        "**Что нужно сделать**\n",
        "\n",
        "Найдите в программе необъявленную переменную и объявите её, присвоив ей значение ‘Кот’.\n",
        "\n",
        "\n",
        "\n",
        "client = ‘Петя’\n",
        "\n",
        "print(client)\n",
        "\n",
        "print(‘ и ’)\n",
        "\n",
        "print(pet)\n",
        "\n",
        "**Что оценивается**\n",
        "\n",
        "* Результат вывода корректен, нет ошибок. Присвоено значение переменной pet.\n",
        "* Отсутствуют пробелы после print и перед скобками: “print ()” — неверно, “print()” — верно.\n",
        "* Нет пробелов и внутри скобок.\n",
        "* Знак равенства выделен пробелами с двух сторон: “client = ‘Петя’” — верно, “client=‘Петя’” — неверно."
      ]
    },
    {
      "cell_type": "code",
      "metadata": {
        "colab": {
          "base_uri": "https://localhost:8080/"
        },
        "id": "LaTycx0kRZSX",
        "outputId": "27898cc4-f912-4c11-dbc0-677dd3a02b70"
      },
      "source": [
        "client = 'Петя'\n",
        "pet = 'Кот'\n",
        "\n",
        "print(client)\n",
        "\n",
        "print('и')\n",
        "\n",
        "print(pet)"
      ],
      "execution_count": 2,
      "outputs": [
        {
          "output_type": "stream",
          "name": "stdout",
          "text": [
            "Петя\n",
            "и\n",
            "Кот\n"
          ]
        }
      ]
    },
    {
      "cell_type": "code",
      "metadata": {
        "id": "QteU5MlRR54z"
      },
      "source": [
        ""
      ],
      "execution_count": null,
      "outputs": []
    },
    {
      "cell_type": "markdown",
      "metadata": {
        "id": "aeryXf0YT6uG"
      },
      "source": [
        "## **Задача 2. Цвета**\n",
        "**Что нужно сделать**\n",
        "\n",
        "Исправьте программу так, чтобы в результате её выполнения на экран в одну строку выводился текст: **Red Blue Green RedGreenBlue Blue GreenBlue**.\n",
        "\n",
        "\n",
        "\n",
        "r = 'Red'\n",
        "\n",
        "g = 'Green'\n",
        "\n",
        "b = 'Blue'\n",
        "\n",
        "\n",
        "\n",
        "print(b, r, g, b, g + b, b + b + g, b)\n",
        "\n",
        "![Без_названия_RAPrsBu.png](data:image/png;base64,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)\n",
        "\n",
        "**Что оценивается**\n",
        "\n",
        "* Результат вывода соответствует картинке (тексту).\n",
        "* После запятой стоит пробел, перед запятой пробела нет.\n",
        "* Знак конкатенации (+) выделен пробелами с двух сторон."
      ]
    },
    {
      "cell_type": "code",
      "metadata": {
        "colab": {
          "base_uri": "https://localhost:8080/"
        },
        "id": "G3p4VfkUUhE1",
        "outputId": "3329275e-768f-453c-c7bd-e09ab853f647"
      },
      "source": [
        "r = 'Red'\n",
        "\n",
        "g = 'Green'\n",
        "\n",
        "b = 'Blue'\n",
        "\n",
        "print(r, b, g, r + g + b, b, g + b)"
      ],
      "execution_count": 3,
      "outputs": [
        {
          "output_type": "stream",
          "name": "stdout",
          "text": [
            "Red Blue Green RedGreenBlue Blue GreenBlue\n"
          ]
        }
      ]
    },
    {
      "cell_type": "markdown",
      "metadata": {
        "id": "8e4NX4yNVH1O"
      },
      "source": [
        "## **Задача 3. Животные**\n",
        "**Что нужно сделать**\n",
        "\n",
        "Создайте две переменные с именами «Первое животное» и «Второе животное» на английском языке. Запишите в первую переменную слово «Заяц», а во вторую — «Черепаха». Используя эти переменные, выведите на экран текст «Заяц спит, Черепаха идёт» в одну строку.\n",
        "\n",
        "\n",
        "\n",
        "**Что оценивается**\n",
        "\n",
        "* input содержит корректное приглашение для ввода: “input()” — неверно;\n",
        "* переменные имеют значащие имена, не только a, b, c, d (видео 2.3);\n",
        "* после запятой стоит пробел, перед запятой пробела нет;\n",
        "* отсутствие пробелов после print и перед скобками: “print ()” — неверно, “print()” — верно.\n"
      ]
    },
    {
      "cell_type": "code",
      "metadata": {
        "colab": {
          "base_uri": "https://localhost:8080/"
        },
        "id": "5SFLbC_rVEXB",
        "outputId": "65c0797c-4394-4210-9842-93b7c640117b"
      },
      "source": [
        "name_first = input('Введите первое животное: ')\n",
        "name_second = input('Введите второе  животное: ')\n",
        "print(name_first, 'спит,', name_second, 'идёт')"
      ],
      "execution_count": 5,
      "outputs": [
        {
          "output_type": "stream",
          "name": "stdout",
          "text": [
            "Введите первое животное: Заяц\n",
            "Введите второе  животное: Черепаха\n",
            "Заяц спит, Черепаха идёт\n"
          ]
        }
      ]
    },
    {
      "cell_type": "markdown",
      "metadata": {
        "id": "y2_Og8nuWqp9"
      },
      "source": [
        "## **Задача 4. Информация о пользователе**\n",
        "**Что нужно сделать**\n",
        "\n",
        "Напишите программу, которая запрашивает некоторые данные у пользователя, затем выведите их на экран, как показано ниже. Данные должны лежать в разных переменных.\n",
        "\n",
        "Вариант 1. Запросите имя и фамилию и выведите их на экран построчно. Результат должен быть таким (с вашим именем и фамилией, конечно):\n",
        "\n",
        "![Без_названия_44E7pjM.png](data:image/png;base64,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)\n",
        "\n",
        "Вариант 2. Запросите имя, фамилию и город проживания, затем выведите их на экран в две строки: первая — «Вас зовут» и далее имя и фамилия, вторая — «Вы живёте в городе» и далее город. Для красоты отделите в консоли ввод и вывод данных,\n",
        "\n",
        "как в примере:\n",
        "\n",
        "![Без_названия_4oG9Z3s.png](data:image/png;base64,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)\n",
        "\n",
        "![Без_названия_ncPGfIN.png](data:image/png;base64,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)\n",
        "\n",
        "**Что оценивается**\n",
        "\n",
        "* input содержит корректное приглашение для ввода: “input()” — неверно;\n",
        "* результат вывода соответствует примеру;\n",
        "* переменные имеют значащие имена, не только a, b, c, d (видео 2.3);\n",
        "* пробелы после запятых, пробелы при бинарных операциях;\n",
        "* после запятой стоит пробел, перед запятой пробела нет;\n",
        "* отсутствие пробелов после print и перед скобками: “print ()” — неверно, “print()” — верно;\n",
        "* отсутствуют пробелы внутри скобок.\n"
      ]
    },
    {
      "cell_type": "code",
      "metadata": {
        "colab": {
          "base_uri": "https://localhost:8080/"
        },
        "id": "luAogsX4WLD2",
        "outputId": "0a5a0e14-54a8-46a4-dbc3-12e3bb3af413"
      },
      "source": [
        "first_name = input('Введите имя: ')\n",
        "surname = input('Введите фамилию: ')\n",
        "print('Вас зовут')\n",
        "print(first_name)\n",
        "print(surname)"
      ],
      "execution_count": 6,
      "outputs": [
        {
          "output_type": "stream",
          "name": "stdout",
          "text": [
            "Введите имя: Роман\n",
            "Введите фамилию: Булгаков\n",
            "Вас зовут\n",
            "Роман\n",
            "Булгаков\n"
          ]
        }
      ]
    },
    {
      "cell_type": "code",
      "metadata": {
        "colab": {
          "base_uri": "https://localhost:8080/"
        },
        "id": "4THoHli9YvkI",
        "outputId": "8a25805c-b731-4f74-8086-1dcd0f6a7b73"
      },
      "source": [
        "first_name = input('Введите имя: ')\n",
        "surname = input('Введите фамилию: ')\n",
        "name_city = input('Введите город проживания: ')\n",
        "print('==========')\n",
        "print('Вас зовут', first_name, surname)\n",
        "print('Вы живете в городе', name_city)\n"
      ],
      "execution_count": 7,
      "outputs": [
        {
          "output_type": "stream",
          "name": "stdout",
          "text": [
            "Введите имя: Роман\n",
            "Введите фамилию: Булгаков\n",
            "Введите город проживания: Москва\n",
            "==========\n",
            "Вас зовут Роман Булгаков\n",
            "Вы живете в городе Москва\n"
          ]
        }
      ]
    },
    {
      "cell_type": "markdown",
      "metadata": {
        "id": "WhBJyCF1aae8"
      },
      "source": [
        "## **Задача 5. Вход в систему**\n",
        "**Что нужно сделать**\n",
        "\n",
        "Исправьте программу и допишите необходимые команды для получения нужного результата. Будьте внимательны при исправлении и помните о правилах названия переменных.\n",
        "\n",
        "**Программа**\n",
        "\n",
        "first name = input('Введите имя пользователя: ')\n",
        "\n",
        "grииting = 'Утро доброе'\n",
        "\n",
        "print(greeting, first name)\n",
        "\n",
        "intro = \"К сожалению, у Вас нет доступа к системе.\"\n",
        "\n",
        "info == \"Пожалуйста, обратитесь к системному администратору.\"\n",
        "\n",
        "\n",
        "\n",
        "Ожидаемый результат:\n",
        "\n",
        "![Без_названия_tdems9K.png](data:image/png;base64,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)\n",
        "\n",
        "**Что оценивается**\n",
        "\n",
        "* Результат вывода соответствует картинке.\n",
        "* Переменные имеют значащие имена, не только a, b, c, d (видео 2.3).\n",
        "* Нет смешения символов из разных алфавитов в именах переменных.\n",
        "* Пробелы после запятых, пробелы при бинарных операциях.\n",
        "* После запятой стоит пробел, перед запятой пробела нет.\n",
        "* Отсутствуют пробелы после print и перед скобками: “print ()” — неверно, “print()” — верно.\n",
        "* Нет пробелов и внутри скобок.\n"
      ]
    },
    {
      "cell_type": "code",
      "metadata": {
        "colab": {
          "base_uri": "https://localhost:8080/"
        },
        "id": "xYlQolk3a6yh",
        "outputId": "c3151996-36ff-4323-997c-13f7a8562b15"
      },
      "source": [
        "first_name_ = input('Введите имя пользователя: ')\n",
        "\n",
        "greeting = 'Привет,'\n",
        "\n",
        "print(greeting, first_name_)\n",
        "\n",
        "print(\"К сожалению, у Вас нет доступа к системе.\")\n",
        "\n",
        "print(\"Пожалуйста, обратитесь к системному администратору.\")"
      ],
      "execution_count": 9,
      "outputs": [
        {
          "output_type": "stream",
          "name": "stdout",
          "text": [
            "Введите имя пользователя: Роман\n",
            "Привет, Роман\n",
            "К сожалению, у Вас нет доступа к системе.\n",
            "Пожалуйста, обратитесь к системному администратору.\n"
          ]
        }
      ]
    },
    {
      "cell_type": "markdown",
      "metadata": {
        "id": "9Cm7cIhLcKEH"
      },
      "source": [
        "## **Задача 6. Полёт**\n",
        "**Что нужно сделать**\n",
        "\n",
        "Напишите программу для сервиса заказа билетов, которая запрашивает\n",
        "\n",
        "у пользователя город вылета и город прилёта. Затем выведите их в одну строку\n",
        "\n",
        "через тире. Обратите внимание на свои переменные: названия должны отражать содержимое.\n",
        "\n",
        "**Что оценивается**\n",
        "\n",
        "* input содержит корректное приглашение для ввода: “input()” — неверно;\n",
        "* результат вывода соответствует заданию;\n",
        "* переменные имеют значащие имена, не только a, b, c, d (видео 2.3);\n",
        "* пробелы после запятых, пробелы при бинарных операциях (конкатенация в данной задаче);\n",
        "* после запятой стоит пробел, перед запятой пробела нет;\n",
        "* отсутствуют пробелы после print и перед скобками: “print ()” — неверно, “print()” — верно;\n",
        "* нет пробелов и внутри скобок."
      ]
    },
    {
      "cell_type": "code",
      "metadata": {
        "colab": {
          "base_uri": "https://localhost:8080/"
        },
        "id": "6YZIkIZ9b20a",
        "outputId": "eec7c82a-ac31-4eab-cd17-32aad2a62f55"
      },
      "source": [
        "city_out = input('Введите город вылета : ')\n",
        "city_in = input('Введите город прилета : ')\n",
        "print(city_out, '-', city_in)"
      ],
      "execution_count": 10,
      "outputs": [
        {
          "output_type": "stream",
          "name": "stdout",
          "text": [
            "Введите город вылета : Москва\n",
            "Введите город прилета : Саратов\n",
            "Москва - Саратов\n"
          ]
        }
      ]
    },
    {
      "cell_type": "markdown",
      "metadata": {
        "id": "IFnAIKeMdPxe"
      },
      "source": [
        "## **Задача 7. Путь к файлу**\n",
        "**Что нужно сделать**\n",
        "\n",
        "К каждому файлу на компьютере можно узнать путь. Выглядит он примерно так:\n",
        "\n",
        "'C:/user/docs/folder/new_file.txt'\n",
        "\n",
        "Напишите программу, которая запрашивает у пользователя его имя и имя файла (переменные user и new_file соответственно). Используя операцию конкатенации, выведите путь к файлу на экран. Пример результата:\n",
        "\n",
        "![Без_названия_fHuxCff.png](data:image/png;base64,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)\n",
        "\n",
        "**Что оценивается**\n",
        "\n",
        "* результат вывода соответствует картинке;\n",
        "* input содержит корректное приглашение для ввода: “input()” — неверно;\n",
        "* переменные имеют значащие имена, не только a, b, c, d (видео 2.3);\n",
        "* пробелы после запятых, пробелы при бинарных операциях (конкатенация в данной задаче);\n",
        "* после запятой стоит пробел, перед запятой пробела нет;\n",
        "* отсутствуют пробелы после print и перед скобками: “print ()” — неверно, “print()” — верно;\n",
        "* нет пробелов и внутри скобок.\n",
        "\n",
        "\n"
      ]
    },
    {
      "cell_type": "code",
      "metadata": {
        "colab": {
          "base_uri": "https://localhost:8080/"
        },
        "id": "8Mp-2dkrdwNc",
        "outputId": "12a0eaf0-cd2c-407e-e4c3-5630325f079b"
      },
      "source": [
        "user = input('Введите пользователя: ')\n",
        "new_file = input('Введите имя файла: ')\n",
        "print('C:/' + user + '/docs/folder/new_file.' + new_file)"
      ],
      "execution_count": 12,
      "outputs": [
        {
          "output_type": "stream",
          "name": "stdout",
          "text": [
            "Введите пользователя: Sasha\n",
            "Введите имя файла: txt\n",
            "C:/Sasha/docs/folder/new_file.txt\n"
          ]
        }
      ]
    },
    {
      "cell_type": "markdown",
      "metadata": {
        "id": "UdKvy6AWlilB"
      },
      "source": [
        "## **Задача 8. По желанию. Обмен значений двух переменных**\n",
        "**Что нужно сделать**\n",
        "Дана программа, которая запрашивает у пользователя два слова, а затем выводит их на экран два раза. Скопируйте эту программу в редактор и проверьте.\n",
        "\n",
        "\n",
        "\n",
        "a = input('Введите первое слово: ')\n",
        "\n",
        "b = input('Введите второе слово: ')\n",
        "\n",
        "print(a, b)\n",
        "\n",
        "# стереть эту строчку и вставить свой код здесь\n",
        "\n",
        "print(a, b)\n",
        "\n",
        "Задача: поменять значения переменных a и b местами. Изменять, удалять, менять местами 1-ю, 2-ю, 3-ю и последнюю строчки нельзя. Но в 4-ю строку можно вставлять сколько угодно кода, не трогая последний принт. Пример результата работы программы:\n",
        "\n",
        "![Без_названия_NDYdPJ5.png](data:image/png;base64,iVBORw0KGgoAAAANSUhEUgAAATIAAACFCAYAAADYfnS8AAAGvUlEQVR42u3dQY7TSBQGYE4wO9jOlt0chHtwiRZbJI7BhhV71oxa4goI9cwVpsUFPDik07FdFT+Xy0nsfC19C+i0Xa6K/5QrzsuLP169bgDW7IVOAAQZgCADEGSAINMJgCADEGQAggwQZACCDECQAQgyQJABCDKANQbZ5+Z7k/t5aD7qXGAdM7IPzdfHn83Xd73///TQNI/fmjsdDKw2yHr///FHbuaWCcHez+P9hwmzwd/b/effn9kZ4t398+++f+r+O/XT2X+ofTH5ftn//Pgc3u/hGNq/efeteew8sPuiMmk8Uo8/btcC/ZLdZnscv/7vebvjz4Pj4xk7jkX6Zed98/d+QP67f1/cH/XbF++/4b7T+9z+jKzzBNxrT7jjx/X/fTwgmZOnu812YI5Cq91e/+8OJ/nz49oQ6J4cR9s43sfU9pX2X7/d0f3u/u6h2/5DIPT2ExmPXfuGgbQLzTnjFj1pE8+hVEB2x28/hiXHUbtfKgfZYu0bO49OLC21E4GNBFlwjSw1AJ0nXLutfOfd3T8kA3NakLW/b0/o7uNiQVbQvipBNmG/u5DOvFL2+2J0PFIBkQqPBfol9QJ0ot1jQRY7jtr9stBJu0T7ioLsDMd68RnZftbTSevEpUd3ljA2zW2mD8AgEJ7aVBJkBe2rEmQT9puZGSVnKaPj0c6KTlw+HNpYv1+mniBjQRY7jtr9slyQVW9fJMiS+202HmSpkyr3StKkw6Xs1SkfZLtpdScccvvK/a6gfdWCLLjfiUF2ejymBFndfrl0kNXplzPPyOa0b+w82oXYcIy3PyMLnzj7Ttp3bLsuMuWau+3I7uMzQTZYsysJsuntq7VGFt7vbiacOa7QCdsdj+glSvV+mfiu9/KXlmX9cr4gm9e+sfMoF4w3EGSJxcbMAAwv61InRXp7wyd7Ish+tW94cpcF2aT21Vzsj+53yvGGxiP6Zk7tfsm/UfD0JsCXzhpdv42pxf4Zb0oV98uZFvvntC9wHrV93t3n89r4BoJsZG2kN6PIL6D0OzH9BsLhJOnfWhC4/eLUWt3hd+E1gJH2Ffbf0366t4Ich09gv08BOOijkdsQTo5HYpyTJ2utfknfJnOqn/LjO7IGG74tZU6/nOP2i4L2Bc+j3/03HNvObUtLXkpv9iNKJ9eBAmsEW7b0+gzbeq5s6DwSZIIMQSbIuA7DyzCfd8VHlAAEGYAgAxBkgCADEGQAggzgkh9Rcg8TsPYPjavZD2yj+oWa/eUfAu72y6T2vTpdq31Kbf/I9pbol+w2b7xmf7xfCo63U7+tuZoPg1/fjEzN/nhZlt5+wu2bUmM/VNtfzf708V2uZn+sX8qP91CyZ2Wf21Wz/9Ula/a/LqjBng+ycEG9YG1/NfsrbO9cRQFKngeJvzu88NxekKnZP+tSKlCDPRpk4RLHwZLYavZfV83+aL+UH+9636RTsz/5buy5ava/DtVgj7bjckGmZv+agyw0U7/ZIFOzf0aQdfsl2r5pl5bjtf3V7E+Px8UuLYP9Mut4V3rHgZr9k2Ze9WvTx/ol2r7gmy/hflGzPz0el6vZP9YvdxWOd1ij/2ZviFWzf97tF/l3popuTelvK1jbP7y9yv1y6raTW67ZH+mXKe3L3X5x/LdrCTSlrm+Rkti4IVaQCTIQZFyQ2v4IMgBBBiDIAAQZIMgABBmAIAMQZIAgA9hSkNWvcR6vwT7cd4WPJamFDjc6I1uixvlYwcQT1ThKqy2ohQ6CbBgqc2qcFwXZjKJ2aqGDIKte4zwSZOH6XLEPUquFDmZkJy/zqgfZLiSG4VA6I1MLHQRZ9RrnY7X4c4FSfGmpFjoIsqo1zgO1+Ic1xZ/LLM/61m+10MHtF7NqnAdr8f8OkWF9+HYGdygaWLiYrhY6uCF2HiWsAUEGCDIAQQYgyAAEGSDIAAQZgCADEGSAIAMQZABrDbIrrXW/ue8UAJYJsquvdb+R7xQAlgqyNdS638J3CgDLBdkqat1v4DsFgBUGWdVa9xv4TgFgyUvLNdS638J3CgBnWOy/5lr3G/lOAWDh2y+utdb91r5TAHBD7DxKcYMgE2SAIAMQZIAgAxBkp0V/DBogyABBJsgAQSbIAEFm0IDan7V886Jp3u69+VOQAYJMkAGCDBBks/z18jnU3r6cVN1VkAGCDBBkggwQZIIMsNgvyABBBggyQQZYI/MRJUCQCTJAkAGCTJABgkyQAbccZACCDBBkAIIMQJABCDJAkAEIMgBBBiDIAEEGIMgABBmAIAMEGYAgAxBkAIIMEGQAggxAkAEIMkCQAazL//c5GX5A4gGSAAAAAElFTkSuQmCC)\n",
        "\n",
        "**Что оценивается**\n",
        "\n",
        "Результат вычислений и вывода корректен. Строки с print остались неизменными,\n",
        "\n",
        "не изменён порядок вывода переменных.\n",
        "\n",
        "###**Что оценивается (общее)**\n",
        "\n",
        "* Правильно оформленный input, без пустого приветствия для ввода (видео 2.3).\n",
        "* Переменные имеют значащие имена, не только a, b, c, d (видео 2.3).\n",
        "* Пробелы после запятых, пробелы при бинарных операциях.\n",
        "* Отсутствие пробелов после имён функций и перед скобками:\n",
        "“print ()”,“input ()” — неверно, “print()” — верно.\n",
        "\n",
        "###**Советы и рекомендации**\n",
        "Учитывайте успеваемость — если вы легко справляетесь с заданиями, можете потратить больше времени на работу над стилем.\n",
        "\n",
        "Ознакомьтесь со стилем оформления программ на языке Python [PEP8](https://pythonworld.ru/osnovy/pep-8-rukovodstvo-po-napisaniyu-koda-na-python.html).\n",
        "\n",
        "Оригинальный документ [PEP8](https://pythonworld.ru/osnovy/pep-8-rukovodstvo-po-napisaniyu-koda-na-python.html) (на английском)."
      ]
    },
    {
      "cell_type": "code",
      "metadata": {
        "colab": {
          "base_uri": "https://localhost:8080/"
        },
        "id": "1TpQqNDqlMHU",
        "outputId": "909e33f4-0089-48ea-8ff2-bff2161b813a"
      },
      "source": [
        "name1 = input('Введите первое слово: ')\n",
        "name2 = input('Введите второе слово: ')\n",
        "print(name1, name2)\n",
        "name1, name2 = name2, name1\n",
        "print(name1, name2)"
      ],
      "execution_count": 14,
      "outputs": [
        {
          "output_type": "stream",
          "name": "stdout",
          "text": [
            "Введите первое слово: вода\n",
            "Введите второе слово: сок\n",
            "вода сок\n",
            "сок вода\n"
          ]
        }
      ]
    }
  ]
}