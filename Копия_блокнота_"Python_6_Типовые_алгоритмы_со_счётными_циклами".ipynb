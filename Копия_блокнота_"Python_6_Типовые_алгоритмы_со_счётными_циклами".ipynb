{
  "nbformat": 4,
  "nbformat_minor": 0,
  "metadata": {
    "colab": {
      "name": "Копия блокнота \"Python_6_Типовые алгоритмы со счётными циклами\"",
      "provenance": [],
      "collapsed_sections": [],
      "authorship_tag": "ABX9TyNXCezEq7JLovYWFs0E/dmw",
      "include_colab_link": true
    },
    "kernelspec": {
      "name": "python3",
      "display_name": "Python 3"
    },
    "language_info": {
      "name": "python"
    }
  },
  "cells": [
    {
      "cell_type": "markdown",
      "metadata": {
        "id": "view-in-github",
        "colab_type": "text"
      },
      "source": [
        "<a href=\"https://colab.research.google.com/github/PasAlex8019/Python-for-Data-Science/blob/main/%D0%9A%D0%BE%D0%BF%D0%B8%D1%8F_%D0%B1%D0%BB%D0%BE%D0%BA%D0%BD%D0%BE%D1%82%D0%B0_%22Python_6_%D0%A2%D0%B8%D0%BF%D0%BE%D0%B2%D1%8B%D0%B5_%D0%B0%D0%BB%D0%B3%D0%BE%D1%80%D0%B8%D1%82%D0%BC%D1%8B_%D1%81%D0%BE_%D1%81%D1%87%D1%91%D1%82%D0%BD%D1%8B%D0%BC%D0%B8_%D1%86%D0%B8%D0%BA%D0%BB%D0%B0%D0%BC%D0%B8%22.ipynb\" target=\"_parent\"><img src=\"https://colab.research.google.com/assets/colab-badge.svg\" alt=\"Open In Colab\"/></a>"
      ]
    },
    {
      "cell_type": "markdown",
      "metadata": {
        "id": "EMHMQW2QgDn3"
      },
      "source": [
        "## Типовые алгоритмы c четными циклами\n",
        "Нахождение проcтогочила\n",
        "\n",
        "Проcтое чило делетя на 1 и на cамо cебя, поэтому range начинаетя 2, а в уловии for имя четчика divader - делитель"
      ]
    },
    {
      "cell_type": "code",
      "metadata": {
        "id": "peWEMoEHCqHI",
        "colab": {
          "base_uri": "https://localhost:8080/"
        },
        "outputId": "46cbd0b5-5e2a-40cc-fcc8-86bdbe0e458a"
      },
      "source": [
        "number = int(input('Введите чило : '))\n",
        "isPrame = True\n",
        "\n",
        "for divider in range(2, number):\n",
        "  if number % divider == 0:\n",
        "    isPrame = False # isPrime это флаг при его соответствии параметру цикл можно прервать через dreak\n",
        "    break\n",
        "if isPrame: # если флаг True\n",
        "  print('Число простое.')\n",
        "else:\n",
        "  print('Число составное.')"
      ],
      "execution_count": null,
      "outputs": [
        {
          "output_type": "stream",
          "name": "stdout",
          "text": [
            "Введите чило : 27644437\n",
            "Число простое.\n"
          ]
        }
      ]
    },
    {
      "cell_type": "code",
      "metadata": {
        "id": "OZw9ngeBiqzb"
      },
      "source": [
        ""
      ],
      "execution_count": null,
      "outputs": []
    }
  ]
}